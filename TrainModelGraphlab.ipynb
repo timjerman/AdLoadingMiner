{
 "cells": [
  {
   "cell_type": "code",
   "execution_count": 1,
   "metadata": {
    "collapsed": true
   },
   "outputs": [],
   "source": [
    "import graphlab\n",
    "import graphlab.aggregate as agg\n",
    "import numpy as np\n",
    "import matplotlib.pyplot as plt\n",
    "%matplotlib inline"
   ]
  },
  {
   "cell_type": "code",
   "execution_count": 2,
   "metadata": {
    "collapsed": true
   },
   "outputs": [],
   "source": [
    "loadPath = 'E:/celtraMiningFrik/'\n",
    "savePath = loadPath"
   ]
  },
  {
   "cell_type": "markdown",
   "metadata": {},
   "source": [
    "#Prepare data"
   ]
  },
  {
   "cell_type": "markdown",
   "metadata": {},
   "source": [
    "prepare data based on feature analysis"
   ]
  },
  {
   "cell_type": "code",
   "execution_count": 36,
   "metadata": {
    "collapsed": false
   },
   "outputs": [],
   "source": [
    "def prepareData(data, perct, isTestDataset = False):\n",
    "    \n",
    "    if not isTestDataset:   \n",
    "        data['ADLOADINGTIME']=data['ADLOADINGTIME'].astype(float)\n",
    "        print(np.percentile(data['ADLOADINGTIME'],perct))\n",
    "        if perct < 100:\n",
    "            data = data[data['ADLOADINGTIME']<np.percentile(data['ADLOADINGTIME'],perct)] \n",
    "            \n",
    "    #convert to int types\n",
    "    data['GEOIP_LAT'] = data['GEOIP_LAT'].apply(lambda x: '0' if x=='null' else x)\n",
    "    data['GEOIP_LAT']=data['GEOIP_LAT'].astype(float)\n",
    "    data['GEOIP_LNG'] = data['GEOIP_LNG'].apply(lambda x: '0' if x=='null' else x)\n",
    "    data['GEOIP_LNG']=data['GEOIP_LNG'].astype(float)\n",
    "    data['UA_MOBILEDEVICE'] = data['UA_MOBILEDEVICE'].apply(lambda x: '0' if x=='null' else x)\n",
    "    data['UA_MOBILEDEVICE']=data['UA_MOBILEDEVICE'].astype(int)    \n",
    "    data['TIMESTAMP']=data['TIMESTAMP'].astype(int)\n",
    "    data['HOSTWINDOWHEIGHT'] = data['HOSTWINDOWHEIGHT'].apply(lambda x: '0' if x=='null' else x)\n",
    "    data['HOSTWINDOWHEIGHT']=data['HOSTWINDOWHEIGHT'].astype(int)\n",
    "    data['HOSTWINDOWWIDTH'] = data['HOSTWINDOWWIDTH'].apply(lambda x: '0' if x=='null' else x)\n",
    "    data['HOSTWINDOWWIDTH']=data['HOSTWINDOWWIDTH'].astype(int)\n",
    "    data['TOPMOSTREACHABLEWINDOWHEIGHT'] = data['TOPMOSTREACHABLEWINDOWHEIGHT'].apply(lambda x: '0' if x=='null' else x)\n",
    "    data['TOPMOSTREACHABLEWINDOWHEIGHT']=data['TOPMOSTREACHABLEWINDOWHEIGHT'].astype(int)\n",
    "    data['TOPMOSTREACHABLEWINDOWWIDTH'] = data['TOPMOSTREACHABLEWINDOWWIDTH'].apply(lambda x: '0' if x=='null' else x)\n",
    "    data['TOPMOSTREACHABLEWINDOWWIDTH']=data['TOPMOSTREACHABLEWINDOWWIDTH'].astype(int)\n",
    "\n",
    "\n",
    "    data['TOPMOSTREACHABLEWINDOWAREA'] = data['TOPMOSTREACHABLEWINDOWWIDTH']*data['TOPMOSTREACHABLEWINDOWHEIGHT'];\n",
    "    \n",
    "    data['GEOIP_COUNTRY'] = data['GEOIP_COUNTRY'] + '_' + data['GEOIP_REGION'] \n",
    "    data['GEOIP_COUNTRY'] = data['GEOIP_COUNTRY'].apply(lambda x: x if 'United States' in x.split('_')[0] else x.split('_')[0])\n",
    "\n",
    "    data['ERRORSJSON'] = data['ERRORSJSON'].apply(lambda x: x.replace('\"',''))\n",
    "    data['FILESJSON'] = data['FILESJSON'].apply(lambda x: x.replace('\"',''))\n",
    "    \n",
    "    def extractImageSize(sIn):\n",
    "        sIn = sIn.replace('[','')\n",
    "        sIn = sIn.replace('}','')\n",
    "        sIn = sIn.replace(']','')\n",
    "        sIn = sIn.replace('{type:image,size:','')\n",
    "        numberList = [int(s) for s in sIn.split(',') if s.isdigit()]\n",
    "        if len(numberList) == 0:\n",
    "            numberList = 0\n",
    "        return np.sum(numberList)\n",
    "    \n",
    "    def extractVideoSize(sIn):\n",
    "        sIn = sIn.replace('[','')\n",
    "        sIn = sIn.replace('}','')\n",
    "        sIn = sIn.replace(']','')\n",
    "        sIn = sIn.replace('{type:video,size:','')\n",
    "        numberList = [int(s) for s in sIn.split(',') if s.isdigit()]\n",
    "        if len(numberList) == 0:\n",
    "            numberList = 0\n",
    "        return np.sum(numberList)\n",
    "\n",
    "    data['FILESJSON_IMGSIZE'] = data['FILESJSON'].apply(extractImageSize)\n",
    "    data['FILESJSON_VIDSIZE'] = data['FILESJSON'].apply(extractVideoSize)\n",
    "\n",
    "    data['COMBINEDID'] = data['ACCOUNTID']+data['CAMPAIGNID']+data['CREATIVEID']\n",
    "    data['COMBINEDEXTERNALID'] = data['EXTERNALPLACEMENTID']+data['EXTERNALSITEID']+data['EXTERNALSUPPLIERID']    \n",
    "\n",
    "    data['PLATFORMCOMBINED'] = data['PLATFORM']+data['PLATFORMVERSION']\n",
    "    data['PLATFORMCOMBINED'] = data['PLATFORMCOMBINED'].apply(lambda x : x.replace('null', ''))\n",
    "    data['PLATFORMCOMBINED'] = data['PLATFORMCOMBINED'].apply(lambda x : 'NA' if x == '' else x)\n",
    "    \n",
    "    data['UA_OSCOMB'] = data['UA_OS']+data['UA_OSVERSION']\n",
    "    \n",
    "\n",
    "    data['INTENDENTISACTUALDEVICETYPE'] = data['INTENDEDDEVICETYPE']==data['ACTUALDEVICETYPE']\n",
    "    data['PLATFORMCOMBINEDISOSCAOMB'] = data['PLATFORMCOMBINED']==data['UA_OSCOMB']\n",
    "\n",
    "    \n",
    "    # remove unneeded columns\n",
    "    \n",
    "    #data.remove_columns(['UA_OS', 'UA_OSVERSION']);\n",
    "    #data.remove_columns(['PLATFORM','PLATFORMVERSION']);\n",
    "    #data.remove_columns(['UA_PLATFORM','UA_PLATFORMVERSION']);\n",
    "    #data.remove_columns(['CDNNAME','UA_DEVICETYPE','ACTUALDEVICETYPE']);\n",
    "    #data.remove_column('EXTERNALPLACEMENTID');\n",
    "    #data.remove_column('EXTERNALSITEID');\n",
    "    #data.remove_column('EXTERNALSUPPLIERID');\n",
    "    #data.remove_column('ACCOUNTID');\n",
    "    #data.remove_column('CAMPAIGNID');\n",
    "    #data.remove_column('CREATIVEID');\n",
    "    #data.remove_column('TOPMOSTREACHABLEWINDOWWIDTH');\n",
    "    #data.remove_column('TOPMOSTREACHABLEWINDOWHEIGHT');\n",
    "    #data.remove_column('HOSTWINDOWWIDTH');\n",
    "    #data.remove_column('HOSTWINDOWHEIGHT');\n",
    "    #data.remove_column('DEVICEORIENTATION');\n",
    "    #data.remove_column('UA_MOBILEDEVICE');\n",
    "    #data.remove_column('EXTERNALCREATIVEID');\n",
    "    #data.remove_column('NETWORKTYPE');\n",
    "    #data.remove_column('GEOIP_TIMEZONE');\n",
    "    #data.remove_column('GEOIP_METROCODE');\n",
    "    #data.remove_column('GEOIP_AREACODE');\n",
    "    #data.remove_column('GEOIP_CITY');\n",
    "    #data.remove_column('GEOIP_DMACODE');\n",
    "    #data.remove_column('GEOIP_REGION');\n",
    "    \n",
    "    return data"
   ]
  },
  {
   "cell_type": "markdown",
   "metadata": {},
   "source": [
    "#Load train data"
   ]
  },
  {
   "cell_type": "code",
   "execution_count": 37,
   "metadata": {
    "collapsed": false
   },
   "outputs": [
    {
     "data": {
      "text/html": [
       "<pre>Read 77543 lines. Lines per second: 72601.7</pre>"
      ],
      "text/plain": [
       "Read 77543 lines. Lines per second: 72601.7"
      ]
     },
     "metadata": {},
     "output_type": "display_data"
    },
    {
     "data": {
      "text/html": [
       "<pre>Read 450314 lines. Lines per second: 74637.5</pre>"
      ],
      "text/plain": [
       "Read 450314 lines. Lines per second: 74637.5"
      ]
     },
     "metadata": {},
     "output_type": "display_data"
    },
    {
     "data": {
      "text/html": [
       "<pre>Read 814669 lines. Lines per second: 72391.6</pre>"
      ],
      "text/plain": [
       "Read 814669 lines. Lines per second: 72391.6"
      ]
     },
     "metadata": {},
     "output_type": "display_data"
    },
    {
     "data": {
      "text/html": [
       "<pre>Read 1106643 lines. Lines per second: 67606.3</pre>"
      ],
      "text/plain": [
       "Read 1106643 lines. Lines per second: 67606.3"
      ]
     },
     "metadata": {},
     "output_type": "display_data"
    },
    {
     "data": {
      "text/html": [
       "<pre>Read 1406571 lines. Lines per second: 65748.4</pre>"
      ],
      "text/plain": [
       "Read 1406571 lines. Lines per second: 65748.4"
      ]
     },
     "metadata": {},
     "output_type": "display_data"
    },
    {
     "data": {
      "text/html": [
       "<pre>Read 1780919 lines. Lines per second: 66453.4</pre>"
      ],
      "text/plain": [
       "Read 1780919 lines. Lines per second: 66453.4"
      ]
     },
     "metadata": {},
     "output_type": "display_data"
    },
    {
     "data": {
      "text/html": [
       "<pre>Read 2139243 lines. Lines per second: 65752.3</pre>"
      ],
      "text/plain": [
       "Read 2139243 lines. Lines per second: 65752.3"
      ]
     },
     "metadata": {},
     "output_type": "display_data"
    },
    {
     "data": {
      "text/html": [
       "<pre>Finished parsing file E:\\celtraMiningFrik\\ccdm_large.tsv</pre>"
      ],
      "text/plain": [
       "Finished parsing file E:\\celtraMiningFrik\\ccdm_large.tsv"
      ]
     },
     "metadata": {},
     "output_type": "display_data"
    },
    {
     "data": {
      "text/html": [
       "<pre>Parsing completed. Parsed 2450000 lines in 37.7812 secs.</pre>"
      ],
      "text/plain": [
       "Parsing completed. Parsed 2450000 lines in 37.7812 secs."
      ]
     },
     "metadata": {},
     "output_type": "display_data"
    },
    {
     "name": "stdout",
     "output_type": "stream",
     "text": [
      "19.704\n"
     ]
    }
   ],
   "source": [
    "fileName = loadPath + 'ccdm_large.tsv'\n",
    "sep = '\\t'\n",
    "perct = 95.25\n",
    "\n",
    "train_data = graphlab.SFrame.read_csv(fileName,sep,column_type_hints=str);\n",
    "train_data = prepareData(train_data, perct)"
   ]
  },
  {
   "cell_type": "code",
   "execution_count": 4,
   "metadata": {
    "collapsed": false
   },
   "outputs": [
    {
     "name": "stdout",
     "output_type": "stream",
     "text": [
      "Canvas is accessible via web browser at the URL: http://localhost:1214/index.html\n",
      "Opening Canvas in default web browser.\n"
     ]
    }
   ],
   "source": [
    "train_data.show()"
   ]
  },
  {
   "cell_type": "markdown",
   "metadata": {},
   "source": [
    "#Load validation data"
   ]
  },
  {
   "cell_type": "code",
   "execution_count": 14,
   "metadata": {
    "collapsed": false,
    "scrolled": true
   },
   "outputs": [
    {
     "data": {
      "text/html": [
       "<pre>Finished parsing file E:\\celtraMiningFrik\\ccdm_medium.tsv</pre>"
      ],
      "text/plain": [
       "Finished parsing file E:\\celtraMiningFrik\\ccdm_medium.tsv"
      ]
     },
     "metadata": {},
     "output_type": "display_data"
    },
    {
     "data": {
      "text/html": [
       "<pre>Parsing completed. Parsed 49000 lines in 0.578033 secs.</pre>"
      ],
      "text/plain": [
       "Parsing completed. Parsed 49000 lines in 0.578033 secs."
      ]
     },
     "metadata": {},
     "output_type": "display_data"
    },
    {
     "name": "stdout",
     "output_type": "stream",
     "text": [
      "19.770392\n"
     ]
    }
   ],
   "source": [
    "fileName = loadPath + 'ccdm_medium.tsv'\n",
    "sep = '\\t'\n",
    "perct = 94.40\n",
    "\n",
    "val_data = graphlab.SFrame.read_csv(fileName,sep,column_type_hints=str);\n",
    "val_data = prepareData(val_data, perct)"
   ]
  },
  {
   "cell_type": "code",
   "execution_count": 21,
   "metadata": {
    "collapsed": false
   },
   "outputs": [
    {
     "name": "stdout",
     "output_type": "stream",
     "text": [
      "Canvas is accessible via web browser at the URL: http://localhost:44330/index.html\n",
      "Opening Canvas in default web browser.\n"
     ]
    }
   ],
   "source": [
    "val_data.show()"
   ]
  },
  {
   "cell_type": "markdown",
   "metadata": {},
   "source": [
    "#Model training"
   ]
  },
  {
   "cell_type": "markdown",
   "metadata": {},
   "source": [
    "###selected features"
   ]
  },
  {
   "cell_type": "code",
   "execution_count": null,
   "metadata": {
    "collapsed": true
   },
   "outputs": [],
   "source": [
    "features = ['COMBINEDID', 'COMBINEDEXTERNALID', 'CREATIVETYPE', 'PLACEMENTID', 'TIMESTAMP',\n",
    "'SDK', 'EXTERNALADSERVER',\n",
    "'PLATFORMCOMBINED', 'UA_HARDWARETYPE', 'UA_VENDOR', 'UA_MODEL', 'UA_BROWSER', 'UA_BROWSERVERSION', 'TOPMOSTREACHABLEWINDOWAREA',\n",
    " 'FILESJSON', 'ERRORSJSON', 'FILESJSON_IMGSIZE', 'FILESJSON_VIDSIZE'\n",
    "]"
   ]
  },
  {
   "cell_type": "markdown",
   "metadata": {},
   "source": [
    "###Random forest regression"
   ]
  },
  {
   "cell_type": "code",
   "execution_count": 9,
   "metadata": {
    "collapsed": true
   },
   "outputs": [],
   "source": [
    "modelName = 'RFReg'"
   ]
  },
  {
   "cell_type": "code",
   "execution_count": 213,
   "metadata": {
    "collapsed": false,
    "scrolled": true
   },
   "outputs": [
    {
     "data": {
      "text/html": [
       "<pre>Random forest regression:</pre>"
      ],
      "text/plain": [
       "Random forest regression:"
      ]
     },
     "metadata": {},
     "output_type": "display_data"
    },
    {
     "data": {
      "text/html": [
       "<pre>--------------------------------------------------------</pre>"
      ],
      "text/plain": [
       "--------------------------------------------------------"
      ]
     },
     "metadata": {},
     "output_type": "display_data"
    },
    {
     "data": {
      "text/html": [
       "<pre>Number of examples          : 2333619</pre>"
      ],
      "text/plain": [
       "Number of examples          : 2333619"
      ]
     },
     "metadata": {},
     "output_type": "display_data"
    },
    {
     "data": {
      "text/html": [
       "<pre>Number of features          : 21</pre>"
      ],
      "text/plain": [
       "Number of features          : 21"
      ]
     },
     "metadata": {},
     "output_type": "display_data"
    },
    {
     "data": {
      "text/html": [
       "<pre>Number of unpacked features : 21</pre>"
      ],
      "text/plain": [
       "Number of unpacked features : 21"
      ]
     },
     "metadata": {},
     "output_type": "display_data"
    },
    {
     "data": {
      "text/html": [
       "<pre>+-----------+--------------+--------------------+---------------+----------------------+-----------------+</pre>"
      ],
      "text/plain": [
       "+-----------+--------------+--------------------+---------------+----------------------+-----------------+"
      ]
     },
     "metadata": {},
     "output_type": "display_data"
    },
    {
     "data": {
      "text/html": [
       "<pre>| Iteration | Elapsed Time | Training-max_error | Training-rmse | Validation-max_error | Validation-rmse |</pre>"
      ],
      "text/plain": [
       "| Iteration | Elapsed Time | Training-max_error | Training-rmse | Validation-max_error | Validation-rmse |"
      ]
     },
     "metadata": {},
     "output_type": "display_data"
    },
    {
     "data": {
      "text/html": [
       "<pre>+-----------+--------------+--------------------+---------------+----------------------+-----------------+</pre>"
      ],
      "text/plain": [
       "+-----------+--------------+--------------------+---------------+----------------------+-----------------+"
      ]
     },
     "metadata": {},
     "output_type": "display_data"
    },
    {
     "data": {
      "text/html": [
       "<pre>| 1         | 34.064948    | 18.963999          | 2.907104      | 18.665001            | 2.991621        |</pre>"
      ],
      "text/plain": [
       "| 1         | 34.064948    | 18.963999          | 2.907104      | 18.665001            | 2.991621        |"
      ]
     },
     "metadata": {},
     "output_type": "display_data"
    },
    {
     "data": {
      "text/html": [
       "<pre>| 2         | 50.771904    | 18.329639          | 2.772852      | 17.165304            | 2.867640        |</pre>"
      ],
      "text/plain": [
       "| 2         | 50.771904    | 18.329639          | 2.772852      | 17.165304            | 2.867640        |"
      ]
     },
     "metadata": {},
     "output_type": "display_data"
    },
    {
     "data": {
      "text/html": [
       "<pre>| 3         | 69.182957    | 18.323490          | 2.729117      | 17.154444            | 2.829122        |</pre>"
      ],
      "text/plain": [
       "| 3         | 69.182957    | 18.323490          | 2.729117      | 17.154444            | 2.829122        |"
      ]
     },
     "metadata": {},
     "output_type": "display_data"
    },
    {
     "data": {
      "text/html": [
       "<pre>| 4         | 87.844024    | 18.319092          | 2.708905      | 17.194712            | 2.812213        |</pre>"
      ],
      "text/plain": [
       "| 4         | 87.844024    | 18.319092          | 2.708905      | 17.194712            | 2.812213        |"
      ]
     },
     "metadata": {},
     "output_type": "display_data"
    },
    {
     "data": {
      "text/html": [
       "<pre>| 5         | 152.206706   | 18.351311          | 2.653379      | 17.304691            | 2.758419        |</pre>"
      ],
      "text/plain": [
       "| 5         | 152.206706   | 18.351311          | 2.653379      | 17.304691            | 2.758419        |"
      ]
     },
     "metadata": {},
     "output_type": "display_data"
    },
    {
     "data": {
      "text/html": [
       "<pre>| 6         | 219.927579   | 18.055981          | 2.616762      | 17.206846            | 2.719585        |</pre>"
      ],
      "text/plain": [
       "| 6         | 219.927579   | 18.055981          | 2.616762      | 17.206846            | 2.719585        |"
      ]
     },
     "metadata": {},
     "output_type": "display_data"
    },
    {
     "data": {
      "text/html": [
       "<pre>| 7         | 280.387037   | 17.879173          | 2.592400      | 17.169729            | 2.695739        |</pre>"
      ],
      "text/plain": [
       "| 7         | 280.387037   | 17.879173          | 2.592400      | 17.169729            | 2.695739        |"
      ]
     },
     "metadata": {},
     "output_type": "display_data"
    },
    {
     "data": {
      "text/html": [
       "<pre>| 8         | 337.114282   | 17.884960          | 2.574719      | 17.184301            | 2.679281        |</pre>"
      ],
      "text/plain": [
       "| 8         | 337.114282   | 17.884960          | 2.574719      | 17.184301            | 2.679281        |"
      ]
     },
     "metadata": {},
     "output_type": "display_data"
    },
    {
     "data": {
      "text/html": [
       "<pre>+-----------+--------------+--------------------+---------------+----------------------+-----------------+</pre>"
      ],
      "text/plain": [
       "+-----------+--------------+--------------------+---------------+----------------------+-----------------+"
      ]
     },
     "metadata": {},
     "output_type": "display_data"
    }
   ],
   "source": [
    "model = graphlab.random_forest_regression.create(train_data, target='ADLOADINGTIME',validation_set=val_data,\n",
    "                                           max_iterations=25, features = features,\n",
    "                                           max_depth =  50, row_subsample=0.9, column_subsample = 0.6)"
   ]
  },
  {
   "cell_type": "markdown",
   "metadata": {},
   "source": [
    "#Eval on validation data"
   ]
  },
  {
   "cell_type": "code",
   "execution_count": 10,
   "metadata": {
    "collapsed": false
   },
   "outputs": [
    {
     "name": "stdout",
     "output_type": "stream",
     "text": [
      "RMSE (RFReg): 2.7031\n"
     ]
    }
   ],
   "source": [
    "rms = graphlab.evaluation.rmse(val_data['ADLOADINGTIME'],model.predict(val_data))\n",
    "print(\"RMSE ({}): {:.4f}\".format(modelName,rms))"
   ]
  },
  {
   "cell_type": "markdown",
   "metadata": {},
   "source": [
    "#Graphical results"
   ]
  },
  {
   "cell_type": "code",
   "execution_count": 13,
   "metadata": {
    "collapsed": false,
    "scrolled": false
   },
   "outputs": [
    {
     "data": {
      "text/plain": [
       "(array([  2.00000000e+00,   3.92000000e+02,   2.17700000e+03,\n",
       "          5.88200000e+03,   6.53400000e+03,   8.29800000e+03,\n",
       "          4.85200000e+03,   2.74400000e+03,   2.38100000e+03,\n",
       "          2.02800000e+03,   1.70200000e+03,   1.37000000e+03,\n",
       "          1.16100000e+03,   1.29100000e+03,   9.59000000e+02,\n",
       "          7.91000000e+02,   5.21000000e+02,   4.39000000e+02,\n",
       "          3.69000000e+02,   6.87000000e+02,   3.56000000e+02,\n",
       "          2.24000000e+02,   1.55000000e+02,   5.81000000e+02,\n",
       "          1.37000000e+02,   1.79000000e+02,   1.70000000e+01,\n",
       "          7.00000000e+00,   2.00000000e+01,   0.00000000e+00,\n",
       "          0.00000000e+00,   0.00000000e+00,   0.00000000e+00,\n",
       "          0.00000000e+00,   0.00000000e+00,   0.00000000e+00,\n",
       "          0.00000000e+00,   0.00000000e+00,   0.00000000e+00]),\n",
       " array([  0. ,   0.5,   1. ,   1.5,   2. ,   2.5,   3. ,   3.5,   4. ,\n",
       "          4.5,   5. ,   5.5,   6. ,   6.5,   7. ,   7.5,   8. ,   8.5,\n",
       "          9. ,   9.5,  10. ,  10.5,  11. ,  11.5,  12. ,  12.5,  13. ,\n",
       "         13.5,  14. ,  14.5,  15. ,  15.5,  16. ,  16.5,  17. ,  17.5,\n",
       "         18. ,  18.5,  19. ,  19.5]),\n",
       " <a list of 39 Patch objects>)"
      ]
     },
     "execution_count": 13,
     "metadata": {},
     "output_type": "execute_result"
    },
    {
     "data": {
      "image/png": "[encoded data removed]",
      "text/plain": [
       "<matplotlib.figure.Figure at 0x9d63ff98>"
      ]
     },
     "metadata": {},
     "output_type": "display_data"
    },
    {
     "data": {
      "image/png": "[encoded data removed]",
      "text/plain": [
       "<matplotlib.figure.Figure at 0x9d962b38>"
      ]
     },
     "metadata": {},
     "output_type": "display_data"
    }
   ],
   "source": [
    "bins = np.arange(0, 20,0.5)\n",
    "\n",
    "predicted_val_data = model.predict(val_data)\n",
    "\n",
    "plt.figure()\n",
    "plt.hist(val_data['ADLOADINGTIME'],  bins=bins,alpha=0.5)\n",
    "plt.hist(predicted_val_data,  bins=bins,alpha=0.5)"
   ]
  },
  {
   "cell_type": "markdown",
   "metadata": {},
   "source": [
    "### absolute error wtih respect to ADLOADINGTIME"
   ]
  },
  {
   "cell_type": "code",
   "execution_count": 48,
   "metadata": {
    "collapsed": false
   },
   "outputs": [
    {
     "data": {
      "text/plain": [
       "[<matplotlib.lines.Line2D at 0xf09c69e8>]"
      ]
     },
     "execution_count": 48,
     "metadata": {},
     "output_type": "execute_result"
    },
    {
     "data": {
      "image/png": "[encoded data removed]",
      "text/plain": [
       "<matplotlib.figure.Figure at 0x1cc61c88>"
      ]
     },
     "metadata": {},
     "output_type": "display_data"
    }
   ],
   "source": [
    "test_data = val_data\n",
    "test_data_predict = model.predict(test_data)\n",
    "pred_error = np.abs(test_data['ADLOADINGTIME']-test_data_predict)\n",
    "\n",
    "[histvals, histbins] = np.histogram(test_data['ADLOADINGTIME'], bins=np.arange(0, np.ceil(max(test_data['ADLOADINGTIME'])),0.5))\n",
    "minToBin = histbins-np.tile(np.array(test_data['ADLOADINGTIME']),(len(histbins),1)).transpose()\n",
    "minToBinIdx = np.argmin(np.abs(minToBin),axis=1)\n",
    "\n",
    "pred_error_loc = np.zeros_like(histbins)\n",
    "pred_error_loc_n = np.zeros_like(histbins)\n",
    "for i in range(len(minToBinIdx)):\n",
    "    pred_error_loc[minToBinIdx[i]] += pred_error[i]\n",
    "    pred_error_loc_n[minToBinIdx[i]] += 1\n",
    "    \n",
    "plt.plot(histbins, pred_error_loc/pred_error_loc_n)"
   ]
  },
  {
   "cell_type": "markdown",
   "metadata": {},
   "source": [
    "#Save model"
   ]
  },
  {
   "cell_type": "code",
   "execution_count": 14,
   "metadata": {
    "collapsed": true
   },
   "outputs": [],
   "source": [
    "savePath = 'E:/celtraMiningFrik/'\n",
    "model.save(savePath + modelName)"
   ]
  }
 ],
 "metadata": {
  "kernelspec": {
   "display_name": "Python 2",
   "language": "python",
   "name": "python2"
  },
  "language_info": {
   "codemirror_mode": {
    "name": "ipython",
    "version": 2
   },
   "file_extension": ".py",
   "mimetype": "text/x-python",
   "name": "python",
   "nbconvert_exporter": "python",
   "pygments_lexer": "ipython2",
   "version": "2.7.10"
  }
 },
 "nbformat": 4,
 "nbformat_minor": 0
}
