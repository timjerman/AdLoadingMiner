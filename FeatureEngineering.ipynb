{
 "cells": [
  {
   "cell_type": "markdown",
   "metadata": {
    "collapsed": true
   },
   "source": [
    "#Feature Engineering"
   ]
  },
  {
   "cell_type": "code",
   "execution_count": 1,
   "metadata": {
    "collapsed": true
   },
   "outputs": [],
   "source": [
    "import graphlab\n",
    "import numpy as np\n",
    "import matplotlib.pyplot as plt\n",
    "%matplotlib inline"
   ]
  },
  {
   "cell_type": "markdown",
   "metadata": {},
   "source": [
    "##Load celtra data (10% random subsample of the large data)"
   ]
  },
  {
   "cell_type": "code",
   "execution_count": 2,
   "metadata": {
    "collapsed": false,
    "scrolled": false
   },
   "outputs": [
    {
     "name": "stderr",
     "output_type": "stream",
     "text": [
      "2016-05-30 12:10:06,253 [INFO] graphlab.cython.cy_server, 176: GraphLab Create v1.9 started. Logging: C:\\Users\\TimJ\\AppData\\Local\\Temp\\graphlab_server_1464603005.log.0\n"
     ]
    },
    {
     "data": {
      "text/html": [
       "<pre>Read 69661 lines. Lines per second: 93000</pre>"
      ],
      "text/plain": [
       "Read 69661 lines. Lines per second: 93000"
      ]
     },
     "metadata": {},
     "output_type": "display_data"
    },
    {
     "data": {
      "text/html": [
       "<pre>Finished parsing file E:\\celtraMiningFrik\\ccdm_mine.csv</pre>"
      ],
      "text/plain": [
       "Finished parsing file E:\\celtraMiningFrik\\ccdm_mine.csv"
      ]
     },
     "metadata": {},
     "output_type": "display_data"
    },
    {
     "data": {
      "text/html": [
       "<pre>Parsing completed. Parsed 245377 lines in 2.36714 secs.</pre>"
      ],
      "text/plain": [
       "Parsing completed. Parsed 245377 lines in 2.36714 secs."
      ]
     },
     "metadata": {},
     "output_type": "display_data"
    },
    {
     "name": "stdout",
     "output_type": "stream",
     "text": [
      "This non-commercial license of GraphLab Create is assigned to tim.jerman@gmail.com and will expire on December 31, 2016. For commercial licensing options, visit https://dato.com/buy/.\n"
     ]
    }
   ],
   "source": [
    "fileName = loadPath + 'ccdm_large.tsv'\n",
    "sep = '\\t'\n",
    "\n",
    "data = graphlab.SFrame.read_csv(fileName,sep,column_type_hints=str);\n",
    "\n",
    "#perct = 95.25\n",
    "#data = prepareData(train_data, perct)\n",
    "\n",
    "data,_ = data.random_split(0.1)"
   ]
  },
  {
   "cell_type": "markdown",
   "metadata": {},
   "source": [
    "##### Convert numeric types from string to int/float"
   ]
  },
  {
   "cell_type": "code",
   "execution_count": 245,
   "metadata": {
    "collapsed": false
   },
   "outputs": [],
   "source": [
    "data['ADLOADINGTIME']=data['ADLOADINGTIME'].astype(float)\n",
    "data['GEOIP_LAT'] = data['GEOIP_LAT'].apply(lambda x: 0 if x=='null' else x)\n",
    "data['GEOIP_LAT']=data['GEOIP_LAT'].astype(float)\n",
    "data['GEOIP_LNG'] = data['GEOIP_LNG'].apply(lambda x: 0 if x=='null' else x)\n",
    "data['GEOIP_LNG']=data['GEOIP_LNG'].astype(float)\n",
    "data['TIMESTAMP']=data['TIMESTAMP'].astype(int)\n",
    "data['HOSTWINDOWHEIGHT'] = data['HOSTWINDOWHEIGHT'].apply(lambda x: 0 if x=='null' else x)\n",
    "data['HOSTWINDOWHEIGHT']=data['HOSTWINDOWHEIGHT'].astype(int)\n",
    "data['HOSTWINDOWWIDTH'] = data['HOSTWINDOWWIDTH'].apply(lambda x: 0 if x=='null' else x)\n",
    "data['HOSTWINDOWWIDTH']=data['HOSTWINDOWWIDTH'].astype(int)\n",
    "data['TOPMOSTREACHABLEWINDOWHEIGHT'] = data['TOPMOSTREACHABLEWINDOWHEIGHT'].apply(lambda x: 0 if x=='null' else x)\n",
    "data['TOPMOSTREACHABLEWINDOWHEIGHT']=data['TOPMOSTREACHABLEWINDOWHEIGHT'].astype(int)\n",
    "data['TOPMOSTREACHABLEWINDOWWIDTH'] = data['TOPMOSTREACHABLEWINDOWWIDTH'].apply(lambda x: 0 if x=='null' else x)\n",
    "data['TOPMOSTREACHABLEWINDOWWIDTH']=data['TOPMOSTREACHABLEWINDOWWIDTH'].astype(int)"
   ]
  },
  {
   "cell_type": "markdown",
   "metadata": {},
   "source": [
    "#####remove EXTERNALCREATIVEID as it is always null"
   ]
  },
  {
   "cell_type": "code",
   "execution_count": 246,
   "metadata": {
    "collapsed": false
   },
   "outputs": [],
   "source": [
    "data.remove_column('EXTERNALCREATIVEID');"
   ]
  },
  {
   "cell_type": "markdown",
   "metadata": {},
   "source": [
    "#####remove NETWORKTYPE as it is mainly null"
   ]
  },
  {
   "cell_type": "code",
   "execution_count": 247,
   "metadata": {
    "collapsed": false
   },
   "outputs": [],
   "source": [
    "data.remove_column('NETWORKTYPE');"
   ]
  },
  {
   "cell_type": "markdown",
   "metadata": {},
   "source": [
    "remove top 5% of ADLOADINGTIME outliers"
   ]
  },
  {
   "cell_type": "code",
   "execution_count": 248,
   "metadata": {
    "collapsed": false
   },
   "outputs": [
    {
     "name": "stdout",
     "output_type": "stream",
     "text": [
      "18.7192\n",
      "3.69722294021\n"
     ]
    }
   ],
   "source": [
    "# 3.7835\n",
    "perct = 95\n",
    "print(np.percentile(data['ADLOADINGTIME'],perct))\n",
    "data = data[data['ADLOADINGTIME']<np.percentile(data['ADLOADINGTIME'],perct)]\n",
    "print(graphlab.evaluation.rmse(data['ADLOADINGTIME'], graphlab.SArray.from_const(data['ADLOADINGTIME'].mean(),len(data['ADLOADINGTIME']))))"
   ]
  },
  {
   "cell_type": "markdown",
   "metadata": {
    "collapsed": false
   },
   "source": [
    "#####show data"
   ]
  },
  {
   "cell_type": "code",
   "execution_count": 156,
   "metadata": {
    "collapsed": false
   },
   "outputs": [
    {
     "name": "stdout",
     "output_type": "stream",
     "text": [
      "Canvas is accessible via web browser at the URL: http://localhost:31720/index.html\n",
      "Opening Canvas in default web browser.\n"
     ]
    }
   ],
   "source": [
    "data.show()"
   ]
  },
  {
   "cell_type": "markdown",
   "metadata": {
    "collapsed": false,
    "scrolled": true
   },
   "source": [
    "##Feature engineering"
   ]
  },
  {
   "cell_type": "markdown",
   "metadata": {},
   "source": [
    "combine TOPMOSTREACHABLEWINDOWHEIGHT and TOPMOSTREACHABLEWINDOWWIDTH by multiplication and computation of the ratio\n",
    "\n",
    "remove data with very large or negative data"
   ]
  },
  {
   "cell_type": "code",
   "execution_count": 249,
   "metadata": {
    "collapsed": false
   },
   "outputs": [],
   "source": [
    "data['TOPMOSTREACHABLEWINDOWAREA'] = data['TOPMOSTREACHABLEWINDOWWIDTH']*data['TOPMOSTREACHABLEWINDOWHEIGHT'];\n",
    "data = data[data['TOPMOSTREACHABLEWINDOWAREA']>=0]\n",
    "data = data[data['TOPMOSTREACHABLEWINDOWAREA']<1e7]"
   ]
  },
  {
   "cell_type": "code",
   "execution_count": 8,
   "metadata": {
    "collapsed": false
   },
   "outputs": [
    {
     "name": "stdout",
     "output_type": "stream",
     "text": [
      "0\n"
     ]
    }
   ],
   "source": [
    "tmp = data[data['TOPMOSTREACHABLEWINDOWAREA']>1e7]\n",
    "print(tmp.num_rows())"
   ]
  },
  {
   "cell_type": "markdown",
   "metadata": {},
   "source": [
    "remove all other screen features data except the area"
   ]
  },
  {
   "cell_type": "code",
   "execution_count": 250,
   "metadata": {
    "collapsed": true
   },
   "outputs": [],
   "source": [
    "data.remove_column('TOPMOSTREACHABLEWINDOWWIDTH');\n",
    "data.remove_column('TOPMOSTREACHABLEWINDOWHEIGHT');\n",
    "data.remove_column('HOSTWINDOWWIDTH');\n",
    "data.remove_column('HOSTWINDOWHEIGHT');"
   ]
  },
  {
   "cell_type": "markdown",
   "metadata": {},
   "source": [
    "remove device orientation as it should not affect loading time"
   ]
  },
  {
   "cell_type": "code",
   "execution_count": 251,
   "metadata": {
    "collapsed": true
   },
   "outputs": [],
   "source": [
    "data.remove_column('DEVICEORIENTATION');"
   ]
  },
  {
   "cell_type": "markdown",
   "metadata": {},
   "source": [
    "UA_MOBILEDEVICE can be assesed from PLATFORM -> remove"
   ]
  },
  {
   "cell_type": "code",
   "execution_count": 252,
   "metadata": {
    "collapsed": true
   },
   "outputs": [],
   "source": [
    "data.remove_column('UA_MOBILEDEVICE');"
   ]
  },
  {
   "cell_type": "markdown",
   "metadata": {},
   "source": [
    " "
   ]
  },
  {
   "cell_type": "code",
   "execution_count": 46,
   "metadata": {
    "collapsed": true
   },
   "outputs": [],
   "source": [
    "data = data[data['TIMESTAMP']>1458500000]\n",
    "data = data[data['TIMESTAMP']<1461000000]"
   ]
  },
  {
   "cell_type": "code",
   "execution_count": 13,
   "metadata": {
    "collapsed": false
   },
   "outputs": [
    {
     "name": "stdout",
     "output_type": "stream",
     "text": [
      "0\n"
     ]
    }
   ],
   "source": [
    "tmp = data[data['TIMESTAMP']<=1458500000]\n",
    "print(tmp.num_rows())"
   ]
  },
  {
   "cell_type": "markdown",
   "metadata": {},
   "source": [
    "GEOIP: to start combine COUNTRY with REGION for USA\n",
    "In my expectation the data is to scarce to have enough entries for exact geolocation and time assignment\n",
    "-> remove DMACODE, METROCODE, TIMEZONE, CITY, AREACODE"
   ]
  },
  {
   "cell_type": "code",
   "execution_count": 253,
   "metadata": {
    "collapsed": false
   },
   "outputs": [],
   "source": [
    "data.remove_column('GEOIP_TIMEZONE');\n",
    "data.remove_column('GEOIP_METROCODE');\n",
    "data.remove_column('GEOIP_AREACODE');\n",
    "data.remove_column('GEOIP_CITY');\n",
    "data.remove_column('GEOIP_DMACODE');"
   ]
  },
  {
   "cell_type": "code",
   "execution_count": 254,
   "metadata": {
    "collapsed": true
   },
   "outputs": [],
   "source": [
    "data['GEOIP_COUNTRY'] = data['GEOIP_COUNTRY'] + '_' + data['GEOIP_REGION'] \n",
    "data['GEOIP_COUNTRY'] = data['GEOIP_COUNTRY'].apply(lambda x: x if 'United States' in x.split('_')[0] else x.split('_')[0])\n",
    "data.remove_column('GEOIP_REGION');"
   ]
  },
  {
   "cell_type": "code",
   "execution_count": 101,
   "metadata": {
    "collapsed": false,
    "scrolled": false
   },
   "outputs": [
    {
     "name": "stdout",
     "output_type": "stream",
     "text": [
      "COMBINEDID: 3.4685\n",
      "COMBINEDID and GEOIP_LAT: 3.4681\n",
      "COMBINEDID and GEOIP_LNG: 3.4684\n",
      "COMBINEDID and GEOIP_LNG and GEOIP_LAT: 3.4680\n"
     ]
    }
   ],
   "source": [
    "train_data,test_data = data.random_split(.5,seed=1)\n",
    "\n",
    "LR_model = graphlab.linear_regression.create(train_data, target='ADLOADINGTIME',features=['COMBINEDID'],validation_set=test_data, max_iterations=100,verbose=False)\n",
    "model = LR_model\n",
    "rms = graphlab.evaluation.rmse(test_data['ADLOADINGTIME'],model.predict(test_data))\n",
    "print(\"{}: {:.4f}\".format('COMBINEDID',rms))\n",
    "#LR_model = graphlab.linear_regression.create(train_data, target='ADLOADINGTIME',features=['COMBINEDID', 'GEOIP_COUNTRY'],validation_set=test_data, max_iterations=100,verbose=False)\n",
    "#model = LR_model\n",
    "#rms = graphlab.evaluation.rmse(test_data['ADLOADINGTIME'],model.predict(test_data))\n",
    "#print(\"{}: {:.4f}\".format('COMBINEDID and GEOIP_COUNTRY',rms))\n",
    "LR_model = graphlab.linear_regression.create(train_data, target='ADLOADINGTIME',features=['COMBINEDID', 'GEOIP_LAT'],validation_set=test_data, max_iterations=100,verbose=False)\n",
    "model = LR_model\n",
    "rms = graphlab.evaluation.rmse(test_data['ADLOADINGTIME'],model.predict(test_data))\n",
    "print(\"{}: {:.4f}\".format('COMBINEDID and GEOIP_LAT',rms))\n",
    "LR_model = graphlab.linear_regression.create(train_data, target='ADLOADINGTIME',features=['COMBINEDID', 'GEOIP_LNG'],validation_set=test_data, max_iterations=100,verbose=False)\n",
    "model = LR_model\n",
    "rms = graphlab.evaluation.rmse(test_data['ADLOADINGTIME'],model.predict(test_data))\n",
    "print(\"{}: {:.4f}\".format('COMBINEDID and GEOIP_LNG',rms))\n",
    "LR_model = graphlab.linear_regression.create(train_data, target='ADLOADINGTIME',features=['COMBINEDID', 'GEOIP_LNG', 'GEOIP_LAT'],validation_set=test_data, max_iterations=100,verbose=False)\n",
    "model = LR_model\n",
    "rms = graphlab.evaluation.rmse(test_data['ADLOADINGTIME'],model.predict(test_data))\n",
    "print(\"{}: {:.4f}\".format('COMBINEDID and GEOIP_LNG and GEOIP_LAT',rms))\n",
    "#LR_model = graphlab.linear_regression.create(train_data, target='ADLOADINGTIME',features=['COMBINEDID', 'GEOIP_LNG', 'GEOIP_LAT','GEOIP_COUNTRY'],validation_set=test_data, max_iterations=100,verbose=False)\n",
    "#model = LR_model\n",
    "#rms = graphlab.evaluation.rmse(test_data['ADLOADINGTIME'],model.predict(test_data))\n",
    "#print(\"{}: {:.4f}\".format('COMBINEDID and GEOIP_LNG and GEOIP_LAT and GEOIP_COUNTRY',rms))"
   ]
  },
  {
   "cell_type": "code",
   "execution_count": 102,
   "metadata": {
    "collapsed": true
   },
   "outputs": [
    {
     "ename": "KeyError",
     "evalue": "'Cannot find column GEOIP_COUNTRY'",
     "output_type": "error",
     "traceback": [
      "\u001b[1;31m---------------------------------------------------------------------------\u001b[0m",
      "\u001b[1;31mKeyError\u001b[0m                                  Traceback (most recent call last)",
      "\u001b[1;32m<ipython-input-102-5b43cae7a4a2>\u001b[0m in \u001b[0;36m<module>\u001b[1;34m()\u001b[0m\n\u001b[0;32m      1\u001b[0m \u001b[0mdata\u001b[0m\u001b[1;33m.\u001b[0m\u001b[0mremove_columns\u001b[0m\u001b[1;33m(\u001b[0m\u001b[1;33m[\u001b[0m\u001b[1;34m'GEOIP_LNG'\u001b[0m\u001b[1;33m,\u001b[0m\u001b[1;34m'GEOIP_LAT'\u001b[0m\u001b[1;33m]\u001b[0m\u001b[1;33m)\u001b[0m\u001b[1;33m;\u001b[0m\u001b[1;33m\u001b[0m\u001b[0m\n\u001b[1;32m----> 2\u001b[1;33m \u001b[0mdata\u001b[0m\u001b[1;33m.\u001b[0m\u001b[0mremove_columns\u001b[0m\u001b[1;33m(\u001b[0m\u001b[1;33m[\u001b[0m\u001b[1;34m'GEOIP_COUNTRY'\u001b[0m\u001b[1;33m]\u001b[0m\u001b[1;33m)\u001b[0m\u001b[1;33m;\u001b[0m\u001b[1;33m\u001b[0m\u001b[0m\n\u001b[0m",
      "\u001b[1;32mC:\\Users\\Tim\\AppData\\Local\\Dato\\Dato Launcher\\lib\\site-packages\\graphlab\\data_structures\\sframe.pyc\u001b[0m in \u001b[0;36mremove_columns\u001b[1;34m(self, column_names)\u001b[0m\n\u001b[0;32m   3876\u001b[0m         \u001b[1;32mfor\u001b[0m \u001b[0mname\u001b[0m \u001b[1;32min\u001b[0m \u001b[0mcolumn_names\u001b[0m\u001b[1;33m:\u001b[0m\u001b[1;33m\u001b[0m\u001b[0m\n\u001b[0;32m   3877\u001b[0m             \u001b[1;32mif\u001b[0m \u001b[0mname\u001b[0m \u001b[1;32mnot\u001b[0m \u001b[1;32min\u001b[0m \u001b[0mexisting_columns\u001b[0m\u001b[1;33m:\u001b[0m\u001b[1;33m\u001b[0m\u001b[0m\n\u001b[1;32m-> 3878\u001b[1;33m                 \u001b[1;32mraise\u001b[0m \u001b[0mKeyError\u001b[0m\u001b[1;33m(\u001b[0m\u001b[1;34m'Cannot find column %s'\u001b[0m \u001b[1;33m%\u001b[0m \u001b[0mname\u001b[0m\u001b[1;33m)\u001b[0m\u001b[1;33m\u001b[0m\u001b[0m\n\u001b[0m\u001b[0;32m   3879\u001b[0m \u001b[1;33m\u001b[0m\u001b[0m\n\u001b[0;32m   3880\u001b[0m         \u001b[1;31m# Delete it going backwards so we don't invalidate indices\u001b[0m\u001b[1;33m\u001b[0m\u001b[1;33m\u001b[0m\u001b[0m\n",
      "\u001b[1;31mKeyError\u001b[0m: 'Cannot find column GEOIP_COUNTRY'"
     ]
    }
   ],
   "source": [
    "data.remove_columns(['GEOIP_LNG','GEOIP_LAT']);\n",
    "data.remove_columns(['GEOIP_COUNTRY']);"
   ]
  },
  {
   "cell_type": "markdown",
   "metadata": {},
   "source": [
    " **CONCLUSIONS**\n",
    "\n",
    "GEOIP_DATA just barely results in a reduction of RMSE -> not needed"
   ]
  },
  {
   "cell_type": "markdown",
   "metadata": {},
   "source": [
    " "
   ]
  },
  {
   "cell_type": "code",
   "execution_count": 255,
   "metadata": {
    "collapsed": true
   },
   "outputs": [],
   "source": [
    "data['ERRORSJSON'] = data['ERRORSJSON'].apply(lambda x: x.replace('\"',''))"
   ]
  },
  {
   "cell_type": "markdown",
   "metadata": {},
   "source": [
    "crate new feature by extracting sizes of images from FILESJSON"
   ]
  },
  {
   "cell_type": "code",
   "execution_count": 256,
   "metadata": {
    "collapsed": false
   },
   "outputs": [],
   "source": [
    "def extractImageSize(sIn):\n",
    "    sIn = sIn.replace('[','')\n",
    "    sIn = sIn.replace('}','')\n",
    "    sIn = sIn.replace(']','')\n",
    "    sIn = sIn.replace('{\"type\":\"image\",\"size\":','')\n",
    "    numberList = [int(s) for s in sIn.split(',') if s.isdigit()]\n",
    "    if len(numberList) == 0:\n",
    "        numberList = 0\n",
    "    return np.sum(numberList)\n",
    "\n",
    "data['FILESJSON_SIZE'] = data['FILESJSON'].apply(extractImageSize)"
   ]
  },
  {
   "cell_type": "markdown",
   "metadata": {},
   "source": [
    "remove outliers from FILESJSON_SIZE"
   ]
  },
  {
   "cell_type": "code",
   "execution_count": 42,
   "metadata": {
    "collapsed": false
   },
   "outputs": [],
   "source": [
    "#tmp = data[data['FILESJSON_SIZE']>np.percentile(data['FILESJSON_SIZE'],99)]\n",
    "#print(np.percentile(data['FILESJSON_SIZE'],99))\n",
    "#print(tmp.num_rows())\n",
    "data = data[data['FILESJSON_SIZE']<np.percentile(data['FILESJSON_SIZE'],99)]"
   ]
  },
  {
   "cell_type": "markdown",
   "metadata": {},
   "source": [
    "The new feature is not very helpful"
   ]
  },
  {
   "cell_type": "code",
   "execution_count": 43,
   "metadata": {
    "collapsed": true
   },
   "outputs": [],
   "source": [
    "data.remove_column('FILESJSON_SIZE');"
   ]
  },
  {
   "cell_type": "markdown",
   "metadata": {},
   "source": [
    "**CONCLUSIONS**\n",
    "\n",
    "FILESJSON_SIZE is useful to remove some outliers but not as a features -> remove after removal of outliers"
   ]
  },
  {
   "cell_type": "markdown",
   "metadata": {},
   "source": [
    "#####Create new fetures by combining IDS"
   ]
  },
  {
   "cell_type": "code",
   "execution_count": 257,
   "metadata": {
    "collapsed": false
   },
   "outputs": [],
   "source": [
    "data['COMBINEDID'] = data['SDK']+'_'+data['ACCOUNTID']+'_'+data['CAMPAIGNID']+'_'+data['CREATIVEID']+'_'+data['EXTERNALADSERVER']\n",
    "data['COMBINEDIDWITHPLACEMENTID'] = data['SDK']+'_'+data['ACCOUNTID']+'_'+data['CAMPAIGNID']+'_'+data['CREATIVEID']+'_'+data['EXTERNALADSERVER']+'_'+data['PLACEMENTID']\n",
    "data['COMBINEDEXTERNALID'] = data['EXTERNALPLACEMENTID']+'_'+data['EXTERNALSITEID']+'_'+data['EXTERNALSUPPLIERID']\n",
    "data['COMBINEDEXTERNALID'] = data['COMBINEDEXTERNALID'].apply(lambda x : 'null' if x == 'null_null' or x== 'null_null_null' else x)"
   ]
  },
  {
   "cell_type": "markdown",
   "metadata": {},
   "source": [
    "test with simple linear regression"
   ]
  },
  {
   "cell_type": "code",
   "execution_count": 50,
   "metadata": {
    "collapsed": false,
    "scrolled": false
   },
   "outputs": [
    {
     "name": "stdout",
     "output_type": "stream",
     "text": [
      "COMBINEDID: 3.4685\n",
      "COMBINEDID and PLACEMENTID: 3.4629\n",
      "COMBINEDIDWITHPLACEMENTID: 3.4630\n",
      "CREATIVEID: 3.4818\n",
      "CREATIVEID and PLACEMENTID: 3.4705\n",
      "PLACEMENTID: 3.4748\n"
     ]
    }
   ],
   "source": [
    "train_data,test_data = data.random_split(.5,seed=1)\n",
    "\n",
    "LR_model = graphlab.linear_regression.create(train_data, target='ADLOADINGTIME',features=['COMBINEDID'],validation_set=test_data, max_iterations=100,verbose=False)\n",
    "model = LR_model\n",
    "rms = graphlab.evaluation.rmse(test_data['ADLOADINGTIME'],model.predict(test_data))\n",
    "print(\"{}: {:.4f}\".format('COMBINEDID',rms))\n",
    "LR_model = graphlab.linear_regression.create(train_data, target='ADLOADINGTIME',features=['COMBINEDID', 'PLACEMENTID'],validation_set=test_data, max_iterations=100,verbose=False)\n",
    "model = LR_model\n",
    "rms = graphlab.evaluation.rmse(test_data['ADLOADINGTIME'],model.predict(test_data))\n",
    "print(\"{}: {:.4f}\".format('COMBINEDID and PLACEMENTID',rms))\n",
    "LR_model = graphlab.linear_regression.create(train_data, target='ADLOADINGTIME',features=['COMBINEDIDWITHPLACEMENTID'],validation_set=test_data, max_iterations=100,verbose=False)\n",
    "model = LR_model\n",
    "rms = graphlab.evaluation.rmse(test_data['ADLOADINGTIME'],model.predict(test_data))\n",
    "print(\"{}: {:.4f}\".format('COMBINEDIDWITHPLACEMENTID',rms))\n",
    "LR_model = graphlab.linear_regression.create(train_data, target='ADLOADINGTIME',features=['CREATIVEID'],validation_set=test_data, max_iterations=100,verbose=False)\n",
    "model = LR_model\n",
    "rms = graphlab.evaluation.rmse(test_data['ADLOADINGTIME'],model.predict(test_data))\n",
    "print(\"{}: {:.4f}\".format('CREATIVEID',rms))\n",
    "LR_model = graphlab.linear_regression.create(train_data, target='ADLOADINGTIME',features=['CREATIVEID', 'PLACEMENTID'],validation_set=test_data, max_iterations=100,verbose=False)\n",
    "model = LR_model\n",
    "rms = graphlab.evaluation.rmse(test_data['ADLOADINGTIME'],model.predict(test_data))\n",
    "print(\"{}: {:.4f}\".format('CREATIVEID and PLACEMENTID',rms))\n",
    "LR_model = graphlab.linear_regression.create(train_data, target='ADLOADINGTIME',features=['PLACEMENTID'],validation_set=test_data, max_iterations=100,verbose=False)\n",
    "model = LR_model\n",
    "rms = graphlab.evaluation.rmse(test_data['ADLOADINGTIME'],model.predict(test_data))\n",
    "print(\"{}: {:.4f}\".format('PLACEMENTID',rms))"
   ]
  },
  {
   "cell_type": "markdown",
   "metadata": {},
   "source": [
    "**CONCLUSIONS**\n",
    "\n",
    "use COMBINEDID and PLACEMENTID as separate features"
   ]
  },
  {
   "cell_type": "code",
   "execution_count": 237,
   "metadata": {
    "collapsed": false,
    "scrolled": false
   },
   "outputs": [
    {
     "name": "stdout",
     "output_type": "stream",
     "text": [
      "COMBINEDID: 3.4685\n",
      "EXTERNALPLACEMENTID and EXTERNALSITEID and EXTERNALSUPPLIERID: 3.5237\n",
      "COMBINEDIDWITHPLACEMENTID: 3.4630\n",
      "COMBINEDEXTERNALID: 3.5291\n",
      "COMBINEDIDWITHPLACEMENTID and COMBINEDEXTERNALID2: 3.4659\n",
      "COMBINEDEXTERNALID2: 3.5291\n"
     ]
    }
   ],
   "source": [
    "train_data,test_data = data.random_split(.5,seed=1)\n",
    "\n",
    "LR_model = graphlab.linear_regression.create(train_data, target='ADLOADINGTIME',features=['COMBINEDID'],validation_set=test_data, max_iterations=100,verbose=False)\n",
    "model = LR_model\n",
    "rms = graphlab.evaluation.rmse(test_data['ADLOADINGTIME'],model.predict(test_data))\n",
    "print(\"{}: {:.4f}\".format('COMBINEDID',rms))\n",
    "LR_model = graphlab.linear_regression.create(train_data, target='ADLOADINGTIME',features=['EXTERNALPLACEMENTID', 'EXTERNALSITEID', 'EXTERNALSUPPLIERID'],validation_set=test_data, max_iterations=100,verbose=False)\n",
    "model = LR_model\n",
    "rms = graphlab.evaluation.rmse(test_data['ADLOADINGTIME'],model.predict(test_data))\n",
    "print(\"{}: {:.4f}\".format('EXTERNALPLACEMENTID and EXTERNALSITEID and EXTERNALSUPPLIERID',rms))\n",
    "LR_model = graphlab.linear_regression.create(train_data, target='ADLOADINGTIME',features=['COMBINEDIDWITHPLACEMENTID'],validation_set=test_data, max_iterations=100,verbose=False)\n",
    "model = LR_model\n",
    "rms = graphlab.evaluation.rmse(test_data['ADLOADINGTIME'],model.predict(test_data))\n",
    "print(\"{}: {:.4f}\".format('COMBINEDIDWITHPLACEMENTID',rms))\n",
    "LR_model = graphlab.linear_regression.create(train_data, target='ADLOADINGTIME',features=['COMBINEDEXTERNALID'],validation_set=test_data, max_iterations=100,verbose=False)\n",
    "model = LR_model\n",
    "rms = graphlab.evaluation.rmse(test_data['ADLOADINGTIME'],model.predict(test_data))\n",
    "print(\"{}: {:.4f}\".format('COMBINEDEXTERNALID',rms))\n",
    "LR_model = graphlab.linear_regression.create(train_data, target='ADLOADINGTIME',features=['COMBINEDIDWITHPLACEMENTID', 'COMBINEDEXTERNALID'],validation_set=test_data, max_iterations=100,verbose=False)\n",
    "model = LR_model\n",
    "rms = graphlab.evaluation.rmse(test_data['ADLOADINGTIME'],model.predict(test_data))\n",
    "print(\"{}: {:.4f}\".format('COMBINEDIDWITHPLACEMENTID and COMBINEDEXTERNALID',rms))"
   ]
  },
  {
   "cell_type": "markdown",
   "metadata": {},
   "source": [
    "**CONCLUSIONS**\n",
    "\n",
    "do not use any of the following external features: EXTERNALPLACEMENTID, EXTERNALSITEID, EXTERNALSUPPLIERID"
   ]
  },
  {
   "cell_type": "markdown",
   "metadata": {},
   "source": [
    "######Remove features based on above two conlclusions"
   ]
  },
  {
   "cell_type": "code",
   "execution_count": 258,
   "metadata": {
    "collapsed": false
   },
   "outputs": [],
   "source": [
    "data.remove_column('SDK');\n",
    "data.remove_column('ACCOUNTID');\n",
    "data.remove_column('CAMPAIGNID');\n",
    "data.remove_column('CREATIVEID');\n",
    "data.remove_column('EXTERNALADSERVER');\n",
    "data.remove_column('COMBINEDIDWITHPLACEMENTID');"
   ]
  },
  {
   "cell_type": "code",
   "execution_count": 61,
   "metadata": {
    "collapsed": true
   },
   "outputs": [],
   "source": [
    "data['COMBINEDID'] = data['SDK']+'_'+data['ACCOUNTID']+'_'+data['CAMPAIGNID']+'_'+data['CREATIVEID']+'_'+data['EXTERNALADSERVER']"
   ]
  },
  {
   "cell_type": "code",
   "execution_count": 259,
   "metadata": {
    "collapsed": true
   },
   "outputs": [],
   "source": [
    "data.remove_column('EXTERNALPLACEMENTID');\n",
    "data.remove_column('EXTERNALSITEID');\n",
    "data.remove_column('EXTERNALSUPPLIERID');"
   ]
  },
  {
   "cell_type": "markdown",
   "metadata": {},
   "source": [
    "######Test the need for COMBINEDEXTERNALID"
   ]
  },
  {
   "cell_type": "code",
   "execution_count": 85,
   "metadata": {
    "collapsed": false
   },
   "outputs": [
    {
     "name": "stdout",
     "output_type": "stream",
     "text": [
      "COMBINEDID: 3.4685\n",
      "COMBINEDEXTERNALID: 3.5291\n",
      "COMBINEDID and COMBINEDEXTERNALID: 3.4701\n"
     ]
    }
   ],
   "source": [
    "train_data,test_data = data.random_split(.5,seed=1)\n",
    "\n",
    "LR_model = graphlab.linear_regression.create(train_data, target='ADLOADINGTIME',features=['COMBINEDID'],validation_set=test_data, max_iterations=100,verbose=False)\n",
    "model = LR_model\n",
    "rms = graphlab.evaluation.rmse(test_data['ADLOADINGTIME'],model.predict(test_data))\n",
    "print(\"{}: {:.4f}\".format('COMBINEDID',rms))\n",
    "LR_model = graphlab.linear_regression.create(train_data, target='ADLOADINGTIME',features=['COMBINEDEXTERNALID'],validation_set=test_data, max_iterations=100,verbose=False)\n",
    "model = LR_model\n",
    "rms = graphlab.evaluation.rmse(test_data['ADLOADINGTIME'],model.predict(test_data))\n",
    "print(\"{}: {:.4f}\".format('COMBINEDEXTERNALID',rms))\n",
    "LR_model = graphlab.linear_regression.create(train_data, target='ADLOADINGTIME',features=['COMBINEDID', 'COMBINEDEXTERNALID'],validation_set=test_data, max_iterations=100,verbose=False)\n",
    "model = LR_model\n",
    "rms = graphlab.evaluation.rmse(test_data['ADLOADINGTIME'],model.predict(test_data))\n",
    "print(\"{}: {:.4f}\".format('COMBINEDID and COMBINEDEXTERNALID',rms))"
   ]
  },
  {
   "cell_type": "markdown",
   "metadata": {},
   "source": [
    "**CONCLUSIONS**\n",
    "\n",
    "COMBINEDEXTERNALID doesn't help with the linear regression, however, it is essential for random forest -> do not remove it!"
   ]
  },
  {
   "cell_type": "code",
   "execution_count": 57,
   "metadata": {
    "collapsed": false
   },
   "outputs": [],
   "source": [
    "#data.remove_column('COMBINEDEXTERNALID');"
   ]
  },
  {
   "cell_type": "markdown",
   "metadata": {},
   "source": [
    "######Test the need for TOPMOSTREACHABLEWINDOWAREA"
   ]
  },
  {
   "cell_type": "code",
   "execution_count": 86,
   "metadata": {
    "collapsed": false
   },
   "outputs": [
    {
     "name": "stdout",
     "output_type": "stream",
     "text": [
      "COMBINEDID: 3.4685\n",
      "TOPMOSTREACHABLEWINDOWAREA: 3.6797\n",
      "COMBINEDID and TOPMOSTREACHABLEWINDOWAREA: 3.4645\n"
     ]
    }
   ],
   "source": [
    "train_data,test_data = data.random_split(.5,seed=1)\n",
    "\n",
    "LR_model = graphlab.linear_regression.create(train_data, target='ADLOADINGTIME',features=['COMBINEDID'],validation_set=test_data, max_iterations=100,verbose=False)\n",
    "model = LR_model\n",
    "rms = graphlab.evaluation.rmse(test_data['ADLOADINGTIME'],model.predict(test_data))\n",
    "print(\"{}: {:.4f}\".format('COMBINEDID',rms))\n",
    "LR_model = graphlab.linear_regression.create(train_data, target='ADLOADINGTIME',features=['TOPMOSTREACHABLEWINDOWAREA'],validation_set=test_data, max_iterations=100,verbose=False)\n",
    "model = LR_model\n",
    "rms = graphlab.evaluation.rmse(test_data['ADLOADINGTIME'],model.predict(test_data))\n",
    "print(\"{}: {:.4f}\".format('TOPMOSTREACHABLEWINDOWAREA',rms))\n",
    "LR_model = graphlab.linear_regression.create(train_data, target='ADLOADINGTIME',features=['COMBINEDID', 'TOPMOSTREACHABLEWINDOWAREA'],validation_set=test_data, max_iterations=100,verbose=False)\n",
    "model = LR_model\n",
    "rms = graphlab.evaluation.rmse(test_data['ADLOADINGTIME'],model.predict(test_data))\n",
    "print(\"{}: {:.4f}\".format('COMBINEDID and TOPMOSTREACHABLEWINDOWAREA',rms))"
   ]
  },
  {
   "cell_type": "markdown",
   "metadata": {},
   "source": [
    "**CONCLUSIONS**\n",
    "\n",
    "TOPMOSTREACHABLEWINDOWAREA can help sometimes, especially for RF"
   ]
  },
  {
   "cell_type": "code",
   "execution_count": 52,
   "metadata": {
    "collapsed": true
   },
   "outputs": [],
   "source": [
    "#data.remove_column('TOPMOSTREACHABLEWINDOWAREA');"
   ]
  },
  {
   "cell_type": "markdown",
   "metadata": {},
   "source": [
    "######Combine PLATFORM and PLATFORMVERSION"
   ]
  },
  {
   "cell_type": "code",
   "execution_count": 260,
   "metadata": {
    "collapsed": false
   },
   "outputs": [],
   "source": [
    "data['PLATFORMCOMBINED'] = data['PLATFORM']+'_'+data['PLATFORMVERSION']"
   ]
  },
  {
   "cell_type": "code",
   "execution_count": 112,
   "metadata": {
    "collapsed": false
   },
   "outputs": [
    {
     "name": "stdout",
     "output_type": "stream",
     "text": [
      "PLATFORM: 3.6262\n",
      "PLATFORMVERSION: 3.5990\n",
      "PLATFORMCOMBINED: 3.5979\n",
      "PLATFORM and PLATFORMVERSION: 3.5982\n",
      "COMBINEDID and PLATFORM: 3.3705\n",
      "COMBINEDID and PLATFORMVERSION: 3.3455\n",
      "COMBINEDID and PLATFORMCOMBINED: 3.3448\n",
      "COMBINEDID and PLATFORM and PLATFORMVERSION: 3.3451\n"
     ]
    }
   ],
   "source": [
    "train_data,test_data = data.random_split(.5,seed=1)\n",
    "\n",
    "LR_model = graphlab.linear_regression.create(train_data, target='ADLOADINGTIME',features=['PLATFORM'],validation_set=test_data, max_iterations=100,verbose=False)\n",
    "model = LR_model\n",
    "rms = graphlab.evaluation.rmse(test_data['ADLOADINGTIME'],model.predict(test_data))\n",
    "print(\"{}: {:.4f}\".format('PLATFORM',rms))\n",
    "LR_model = graphlab.linear_regression.create(train_data, target='ADLOADINGTIME',features=['PLATFORMVERSION'],validation_set=test_data, max_iterations=100,verbose=False)\n",
    "model = LR_model\n",
    "rms = graphlab.evaluation.rmse(test_data['ADLOADINGTIME'],model.predict(test_data))\n",
    "print(\"{}: {:.4f}\".format('PLATFORMVERSION',rms))\n",
    "LR_model = graphlab.linear_regression.create(train_data, target='ADLOADINGTIME',features=['PLATFORMCOMBINED'],validation_set=test_data, max_iterations=100,verbose=False)\n",
    "model = LR_model\n",
    "rms = graphlab.evaluation.rmse(test_data['ADLOADINGTIME'],model.predict(test_data))\n",
    "print(\"{}: {:.4f}\".format('PLATFORMCOMBINED',rms))\n",
    "LR_model = graphlab.linear_regression.create(train_data, target='ADLOADINGTIME',features=['PLATFORM', 'PLATFORMVERSION'],validation_set=test_data, max_iterations=100,verbose=False)\n",
    "model = LR_model\n",
    "rms = graphlab.evaluation.rmse(test_data['ADLOADINGTIME'],model.predict(test_data))\n",
    "print(\"{}: {:.4f}\".format('PLATFORM and PLATFORMVERSION',rms))\n",
    "\n",
    "LR_model = graphlab.linear_regression.create(train_data, target='ADLOADINGTIME',features=['COMBINEDID', 'PLATFORM'],validation_set=test_data, max_iterations=100,verbose=False)\n",
    "model = LR_model\n",
    "rms = graphlab.evaluation.rmse(test_data['ADLOADINGTIME'],model.predict(test_data))\n",
    "print(\"{}: {:.4f}\".format('COMBINEDID and PLATFORM',rms))\n",
    "LR_model = graphlab.linear_regression.create(train_data, target='ADLOADINGTIME',features=['COMBINEDID','PLATFORMVERSION'],validation_set=test_data, max_iterations=100,verbose=False)\n",
    "model = LR_model\n",
    "rms = graphlab.evaluation.rmse(test_data['ADLOADINGTIME'],model.predict(test_data))\n",
    "print(\"{}: {:.4f}\".format('COMBINEDID and PLATFORMVERSION',rms))\n",
    "LR_model = graphlab.linear_regression.create(train_data, target='ADLOADINGTIME',features=['COMBINEDID','PLATFORMCOMBINED'],validation_set=test_data, max_iterations=100,verbose=False)\n",
    "model = LR_model\n",
    "rms = graphlab.evaluation.rmse(test_data['ADLOADINGTIME'],model.predict(test_data))\n",
    "print(\"{}: {:.4f}\".format('COMBINEDID and PLATFORMCOMBINED',rms))\n",
    "LR_model = graphlab.linear_regression.create(train_data, target='ADLOADINGTIME',features=['COMBINEDID', 'PLATFORM', 'PLATFORMVERSION'],validation_set=test_data, max_iterations=100,verbose=False)\n",
    "model = LR_model\n",
    "rms = graphlab.evaluation.rmse(test_data['ADLOADINGTIME'],model.predict(test_data))\n",
    "print(\"{}: {:.4f}\".format('COMBINEDID and PLATFORM and PLATFORMVERSION',rms))"
   ]
  },
  {
   "cell_type": "markdown",
   "metadata": {},
   "source": [
    "**CONCLUSIONS**\n",
    "\n",
    "PLATFORMCOMBINED is better than separately use PLATFORM and PLATFORMVERSION"
   ]
  },
  {
   "cell_type": "code",
   "execution_count": 261,
   "metadata": {
    "collapsed": true
   },
   "outputs": [],
   "source": [
    "data.remove_columns(['PLATFORM','PLATFORMVERSION']);"
   ]
  },
  {
   "cell_type": "markdown",
   "metadata": {},
   "source": [
    "UA_PLATFORM and PLATFORM, and UA_PLATFORMVERSION and PLATFORMVERSION are practically the same"
   ]
  },
  {
   "cell_type": "code",
   "execution_count": 262,
   "metadata": {
    "collapsed": true
   },
   "outputs": [],
   "source": [
    "data.remove_columns(['UA_PLATFORM','UA_PLATFORMVERSION']);"
   ]
  },
  {
   "cell_type": "markdown",
   "metadata": {},
   "source": [
    " "
   ]
  },
  {
   "cell_type": "code",
   "execution_count": 120,
   "metadata": {
    "collapsed": false
   },
   "outputs": [
    {
     "name": "stdout",
     "output_type": "stream",
     "text": [
      "COMBINEDID: 3.4685\n",
      "COMBINEDID and PLATFORMCOMBINED: 3.3448\n",
      "COMBINEDID: 3.4685\n",
      "COMBINEDID and PLATFORMCOMBINED: 3.3449\n"
     ]
    }
   ],
   "source": [
    "train_data,test_data = data.random_split(.5,seed=1)\n",
    "\n",
    "LR_model = graphlab.linear_regression.create(train_data, target='ADLOADINGTIME',features=['COMBINEDID'],validation_set=test_data, max_iterations=100,verbose=False)\n",
    "model = LR_model\n",
    "rms = graphlab.evaluation.rmse(test_data['ADLOADINGTIME'],model.predict(test_data))\n",
    "print(\"{}: {:.4f}\".format('COMBINEDID',rms))\n",
    "LR_model = graphlab.linear_regression.create(train_data, target='ADLOADINGTIME',features=['COMBINEDID','PLATFORMCOMBINED'],validation_set=test_data, max_iterations=100,verbose=False)\n",
    "model = LR_model\n",
    "rms = graphlab.evaluation.rmse(test_data['ADLOADINGTIME'],model.predict(test_data))\n",
    "print(\"{}: {:.4f}\".format('COMBINEDID and PLATFORMCOMBINED',rms))\n",
    "\n",
    "train_data = train_data[train_data['PLATFORMCOMBINED'] != 'null_null']\n",
    "#test_data = test_data[test_data['PLATFORMCOMBINED'] != 'null_null']\n",
    "\n",
    "LR_model = graphlab.linear_regression.create(train_data, target='ADLOADINGTIME',features=['COMBINEDID'],validation_set=test_data, max_iterations=100,verbose=False)\n",
    "model = LR_model\n",
    "rms = graphlab.evaluation.rmse(test_data['ADLOADINGTIME'],model.predict(test_data))\n",
    "print(\"{}: {:.4f}\".format('COMBINEDID',rms))\n",
    "LR_model = graphlab.linear_regression.create(train_data, target='ADLOADINGTIME',features=['COMBINEDID','PLATFORMCOMBINED'],validation_set=test_data, max_iterations=100,verbose=False)\n",
    "model = LR_model\n",
    "rms = graphlab.evaluation.rmse(test_data['ADLOADINGTIME'],model.predict(test_data))\n",
    "print(\"{}: {:.4f}\".format('COMBINEDID and PLATFORMCOMBINED',rms))"
   ]
  },
  {
   "cell_type": "markdown",
   "metadata": {},
   "source": [
    "**CONCLUSIONS**\n",
    "\n",
    "No need to remove 'null_null' from PLATFORMCOMBINED"
   ]
  },
  {
   "cell_type": "markdown",
   "metadata": {},
   "source": [
    "#####Device type from UA"
   ]
  },
  {
   "cell_type": "raw",
   "metadata": {},
   "source": [
    "COMBINEDID: 3.4685\n",
    "COMBINEDID and UA_VENDOR: 3.3694\n",
    "COMBINEDID and UA_MODEL: 3.3565\n",
    "COMBINEDID and UA_OS: 3.3693\n",
    "COMBINEDID and UA_OSVERSION: 3.3419\n",
    "COMBINEDID and UA_BROWSER: 3.3737\n",
    "COMBINEDID and UA_BROWSERVERSION: 3.3385"
   ]
  },
  {
   "cell_type": "markdown",
   "metadata": {},
   "source": [
    "Try combining this features"
   ]
  },
  {
   "cell_type": "code",
   "execution_count": 263,
   "metadata": {
    "collapsed": true
   },
   "outputs": [],
   "source": [
    "data['UA_VENDORMODEL'] = data['UA_VENDOR']+'_'+data['UA_MODEL']\n",
    "data['UA_OSCOMB'] = data['UA_OS']+'_'+data['UA_OSVERSION']\n",
    "data['UA_BROWSERCOMB'] = data['UA_BROWSER']+'_'+data['UA_BROWSERVERSION']"
   ]
  },
  {
   "cell_type": "code",
   "execution_count": 124,
   "metadata": {
    "collapsed": false
   },
   "outputs": [
    {
     "name": "stdout",
     "output_type": "stream",
     "text": [
      "COMBINEDID and UA_VENDOR: 3.3694\n",
      "COMBINEDID and UA_MODEL: 3.3565\n",
      "COMBINEDID and UA_OS: 3.3693\n",
      "COMBINEDID and UA_OSVERSION: 3.3419\n",
      "COMBINEDID and UA_BROWSER: 3.3737\n",
      "COMBINEDID and UA_BROWSERVERSION: 3.3385\n"
     ]
    }
   ],
   "source": [
    "train_data,test_data = data.random_split(.5,seed=1)\n",
    "\n",
    "def eval_LR_features(feat, name):\n",
    "    LR_model = graphlab.linear_regression.create(train_data, target='ADLOADINGTIME',features=feat,validation_set=test_data, max_iterations=100,verbose=False)\n",
    "    model = LR_model\n",
    "    rms = graphlab.evaluation.rmse(test_data['ADLOADINGTIME'],model.predict(test_data))\n",
    "    print(\"{}: {:.4f}\".format(name,rms))\n",
    "\n",
    "eval_LR_features(['COMBINEDID', 'UA_VENDOR'], 'COMBINEDID and UA_VENDOR')\n",
    "eval_LR_features(['COMBINEDID', 'UA_MODEL'], 'COMBINEDID and UA_MODEL')\n",
    "eval_LR_features(['COMBINEDID', 'UA_OS'], 'COMBINEDID and UA_OS')\n",
    "eval_LR_features(['COMBINEDID', 'UA_OSVERSION'], 'COMBINEDID and UA_OSVERSION')\n",
    "eval_LR_features(['COMBINEDID', 'UA_BROWSER'], 'COMBINEDID and UA_BROWSER')\n",
    "eval_LR_features(['COMBINEDID', 'UA_BROWSERVERSION'], 'COMBINEDID and UA_BROWSERVERSION')"
   ]
  },
  {
   "cell_type": "code",
   "execution_count": 125,
   "metadata": {
    "collapsed": false
   },
   "outputs": [
    {
     "name": "stdout",
     "output_type": "stream",
     "text": [
      "COMBINEDID and UA_VENDOR and UA_MODEL: 3.3554\n",
      "COMBINEDID and UA_OS and UA_OSVERSION: 3.3415\n",
      "COMBINEDID and UA_BROWSERVERSION and UA_BROWSER: 3.3359\n"
     ]
    }
   ],
   "source": [
    "eval_LR_features(['COMBINEDID', 'UA_VENDOR', 'UA_MODEL'], 'COMBINEDID and UA_VENDOR and UA_MODEL')\n",
    "eval_LR_features(['COMBINEDID', 'UA_OS', 'UA_OSVERSION'], 'COMBINEDID and UA_OS and UA_OSVERSION')\n",
    "eval_LR_features(['COMBINEDID', 'UA_BROWSERVERSION', 'UA_BROWSER'], 'COMBINEDID and UA_BROWSERVERSION and UA_BROWSER')"
   ]
  },
  {
   "cell_type": "code",
   "execution_count": 128,
   "metadata": {
    "collapsed": false,
    "scrolled": true
   },
   "outputs": [
    {
     "name": "stdout",
     "output_type": "stream",
     "text": [
      "COMBINEDID and UA_VENDORMODEL: 3.3567\n",
      "COMBINEDID and UA_OSCOMB: 3.3412\n",
      "COMBINEDID and UA_BROWSERCOMB: 3.3361\n"
     ]
    }
   ],
   "source": [
    "train_data,test_data = data.random_split(.5,seed=1)\n",
    "\n",
    "eval_LR_features(['COMBINEDID', 'UA_VENDORMODEL'], 'COMBINEDID and UA_VENDORMODEL')\n",
    "eval_LR_features(['COMBINEDID', 'UA_OSCOMB'], 'COMBINEDID and UA_OSCOMB')\n",
    "eval_LR_features(['COMBINEDID', 'UA_BROWSERCOMB'], 'COMBINEDID and UA_BROWSERCOMB')"
   ]
  },
  {
   "cell_type": "markdown",
   "metadata": {},
   "source": [
    "**CONCLUSIONS**\n",
    "\n",
    "Do not combine UA_BROWSERVERSION and UA_BROWSER\n",
    "\n",
    "Do not combine UA_VENDOR and UA_MODEL\n",
    "\n",
    "Combine UA_OS and UA_OSVERSION"
   ]
  },
  {
   "cell_type": "code",
   "execution_count": 264,
   "metadata": {
    "collapsed": true
   },
   "outputs": [],
   "source": [
    "data.remove_columns(['UA_BROWSERCOMB', 'UA_VENDORMODEL']);"
   ]
  },
  {
   "cell_type": "code",
   "execution_count": 265,
   "metadata": {
    "collapsed": true
   },
   "outputs": [],
   "source": [
    "data.remove_columns(['UA_OS', 'UA_OSVERSION']);"
   ]
  },
  {
   "cell_type": "markdown",
   "metadata": {},
   "source": [
    "###### New feature: waht if INTENDEDDEVICETYPE and ACTUALDEVICETYPE differs"
   ]
  },
  {
   "cell_type": "code",
   "execution_count": 266,
   "metadata": {
    "collapsed": true
   },
   "outputs": [],
   "source": [
    "data['INTENDENTISACTUALDEVICETYPE'] = data['INTENDEDDEVICETYPE']==data['ACTUALDEVICETYPE']"
   ]
  },
  {
   "cell_type": "code",
   "execution_count": 101,
   "metadata": {
    "collapsed": false
   },
   "outputs": [
    {
     "name": "stdout",
     "output_type": "stream",
     "text": [
      "COMBINEDID: 3.4749\n",
      "COMBINEDID and INTENDEDDEVICETYPE: 3.4749\n",
      "COMBINEDID and ACTUALDEVICETYPE: 3.4720\n",
      "COMBINEDID and INTENDEDDEVICETYPE and ACTUALDEVICETYPE: 3.4720\n",
      "COMBINEDID and INTENDENTISACTUALDEVICETYPE: 3.4733\n",
      "COMBINEDID and INTENDENTISACTUALDEVICETYPE and ACTUALDEVICETYPE: 3.4718\n"
     ]
    }
   ],
   "source": [
    "train_data,test_data = data.random_split(.5,seed=1)\n",
    "\n",
    "def eval_LR_features(feat, name):\n",
    "    LR_model = graphlab.linear_regression.create(train_data, target='ADLOADINGTIME',features=feat,validation_set=test_data, max_iterations=100,verbose=False)\n",
    "    model = LR_model\n",
    "    rms = graphlab.evaluation.rmse(test_data['ADLOADINGTIME'],model.predict(test_data))\n",
    "    print(\"{}: {:.4f}\".format(name,rms))\n",
    "\n",
    "eval_LR_features(['COMBINEDID'], 'COMBINEDID')\n",
    "eval_LR_features(['COMBINEDID', 'INTENDEDDEVICETYPE'], 'COMBINEDID and INTENDEDDEVICETYPE')\n",
    "eval_LR_features(['COMBINEDID', 'ACTUALDEVICETYPE'], 'COMBINEDID and ACTUALDEVICETYPE')\n",
    "eval_LR_features(['COMBINEDID', 'INTENDEDDEVICETYPE', 'ACTUALDEVICETYPE'], 'COMBINEDID and INTENDEDDEVICETYPE and ACTUALDEVICETYPE')\n",
    "eval_LR_features(['COMBINEDID', 'INTENDENTISACTUALDEVICETYPE'], 'COMBINEDID and INTENDENTISACTUALDEVICETYPE')\n",
    "eval_LR_features(['COMBINEDID', 'INTENDENTISACTUALDEVICETYPE', 'ACTUALDEVICETYPE'], 'COMBINEDID and INTENDENTISACTUALDEVICETYPE and ACTUALDEVICETYPE')"
   ]
  },
  {
   "cell_type": "markdown",
   "metadata": {},
   "source": [
    "**CONCLUSIONS**\n",
    "\n",
    "INTENDEDDEVICETYPE not really needed, retain only ACTUALDEVICETYPE\n",
    "\n",
    "INTENDENTISACTUALDEVICETYPE can help just a little bit with RF however not with LR -> retain it, why not"
   ]
  },
  {
   "cell_type": "markdown",
   "metadata": {},
   "source": [
    "Remaining features:"
   ]
  },
  {
   "cell_type": "code",
   "execution_count": 100,
   "metadata": {
    "collapsed": false
   },
   "outputs": [
    {
     "data": {
      "text/plain": [
       "{'ACTUALDEVICETYPE': 'Phone',\n",
       " 'ADLOADINGTIME': 7.121,\n",
       " 'COMBINEDEXTERNALID': 'null',\n",
       " 'COMBINEDID': '6650fadcc0264109f8bd976558377652_a0776e9e61f79615d93907ec5710c9fa_ab0a0251add6aba71e800537c6a729c8_83361d7aa1757e5f8e9ed97b71a8c49b_b46e86833f3f102dfeca4b7a13d6db21',\n",
       " 'CREATIVETYPE': 'Interstitial',\n",
       " 'ERRORSJSON': '[]',\n",
       " 'FILESJSON': '[]',\n",
       " 'FILESJSON_SIZE': 0L,\n",
       " 'INTENDEDDEVICETYPE': 'Phone',\n",
       " 'INTENDENTISACTUALDEVICETYPE': 1L,\n",
       " 'PLACEMENTID': 'f6297752e6cd8cd455c55d95c085035d',\n",
       " 'PLATFORMCOMBINED': 'Android_4.3',\n",
       " 'TIMESTAMP': 1459512400L,\n",
       " 'TOPMOSTREACHABLEWINDOWAREA': 221400L,\n",
       " 'UA_BROWSER': 'Android Browser',\n",
       " 'UA_BROWSERRENDERINGENGINE': 'WebKit',\n",
       " 'UA_BROWSERVERSION': '4.0',\n",
       " 'UA_DEVICETYPE': 'Phone',\n",
       " 'UA_HARDWARETYPE': 'Mobile Phone',\n",
       " 'UA_MODEL': 'SM-G7102',\n",
       " 'UA_OSCOMB': 'Android_4.3',\n",
       " 'UA_VENDOR': 'Samsung'}"
      ]
     },
     "execution_count": 100,
     "metadata": {},
     "output_type": "execute_result"
    }
   ],
   "source": [
    "data[0]"
   ]
  },
  {
   "cell_type": "markdown",
   "metadata": {},
   "source": [
    "###Effect of progressively adding more features"
   ]
  },
  {
   "cell_type": "code",
   "execution_count": 121,
   "metadata": {
    "collapsed": false,
    "scrolled": true
   },
   "outputs": [
    {
     "name": "stdout",
     "output_type": "stream",
     "text": [
      "PLACEMENTID: 3.4629\n",
      "TIMESTAMP: 3.4684\n",
      "INTENDEDDEVICETYPE: 3.4685\n",
      "ACTUALDEVICETYPE: 3.4655\n",
      "CDNNAME: 3.4687\n",
      "CREATIVETYPE: 3.4685\n",
      "UA_HARDWARETYPE: 3.4648\n",
      "UA_DEVICETYPE: 3.4655\n",
      "UA_PLATFORM: 3.3706\n",
      "UA_PLATFORMVERSION: 3.3457\n",
      "UA_VENDOR: 3.3694\n",
      "UA_MODEL: 3.3565\n",
      "UA_OS: 3.3693\n",
      "UA_OSVERSION: 3.3419\n",
      "UA_BROWSER: 3.3737\n",
      "UA_BROWSERVERSION: 3.3385\n",
      "UA_BROWSERRENDERINGENGINE: 3.4672\n",
      "FILESJSON: 3.4686\n",
      "ERRORSJSON: 3.4676\n",
      "COMBINEDEXTERNALID: 3.4701\n",
      "TOPMOSTREACHABLEWINDOWAREA: 3.4645\n",
      "PLATFORMCOMBINED: 3.3448\n"
     ]
    }
   ],
   "source": [
    "train_data,test_data = data.random_split(.5,seed=1)\n",
    "\n",
    "for col in data.column_names():\n",
    "    if col != 'ADLOADINGTIME' and  col != 'COMBINEDID':# and col != 'UA_BROWSERVERSION':\n",
    "        #sqft_model = graphlab.linear_regression.create(train_data, target='ADLOADINGTIME',features=[col,'CREATIVEID','UA_BROWSERVERSION'],validation_set=test_data, max_iterations=100,verbose=False)\n",
    "        LR_model = graphlab.linear_regression.create(train_data, target='ADLOADINGTIME',features=[col,'COMBINEDID'],validation_set=test_data, max_iterations=100,verbose=False)\n",
    "        model = LR_model\n",
    "        rms = graphlab.evaluation.rmse(test_data['ADLOADINGTIME'],model.predict(test_data))\n",
    "        print(\"{}: {:.4f}\".format(col,rms))"
   ]
  },
  {
   "cell_type": "code",
   "execution_count": 19,
   "metadata": {
    "collapsed": false
   },
   "outputs": [
    {
     "name": "stdout",
     "output_type": "stream",
     "text": [
      ": 3.2613\n",
      "PLACEMENTID: 3.2630\n",
      "INTENDEDDEVICETYPE: 3.2616\n",
      "CDNNAME: 3.2618\n",
      "UA_HARDWARETYPE: 3.2618\n",
      "UA_DEVICETYPE: 3.2616\n",
      "UA_MODEL: 3.2732\n",
      "UA_BROWSERRENDERINGENGINE: 3.2615\n",
      "TOPMOSTREACHABLEWINDOWAREA: 3.2675\n"
     ]
    }
   ],
   "source": [
    "train_data,test_data = data.random_split(.5,seed=1)\n",
    "\n",
    "LR_model = graphlab.linear_regression.create(train_data, target='ADLOADINGTIME',features=['COMBINEDID', 'UA_BROWSERVERSION', 'UA_OSCOMB', 'UA_VENDOR', 'PLATFORMCOMBINED', 'COMBINEDEXTERNALID', 'FILESJSON','ACTUALDEVICETYPE','ERRORSJSON','UA_BROWSER','TIMESTAMP','CREATIVETYPE'],validation_set=test_data, max_iterations=50,verbose=False)\n",
    "model = LR_model\n",
    "rms = graphlab.evaluation.rmse(test_data['ADLOADINGTIME'],model.predict(test_data))\n",
    "print(\"{}: {:.4f}\".format('',rms))\n",
    "\n",
    "for col in data.column_names():\n",
    "    #if col != 'ADLOADINGTIME' and  col != 'COMBINEDID' and col != 'UA_BROWSERVERSION' and col != 'UA_PLATFORMCOMBINED':\n",
    "    if col != 'ADLOADINGTIME' and  col != 'COMBINEDID' and col != 'UA_BROWSERVERSION' and col != 'UA_OSCOMB'and col != 'UA_VENDOR' and col != 'PLATFORMCOMBINED' and col != 'COMBINEDEXTERNALID' and col != 'FILESJSON' and col!='ACTUALDEVICETYPE' and col!= 'ERRORSJSON' and col != 'UA_BROWSER' and col != 'TIMESTAMP' and col != 'CREATIVETYPE':\n",
    "        #sqft_model = graphlab.linear_regression.create(train_data, target='ADLOADINGTIME',features=[col,'CREATIVEID','UA_BROWSERVERSION'],validation_set=test_data, max_iterations=100,verbose=False)\n",
    "        #LR_model = graphlab.linear_regression.create(train_data, target='ADLOADINGTIME',features=[col,'COMBINEDID', 'UA_BROWSERVERSION', 'UA_PLATFORMCOMBINED'],validation_set=test_data, max_iterations=100,verbose=False)\n",
    "        LR_model = graphlab.linear_regression.create(train_data, target='ADLOADINGTIME',features=[col,'COMBINEDID', 'UA_BROWSERVERSION', 'UA_OSCOMB', 'UA_VENDOR', 'PLATFORMCOMBINED', 'COMBINEDEXTERNALID', 'FILESJSON','ACTUALDEVICETYPE','ERRORSJSON','UA_BROWSER','TIMESTAMP','CREATIVETYPE'],validation_set=test_data, max_iterations=50,verbose=False)\n",
    "        model = LR_model\n",
    "        rms = graphlab.evaluation.rmse(test_data['ADLOADINGTIME'],model.predict(test_data))\n",
    "        print(\"{}: {:.4f}\".format(col,rms))"
   ]
  },
  {
   "cell_type": "code",
   "execution_count": 53,
   "metadata": {
    "collapsed": false,
    "scrolled": true
   },
   "outputs": [
    {
     "name": "stdout",
     "output_type": "stream",
     "text": [
      ": 3.2615\n",
      "PLACEMENTID: 3.2630\n",
      "PLATFORM: 3.2613\n",
      "PLATFORMVERSION: 3.2616\n",
      "INTENDEDDEVICETYPE: 3.2612\n",
      "ACTUALDEVICETYPE: 3.2615\n",
      "UA_DEVICETYPE: 3.2617\n",
      "UA_PLATFORM: 3.2619\n",
      "FILESJSON: 3.2613\n",
      "FILESJSON_SIZE: 3.2618\n",
      "PLATFORMCOMBINED: 3.2614\n"
     ]
    }
   ],
   "source": [
    "#train_data,test_data = data.random_split(.5,seed=1)\n",
    "\n",
    "LR_model = graphlab.linear_regression.create(train_data, target='ADLOADINGTIME',features=['COMBINEDID','UA_BROWSERVERSION','UA_OSCOMB','COMBINEDEXTERNALID','TIMESTAMP','ERRORSJSON','UA_BROWSER','UA_HARDWARETYPE','UA_VENDOR','UA_BROWSERRENDERINGENGINE','CREATIVETYPE','UA_PLATFORMVERSION'],validation_set=test_data, max_iterations=50,verbose=False)\n",
    "model = LR_model\n",
    "rms = graphlab.evaluation.rmse(test_data['ADLOADINGTIME'],model.predict(test_data))\n",
    "print(\"{}: {:.4f}\".format('',rms))\n",
    "\n",
    "for col in data.column_names():\n",
    "    #if col != 'ADLOADINGTIME' and  col != 'COMBINEDID' and col != 'UA_BROWSERVERSION' and col != 'UA_PLATFORMCOMBINED':\n",
    "    if col != 'ADLOADINGTIME' and col!='COMBINEDID' and col!='UA_BROWSERVERSION' and col!='UA_OSCOMB' and col!='COMBINEDEXTERNALID' and col != 'TIMESTAMP' and col!='ERRORSJSON' and col != 'UA_BROWSER' and col != 'UA_HARDWARETYPE' and col != 'UA_VENDOR' and col != 'UA_BROWSERRENDERINGENGINE' and col != 'CREATIVETYPE' and col != 'UA_PLATFORMVERSION':\n",
    "        #sqft_model = graphlab.linear_regression.create(train_data, target='ADLOADINGTIME',features=[col,'CREATIVEID','UA_BROWSERVERSION'],validation_set=test_data, max_iterations=100,verbose=False)\n",
    "        #LR_model = graphlab.linear_regression.create(train_data, target='ADLOADINGTIME',features=[col,'COMBINEDID', 'UA_BROWSERVERSION', 'UA_PLATFORMCOMBINED'],validation_set=test_data, max_iterations=100,verbose=False)\n",
    "        LR_model = graphlab.linear_regression.create(train_data, target='ADLOADINGTIME',features=[col,'COMBINEDID','UA_BROWSERVERSION','UA_OSCOMB','COMBINEDEXTERNALID','TIMESTAMP','ERRORSJSON','UA_BROWSER','UA_HARDWARETYPE','UA_VENDOR','UA_BROWSERRENDERINGENGINE','CREATIVETYPE','UA_PLATFORMVERSION'],validation_set=test_data, max_iterations=50,verbose=False)\n",
    "        model = LR_model\n",
    "        rms = graphlab.evaluation.rmse(test_data['ADLOADINGTIME'],model.predict(test_data))\n",
    "        print(\"{}: {:.4f}\".format(col,rms))"
   ]
  },
  {
   "cell_type": "markdown",
   "metadata": {},
   "source": [
    "**CONCLUSIONS**\n",
    "\n",
    "Minimum set of features for linear regression:\n",
    "\n",
    "'ADLOADINGTIME','COMBINEDID', 'UA_BROWSERVERSION', 'UA_OSCOMB', 'UA_VENDOR', 'PLATFORMCOMBINED', 'COMBINEDEXTERNALID', 'FILESJSON','ACTUALDEVICETYPE','ERRORSJSON','UA_BROWSER','TIMESTAMP','CREATIVETYPE'"
   ]
  },
  {
   "cell_type": "markdown",
   "metadata": {},
   "source": [
    "##Evaluation using linear regression"
   ]
  },
  {
   "cell_type": "code",
   "execution_count": 103,
   "metadata": {
    "collapsed": true
   },
   "outputs": [],
   "source": [
    "tmp = data['ADLOADINGTIME','COMBINEDID', 'UA_BROWSERVERSION', 'UA_OSCOMB', 'UA_VENDOR', 'PLATFORMCOMBINED', 'COMBINEDEXTERNALID', 'FILESJSON','ACTUALDEVICETYPE','ERRORSJSON','UA_BROWSER','TIMESTAMP','CREATIVETYPE']"
   ]
  },
  {
   "cell_type": "code",
   "execution_count": 104,
   "metadata": {
    "collapsed": false,
    "scrolled": true
   },
   "outputs": [
    {
     "data": {
      "text/html": [
       "<pre>Linear regression:</pre>"
      ],
      "text/plain": [
       "Linear regression:"
      ]
     },
     "metadata": {},
     "output_type": "display_data"
    },
    {
     "data": {
      "text/html": [
       "<pre>--------------------------------------------------------</pre>"
      ],
      "text/plain": [
       "--------------------------------------------------------"
      ]
     },
     "metadata": {},
     "output_type": "display_data"
    },
    {
     "data": {
      "text/html": [
       "<pre>Number of examples          : 116524</pre>"
      ],
      "text/plain": [
       "Number of examples          : 116524"
      ]
     },
     "metadata": {},
     "output_type": "display_data"
    },
    {
     "data": {
      "text/html": [
       "<pre>Number of features          : 13</pre>"
      ],
      "text/plain": [
       "Number of features          : 13"
      ]
     },
     "metadata": {},
     "output_type": "display_data"
    },
    {
     "data": {
      "text/html": [
       "<pre>Number of unpacked features : 13</pre>"
      ],
      "text/plain": [
       "Number of unpacked features : 13"
      ]
     },
     "metadata": {},
     "output_type": "display_data"
    },
    {
     "data": {
      "text/html": [
       "<pre>Number of coefficients    : 9501</pre>"
      ],
      "text/plain": [
       "Number of coefficients    : 9501"
      ]
     },
     "metadata": {},
     "output_type": "display_data"
    },
    {
     "data": {
      "text/html": [
       "<pre>Starting L-BFGS</pre>"
      ],
      "text/plain": [
       "Starting L-BFGS"
      ]
     },
     "metadata": {},
     "output_type": "display_data"
    },
    {
     "data": {
      "text/html": [
       "<pre>--------------------------------------------------------</pre>"
      ],
      "text/plain": [
       "--------------------------------------------------------"
      ]
     },
     "metadata": {},
     "output_type": "display_data"
    },
    {
     "data": {
      "text/html": [
       "<pre>+-----------+----------+-----------+--------------+--------------------+----------------------+---------------+-----------------+</pre>"
      ],
      "text/plain": [
       "+-----------+----------+-----------+--------------+--------------------+----------------------+---------------+-----------------+"
      ]
     },
     "metadata": {},
     "output_type": "display_data"
    },
    {
     "data": {
      "text/html": [
       "<pre>| Iteration | Passes   | Step size | Elapsed Time | Training-max_error | Validation-max_error | Training-rmse | Validation-rmse |</pre>"
      ],
      "text/plain": [
       "| Iteration | Passes   | Step size | Elapsed Time | Training-max_error | Validation-max_error | Training-rmse | Validation-rmse |"
      ]
     },
     "metadata": {},
     "output_type": "display_data"
    },
    {
     "data": {
      "text/html": [
       "<pre>+-----------+----------+-----------+--------------+--------------------+----------------------+---------------+-----------------+</pre>"
      ],
      "text/plain": [
       "+-----------+----------+-----------+--------------+--------------------+----------------------+---------------+-----------------+"
      ]
     },
     "metadata": {},
     "output_type": "display_data"
    },
    {
     "data": {
      "text/html": [
       "<pre>| 1         | 6        | 0.000000  | 0.265015     | 16.378900          | 16.494300            | 3.497875      | 3.519177        |</pre>"
      ],
      "text/plain": [
       "| 1         | 6        | 0.000000  | 0.265015     | 16.378900          | 16.494300            | 3.497875      | 3.519177        |"
      ]
     },
     "metadata": {},
     "output_type": "display_data"
    },
    {
     "data": {
      "text/html": [
       "<pre>| 2         | 9        | 5.000000  | 0.469027     | 17.085073          | 17.133558            | 3.153341      | 3.300617        |</pre>"
      ],
      "text/plain": [
       "| 2         | 9        | 5.000000  | 0.469027     | 17.085073          | 17.133558            | 3.153341      | 3.300617        |"
      ]
     },
     "metadata": {},
     "output_type": "display_data"
    },
    {
     "data": {
      "text/html": [
       "<pre>| 3         | 10       | 5.000000  | 0.584034     | 24.620016          | 39.000159            | 4.844549      | 5.067211        |</pre>"
      ],
      "text/plain": [
       "| 3         | 10       | 5.000000  | 0.584034     | 24.620016          | 39.000159            | 4.844549      | 5.067211        |"
      ]
     },
     "metadata": {},
     "output_type": "display_data"
    },
    {
     "data": {
      "text/html": [
       "<pre>| 4         | 12       | 1.000000  | 0.758044     | 17.614629          | 17.478601            | 3.044576      | 3.263763        |</pre>"
      ],
      "text/plain": [
       "| 4         | 12       | 1.000000  | 0.758044     | 17.614629          | 17.478601            | 3.044576      | 3.263763        |"
      ]
     },
     "metadata": {},
     "output_type": "display_data"
    },
    {
     "data": {
      "text/html": [
       "<pre>| 5         | 13       | 1.000000  | 0.880051     | 17.626021          | 17.391837            | 3.032534      | 3.260502        |</pre>"
      ],
      "text/plain": [
       "| 5         | 13       | 1.000000  | 0.880051     | 17.626021          | 17.391837            | 3.032534      | 3.260502        |"
      ]
     },
     "metadata": {},
     "output_type": "display_data"
    },
    {
     "data": {
      "text/html": [
       "<pre>| 6         | 14       | 1.000000  | 0.997057     | 17.842394          | 18.264920            | 3.018821      | 3.275606        |</pre>"
      ],
      "text/plain": [
       "| 6         | 14       | 1.000000  | 0.997057     | 17.842394          | 18.264920            | 3.018821      | 3.275606        |"
      ]
     },
     "metadata": {},
     "output_type": "display_data"
    },
    {
     "data": {
      "text/html": [
       "<pre>| 10        | 18       | 1.000000  | 1.437083     | 17.392661          | 17.953992            | 3.003519      | 3.261255        |</pre>"
      ],
      "text/plain": [
       "| 10        | 18       | 1.000000  | 1.437083     | 17.392661          | 17.953992            | 3.003519      | 3.261255        |"
      ]
     },
     "metadata": {},
     "output_type": "display_data"
    },
    {
     "data": {
      "text/html": [
       "<pre>| 11        | 19       | 1.000000  | 1.541088     | 17.356951          | 17.512168            | 3.002222      | 3.255243        |</pre>"
      ],
      "text/plain": [
       "| 11        | 19       | 1.000000  | 1.541088     | 17.356951          | 17.512168            | 3.002222      | 3.255243        |"
      ]
     },
     "metadata": {},
     "output_type": "display_data"
    },
    {
     "data": {
      "text/html": [
       "<pre>| 20        | 28       | 1.000000  | 2.442140     | 17.247095          | 17.838724            | 2.995633      | 3.255223        |</pre>"
      ],
      "text/plain": [
       "| 20        | 28       | 1.000000  | 2.442140     | 17.247095          | 17.838724            | 2.995633      | 3.255223        |"
      ]
     },
     "metadata": {},
     "output_type": "display_data"
    },
    {
     "data": {
      "text/html": [
       "<pre>| 30        | 38       | 1.000000  | 3.590206     | 17.301070          | 18.720726            | 2.994953      | 3.257004        |</pre>"
      ],
      "text/plain": [
       "| 30        | 38       | 1.000000  | 3.590206     | 17.301070          | 18.720726            | 2.994953      | 3.257004        |"
      ]
     },
     "metadata": {},
     "output_type": "display_data"
    },
    {
     "data": {
      "text/html": [
       "<pre>| 40        | 48       | 1.000000  | 4.678268     | 17.278442          | 21.720858            | 2.994678      | 3.260014        |</pre>"
      ],
      "text/plain": [
       "| 40        | 48       | 1.000000  | 4.678268     | 17.278442          | 21.720858            | 2.994678      | 3.260014        |"
      ]
     },
     "metadata": {},
     "output_type": "display_data"
    },
    {
     "data": {
      "text/html": [
       "<pre>| 50        | 58       | 1.000000  | 5.837334     | 17.288097          | 22.289371            | 2.994503      | 3.261961        |</pre>"
      ],
      "text/plain": [
       "| 50        | 58       | 1.000000  | 5.837334     | 17.288097          | 22.289371            | 2.994503      | 3.261961        |"
      ]
     },
     "metadata": {},
     "output_type": "display_data"
    },
    {
     "data": {
      "text/html": [
       "<pre>| 51        | 59       | 1.000000  | 5.949341     | 17.285156          | 22.158846            | 2.994492      | 3.262187        |</pre>"
      ],
      "text/plain": [
       "| 51        | 59       | 1.000000  | 5.949341     | 17.285156          | 22.158846            | 2.994492      | 3.262187        |"
      ]
     },
     "metadata": {},
     "output_type": "display_data"
    },
    {
     "data": {
      "text/html": [
       "<pre>| 60        | 68       | 1.000000  | 6.902395     | 17.284969          | 19.991480            | 2.994375      | 3.264163        |</pre>"
      ],
      "text/plain": [
       "| 60        | 68       | 1.000000  | 6.902395     | 17.284969          | 19.991480            | 2.994375      | 3.264163        |"
      ]
     },
     "metadata": {},
     "output_type": "display_data"
    },
    {
     "data": {
      "text/html": [
       "<pre>| 70        | 78       | 1.000000  | 8.026459     | 17.285815          | 20.017761            | 2.994334      | 3.264978        |</pre>"
      ],
      "text/plain": [
       "| 70        | 78       | 1.000000  | 8.026459     | 17.285815          | 20.017761            | 2.994334      | 3.264978        |"
      ]
     },
     "metadata": {},
     "output_type": "display_data"
    },
    {
     "data": {
      "text/html": [
       "<pre>| 80        | 90       | 1.000000  | 9.243529     | 17.284683          | 19.968059            | 2.994315      | 3.265240        |</pre>"
      ],
      "text/plain": [
       "| 80        | 90       | 1.000000  | 9.243529     | 17.284683          | 19.968059            | 2.994315      | 3.265240        |"
      ]
     },
     "metadata": {},
     "output_type": "display_data"
    },
    {
     "data": {
      "text/html": [
       "<pre>| 90        | 100      | 1.000000  | 10.388594    | 17.281619          | 20.559533            | 2.994297      | 3.264813        |</pre>"
      ],
      "text/plain": [
       "| 90        | 100      | 1.000000  | 10.388594    | 17.281619          | 20.559533            | 2.994297      | 3.264813        |"
      ]
     },
     "metadata": {},
     "output_type": "display_data"
    },
    {
     "data": {
      "text/html": [
       "<pre>| 100       | 110      | 1.000000  | 11.578663    | 17.288191          | 20.002165            | 2.994273      | 3.264513        |</pre>"
      ],
      "text/plain": [
       "| 100       | 110      | 1.000000  | 11.578663    | 17.288191          | 20.002165            | 2.994273      | 3.264513        |"
      ]
     },
     "metadata": {},
     "output_type": "display_data"
    },
    {
     "data": {
      "text/html": [
       "<pre>+-----------+----------+-----------+--------------+--------------------+----------------------+---------------+-----------------+</pre>"
      ],
      "text/plain": [
       "+-----------+----------+-----------+--------------+--------------------+----------------------+---------------+-----------------+"
      ]
     },
     "metadata": {},
     "output_type": "display_data"
    },
    {
     "data": {
      "text/html": [
       "<pre>TERMINATED: Iteration limit reached.</pre>"
      ],
      "text/plain": [
       "TERMINATED: Iteration limit reached."
      ]
     },
     "metadata": {},
     "output_type": "display_data"
    },
    {
     "data": {
      "text/html": [
       "<pre>This model may not be optimal. To improve it, consider increasing `max_iterations`.</pre>"
      ],
      "text/plain": [
       "This model may not be optimal. To improve it, consider increasing `max_iterations`."
      ]
     },
     "metadata": {},
     "output_type": "display_data"
    },
    {
     "name": "stdout",
     "output_type": "stream",
     "text": [
      "ALL FEATURES: 3.2645\n"
     ]
    }
   ],
   "source": [
    "train_data,test_data = tmp.random_split(.5,seed=1)\n",
    "\n",
    "LR_model = graphlab.linear_regression.create(train_data, target='ADLOADINGTIME',validation_set=test_data, max_iterations=100,verbose=True)\n",
    "model = LR_model\n",
    "rms = graphlab.evaluation.rmse(test_data['ADLOADINGTIME'],model.predict(test_data))\n",
    "print(\"{}: {:.4f}\".format('ALL FEATURES',rms))"
   ]
  },
  {
   "cell_type": "code",
   "execution_count": 92,
   "metadata": {
    "collapsed": false,
    "scrolled": false
   },
   "outputs": [
    {
     "data": {
      "text/plain": [
       "(array([  9.77000000e+02,   2.62900000e+03,   7.00500000e+03,\n",
       "          1.14380000e+04,   1.39900000e+04,   1.34610000e+04,\n",
       "          1.40080000e+04,   1.18870000e+04,   8.53000000e+03,\n",
       "          6.89400000e+03,   5.32700000e+03,   4.26600000e+03,\n",
       "          3.76400000e+03,   3.18200000e+03,   2.18200000e+03,\n",
       "          1.51100000e+03,   1.09700000e+03,   8.95000000e+02,\n",
       "          4.89000000e+02,   4.44000000e+02,   2.84000000e+02,\n",
       "          3.69000000e+02,   3.24000000e+02,   4.49000000e+02,\n",
       "          2.21000000e+02,   1.17000000e+02,   4.50000000e+01,\n",
       "          5.40000000e+01,   2.40000000e+01,   2.60000000e+01,\n",
       "          1.40000000e+01,   1.20000000e+01,   1.20000000e+01,\n",
       "          5.00000000e+00,   1.00000000e+01]),\n",
       " array([  0. ,   0.5,   1. ,   1.5,   2. ,   2.5,   3. ,   3.5,   4. ,\n",
       "          4.5,   5. ,   5.5,   6. ,   6.5,   7. ,   7.5,   8. ,   8.5,\n",
       "          9. ,   9.5,  10. ,  10.5,  11. ,  11.5,  12. ,  12.5,  13. ,\n",
       "         13.5,  14. ,  14.5,  15. ,  15.5,  16. ,  16.5,  17. ,  17.5]),\n",
       " <a list of 35 Patch objects>)"
      ]
     },
     "execution_count": 92,
     "metadata": {},
     "output_type": "execute_result"
    },
    {
     "data": {
      "image/png": "[encoded data removed]",
      "text/plain": [
       "<matplotlib.figure.Figure at 0x825915f8>"
      ]
     },
     "metadata": {},
     "output_type": "display_data"
    }
   ],
   "source": [
    "plt.hist(test_data['ADLOADINGTIME'],  bins=np.arange(0, int(max(test_data['ADLOADINGTIME'])),0.5),alpha=0.5)\n",
    "test_data_predict = LR_model.predict(test_data)\n",
    "plt.hist(test_data_predict,  bins=np.arange(0, int(max(test_data['ADLOADINGTIME'])),0.5), alpha=0.5)"
   ]
  },
  {
   "cell_type": "code",
   "execution_count": 97,
   "metadata": {
    "collapsed": false
   },
   "outputs": [
    {
     "data": {
      "text/plain": [
       "3.264962651196299"
      ]
     },
     "execution_count": 97,
     "metadata": {},
     "output_type": "execute_result"
    }
   ],
   "source": [
    "graphlab.evaluation.rmse(test_data['ADLOADINGTIME'],LR_model.predict(test_data))"
   ]
  },
  {
   "cell_type": "markdown",
   "metadata": {},
   "source": [
    "##Evaluation using Random Forests"
   ]
  },
  {
   "cell_type": "code",
   "execution_count": 179,
   "metadata": {
    "collapsed": false
   },
   "outputs": [
    {
     "data": {
      "text/html": [
       "<pre>Random forest regression:</pre>"
      ],
      "text/plain": [
       "Random forest regression:"
      ]
     },
     "metadata": {},
     "output_type": "display_data"
    },
    {
     "data": {
      "text/html": [
       "<pre>--------------------------------------------------------</pre>"
      ],
      "text/plain": [
       "--------------------------------------------------------"
      ]
     },
     "metadata": {},
     "output_type": "display_data"
    },
    {
     "data": {
      "text/html": [
       "<pre>Number of examples          : 116524</pre>"
      ],
      "text/plain": [
       "Number of examples          : 116524"
      ]
     },
     "metadata": {},
     "output_type": "display_data"
    },
    {
     "data": {
      "text/html": [
       "<pre>Number of features          : 18</pre>"
      ],
      "text/plain": [
       "Number of features          : 18"
      ]
     },
     "metadata": {},
     "output_type": "display_data"
    },
    {
     "data": {
      "text/html": [
       "<pre>Number of unpacked features : 18</pre>"
      ],
      "text/plain": [
       "Number of unpacked features : 18"
      ]
     },
     "metadata": {},
     "output_type": "display_data"
    },
    {
     "data": {
      "text/html": [
       "<pre>+-----------+--------------+--------------------+---------------+----------------------+-----------------+</pre>"
      ],
      "text/plain": [
       "+-----------+--------------+--------------------+---------------+----------------------+-----------------+"
      ]
     },
     "metadata": {},
     "output_type": "display_data"
    },
    {
     "data": {
      "text/html": [
       "<pre>| Iteration | Elapsed Time | Training-max_error | Training-rmse | Validation-max_error | Validation-rmse |</pre>"
      ],
      "text/plain": [
       "| Iteration | Elapsed Time | Training-max_error | Training-rmse | Validation-max_error | Validation-rmse |"
      ]
     },
     "metadata": {},
     "output_type": "display_data"
    },
    {
     "data": {
      "text/html": [
       "<pre>+-----------+--------------+--------------------+---------------+----------------------+-----------------+</pre>"
      ],
      "text/plain": [
       "+-----------+--------------+--------------------+---------------+----------------------+-----------------+"
      ]
     },
     "metadata": {},
     "output_type": "display_data"
    },
    {
     "data": {
      "text/html": [
       "<pre>| 1         | 1.422081     | 18.122999          | 3.018238      | 17.864000            | 3.643402        |</pre>"
      ],
      "text/plain": [
       "| 1         | 1.422081     | 18.122999          | 3.018238      | 17.864000            | 3.643402        |"
      ]
     },
     "metadata": {},
     "output_type": "display_data"
    },
    {
     "data": {
      "text/html": [
       "<pre>| 2         | 2.736157     | 17.701963          | 2.752370      | 17.828583            | 3.324879        |</pre>"
      ],
      "text/plain": [
       "| 2         | 2.736157     | 17.701963          | 2.752370      | 17.828583            | 3.324879        |"
      ]
     },
     "metadata": {},
     "output_type": "display_data"
    },
    {
     "data": {
      "text/html": [
       "<pre>| 3         | 4.411252     | 16.726635          | 2.628983      | 17.917221            | 3.254141        |</pre>"
      ],
      "text/plain": [
       "| 3         | 4.411252     | 16.726635          | 2.628983      | 17.917221            | 3.254141        |"
      ]
     },
     "metadata": {},
     "output_type": "display_data"
    },
    {
     "data": {
      "text/html": [
       "<pre>| 4         | 5.982342     | 16.722294          | 2.567770      | 17.527250            | 3.218089        |</pre>"
      ],
      "text/plain": [
       "| 4         | 5.982342     | 16.722294          | 2.567770      | 17.527250            | 3.218089        |"
      ]
     },
     "metadata": {},
     "output_type": "display_data"
    },
    {
     "data": {
      "text/html": [
       "<pre>| 5         | 7.440426     | 16.792973          | 2.546544      | 17.551109            | 3.182338        |</pre>"
      ],
      "text/plain": [
       "| 5         | 7.440426     | 16.792973          | 2.546544      | 17.551109            | 3.182338        |"
      ]
     },
     "metadata": {},
     "output_type": "display_data"
    },
    {
     "data": {
      "text/html": [
       "<pre>| 6         | 8.958513     | 16.829338          | 2.522612      | 17.584175            | 3.166701        |</pre>"
      ],
      "text/plain": [
       "| 6         | 8.958513     | 16.829338          | 2.522612      | 17.584175            | 3.166701        |"
      ]
     },
     "metadata": {},
     "output_type": "display_data"
    },
    {
     "data": {
      "text/html": [
       "<pre>| 7         | 10.615607    | 16.853971          | 2.500581      | 17.495115            | 3.155537        |</pre>"
      ],
      "text/plain": [
       "| 7         | 10.615607    | 16.853971          | 2.500581      | 17.495115            | 3.155537        |"
      ]
     },
     "metadata": {},
     "output_type": "display_data"
    },
    {
     "data": {
      "text/html": [
       "<pre>| 8         | 12.285703    | 16.839104          | 2.481401      | 17.552288            | 3.145441        |</pre>"
      ],
      "text/plain": [
       "| 8         | 12.285703    | 16.839104          | 2.481401      | 17.552288            | 3.145441        |"
      ]
     },
     "metadata": {},
     "output_type": "display_data"
    },
    {
     "data": {
      "text/html": [
       "<pre>| 9         | 13.752787    | 16.677233          | 2.471089      | 17.494390            | 3.137892        |</pre>"
      ],
      "text/plain": [
       "| 9         | 13.752787    | 16.677233          | 2.471089      | 17.494390            | 3.137892        |"
      ]
     },
     "metadata": {},
     "output_type": "display_data"
    },
    {
     "data": {
      "text/html": [
       "<pre>| 10        | 15.358879    | 16.663021          | 2.460709      | 17.561802            | 3.132221        |</pre>"
      ],
      "text/plain": [
       "| 10        | 15.358879    | 16.663021          | 2.460709      | 17.561802            | 3.132221        |"
      ]
     },
     "metadata": {},
     "output_type": "display_data"
    },
    {
     "data": {
      "text/html": [
       "<pre>| 11        | 16.985972    | 16.681129          | 2.453058      | 17.494476            | 3.130102        |</pre>"
      ],
      "text/plain": [
       "| 11        | 16.985972    | 16.681129          | 2.453058      | 17.494476            | 3.130102        |"
      ]
     },
     "metadata": {},
     "output_type": "display_data"
    },
    {
     "data": {
      "text/html": [
       "<pre>| 12        | 18.596064    | 16.683794          | 2.447213      | 17.534185            | 3.125413        |</pre>"
      ],
      "text/plain": [
       "| 12        | 18.596064    | 16.683794          | 2.447213      | 17.534185            | 3.125413        |"
      ]
     },
     "metadata": {},
     "output_type": "display_data"
    },
    {
     "data": {
      "text/html": [
       "<pre>| 13        | 20.254159    | 16.100849          | 2.450538      | 17.502274            | 3.119143        |</pre>"
      ],
      "text/plain": [
       "| 13        | 20.254159    | 16.100849          | 2.450538      | 17.502274            | 3.119143        |"
      ]
     },
     "metadata": {},
     "output_type": "display_data"
    },
    {
     "data": {
      "text/html": [
       "<pre>| 14        | 21.694241    | 15.684564          | 2.451077      | 17.519480            | 3.113966        |</pre>"
      ],
      "text/plain": [
       "| 14        | 21.694241    | 15.684564          | 2.451077      | 17.519480            | 3.113966        |"
      ]
     },
     "metadata": {},
     "output_type": "display_data"
    },
    {
     "data": {
      "text/html": [
       "<pre>| 15        | 22.977314    | 15.707900          | 2.458548      | 17.502481            | 3.107342        |</pre>"
      ],
      "text/plain": [
       "| 15        | 22.977314    | 15.707900          | 2.458548      | 17.502481            | 3.107342        |"
      ]
     },
     "metadata": {},
     "output_type": "display_data"
    },
    {
     "data": {
      "text/html": [
       "<pre>| 16        | 24.621408    | 15.719462          | 2.452132      | 17.509501            | 3.106408        |</pre>"
      ],
      "text/plain": [
       "| 16        | 24.621408    | 15.719462          | 2.452132      | 17.509501            | 3.106408        |"
      ]
     },
     "metadata": {},
     "output_type": "display_data"
    },
    {
     "data": {
      "text/html": [
       "<pre>| 17        | 26.165497    | 15.734441          | 2.448692      | 17.484875            | 3.105715        |</pre>"
      ],
      "text/plain": [
       "| 17        | 26.165497    | 15.734441          | 2.448692      | 17.484875            | 3.105715        |"
      ]
     },
     "metadata": {},
     "output_type": "display_data"
    },
    {
     "data": {
      "text/html": [
       "<pre>| 18        | 27.835592    | 15.427544          | 2.445457      | 17.454847            | 3.105400        |</pre>"
      ],
      "text/plain": [
       "| 18        | 27.835592    | 15.427544          | 2.445457      | 17.454847            | 3.105400        |"
      ]
     },
     "metadata": {},
     "output_type": "display_data"
    },
    {
     "data": {
      "text/html": [
       "<pre>| 19        | 29.459685    | 15.432894          | 2.442490      | 17.419001            | 3.104491        |</pre>"
      ],
      "text/plain": [
       "| 19        | 29.459685    | 15.432894          | 2.442490      | 17.419001            | 3.104491        |"
      ]
     },
     "metadata": {},
     "output_type": "display_data"
    },
    {
     "data": {
      "text/html": [
       "<pre>| 20        | 31.005774    | 15.450750          | 2.440558      | 17.456476            | 3.103307        |</pre>"
      ],
      "text/plain": [
       "| 20        | 31.005774    | 15.450750          | 2.440558      | 17.456476            | 3.103307        |"
      ]
     },
     "metadata": {},
     "output_type": "display_data"
    },
    {
     "data": {
      "text/html": [
       "<pre>+-----------+--------------+--------------------+---------------+----------------------+-----------------+</pre>"
      ],
      "text/plain": [
       "+-----------+--------------+--------------------+---------------+----------------------+-----------------+"
      ]
     },
     "metadata": {},
     "output_type": "display_data"
    }
   ],
   "source": [
    "train_data,test_data = data.random_split(.5,seed=1)\n",
    "RF_model = graphlab.random_forest_regression.create(train_data, target='ADLOADINGTIME',validation_set=test_data,\n",
    "                                           max_iterations=20,\n",
    "                                           max_depth =  50, row_subsample=0.5, random_seed=1)"
   ]
  },
  {
   "cell_type": "code",
   "execution_count": 161,
   "metadata": {
    "collapsed": false
   },
   "outputs": [
    {
     "data": {
      "text/plain": [
       "['ADLOADINGTIME',\n",
       " 'PLACEMENTID',\n",
       " 'TIMESTAMP',\n",
       " 'INTENDEDDEVICETYPE',\n",
       " 'ACTUALDEVICETYPE',\n",
       " 'CREATIVETYPE',\n",
       " 'UA_HARDWARETYPE',\n",
       " 'UA_VENDOR',\n",
       " 'UA_MODEL',\n",
       " 'UA_BROWSER',\n",
       " 'UA_BROWSERVERSION',\n",
       " 'UA_BROWSERRENDERINGENGINE',\n",
       " 'FILESJSON',\n",
       " 'ERRORSJSON',\n",
       " 'TOPMOSTREACHABLEWINDOWAREA',\n",
       " 'FILESJSON_SIZE',\n",
       " 'COMBINEDID',\n",
       " 'COMBINEDEXTERNALID',\n",
       " 'PLATFORMCOMBINED',\n",
       " 'UA_OSCOMB',\n",
       " 'INTENDENTISACTUALDEVICETYPE']"
      ]
     },
     "execution_count": 161,
     "metadata": {},
     "output_type": "execute_result"
    }
   ],
   "source": [
    "data.column_names()"
   ]
  },
  {
   "cell_type": "code",
   "execution_count": 172,
   "metadata": {
    "collapsed": false,
    "scrolled": false
   },
   "outputs": [
    {
     "data": {
      "image/png": "[encoded data removed]",
      "text/plain": [
       "<matplotlib.figure.Figure at 0x9aa545f8>"
      ]
     },
     "metadata": {},
     "output_type": "display_data"
    }
   ],
   "source": [
    "plt.hist(test_data['ADLOADINGTIME'],  bins=np.arange(0, int(max(test_data['ADLOADINGTIME'])),0.1),alpha=0.5);\n",
    "test_data_predict = RF_model.predict(test_data)\n",
    "plt.hist(test_data_predict,  bins=np.arange(0, int(max(test_data['ADLOADINGTIME'])),0.1), alpha=0.5);"
   ]
  },
  {
   "cell_type": "markdown",
   "metadata": {},
   "source": [
    "####Error distribution"
   ]
  },
  {
   "cell_type": "code",
   "execution_count": 114,
   "metadata": {
    "collapsed": false,
    "scrolled": false
   },
   "outputs": [
    {
     "data": {
      "text/plain": [
       "(array([ 25274.,  24746.,  18692.,  11771.,   7688.,   5436.,   4232.,\n",
       "          3292.,   2349.,   1816.,   1552.]),\n",
       " array([ 0. ,  0.5,  1. ,  1.5,  2. ,  2.5,  3. ,  3.5,  4. ,  4.5,  5. ,\n",
       "         5.5]),\n",
       " <a list of 11 Patch objects>)"
      ]
     },
     "execution_count": 114,
     "metadata": {},
     "output_type": "execute_result"
    },
    {
     "data": {
      "image/png": "[encoded data removed]",
      "text/plain": [
       "<matplotlib.figure.Figure at 0x78027be0>"
      ]
     },
     "metadata": {},
     "output_type": "display_data"
    }
   ],
   "source": [
    "test_data_predict = RF_model.predict(test_data)\n",
    "\n",
    "#test_data['ADLOADINGTIME']\n",
    "\n",
    "pred_error = np.abs(test_data['ADLOADINGTIME']-test_data_predict)\n",
    "plt.hist(pred_error,  bins=np.arange(0, 6,0.5), alpha=0.5)"
   ]
  },
  {
   "cell_type": "code",
   "execution_count": 210,
   "metadata": {
    "collapsed": true
   },
   "outputs": [],
   "source": [
    "[histvals, histbins] = np.histogram(test_data['ADLOADINGTIME'], bins=np.arange(0, np.ceil(max(test_data['ADLOADINGTIME'])),0.5))\n",
    "minToBin = histbins-np.tile(np.array(test_data['ADLOADINGTIME']),(len(histbins),1)).transpose()\n",
    "minToBinIdx = np.argmin(np.abs(minToBin),axis=1)\n",
    "\n",
    "pred_error_loc = np.zeros_like(histbins)\n",
    "pred_error_loc_n = np.zeros_like(histbins)\n",
    "for i in range(len(minToBinIdx)):\n",
    "    pred_error_loc[minToBinIdx[i]] += pred_error[i]\n",
    "    pred_error_loc_n[minToBinIdx[i]] += 1"
   ]
  },
  {
   "cell_type": "code",
   "execution_count": 211,
   "metadata": {
    "collapsed": false,
    "scrolled": true
   },
   "outputs": [
    {
     "data": {
      "text/plain": [
       "array([  1.80727235,   1.3656214 ,   1.31241438,   1.22604653,\n",
       "         1.16086831,   1.18021638,   1.24068854,   1.38792183,\n",
       "         1.48763828,   1.62319369,   1.72230676,   1.89625418,\n",
       "         2.09762499,   2.33268414,   2.5250171 ,   2.84204889,\n",
       "         3.13240864,   3.4395743 ,   3.80150081,   4.25481851,\n",
       "         4.33970616,   4.81648892,   5.21751055,   5.50947954,\n",
       "         5.95859795,   6.21604543,   6.84784047,   7.39212076,\n",
       "         8.03045983,   8.57986475,   8.93725218,   9.43006671,\n",
       "         9.83246991,  10.54978905,  10.8886015 ,  11.39100219,\n",
       "        11.68420187,  12.2618772 ])"
      ]
     },
     "execution_count": 211,
     "metadata": {},
     "output_type": "execute_result"
    }
   ],
   "source": [
    "pred_error_loc/pred_error_loc_n\n",
    "plt.plot(histbins, pred_error_loc/pred_error_loc_n)"
   ]
  },
  {
   "cell_type": "markdown",
   "metadata": {},
   "source": [
    "**Results** Larger times are badly detected!"
   ]
  },
  {
   "cell_type": "markdown",
   "metadata": {},
   "source": [
    "##Data balancment"
   ]
  },
  {
   "cell_type": "code",
   "execution_count": 29,
   "metadata": {
    "collapsed": false
   },
   "outputs": [],
   "source": [
    "dataE = data[0:1]\n",
    "\n",
    "[histvals, histbins] = np.histogram(data['ADLOADINGTIME'], bins=np.arange(0, np.ceil(max(data['ADLOADINGTIME'])),0.5))\n",
    "minToBin = histbins-np.tile(np.array(data['ADLOADINGTIME']),(len(histbins),1)).transpose()\n",
    "minToBinIdx = np.argmin(np.abs(minToBin),axis=1)\n",
    "\n",
    "totalEntriesPerBin = 10000\n",
    "\n",
    "for i in range(16):\n",
    "    sel = np.array(minToBinIdx==i)\n",
    "    subData = data[graphlab.SArray(sel)]\n",
    "    \n",
    "    dataE = dataE.append(subData)\n",
    "    \n",
    "for i in range(16, len(histvals)):\n",
    "#for i in range(len(histvals)):\n",
    "    diff = histvals[i]-totalEntriesPerBin\n",
    "    sel = np.array(minToBinIdx==i)\n",
    "    subData = data[graphlab.SArray(sel)]\n",
    "    \n",
    "    if diff > 0:\n",
    "        #dataE = dataE.append(subData[0:totalEntriesPerBin])\n",
    "        dataE = dataE.append(subData)\n",
    "    else:\n",
    "        if histvals[i]>0:\n",
    "            diff = -totalEntriesPerBin\n",
    "            while diff <0:\n",
    "                if histvals[i]+diff>0:\n",
    "                    dataE = dataE.append(subData[0:np.abs(diff)+1])\n",
    "                    diff = 0\n",
    "                else:\n",
    "                    dataE = dataE.append(subData)\n",
    "                    diff += histvals[i]"
   ]
  },
  {
   "cell_type": "code",
   "execution_count": null,
   "metadata": {
    "collapsed": false,
    "scrolled": true
   },
   "outputs": [
    {
     "data": {
      "image/png": "[encoded data removed]",
      "text/plain": [
       "<matplotlib.figure.Figure at 0x808e1208>"
      ]
     },
     "metadata": {},
     "output_type": "display_data"
    }
   ],
   "source": [
    "plt.hist(dataE['ADLOADINGTIME'],  bins=np.arange(0, int(max(dataE['ADLOADINGTIME'])),0.5),alpha=0.5);"
   ]
  },
  {
   "cell_type": "code",
   "execution_count": 24,
   "metadata": {
    "collapsed": true
   },
   "outputs": [],
   "source": [
    "data,test_data = data.random_split(.5,seed=1)"
   ]
  },
  {
   "cell_type": "code",
   "execution_count": null,
   "metadata": {
    "collapsed": false,
    "scrolled": false
   },
   "outputs": [],
   "source": [
    "#train_data,test_data = data.random_split(.5,seed=1)\n",
    "RF_model = graphlab.random_forest_regression.create(dataE, target='ADLOADINGTIME',validation_set=test_data,\n",
    "                                           max_iterations=20,\n",
    "                                           max_depth =  50, row_subsample=0.5, random_seed=1)"
   ]
  },
  {
   "cell_type": "code",
   "execution_count": null,
   "metadata": {
    "collapsed": false
   },
   "outputs": [],
   "source": [
    "dataE[0:1]"
   ]
  },
  {
   "cell_type": "code",
   "execution_count": 25,
   "metadata": {
    "collapsed": false
   },
   "outputs": [
    {
     "data": {
      "image/png": "[encoded data removed]",
      "text/plain": [
       "<matplotlib.figure.Figure at 0x1261a8fd0>"
      ]
     },
     "metadata": {},
     "output_type": "display_data"
    }
   ],
   "source": [
    "test_data_predict = RF_model.predict(test_data)\n",
    "\n",
    "#test_data['ADLOADINGTIME']\n",
    "\n",
    "pred_error = np.abs(test_data['ADLOADINGTIME']-test_data_predict)\n",
    "plt.hist(pred_error,  bins=np.arange(0, 6,0.5), alpha=0.5)\n",
    "\n",
    "[histvals, histbins] = np.histogram(test_data['ADLOADINGTIME'], bins=np.arange(0, np.ceil(max(test_data['ADLOADINGTIME'])),0.5))\n",
    "minToBin = histbins-np.tile(np.array(test_data['ADLOADINGTIME']),(len(histbins),1)).transpose()\n",
    "minToBinIdx = np.argmin(np.abs(minToBin),axis=1)\n",
    "\n",
    "pred_error_loc = np.zeros_like(histbins)\n",
    "pred_error_loc_n = np.zeros_like(histbins)\n",
    "for i in range(len(minToBinIdx)):\n",
    "    pred_error_loc[minToBinIdx[i]] += pred_error[i]\n",
    "    pred_error_loc_n[minToBinIdx[i]] += 1"
   ]
  },
  {
   "cell_type": "code",
   "execution_count": 26,
   "metadata": {
    "collapsed": false
   },
   "outputs": [
    {
     "data": {
      "text/plain": [
       "[<matplotlib.lines.Line2D at 0x125d4d630>]"
      ]
     },
     "execution_count": 26,
     "metadata": {},
     "output_type": "execute_result"
    },
    {
     "data": {
      "image/png": "[encoded data removed]",
      "text/plain": [
       "<matplotlib.figure.Figure at 0x126268e10>"
      ]
     },
     "metadata": {},
     "output_type": "display_data"
    }
   ],
   "source": [
    "plt.plot(histbins, pred_error_loc/pred_error_loc_n)"
   ]
  },
  {
   "cell_type": "code",
   "execution_count": 21,
   "metadata": {
    "collapsed": false
   },
   "outputs": [
    {
     "data": {
      "text/plain": [
       "[<matplotlib.lines.Line2D at 0x36547b00>]"
      ]
     },
     "execution_count": 21,
     "metadata": {},
     "output_type": "execute_result"
    },
    {
     "data": {
      "image/png": "[encoded data removed]",
      "text/plain": [
       "<matplotlib.figure.Figure at 0x369212e8>"
      ]
     },
     "metadata": {},
     "output_type": "display_data"
    }
   ],
   "source": [
    "plt.plot(histbins, pred_error_loc/pred_error_loc_n)"
   ]
  },
  {
   "cell_type": "code",
   "execution_count": 22,
   "metadata": {
    "collapsed": false,
    "scrolled": true
   },
   "outputs": [
    {
     "name": "stdout",
     "output_type": "stream",
     "text": [
      "ALL FEATURES: 3.3250\n"
     ]
    }
   ],
   "source": [
    "rms = graphlab.evaluation.rmse(test_data['ADLOADINGTIME'],RF_model.predict(test_data))\n",
    "print(\"{}: {:.4f}\".format('ALL FEATURES',rms))"
   ]
  },
  {
   "cell_type": "markdown",
   "metadata": {
    "collapsed": true
   },
   "source": [
    "##Split prediction to two models: lower and upper times"
   ]
  },
  {
   "cell_type": "code",
   "execution_count": 61,
   "metadata": {
    "collapsed": false
   },
   "outputs": [
    {
     "data": {
      "image/png": "[encoded data removed]",
      "text/plain": [
       "<matplotlib.figure.Figure at 0x825b55c0>"
      ]
     },
     "metadata": {},
     "output_type": "display_data"
    }
   ],
   "source": [
    "tmp = data.groupby(key_columns='PLACEMENTID',\n",
    "    operations={'ADLOADINGTIME_MEDIAN': graphlab.aggregate.QUANTILE('ADLOADINGTIME',0.5),'ADLOADINGTIME_STD': graphlab.aggregate.STD('ADLOADINGTIME')})\n",
    "\n",
    "plt.hist(np.array(tmp['ADLOADINGTIME_MEDIAN']).flatten(),  bins=np.arange(0, 25,0.5),alpha=0.5);"
   ]
  },
  {
   "cell_type": "code",
   "execution_count": 66,
   "metadata": {
    "collapsed": false,
    "scrolled": false
   },
   "outputs": [
    {
     "data": {
      "image/png": "[encoded data removed]",
      "text/plain": [
       "<matplotlib.figure.Figure at 0x82696748>"
      ]
     },
     "metadata": {},
     "output_type": "display_data"
    }
   ],
   "source": [
    "for f in ['COMBINEDID','PLACEMENTID','FILESJSON',]:\n",
    "    tmp = data.groupby(key_columns=f,\n",
    "        operations={'ADLOADINGTIME_MEAN': graphlab.aggregate.MEAN('ADLOADINGTIME')})\n",
    "\n",
    "    plt.hist(np.array(tmp['ADLOADINGTIME_MEAN']).flatten(),  bins=np.arange(0, 25,0.5),alpha=0.5);"
   ]
  },
  {
   "cell_type": "code",
   "execution_count": 76,
   "metadata": {
    "collapsed": false
   },
   "outputs": [
    {
     "data": {
      "image/png": "[encoded data removed]",
      "text/plain": [
       "<matplotlib.figure.Figure at 0x82c913c8>"
      ]
     },
     "metadata": {},
     "output_type": "display_data"
    }
   ],
   "source": [
    "for f in ['PLATFORMCOMBINED','UA_BROWSER']:\n",
    "    tmp = data.groupby(key_columns=f,\n",
    "        operations={'ADLOADINGTIME_MEAN': graphlab.aggregate.MEAN('ADLOADINGTIME')})\n",
    "\n",
    "    plt.hist(np.array(tmp['ADLOADINGTIME_MEAN']).flatten(),  bins=np.arange(0, 25,0.5),alpha=0.5);"
   ]
  },
  {
   "cell_type": "code",
   "execution_count": null,
   "metadata": {
    "collapsed": true
   },
   "outputs": [],
   "source": [
    "'UA_VENDOR','UA_MODEL','UA_BROWSERVERSION','PLATFORMCOMBINED','UA_BROWSER','COMBINEDID','PLACEMENTID','FILESJSON'"
   ]
  },
  {
   "cell_type": "code",
   "execution_count": 30,
   "metadata": {
    "collapsed": false
   },
   "outputs": [
    {
     "data": {
      "image/png": "[encoded data removed]",
      "text/plain": [
       "<matplotlib.figure.Figure at 0x849604a8>"
      ]
     },
     "metadata": {},
     "output_type": "display_data"
    }
   ],
   "source": [
    "data['GROUPDIVIDER'] = data['COMBINEDID'] + data['PLACEMENTID'] + data['PLATFORMCOMBINED'] + data['FILESJSON']+data['UA_VENDOR'] + data['UA_MODEL'] + data['UA_BROWSER'] + data['UA_BROWSERVERSION']\n",
    "groupdivider = data.groupby(key_columns='GROUPDIVIDER',\n",
    "    operations={'ADLOADINGTIME_MEDIAN': graphlab.aggregate.QUANTILE('ADLOADINGTIME',0.5),'ADLOADINGTIME_STD': graphlab.aggregate.STD('ADLOADINGTIME')})\n",
    "groupdivider['ADLOADINGTIME_MEDIAN'] = np.array(groupdivider['ADLOADINGTIME_MEDIAN']).flatten()\n",
    "\n",
    "plt.hist(np.array(groupdivider['ADLOADINGTIME_MEDIAN']).flatten(),  bins=np.arange(0, np.ceil(max(groupdivider['ADLOADINGTIME_MEDIAN'])),0.5),alpha=0.5);"
   ]
  },
  {
   "cell_type": "code",
   "execution_count": 157,
   "metadata": {
    "collapsed": false,
    "scrolled": false
   },
   "outputs": [
    {
     "data": {
      "image/png": "[encoded data removed]",
      "text/plain": [
       "<matplotlib.figure.Figure at 0x15f34eef0>"
      ]
     },
     "metadata": {},
     "output_type": "display_data"
    }
   ],
   "source": [
    "data['GROUPDIVIDER'] = data['COMBINEDID'] + data['PLACEMENTID']  + data['FILESJSON']\n",
    "groupdivider = data.groupby(key_columns='GROUPDIVIDER',\n",
    "    operations={'ADLOADINGTIME_MEDIAN': graphlab.aggregate.QUANTILE('ADLOADINGTIME',0.5),'ADLOADINGTIME_STD': graphlab.aggregate.STD('ADLOADINGTIME')})\n",
    "groupdivider['ADLOADINGTIME_MEDIAN'] = np.array(tmp['ADLOADINGTIME_MEDIAN']).flatten()\n",
    "\n",
    "plt.hist(np.array(tmp['ADLOADINGTIME_MEDIAN']).flatten(),  bins=np.arange(0, np.ceil(max(tmp['ADLOADINGTIME_MEDIAN'])),0.5),alpha=0.5);"
   ]
  },
  {
   "cell_type": "code",
   "execution_count": 31,
   "metadata": {
    "collapsed": false
   },
   "outputs": [],
   "source": [
    "groupdivider=groupdivider[groupdivider['ADLOADINGTIME_MEDIAN']>8]\n",
    "data['GROUPDIVIDER']\n",
    "groupdivider = graphlab.SArray.to_numpy(groupdivider['GROUPDIVIDER'])"
   ]
  },
  {
   "cell_type": "code",
   "execution_count": 32,
   "metadata": {
    "collapsed": false
   },
   "outputs": [],
   "source": [
    "data['GROUPDIVIDER_LOGICAL'] = data['GROUPDIVIDER'].apply(lambda x : x in groupdivider)\n",
    "data1 = data[data['GROUPDIVIDER_LOGICAL'] == False]\n",
    "data2 = data[data['GROUPDIVIDER_LOGICAL'] == True]"
   ]
  },
  {
   "cell_type": "code",
   "execution_count": 33,
   "metadata": {
    "collapsed": true
   },
   "outputs": [],
   "source": [
    "data.remove_columns(['GROUPDIVIDER', 'GROUPDIVIDER_LOGICAL'])\n",
    "dataCut1train, dataCut1test = data1.random_split(.5,seed=1)\n",
    "dataCut2train, dataCut2test = data2.random_split(.5,seed=1)\n"
   ]
  },
  {
   "cell_type": "code",
   "execution_count": 34,
   "metadata": {
    "collapsed": true
   },
   "outputs": [],
   "source": [
    "dataCut1train = dataCut1train[dataCut1train['ADLOADINGTIME']<18.7]\n",
    "dataCut2train = dataCut2train[dataCut2train['ADLOADINGTIME']<18.7]\n",
    "dataCut1test = dataCut1test[dataCut1test['ADLOADINGTIME']<18.7]\n",
    "dataCut2test = dataCut2test[dataCut2test['ADLOADINGTIME']<18.7]"
   ]
  },
  {
   "cell_type": "code",
   "execution_count": 23,
   "metadata": {
    "collapsed": false,
    "scrolled": true
   },
   "outputs": [
    {
     "data": {
      "text/html": [
       "<pre>WARNING: Detected extremely low variance for feature(s) 'GROUPDIVIDER_LOGICAL' because all entries are nearly the same.\n",
       "Proceeding with model training using all features. If the model does not provide results of adequate quality, exclude the above mentioned feature(s) from the input dataset.</pre>"
      ],
      "text/plain": [
       "WARNING: Detected extremely low variance for feature(s) 'GROUPDIVIDER_LOGICAL' because all entries are nearly the same.\n",
       "Proceeding with model training using all features. If the model does not provide results of adequate quality, exclude the above mentioned feature(s) from the input dataset."
      ]
     },
     "metadata": {},
     "output_type": "display_data"
    },
    {
     "data": {
      "text/html": [
       "<pre>Linear regression:</pre>"
      ],
      "text/plain": [
       "Linear regression:"
      ]
     },
     "metadata": {},
     "output_type": "display_data"
    },
    {
     "data": {
      "text/html": [
       "<pre>--------------------------------------------------------</pre>"
      ],
      "text/plain": [
       "--------------------------------------------------------"
      ]
     },
     "metadata": {},
     "output_type": "display_data"
    },
    {
     "data": {
      "text/html": [
       "<pre>Number of examples          : 102055</pre>"
      ],
      "text/plain": [
       "Number of examples          : 102055"
      ]
     },
     "metadata": {},
     "output_type": "display_data"
    },
    {
     "data": {
      "text/html": [
       "<pre>Number of features          : 22</pre>"
      ],
      "text/plain": [
       "Number of features          : 22"
      ]
     },
     "metadata": {},
     "output_type": "display_data"
    },
    {
     "data": {
      "text/html": [
       "<pre>Number of unpacked features : 22</pre>"
      ],
      "text/plain": [
       "Number of unpacked features : 22"
      ]
     },
     "metadata": {},
     "output_type": "display_data"
    },
    {
     "data": {
      "text/html": [
       "<pre>Number of coefficients    : 48076</pre>"
      ],
      "text/plain": [
       "Number of coefficients    : 48076"
      ]
     },
     "metadata": {},
     "output_type": "display_data"
    },
    {
     "data": {
      "text/html": [
       "<pre>Starting Accelerated Gradient (FISTA)</pre>"
      ],
      "text/plain": [
       "Starting Accelerated Gradient (FISTA)"
      ]
     },
     "metadata": {},
     "output_type": "display_data"
    },
    {
     "data": {
      "text/html": [
       "<pre>--------------------------------------------------------</pre>"
      ],
      "text/plain": [
       "--------------------------------------------------------"
      ]
     },
     "metadata": {},
     "output_type": "display_data"
    },
    {
     "data": {
      "text/html": [
       "<pre>+-----------+----------+-----------+--------------+--------------------+----------------------+---------------+-----------------+</pre>"
      ],
      "text/plain": [
       "+-----------+----------+-----------+--------------+--------------------+----------------------+---------------+-----------------+"
      ]
     },
     "metadata": {},
     "output_type": "display_data"
    },
    {
     "data": {
      "text/html": [
       "<pre>| Iteration | Passes   | Step size | Elapsed Time | Training-max_error | Validation-max_error | Training-rmse | Validation-rmse |</pre>"
      ],
      "text/plain": [
       "| Iteration | Passes   | Step size | Elapsed Time | Training-max_error | Validation-max_error | Training-rmse | Validation-rmse |"
      ]
     },
     "metadata": {},
     "output_type": "display_data"
    },
    {
     "data": {
      "text/html": [
       "<pre>+-----------+----------+-----------+--------------+--------------------+----------------------+---------------+-----------------+</pre>"
      ],
      "text/plain": [
       "+-----------+----------+-----------+--------------+--------------------+----------------------+---------------+-----------------+"
      ]
     },
     "metadata": {},
     "output_type": "display_data"
    },
    {
     "data": {
      "text/html": [
       "<pre>Tuning step size. First iteration could take longer than subsequent iterations.</pre>"
      ],
      "text/plain": [
       "Tuning step size. First iteration could take longer than subsequent iterations."
      ]
     },
     "metadata": {},
     "output_type": "display_data"
    },
    {
     "data": {
      "text/html": [
       "<pre>| 1         | 2        | 0.000000  | 2.426138     | 16.907385          | 17.149706            | 2.626332      | 2.676119        |</pre>"
      ],
      "text/plain": [
       "| 1         | 2        | 0.000000  | 2.426138     | 16.907385          | 17.149706            | 2.626332      | 2.676119        |"
      ]
     },
     "metadata": {},
     "output_type": "display_data"
    },
    {
     "data": {
      "text/html": [
       "<pre>| 2         | 3        | 0.000000  | 2.633150     | 16.608286          | 17.038367            | 2.523948      | 2.613446        |</pre>"
      ],
      "text/plain": [
       "| 2         | 3        | 0.000000  | 2.633150     | 16.608286          | 17.038367            | 2.523948      | 2.613446        |"
      ]
     },
     "metadata": {},
     "output_type": "display_data"
    },
    {
     "data": {
      "text/html": [
       "<pre>| 3         | 4        | 0.000000  | 2.838162     | 16.580231          | 17.034180            | 2.445783      | 2.584500        |</pre>"
      ],
      "text/plain": [
       "| 3         | 4        | 0.000000  | 2.838162     | 16.580231          | 17.034180            | 2.445783      | 2.584500        |"
      ]
     },
     "metadata": {},
     "output_type": "display_data"
    },
    {
     "data": {
      "text/html": [
       "<pre>| 4         | 5        | 0.000000  | 3.048174     | 16.585083          | 17.052601            | 2.378428      | 2.570567        |</pre>"
      ],
      "text/plain": [
       "| 4         | 5        | 0.000000  | 3.048174     | 16.585083          | 17.052601            | 2.378428      | 2.570567        |"
      ]
     },
     "metadata": {},
     "output_type": "display_data"
    },
    {
     "data": {
      "text/html": [
       "<pre>| 5         | 6        | 0.000000  | 3.263186     | 16.635147          | 17.061331            | 2.320409      | 2.566928        |</pre>"
      ],
      "text/plain": [
       "| 5         | 6        | 0.000000  | 3.263186     | 16.635147          | 17.061331            | 2.320409      | 2.566928        |"
      ]
     },
     "metadata": {},
     "output_type": "display_data"
    },
    {
     "data": {
      "text/html": [
       "<pre>| 6         | 7        | 0.000000  | 3.499200     | 16.728395          | 17.205034            | 2.271277      | 2.571038        |</pre>"
      ],
      "text/plain": [
       "| 6         | 7        | 0.000000  | 3.499200     | 16.728395          | 17.205034            | 2.271277      | 2.571038        |"
      ]
     },
     "metadata": {},
     "output_type": "display_data"
    },
    {
     "data": {
      "text/html": [
       "<pre>| 10        | 11       | 0.000000  | 4.339248     | 16.967817          | 17.694719            | 2.155702      | 2.632996        |</pre>"
      ],
      "text/plain": [
       "| 10        | 11       | 0.000000  | 4.339248     | 16.967817          | 17.694719            | 2.155702      | 2.632996        |"
      ]
     },
     "metadata": {},
     "output_type": "display_data"
    },
    {
     "data": {
      "text/html": [
       "<pre>| 11        | 12       | 0.000000  | 4.576261     | 16.996050          | 17.782061            | 2.143220      | 2.653200        |</pre>"
      ],
      "text/plain": [
       "| 11        | 12       | 0.000000  | 4.576261     | 16.996050          | 17.782061            | 2.143220      | 2.653200        |"
      ]
     },
     "metadata": {},
     "output_type": "display_data"
    },
    {
     "data": {
      "text/html": [
       "<pre>+-----------+----------+-----------+--------------+--------------------+----------------------+---------------+-----------------+</pre>"
      ],
      "text/plain": [
       "+-----------+----------+-----------+--------------+--------------------+----------------------+---------------+-----------------+"
      ]
     },
     "metadata": {},
     "output_type": "display_data"
    },
    {
     "data": {
      "text/html": [
       "<pre>SUCCESS: Optimal solution found.</pre>"
      ],
      "text/plain": [
       "SUCCESS: Optimal solution found."
      ]
     },
     "metadata": {},
     "output_type": "display_data"
    },
    {
     "data": {
      "text/html": [
       "<pre></pre>"
      ],
      "text/plain": []
     },
     "metadata": {},
     "output_type": "display_data"
    },
    {
     "data": {
      "text/html": [
       "<pre>WARNING: The number of feature dimensions in this problem is very large in comparison with the number of examples. Unless an appropriate regularization value is set, this model may not provide accurate predictions for a validation/test set.</pre>"
      ],
      "text/plain": [
       "WARNING: The number of feature dimensions in this problem is very large in comparison with the number of examples. Unless an appropriate regularization value is set, this model may not provide accurate predictions for a validation/test set."
      ]
     },
     "metadata": {},
     "output_type": "display_data"
    },
    {
     "data": {
      "text/html": [
       "<pre>WARNING: Detected extremely low variance for feature(s) 'GROUPDIVIDER_LOGICAL' because all entries are nearly the same.\n",
       "Proceeding with model training using all features. If the model does not provide results of adequate quality, exclude the above mentioned feature(s) from the input dataset.</pre>"
      ],
      "text/plain": [
       "WARNING: Detected extremely low variance for feature(s) 'GROUPDIVIDER_LOGICAL' because all entries are nearly the same.\n",
       "Proceeding with model training using all features. If the model does not provide results of adequate quality, exclude the above mentioned feature(s) from the input dataset."
      ]
     },
     "metadata": {},
     "output_type": "display_data"
    },
    {
     "data": {
      "text/html": [
       "<pre>Linear regression:</pre>"
      ],
      "text/plain": [
       "Linear regression:"
      ]
     },
     "metadata": {},
     "output_type": "display_data"
    },
    {
     "data": {
      "text/html": [
       "<pre>--------------------------------------------------------</pre>"
      ],
      "text/plain": [
       "--------------------------------------------------------"
      ]
     },
     "metadata": {},
     "output_type": "display_data"
    },
    {
     "data": {
      "text/html": [
       "<pre>Number of examples          : 14596</pre>"
      ],
      "text/plain": [
       "Number of examples          : 14596"
      ]
     },
     "metadata": {},
     "output_type": "display_data"
    },
    {
     "data": {
      "text/html": [
       "<pre>Number of features          : 22</pre>"
      ],
      "text/plain": [
       "Number of features          : 22"
      ]
     },
     "metadata": {},
     "output_type": "display_data"
    },
    {
     "data": {
      "text/html": [
       "<pre>Number of unpacked features : 22</pre>"
      ],
      "text/plain": [
       "Number of unpacked features : 22"
      ]
     },
     "metadata": {},
     "output_type": "display_data"
    },
    {
     "data": {
      "text/html": [
       "<pre>Number of coefficients    : 15829</pre>"
      ],
      "text/plain": [
       "Number of coefficients    : 15829"
      ]
     },
     "metadata": {},
     "output_type": "display_data"
    },
    {
     "data": {
      "text/html": [
       "<pre>Starting Accelerated Gradient (FISTA)</pre>"
      ],
      "text/plain": [
       "Starting Accelerated Gradient (FISTA)"
      ]
     },
     "metadata": {},
     "output_type": "display_data"
    },
    {
     "data": {
      "text/html": [
       "<pre>--------------------------------------------------------</pre>"
      ],
      "text/plain": [
       "--------------------------------------------------------"
      ]
     },
     "metadata": {},
     "output_type": "display_data"
    },
    {
     "data": {
      "text/html": [
       "<pre>+-----------+----------+-----------+--------------+--------------------+----------------------+---------------+-----------------+</pre>"
      ],
      "text/plain": [
       "+-----------+----------+-----------+--------------+--------------------+----------------------+---------------+-----------------+"
      ]
     },
     "metadata": {},
     "output_type": "display_data"
    },
    {
     "data": {
      "text/html": [
       "<pre>| Iteration | Passes   | Step size | Elapsed Time | Training-max_error | Validation-max_error | Training-rmse | Validation-rmse |</pre>"
      ],
      "text/plain": [
       "| Iteration | Passes   | Step size | Elapsed Time | Training-max_error | Validation-max_error | Training-rmse | Validation-rmse |"
      ]
     },
     "metadata": {},
     "output_type": "display_data"
    },
    {
     "data": {
      "text/html": [
       "<pre>+-----------+----------+-----------+--------------+--------------------+----------------------+---------------+-----------------+</pre>"
      ],
      "text/plain": [
       "+-----------+----------+-----------+--------------+--------------------+----------------------+---------------+-----------------+"
      ]
     },
     "metadata": {},
     "output_type": "display_data"
    },
    {
     "data": {
      "text/html": [
       "<pre>Tuning step size. First iteration could take longer than subsequent iterations.</pre>"
      ],
      "text/plain": [
       "Tuning step size. First iteration could take longer than subsequent iterations."
      ]
     },
     "metadata": {},
     "output_type": "display_data"
    },
    {
     "data": {
      "text/html": [
       "<pre>| 1         | 2        | 0.000002  | 0.485028     | 13.436371          | 14.157954            | 4.848498      | 5.290267        |</pre>"
      ],
      "text/plain": [
       "| 1         | 2        | 0.000002  | 0.485028     | 13.436371          | 14.157954            | 4.848498      | 5.290267        |"
      ]
     },
     "metadata": {},
     "output_type": "display_data"
    },
    {
     "data": {
      "text/html": [
       "<pre>| 2         | 3        | 0.000002  | 0.528031     | 11.520316          | 13.077381            | 3.998137      | 4.572410        |</pre>"
      ],
      "text/plain": [
       "| 2         | 3        | 0.000002  | 0.528031     | 11.520316          | 13.077381            | 3.998137      | 4.572410        |"
      ]
     },
     "metadata": {},
     "output_type": "display_data"
    },
    {
     "data": {
      "text/html": [
       "<pre>| 3         | 4        | 0.000002  | 0.573033     | 11.128049          | 12.718574            | 3.681140      | 4.407818        |</pre>"
      ],
      "text/plain": [
       "| 3         | 4        | 0.000002  | 0.573033     | 11.128049          | 12.718574            | 3.681140      | 4.407818        |"
      ]
     },
     "metadata": {},
     "output_type": "display_data"
    },
    {
     "data": {
      "text/html": [
       "<pre>| 4         | 5        | 0.000002  | 0.620036     | 11.485599          | 13.555567            | 3.455524      | 4.373945        |</pre>"
      ],
      "text/plain": [
       "| 4         | 5        | 0.000002  | 0.620036     | 11.485599          | 13.555567            | 3.455524      | 4.373945        |"
      ]
     },
     "metadata": {},
     "output_type": "display_data"
    },
    {
     "data": {
      "text/html": [
       "<pre>| 5         | 6        | 0.000002  | 0.669039     | 11.899064          | 14.287541            | 3.255046      | 4.380460        |</pre>"
      ],
      "text/plain": [
       "| 5         | 6        | 0.000002  | 0.669039     | 11.899064          | 14.287541            | 3.255046      | 4.380460        |"
      ]
     },
     "metadata": {},
     "output_type": "display_data"
    },
    {
     "data": {
      "text/html": [
       "<pre>| 6         | 7        | 0.000002  | 0.715041     | 12.255851          | 14.976129            | 3.072819      | 4.403754        |</pre>"
      ],
      "text/plain": [
       "| 6         | 7        | 0.000002  | 0.715041     | 12.255851          | 14.976129            | 3.072819      | 4.403754        |"
      ]
     },
     "metadata": {},
     "output_type": "display_data"
    },
    {
     "data": {
      "text/html": [
       "<pre>| 11        | 12       | 0.000002  | 0.921053     | 13.311475          | 17.418002            | 2.477832      | 4.602750        |</pre>"
      ],
      "text/plain": [
       "| 11        | 12       | 0.000002  | 0.921053     | 13.311475          | 17.418002            | 2.477832      | 4.602750        |"
      ]
     },
     "metadata": {},
     "output_type": "display_data"
    },
    {
     "data": {
      "text/html": [
       "<pre>| 25        | 26       | 0.000002  | 1.441083     | 13.773678          | 20.889831            | 2.261938      | 4.879402        |</pre>"
      ],
      "text/plain": [
       "| 25        | 26       | 0.000002  | 1.441083     | 13.773678          | 20.889831            | 2.261938      | 4.879402        |"
      ]
     },
     "metadata": {},
     "output_type": "display_data"
    },
    {
     "data": {
      "text/html": [
       "<pre>+-----------+----------+-----------+--------------+--------------------+----------------------+---------------+-----------------+</pre>"
      ],
      "text/plain": [
       "+-----------+----------+-----------+--------------+--------------------+----------------------+---------------+-----------------+"
      ]
     },
     "metadata": {},
     "output_type": "display_data"
    },
    {
     "data": {
      "text/html": [
       "<pre>SUCCESS: Optimal solution found.</pre>"
      ],
      "text/plain": [
       "SUCCESS: Optimal solution found."
      ]
     },
     "metadata": {},
     "output_type": "display_data"
    },
    {
     "data": {
      "text/html": [
       "<pre></pre>"
      ],
      "text/plain": []
     },
     "metadata": {},
     "output_type": "display_data"
    }
   ],
   "source": [
    "LR_model1 = graphlab.linear_regression.create(dataCut1train, target='ADLOADINGTIME',validation_set=dataCut1test, max_iterations=100, verbose=True, solver='fista')\n",
    "LR_model2 = graphlab.linear_regression.create(dataCut2train, target='ADLOADINGTIME',validation_set=dataCut2test, max_iterations=100, verbose=True, solver='fista')"
   ]
  },
  {
   "cell_type": "code",
   "execution_count": 24,
   "metadata": {
    "collapsed": false
   },
   "outputs": [
    {
     "name": "stdout",
     "output_type": "stream",
     "text": [
      "2.69124942086\n",
      "4.90523158358\n",
      "3.05334648425\n"
     ]
    }
   ],
   "source": [
    "pred1 = LR_model1.predict(dataCut1test)\n",
    "pred2 = LR_model2.predict(dataCut2test)\n",
    "print(graphlab.evaluation.rmse(dataCut1test['ADLOADINGTIME'],pred1))\n",
    "print(graphlab.evaluation.rmse(dataCut2test['ADLOADINGTIME'],pred2))\n",
    "      \n",
    "testFinal = pred1.append(pred2)\n",
    "print(graphlab.evaluation.rmse(dataCut1test['ADLOADINGTIME'].append(dataCut2test['ADLOADINGTIME']),testFinal))"
   ]
  },
  {
   "cell_type": "code",
   "execution_count": 35,
   "metadata": {
    "collapsed": false
   },
   "outputs": [
    {
     "data": {
      "image/png": "[encoded data removed]",
      "text/plain": [
       "<matplotlib.figure.Figure at 0x83096940>"
      ]
     },
     "metadata": {},
     "output_type": "display_data"
    }
   ],
   "source": [
    "plt.hist(dataCut1test['ADLOADINGTIME'],  bins=np.arange(0, int(max(dataCut1test['ADLOADINGTIME'])),0.2),alpha=0.5);\n",
    "test_data_predict = LR_model1.predict(dataCut1test)\n",
    "plt.hist(test_data_predict,  bins=np.arange(0, int(max(dataCut1test['ADLOADINGTIME'])),0.2), alpha=0.5);"
   ]
  },
  {
   "cell_type": "code",
   "execution_count": 135,
   "metadata": {
    "collapsed": false
   },
   "outputs": [
    {
     "data": {
      "image/png": "[encoded data removed]",
      "text/plain": [
       "<matplotlib.figure.Figure at 0xe21fdcc0>"
      ]
     },
     "metadata": {},
     "output_type": "display_data"
    }
   ],
   "source": [
    "plt.hist(dataCut2test['ADLOADINGTIME'],  bins=np.arange(0, int(max(dataCut2test['ADLOADINGTIME'])),0.2),alpha=0.5);\n",
    "test_data_predict = LR_model2.predict(dataCut2test)\n",
    "plt.hist(test_data_predict,  bins=np.arange(0, int(max(dataCut2test['ADLOADINGTIME'])),0.2), alpha=0.5);"
   ]
  },
  {
   "cell_type": "code",
   "execution_count": 36,
   "metadata": {
    "collapsed": false,
    "scrolled": false
   },
   "outputs": [
    {
     "data": {
      "text/html": [
       "<pre>WARNING: Detected extremely low variance for feature(s) 'GROUPDIVIDER_LOGICAL' because all entries are nearly the same.\n",
       "Proceeding with model training using all features. If the model does not provide results of adequate quality, exclude the above mentioned feature(s) from the input dataset.</pre>"
      ],
      "text/plain": [
       "WARNING: Detected extremely low variance for feature(s) 'GROUPDIVIDER_LOGICAL' because all entries are nearly the same.\n",
       "Proceeding with model training using all features. If the model does not provide results of adequate quality, exclude the above mentioned feature(s) from the input dataset."
      ]
     },
     "metadata": {},
     "output_type": "display_data"
    },
    {
     "data": {
      "text/html": [
       "<pre>Random forest regression:</pre>"
      ],
      "text/plain": [
       "Random forest regression:"
      ]
     },
     "metadata": {},
     "output_type": "display_data"
    },
    {
     "data": {
      "text/html": [
       "<pre>--------------------------------------------------------</pre>"
      ],
      "text/plain": [
       "--------------------------------------------------------"
      ]
     },
     "metadata": {},
     "output_type": "display_data"
    },
    {
     "data": {
      "text/html": [
       "<pre>Number of examples          : 104675</pre>"
      ],
      "text/plain": [
       "Number of examples          : 104675"
      ]
     },
     "metadata": {},
     "output_type": "display_data"
    },
    {
     "data": {
      "text/html": [
       "<pre>Number of features          : 22</pre>"
      ],
      "text/plain": [
       "Number of features          : 22"
      ]
     },
     "metadata": {},
     "output_type": "display_data"
    },
    {
     "data": {
      "text/html": [
       "<pre>Number of unpacked features : 22</pre>"
      ],
      "text/plain": [
       "Number of unpacked features : 22"
      ]
     },
     "metadata": {},
     "output_type": "display_data"
    },
    {
     "data": {
      "text/html": [
       "<pre>+-----------+--------------+--------------------+---------------+----------------------+-----------------+</pre>"
      ],
      "text/plain": [
       "+-----------+--------------+--------------------+---------------+----------------------+-----------------+"
      ]
     },
     "metadata": {},
     "output_type": "display_data"
    },
    {
     "data": {
      "text/html": [
       "<pre>| Iteration | Elapsed Time | Training-max_error | Training-rmse | Validation-max_error | Validation-rmse |</pre>"
      ],
      "text/plain": [
       "| Iteration | Elapsed Time | Training-max_error | Training-rmse | Validation-max_error | Validation-rmse |"
      ]
     },
     "metadata": {},
     "output_type": "display_data"
    },
    {
     "data": {
      "text/html": [
       "<pre>+-----------+--------------+--------------------+---------------+----------------------+-----------------+</pre>"
      ],
      "text/plain": [
       "+-----------+--------------+--------------------+---------------+----------------------+-----------------+"
      ]
     },
     "metadata": {},
     "output_type": "display_data"
    },
    {
     "data": {
      "text/html": [
       "<pre>| 1         | 2.708155     | 17.760000          | 2.512983      | 17.605499            | 2.902737        |</pre>"
      ],
      "text/plain": [
       "| 1         | 2.708155     | 17.760000          | 2.512983      | 17.605499            | 2.902737        |"
      ]
     },
     "metadata": {},
     "output_type": "display_data"
    },
    {
     "data": {
      "text/html": [
       "<pre>| 2         | 5.787331     | 17.386250          | 2.293522      | 17.366167            | 2.748652        |</pre>"
      ],
      "text/plain": [
       "| 2         | 5.787331     | 17.386250          | 2.293522      | 17.366167            | 2.748652        |"
      ]
     },
     "metadata": {},
     "output_type": "display_data"
    },
    {
     "data": {
      "text/html": [
       "<pre>| 3         | 7.945454     | 17.475166          | 2.244307      | 16.999012            | 2.663157        |</pre>"
      ],
      "text/plain": [
       "| 3         | 7.945454     | 17.475166          | 2.244307      | 16.999012            | 2.663157        |"
      ]
     },
     "metadata": {},
     "output_type": "display_data"
    },
    {
     "data": {
      "text/html": [
       "<pre>| 4         | 11.186640    | 16.853661          | 2.197841      | 17.170279            | 2.638825        |</pre>"
      ],
      "text/plain": [
       "| 4         | 11.186640    | 16.853661          | 2.197841      | 17.170279            | 2.638825        |"
      ]
     },
     "metadata": {},
     "output_type": "display_data"
    },
    {
     "data": {
      "text/html": [
       "<pre>| 5         | 14.085805    | 16.881750          | 2.173033      | 17.158583            | 2.622050        |</pre>"
      ],
      "text/plain": [
       "| 5         | 14.085805    | 16.881750          | 2.173033      | 17.158583            | 2.622050        |"
      ]
     },
     "metadata": {},
     "output_type": "display_data"
    },
    {
     "data": {
      "text/html": [
       "<pre>| 6         | 17.143980    | 16.781830          | 2.152983      | 17.053867            | 2.610922        |</pre>"
      ],
      "text/plain": [
       "| 6         | 17.143980    | 16.781830          | 2.152983      | 17.053867            | 2.610922        |"
      ]
     },
     "metadata": {},
     "output_type": "display_data"
    },
    {
     "data": {
      "text/html": [
       "<pre>| 7         | 20.043146    | 16.711281          | 2.142576      | 17.030731            | 2.604029        |</pre>"
      ],
      "text/plain": [
       "| 7         | 20.043146    | 16.711281          | 2.142576      | 17.030731            | 2.604029        |"
      ]
     },
     "metadata": {},
     "output_type": "display_data"
    },
    {
     "data": {
      "text/html": [
       "<pre>| 8         | 23.219328    | 16.302317          | 2.130976      | 17.131910            | 2.596956        |</pre>"
      ],
      "text/plain": [
       "| 8         | 23.219328    | 16.302317          | 2.130976      | 17.131910            | 2.596956        |"
      ]
     },
     "metadata": {},
     "output_type": "display_data"
    },
    {
     "data": {
      "text/html": [
       "<pre>| 9         | 25.693469    | 16.291615          | 2.132618      | 17.132753            | 2.590405        |</pre>"
      ],
      "text/plain": [
       "| 9         | 25.693469    | 16.291615          | 2.132618      | 17.132753            | 2.590405        |"
      ]
     },
     "metadata": {},
     "output_type": "display_data"
    },
    {
     "data": {
      "text/html": [
       "<pre>| 10        | 28.270617    | 16.269194          | 2.131503      | 17.089596            | 2.585802        |</pre>"
      ],
      "text/plain": [
       "| 10        | 28.270617    | 16.269194          | 2.131503      | 17.089596            | 2.585802        |"
      ]
     },
     "metadata": {},
     "output_type": "display_data"
    },
    {
     "data": {
      "text/html": [
       "<pre>| 11        | 30.712756    | 16.260521          | 2.134023      | 17.044395            | 2.578988        |</pre>"
      ],
      "text/plain": [
       "| 11        | 30.712756    | 16.260521          | 2.134023      | 17.044395            | 2.578988        |"
      ]
     },
     "metadata": {},
     "output_type": "display_data"
    },
    {
     "data": {
      "text/html": [
       "<pre>| 12        | 33.305905    | 16.250105          | 2.136009      | 17.045340            | 2.577374        |</pre>"
      ],
      "text/plain": [
       "| 12        | 33.305905    | 16.250105          | 2.136009      | 17.045340            | 2.577374        |"
      ]
     },
     "metadata": {},
     "output_type": "display_data"
    },
    {
     "data": {
      "text/html": [
       "<pre>| 13        | 36.281075    | 16.275871          | 2.129787      | 17.001801            | 2.576644        |</pre>"
      ],
      "text/plain": [
       "| 13        | 36.281075    | 16.275871          | 2.129787      | 17.001801            | 2.576644        |"
      ]
     },
     "metadata": {},
     "output_type": "display_data"
    },
    {
     "data": {
      "text/html": [
       "<pre>| 14        | 39.452256    | 15.880025          | 2.121662      | 17.048691            | 2.575539        |</pre>"
      ],
      "text/plain": [
       "| 14        | 39.452256    | 15.880025          | 2.121662      | 17.048691            | 2.575539        |"
      ]
     },
     "metadata": {},
     "output_type": "display_data"
    },
    {
     "data": {
      "text/html": [
       "<pre>| 15        | 42.464429    | 16.009933          | 2.115747      | 17.008194            | 2.574479        |</pre>"
      ],
      "text/plain": [
       "| 15        | 42.464429    | 16.009933          | 2.115747      | 17.008194            | 2.574479        |"
      ]
     },
     "metadata": {},
     "output_type": "display_data"
    },
    {
     "data": {
      "text/html": [
       "<pre>| 16        | 45.674612    | 15.571314          | 2.110360      | 17.022228            | 2.573631        |</pre>"
      ],
      "text/plain": [
       "| 16        | 45.674612    | 15.571314          | 2.110360      | 17.022228            | 2.573631        |"
      ]
     },
     "metadata": {},
     "output_type": "display_data"
    },
    {
     "data": {
      "text/html": [
       "<pre>| 17        | 48.303763    | 15.603245          | 2.109923      | 16.980274            | 2.570976        |</pre>"
      ],
      "text/plain": [
       "| 17        | 48.303763    | 15.603245          | 2.109923      | 16.980274            | 2.570976        |"
      ]
     },
     "metadata": {},
     "output_type": "display_data"
    },
    {
     "data": {
      "text/html": [
       "<pre>| 18        | 50.631896    | 15.692157          | 2.112714      | 16.992147            | 2.568521        |</pre>"
      ],
      "text/plain": [
       "| 18        | 50.631896    | 15.692157          | 2.112714      | 16.992147            | 2.568521        |"
      ]
     },
     "metadata": {},
     "output_type": "display_data"
    },
    {
     "data": {
      "text/html": [
       "<pre>| 19        | 53.302049    | 15.757780          | 2.114469      | 16.921322            | 2.566855        |</pre>"
      ],
      "text/plain": [
       "| 19        | 53.302049    | 15.757780          | 2.114469      | 16.921322            | 2.566855        |"
      ]
     },
     "metadata": {},
     "output_type": "display_data"
    },
    {
     "data": {
      "text/html": [
       "<pre>| 20        | 56.262218    | 15.794964          | 2.110921      | 16.914885            | 2.565497        |</pre>"
      ],
      "text/plain": [
       "| 20        | 56.262218    | 15.794964          | 2.110921      | 16.914885            | 2.565497        |"
      ]
     },
     "metadata": {},
     "output_type": "display_data"
    },
    {
     "data": {
      "text/html": [
       "<pre>+-----------+--------------+--------------------+---------------+----------------------+-----------------+</pre>"
      ],
      "text/plain": [
       "+-----------+--------------+--------------------+---------------+----------------------+-----------------+"
      ]
     },
     "metadata": {},
     "output_type": "display_data"
    }
   ],
   "source": [
    "RF_model1 = graphlab.random_forest_regression.create(dataCut1train, target='ADLOADINGTIME',validation_set=dataCut1test,\n",
    "                                           max_iterations=20,\n",
    "                                           max_depth =  50, row_subsample=0.5, random_seed=1)"
   ]
  },
  {
   "cell_type": "code",
   "execution_count": 37,
   "metadata": {
    "collapsed": false,
    "scrolled": true
   },
   "outputs": [
    {
     "data": {
      "text/html": [
       "<pre>WARNING: The number of feature dimensions in this problem is very large in comparison with the number of examples. Unless an appropriate regularization value is set, this model may not provide accurate predictions for a validation/test set.</pre>"
      ],
      "text/plain": [
       "WARNING: The number of feature dimensions in this problem is very large in comparison with the number of examples. Unless an appropriate regularization value is set, this model may not provide accurate predictions for a validation/test set."
      ]
     },
     "metadata": {},
     "output_type": "display_data"
    },
    {
     "data": {
      "text/html": [
       "<pre>WARNING: Detected extremely low variance for feature(s) 'GROUPDIVIDER_LOGICAL' because all entries are nearly the same.\n",
       "Proceeding with model training using all features. If the model does not provide results of adequate quality, exclude the above mentioned feature(s) from the input dataset.</pre>"
      ],
      "text/plain": [
       "WARNING: Detected extremely low variance for feature(s) 'GROUPDIVIDER_LOGICAL' because all entries are nearly the same.\n",
       "Proceeding with model training using all features. If the model does not provide results of adequate quality, exclude the above mentioned feature(s) from the input dataset."
      ]
     },
     "metadata": {},
     "output_type": "display_data"
    },
    {
     "data": {
      "text/html": [
       "<pre>Random forest regression:</pre>"
      ],
      "text/plain": [
       "Random forest regression:"
      ]
     },
     "metadata": {},
     "output_type": "display_data"
    },
    {
     "data": {
      "text/html": [
       "<pre>--------------------------------------------------------</pre>"
      ],
      "text/plain": [
       "--------------------------------------------------------"
      ]
     },
     "metadata": {},
     "output_type": "display_data"
    },
    {
     "data": {
      "text/html": [
       "<pre>Number of examples          : 11917</pre>"
      ],
      "text/plain": [
       "Number of examples          : 11917"
      ]
     },
     "metadata": {},
     "output_type": "display_data"
    },
    {
     "data": {
      "text/html": [
       "<pre>Number of features          : 22</pre>"
      ],
      "text/plain": [
       "Number of features          : 22"
      ]
     },
     "metadata": {},
     "output_type": "display_data"
    },
    {
     "data": {
      "text/html": [
       "<pre>Number of unpacked features : 22</pre>"
      ],
      "text/plain": [
       "Number of unpacked features : 22"
      ]
     },
     "metadata": {},
     "output_type": "display_data"
    },
    {
     "data": {
      "text/html": [
       "<pre>+-----------+--------------+--------------------+---------------+----------------------+-----------------+</pre>"
      ],
      "text/plain": [
       "+-----------+--------------+--------------------+---------------+----------------------+-----------------+"
      ]
     },
     "metadata": {},
     "output_type": "display_data"
    },
    {
     "data": {
      "text/html": [
       "<pre>| Iteration | Elapsed Time | Training-max_error | Training-rmse | Validation-max_error | Validation-rmse |</pre>"
      ],
      "text/plain": [
       "| Iteration | Elapsed Time | Training-max_error | Training-rmse | Validation-max_error | Validation-rmse |"
      ]
     },
     "metadata": {},
     "output_type": "display_data"
    },
    {
     "data": {
      "text/html": [
       "<pre>+-----------+--------------+--------------------+---------------+----------------------+-----------------+</pre>"
      ],
      "text/plain": [
       "+-----------+--------------+--------------------+---------------+----------------------+-----------------+"
      ]
     },
     "metadata": {},
     "output_type": "display_data"
    },
    {
     "data": {
      "text/html": [
       "<pre>| 1         | 0.267016     | 17.151333          | 3.980833      | 17.617001            | 4.692649        |</pre>"
      ],
      "text/plain": [
       "| 1         | 0.267016     | 17.151333          | 3.980833      | 17.617001            | 4.692649        |"
      ]
     },
     "metadata": {},
     "output_type": "display_data"
    },
    {
     "data": {
      "text/html": [
       "<pre>| 2         | 0.506029     | 14.262667          | 3.639329      | 17.318333            | 4.462216        |</pre>"
      ],
      "text/plain": [
       "| 2         | 0.506029     | 14.262667          | 3.639329      | 17.318333            | 4.462216        |"
      ]
     },
     "metadata": {},
     "output_type": "display_data"
    },
    {
     "data": {
      "text/html": [
       "<pre>| 3         | 0.741043     | 14.275021          | 3.530604      | 17.314888            | 4.369804        |</pre>"
      ],
      "text/plain": [
       "| 3         | 0.741043     | 14.275021          | 3.530604      | 17.314888            | 4.369804        |"
      ]
     },
     "metadata": {},
     "output_type": "display_data"
    },
    {
     "data": {
      "text/html": [
       "<pre>| 4         | 0.986057     | 13.607147          | 3.451920      | 17.318333            | 4.325181        |</pre>"
      ],
      "text/plain": [
       "| 4         | 0.986057     | 13.607147          | 3.451920      | 17.318333            | 4.325181        |"
      ]
     },
     "metadata": {},
     "output_type": "display_data"
    },
    {
     "data": {
      "text/html": [
       "<pre>| 5         | 1.230071     | 13.816278          | 3.433239      | 17.316267            | 4.287280        |</pre>"
      ],
      "text/plain": [
       "| 5         | 1.230071     | 13.816278          | 3.433239      | 17.316267            | 4.287280        |"
      ]
     },
     "metadata": {},
     "output_type": "display_data"
    },
    {
     "data": {
      "text/html": [
       "<pre>| 6         | 1.493086     | 14.128733          | 3.390232      | 17.303972            | 4.269917        |</pre>"
      ],
      "text/plain": [
       "| 6         | 1.493086     | 14.128733          | 3.390232      | 17.303972            | 4.269917        |"
      ]
     },
     "metadata": {},
     "output_type": "display_data"
    },
    {
     "data": {
      "text/html": [
       "<pre>| 10        | 2.500143     | 13.361681          | 3.323706      | 16.379873            | 4.228616        |</pre>"
      ],
      "text/plain": [
       "| 10        | 2.500143     | 13.361681          | 3.323706      | 16.379873            | 4.228616        |"
      ]
     },
     "metadata": {},
     "output_type": "display_data"
    },
    {
     "data": {
      "text/html": [
       "<pre>| 11        | 2.752158     | 12.797817          | 3.310189      | 16.466127            | 4.224926        |</pre>"
      ],
      "text/plain": [
       "| 11        | 2.752158     | 12.797817          | 3.310189      | 16.466127            | 4.224926        |"
      ]
     },
     "metadata": {},
     "output_type": "display_data"
    },
    {
     "data": {
      "text/html": [
       "<pre>| 15        | 3.764216     | 13.420606          | 3.289249      | 15.978630            | 4.207051        |</pre>"
      ],
      "text/plain": [
       "| 15        | 3.764216     | 13.420606          | 3.289249      | 15.978630            | 4.207051        |"
      ]
     },
     "metadata": {},
     "output_type": "display_data"
    },
    {
     "data": {
      "text/html": [
       "<pre>| 20        | 5.035288     | 12.427284          | 3.286034      | 14.949943            | 4.204785        |</pre>"
      ],
      "text/plain": [
       "| 20        | 5.035288     | 12.427284          | 3.286034      | 14.949943            | 4.204785        |"
      ]
     },
     "metadata": {},
     "output_type": "display_data"
    },
    {
     "data": {
      "text/html": [
       "<pre>+-----------+--------------+--------------------+---------------+----------------------+-----------------+</pre>"
      ],
      "text/plain": [
       "+-----------+--------------+--------------------+---------------+----------------------+-----------------+"
      ]
     },
     "metadata": {},
     "output_type": "display_data"
    }
   ],
   "source": [
    "RF_model2 = graphlab.random_forest_regression.create(dataCut2train, target='ADLOADINGTIME',validation_set=dataCut2test,\n",
    "                                           max_iterations=20,\n",
    "                                           max_depth =  100, row_subsample=0.5, random_seed=1)"
   ]
  },
  {
   "cell_type": "code",
   "execution_count": 39,
   "metadata": {
    "collapsed": false
   },
   "outputs": [
    {
     "name": "stdout",
     "output_type": "stream",
     "text": [
      "2.56549679472\n",
      "4.20478495188\n",
      "2.77736364955\n"
     ]
    }
   ],
   "source": [
    "pred1 = RF_model1.predict(dataCut1test)\n",
    "pred2 = RF_model2.predict(dataCut2test)\n",
    "print(graphlab.evaluation.rmse(dataCut1test['ADLOADINGTIME'],pred1))\n",
    "print(graphlab.evaluation.rmse(dataCut2test['ADLOADINGTIME'],pred2))\n",
    "      \n",
    "testFinal = pred1.append(pred2)\n",
    "print(graphlab.evaluation.rmse(dataCut1test['ADLOADINGTIME'].append(dataCut2test['ADLOADINGTIME']),testFinal))"
   ]
  },
  {
   "cell_type": "code",
   "execution_count": 13,
   "metadata": {
    "collapsed": false,
    "scrolled": true
   },
   "outputs": [
    {
     "data": {
      "image/png": "[encoded data removed]",
      "text/plain": [
       "<matplotlib.figure.Figure at 0x1cc0cbe0>"
      ]
     },
     "metadata": {},
     "output_type": "display_data"
    }
   ],
   "source": [
    "plt.hist(dataCut1test['ADLOADINGTIME'],  bins=np.arange(0, int(max(dataCut1test['ADLOADINGTIME'])),0.2),alpha=0.5);\n",
    "test_data_predict = RF_model1.predict(dataCut1test)\n",
    "plt.hist(test_data_predict,  bins=np.arange(0, int(max(dataCut1test['ADLOADINGTIME'])),0.2), alpha=0.5);"
   ]
  },
  {
   "cell_type": "code",
   "execution_count": 14,
   "metadata": {
    "collapsed": false
   },
   "outputs": [
    {
     "data": {
      "image/png": "[encoded data removed]",
      "text/plain": [
       "<matplotlib.figure.Figure at 0x82521a90>"
      ]
     },
     "metadata": {},
     "output_type": "display_data"
    }
   ],
   "source": [
    "plt.hist(dataCut2test['ADLOADINGTIME'],  bins=np.arange(0, int(max(dataCut2test['ADLOADINGTIME'])),0.2),alpha=0.5);\n",
    "test_data_predict = RF_model2.predict(dataCut2test)\n",
    "plt.hist(test_data_predict,  bins=np.arange(0, int(max(dataCut2test['ADLOADINGTIME'])),0.2), alpha=0.5);"
   ]
  },
  {
   "cell_type": "code",
   "execution_count": 40,
   "metadata": {
    "collapsed": false
   },
   "outputs": [
    {
     "data": {
      "text/plain": [
       "[<matplotlib.lines.Line2D at 0x87e189e8>]"
      ]
     },
     "execution_count": 40,
     "metadata": {},
     "output_type": "execute_result"
    },
    {
     "data": {
      "image/png": "[encoded data removed]",
      "text/plain": [
       "<matplotlib.figure.Figure at 0x1cc0c128>"
      ]
     },
     "metadata": {},
     "output_type": "display_data"
    }
   ],
   "source": [
    "test_data_predict = RF_model2.predict(dataCut2test)\n",
    "\n",
    "#test_data['ADLOADINGTIME']\n",
    "\n",
    "pred_error = np.abs(dataCut2test['ADLOADINGTIME']-test_data_predict)\n",
    "\n",
    "[histvals, histbins] = np.histogram(dataCut2test['ADLOADINGTIME'], bins=np.arange(0, np.ceil(max(dataCut2test['ADLOADINGTIME'])),0.5))\n",
    "minToBin = histbins-np.tile(np.array(dataCut2test['ADLOADINGTIME']),(len(histbins),1)).transpose()\n",
    "minToBinIdx = np.argmin(np.abs(minToBin),axis=1)\n",
    "\n",
    "pred_error_loc = np.zeros_like(histbins)\n",
    "pred_error_loc_n = np.zeros_like(histbins)\n",
    "for i in range(len(minToBinIdx)):\n",
    "    pred_error_loc[minToBinIdx[i]] += pred_error[i]\n",
    "    pred_error_loc_n[minToBinIdx[i]] += 1\n",
    "    \n",
    "plt.plot(histbins, pred_error_loc/pred_error_loc_n)\n",
    "pred_error_loc1 = pred_error_loc\n",
    "pred_error_loc_n1 = pred_error_loc_n\n",
    "test_data_predict = RF_model1.predict(dataCut1test)\n",
    "\n",
    "#test_data['ADLOADINGTIME']\n",
    "\n",
    "pred_error = np.abs(dataCut1test['ADLOADINGTIME']-test_data_predict)\n",
    "\n",
    "[histvals, histbins] = np.histogram(dataCut1test['ADLOADINGTIME'], bins=np.arange(0, np.ceil(max(dataCut1test['ADLOADINGTIME'])),0.5))\n",
    "minToBin = histbins-np.tile(np.array(dataCut1test['ADLOADINGTIME']),(len(histbins),1)).transpose()\n",
    "minToBinIdx = np.argmin(np.abs(minToBin),axis=1)\n",
    "\n",
    "pred_error_loc = np.zeros_like(histbins)\n",
    "pred_error_loc_n = np.zeros_like(histbins)\n",
    "for i in range(len(minToBinIdx)):\n",
    "    pred_error_loc[minToBinIdx[i]] += pred_error[i]\n",
    "    pred_error_loc_n[minToBinIdx[i]] += 1\n",
    "    \n",
    "plt.plot(histbins, pred_error_loc/pred_error_loc_n)\n",
    "plt.plot(histbins, (pred_error_loc+pred_error_loc1)/(pred_error_loc_n+pred_error_loc_n1))"
   ]
  },
  {
   "cell_type": "code",
   "execution_count": 217,
   "metadata": {
    "collapsed": false,
    "scrolled": true
   },
   "outputs": [
    {
     "data": {
      "text/plain": [
       "8.928173233270796"
      ]
     },
     "execution_count": 217,
     "metadata": {},
     "output_type": "execute_result"
    }
   ],
   "source": [
    "dataCut2test['ADLOADINGTIME'].mean()"
   ]
  },
  {
   "cell_type": "markdown",
   "metadata": {},
   "source": [
    "##Predicting and saving"
   ]
  },
  {
   "cell_type": "code",
   "execution_count": 86,
   "metadata": {
    "collapsed": true
   },
   "outputs": [
    {
     "data": {
      "text/plain": [
       "(array([  0.00000000e+00,   4.06000000e+02,   3.56300000e+03,\n",
       "          1.53920000e+04,   2.01900000e+04,   1.80360000e+04,\n",
       "          1.26090000e+04,   8.98800000e+03,   6.67200000e+03,\n",
       "          5.46400000e+03,   4.54000000e+03,   3.95500000e+03,\n",
       "          3.23800000e+03,   2.89000000e+03,   2.59000000e+03,\n",
       "          2.14200000e+03,   1.42100000e+03,   1.01800000e+03,\n",
       "          6.89000000e+02,   5.88000000e+02,   6.07000000e+02,\n",
       "          5.46000000e+02,   5.48000000e+02,   4.14000000e+02,\n",
       "          7.30000000e+01,   5.00000000e+00,   0.00000000e+00,\n",
       "          0.00000000e+00,   0.00000000e+00,   0.00000000e+00,\n",
       "          0.00000000e+00,   0.00000000e+00,   0.00000000e+00,\n",
       "          0.00000000e+00,   0.00000000e+00]),\n",
       " array([  0. ,   0.5,   1. ,   1.5,   2. ,   2.5,   3. ,   3.5,   4. ,\n",
       "          4.5,   5. ,   5.5,   6. ,   6.5,   7. ,   7.5,   8. ,   8.5,\n",
       "          9. ,   9.5,  10. ,  10.5,  11. ,  11.5,  12. ,  12.5,  13. ,\n",
       "         13.5,  14. ,  14.5,  15. ,  15.5,  16. ,  16.5,  17. ,  17.5]),\n",
       " <a list of 35 Patch objects>)"
      ]
     },
     "execution_count": 86,
     "metadata": {},
     "output_type": "execute_result"
    },
    {
     "data": {
      "image/png": "[encoded data removed]",
      "text/plain": [
       "<matplotlib.figure.Figure at 0x825b7a90>"
      ]
     },
     "metadata": {},
     "output_type": "display_data"
    }
   ],
   "source": [
    "plt.hist(test_data['ADLOADINGTIME'],  bins=np.arange(0, int(max(test_data['ADLOADINGTIME'])),0.5),alpha=0.5)\n",
    "test_data_predict = RF_model.predict(test_data)\n",
    "plt.hist(test_data_predict,  bins=np.arange(0, int(max(test_data['ADLOADINGTIME'])),0.5), alpha=0.5)"
   ]
  },
  {
   "cell_type": "code",
   "execution_count": 19,
   "metadata": {
    "collapsed": true
   },
   "outputs": [],
   "source": [
    "sqft_model.save('E:\\celtraMiningFrik\\lin_reg_creativeid_perct_97')"
   ]
  },
  {
   "cell_type": "code",
   "execution_count": null,
   "metadata": {
    "collapsed": false
   },
   "outputs": [],
   "source": [
    "sqft_model = graphlab.load_model('E:\\celtraMiningFrik\\lin_reg_creativeid_perct_96')"
   ]
  },
  {
   "cell_type": "code",
   "execution_count": 105,
   "metadata": {
    "collapsed": false
   },
   "outputs": [
    {
     "name": "stdout",
     "output_type": "stream",
     "text": [
      "3.72755946569\n"
     ]
    }
   ],
   "source": [
    "print(graphlab.evaluation.rmse(test_data['ADLOADINGTIME'], graphlab.SArray.from_const(3.90365759806,len(test_data['ADLOADINGTIME']))))"
   ]
  },
  {
   "cell_type": "code",
   "execution_count": 102,
   "metadata": {
    "collapsed": false
   },
   "outputs": [
    {
     "name": "stdout",
     "output_type": "stream",
     "text": [
      "Canvas is accessible via web browser at the URL: http://localhost:59632/index.html\n",
      "Opening Canvas in default web browser.\n"
     ]
    }
   ],
   "source": [
    "train_data.show()"
   ]
  },
  {
   "cell_type": "code",
   "execution_count": null,
   "metadata": {
    "collapsed": true
   },
   "outputs": [],
   "source": [
    "predTimes = sqft_model.predict(sales)"
   ]
  },
  {
   "cell_type": "code",
   "execution_count": null,
   "metadata": {
    "collapsed": false
   },
   "outputs": [],
   "source": [
    "predTimes.save('E:\\celtraMiningFrik\\solution4.tsv', format='csv')"
   ]
  }
 ],
 "metadata": {
  "kernelspec": {
   "display_name": "Python 2",
   "language": "python",
   "name": "python2"
  },
  "language_info": {
   "codemirror_mode": {
    "name": "ipython",
    "version": 2
   },
   "file_extension": ".py",
   "mimetype": "text/x-python",
   "name": "python",
   "nbconvert_exporter": "python",
   "pygments_lexer": "ipython2",
   "version": "2.7.10"
  }
 },
 "nbformat": 4,
 "nbformat_minor": 0
}
