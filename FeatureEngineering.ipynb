{
 "cells": [
  {
   "cell_type": "markdown",
   "metadata": {
    "collapsed": true
   },
   "source": [
    "#Feature Engineering"
   ]
  },
  {
   "cell_type": "code",
   "execution_count": 1,
   "metadata": {
    "collapsed": true
   },
   "outputs": [],
   "source": [
    "import graphlab\n",
    "import numpy as np\n",
    "import matplotlib.pyplot as plt\n",
    "%matplotlib inline"
   ]
  },
  {
   "cell_type": "markdown",
   "metadata": {},
   "source": [
    "##Load celtra data (10% random subsample of the large data)"
   ]
  },
  {
   "cell_type": "code",
   "execution_count": 25,
   "metadata": {
    "collapsed": false,
    "scrolled": false
   },
   "outputs": [
    {
     "data": {
      "text/html": [
       "<pre>Read 69661 lines. Lines per second: 52334.3</pre>"
      ],
      "text/plain": [
       "Read 69661 lines. Lines per second: 52334.3"
      ]
     },
     "metadata": {},
     "output_type": "display_data"
    },
    {
     "data": {
      "text/html": [
       "<pre>Finished parsing file E:\\celtraMiningFrik\\ccdm_mine.csv</pre>"
      ],
      "text/plain": [
       "Finished parsing file E:\\celtraMiningFrik\\ccdm_mine.csv"
      ]
     },
     "metadata": {},
     "output_type": "display_data"
    },
    {
     "data": {
      "text/html": [
       "<pre>Parsing completed. Parsed 245377 lines in 3.70821 secs.</pre>"
      ],
      "text/plain": [
       "Parsing completed. Parsed 245377 lines in 3.70821 secs."
      ]
     },
     "metadata": {},
     "output_type": "display_data"
    }
   ],
   "source": [
    "data = graphlab.SFrame.read_csv('E:\\celtraMiningFrik\\ccdm_mine.csv',column_type_hints=str);"
   ]
  },
  {
   "cell_type": "markdown",
   "metadata": {},
   "source": [
    "##### Convert numeric types from string to int/float"
   ]
  },
  {
   "cell_type": "code",
   "execution_count": 30,
   "metadata": {
    "collapsed": false
   },
   "outputs": [],
   "source": [
    "data['ADLOADINGTIME']=data['ADLOADINGTIME'].astype(float)\n",
    "data['GEOIP_LAT'] = data['GEOIP_LAT'].apply(lambda x: 0 if x=='null' else x)\n",
    "data['GEOIP_LAT']=data['GEOIP_LAT'].astype(float)\n",
    "data['GEOIP_LNG'] = data['GEOIP_LNG'].apply(lambda x: 0 if x=='null' else x)\n",
    "data['GEOIP_LNG']=data['GEOIP_LNG'].astype(float)\n",
    "data['TIMESTAMP']=data['TIMESTAMP'].astype(int)\n",
    "data['HOSTWINDOWHEIGHT'] = data['HOSTWINDOWHEIGHT'].apply(lambda x: 0 if x=='null' else x)\n",
    "data['HOSTWINDOWHEIGHT']=data['HOSTWINDOWHEIGHT'].astype(int)\n",
    "data['HOSTWINDOWWIDTH'] = data['HOSTWINDOWWIDTH'].apply(lambda x: 0 if x=='null' else x)\n",
    "data['HOSTWINDOWWIDTH']=data['HOSTWINDOWWIDTH'].astype(int)\n",
    "data['TOPMOSTREACHABLEWINDOWHEIGHT'] = data['TOPMOSTREACHABLEWINDOWHEIGHT'].apply(lambda x: 0 if x=='null' else x)\n",
    "data['TOPMOSTREACHABLEWINDOWHEIGHT']=data['TOPMOSTREACHABLEWINDOWHEIGHT'].astype(int)\n",
    "data['TOPMOSTREACHABLEWINDOWWIDTH'] = data['TOPMOSTREACHABLEWINDOWWIDTH'].apply(lambda x: 0 if x=='null' else x)\n",
    "data['TOPMOSTREACHABLEWINDOWWIDTH']=data['TOPMOSTREACHABLEWINDOWWIDTH'].astype(int)"
   ]
  },
  {
   "cell_type": "markdown",
   "metadata": {},
   "source": [
    "#####remove EXTERNALCREATIVEID as it is always null"
   ]
  },
  {
   "cell_type": "code",
   "execution_count": 31,
   "metadata": {
    "collapsed": false
   },
   "outputs": [],
   "source": [
    "data.remove_column('EXTERNALCREATIVEID');"
   ]
  },
  {
   "cell_type": "markdown",
   "metadata": {},
   "source": [
    "#####remove NETWORKTYPE as it is mainly null"
   ]
  },
  {
   "cell_type": "code",
   "execution_count": 32,
   "metadata": {
    "collapsed": false
   },
   "outputs": [],
   "source": [
    "data.remove_column('NETWORKTYPE');"
   ]
  },
  {
   "cell_type": "markdown",
   "metadata": {},
   "source": [
    "remove top 5% of ADLOADINGTIME outliers"
   ]
  },
  {
   "cell_type": "code",
   "execution_count": 33,
   "metadata": {
    "collapsed": false
   },
   "outputs": [
    {
     "name": "stdout",
     "output_type": "stream",
     "text": [
      "18.7192\n",
      "3.69722294021\n"
     ]
    }
   ],
   "source": [
    "# 3.7835\n",
    "perct = 95\n",
    "print(np.percentile(data['ADLOADINGTIME'],perct))\n",
    "data = data[data['ADLOADINGTIME']<np.percentile(data['ADLOADINGTIME'],perct)]\n",
    "print(graphlab.evaluation.rmse(data['ADLOADINGTIME'], graphlab.SArray.from_const(data['ADLOADINGTIME'].mean(),len(data['ADLOADINGTIME']))))"
   ]
  },
  {
   "cell_type": "markdown",
   "metadata": {
    "collapsed": false
   },
   "source": [
    "#####show data"
   ]
  },
  {
   "cell_type": "code",
   "execution_count": 5,
   "metadata": {
    "collapsed": false
   },
   "outputs": [
    {
     "name": "stdout",
     "output_type": "stream",
     "text": [
      "Canvas is accessible via web browser at the URL: http://localhost:31720/index.html\n",
      "Opening Canvas in default web browser.\n"
     ]
    }
   ],
   "source": [
    "data.show()"
   ]
  },
  {
   "cell_type": "markdown",
   "metadata": {
    "collapsed": false,
    "scrolled": true
   },
   "source": [
    "##Feature engineering"
   ]
  },
  {
   "cell_type": "markdown",
   "metadata": {},
   "source": [
    "combine TOPMOSTREACHABLEWINDOWHEIGHT and TOPMOSTREACHABLEWINDOWWIDTH by multiplication and computation of the ratio\n",
    "\n",
    "remove data with very large or negative data"
   ]
  },
  {
   "cell_type": "code",
   "execution_count": 48,
   "metadata": {
    "collapsed": false
   },
   "outputs": [],
   "source": [
    "data['TOPMOSTREACHABLEWINDOWAREA'] = data['TOPMOSTREACHABLEWINDOWWIDTH']*data['TOPMOSTREACHABLEWINDOWHEIGHT'];\n",
    "data = data[data['TOPMOSTREACHABLEWINDOWAREA']>=0]\n",
    "data = data[data['TOPMOSTREACHABLEWINDOWAREA']<1e7]"
   ]
  },
  {
   "cell_type": "code",
   "execution_count": 8,
   "metadata": {
    "collapsed": false
   },
   "outputs": [
    {
     "name": "stdout",
     "output_type": "stream",
     "text": [
      "0\n"
     ]
    }
   ],
   "source": [
    "tmp = data[data['TOPMOSTREACHABLEWINDOWAREA']>1e7]\n",
    "print(tmp.num_rows())"
   ]
  },
  {
   "cell_type": "markdown",
   "metadata": {},
   "source": [
    "remove all other scree size data except the area"
   ]
  },
  {
   "cell_type": "code",
   "execution_count": 49,
   "metadata": {
    "collapsed": true
   },
   "outputs": [],
   "source": [
    "data.remove_column('TOPMOSTREACHABLEWINDOWWIDTH');\n",
    "data.remove_column('TOPMOSTREACHABLEWINDOWHEIGHT');\n",
    "data.remove_column('HOSTWINDOWWIDTH');\n",
    "data.remove_column('HOSTWINDOWHEIGHT');"
   ]
  },
  {
   "cell_type": "markdown",
   "metadata": {},
   "source": [
    "remove device orientation as it should not affect loading time"
   ]
  },
  {
   "cell_type": "code",
   "execution_count": 34,
   "metadata": {
    "collapsed": true
   },
   "outputs": [],
   "source": [
    "data.remove_column('DEVICEORIENTATION');"
   ]
  },
  {
   "cell_type": "markdown",
   "metadata": {},
   "source": [
    "UA_MOBILEDEVICE can be assesed from PLATFORM -> remove"
   ]
  },
  {
   "cell_type": "code",
   "execution_count": 35,
   "metadata": {
    "collapsed": true
   },
   "outputs": [],
   "source": [
    "data.remove_column('UA_MOBILEDEVICE');"
   ]
  },
  {
   "cell_type": "markdown",
   "metadata": {},
   "source": [
    " "
   ]
  },
  {
   "cell_type": "code",
   "execution_count": 46,
   "metadata": {
    "collapsed": true
   },
   "outputs": [],
   "source": [
    "data = data[data['TIMESTAMP']>1458500000]\n",
    "data = data[data['TIMESTAMP']<1461000000]"
   ]
  },
  {
   "cell_type": "code",
   "execution_count": 13,
   "metadata": {
    "collapsed": false
   },
   "outputs": [
    {
     "name": "stdout",
     "output_type": "stream",
     "text": [
      "0\n"
     ]
    }
   ],
   "source": [
    "tmp = data[data['TIMESTAMP']<=1458500000]\n",
    "print(tmp.num_rows())"
   ]
  },
  {
   "cell_type": "markdown",
   "metadata": {},
   "source": [
    "GEOIP: to start combine COUNTRY with REGION for USA\n",
    "In my expectation the data is to scarce to have enough entries for exact geolocation and time assignment\n",
    "-> remove DMACODE, METROCODE, TIMEZONE, CITY, AREACODE"
   ]
  },
  {
   "cell_type": "code",
   "execution_count": 36,
   "metadata": {
    "collapsed": false
   },
   "outputs": [],
   "source": [
    "data.remove_column('GEOIP_TIMEZONE');\n",
    "data.remove_column('GEOIP_METROCODE');\n",
    "data.remove_column('GEOIP_AREACODE');\n",
    "data.remove_column('GEOIP_CITY');\n",
    "data.remove_column('GEOIP_DMACODE');"
   ]
  },
  {
   "cell_type": "code",
   "execution_count": 37,
   "metadata": {
    "collapsed": true
   },
   "outputs": [],
   "source": [
    "data['GEOIP_COUNTRY'] = data['GEOIP_COUNTRY'] + '_' + data['GEOIP_REGION'] \n",
    "data['GEOIP_COUNTRY'] = data['GEOIP_COUNTRY'].apply(lambda x: x if 'United States' in x.split('_')[0] else x.split('_')[0])\n",
    "data.remove_column('GEOIP_REGION');"
   ]
  },
  {
   "cell_type": "code",
   "execution_count": 101,
   "metadata": {
    "collapsed": false,
    "scrolled": false
   },
   "outputs": [
    {
     "name": "stdout",
     "output_type": "stream",
     "text": [
      "COMBINEDID: 3.4685\n",
      "COMBINEDID and GEOIP_LAT: 3.4681\n",
      "COMBINEDID and GEOIP_LNG: 3.4684\n",
      "COMBINEDID and GEOIP_LNG and GEOIP_LAT: 3.4680\n"
     ]
    }
   ],
   "source": [
    "train_data,test_data = data.random_split(.5,seed=1)\n",
    "\n",
    "LR_model = graphlab.linear_regression.create(train_data, target='ADLOADINGTIME',features=['COMBINEDID'],validation_set=test_data, max_iterations=100,verbose=False)\n",
    "model = LR_model\n",
    "rms = graphlab.evaluation.rmse(test_data['ADLOADINGTIME'],model.predict(test_data))\n",
    "print(\"{}: {:.4f}\".format('COMBINEDID',rms))\n",
    "#LR_model = graphlab.linear_regression.create(train_data, target='ADLOADINGTIME',features=['COMBINEDID', 'GEOIP_COUNTRY'],validation_set=test_data, max_iterations=100,verbose=False)\n",
    "#model = LR_model\n",
    "#rms = graphlab.evaluation.rmse(test_data['ADLOADINGTIME'],model.predict(test_data))\n",
    "#print(\"{}: {:.4f}\".format('COMBINEDID and GEOIP_COUNTRY',rms))\n",
    "LR_model = graphlab.linear_regression.create(train_data, target='ADLOADINGTIME',features=['COMBINEDID', 'GEOIP_LAT'],validation_set=test_data, max_iterations=100,verbose=False)\n",
    "model = LR_model\n",
    "rms = graphlab.evaluation.rmse(test_data['ADLOADINGTIME'],model.predict(test_data))\n",
    "print(\"{}: {:.4f}\".format('COMBINEDID and GEOIP_LAT',rms))\n",
    "LR_model = graphlab.linear_regression.create(train_data, target='ADLOADINGTIME',features=['COMBINEDID', 'GEOIP_LNG'],validation_set=test_data, max_iterations=100,verbose=False)\n",
    "model = LR_model\n",
    "rms = graphlab.evaluation.rmse(test_data['ADLOADINGTIME'],model.predict(test_data))\n",
    "print(\"{}: {:.4f}\".format('COMBINEDID and GEOIP_LNG',rms))\n",
    "LR_model = graphlab.linear_regression.create(train_data, target='ADLOADINGTIME',features=['COMBINEDID', 'GEOIP_LNG', 'GEOIP_LAT'],validation_set=test_data, max_iterations=100,verbose=False)\n",
    "model = LR_model\n",
    "rms = graphlab.evaluation.rmse(test_data['ADLOADINGTIME'],model.predict(test_data))\n",
    "print(\"{}: {:.4f}\".format('COMBINEDID and GEOIP_LNG and GEOIP_LAT',rms))\n",
    "#LR_model = graphlab.linear_regression.create(train_data, target='ADLOADINGTIME',features=['COMBINEDID', 'GEOIP_LNG', 'GEOIP_LAT','GEOIP_COUNTRY'],validation_set=test_data, max_iterations=100,verbose=False)\n",
    "#model = LR_model\n",
    "#rms = graphlab.evaluation.rmse(test_data['ADLOADINGTIME'],model.predict(test_data))\n",
    "#print(\"{}: {:.4f}\".format('COMBINEDID and GEOIP_LNG and GEOIP_LAT and GEOIP_COUNTRY',rms))"
   ]
  },
  {
   "cell_type": "code",
   "execution_count": 102,
   "metadata": {
    "collapsed": true
   },
   "outputs": [
    {
     "ename": "KeyError",
     "evalue": "'Cannot find column GEOIP_COUNTRY'",
     "output_type": "error",
     "traceback": [
      "\u001b[1;31m---------------------------------------------------------------------------\u001b[0m",
      "\u001b[1;31mKeyError\u001b[0m                                  Traceback (most recent call last)",
      "\u001b[1;32m<ipython-input-102-5b43cae7a4a2>\u001b[0m in \u001b[0;36m<module>\u001b[1;34m()\u001b[0m\n\u001b[0;32m      1\u001b[0m \u001b[0mdata\u001b[0m\u001b[1;33m.\u001b[0m\u001b[0mremove_columns\u001b[0m\u001b[1;33m(\u001b[0m\u001b[1;33m[\u001b[0m\u001b[1;34m'GEOIP_LNG'\u001b[0m\u001b[1;33m,\u001b[0m\u001b[1;34m'GEOIP_LAT'\u001b[0m\u001b[1;33m]\u001b[0m\u001b[1;33m)\u001b[0m\u001b[1;33m;\u001b[0m\u001b[1;33m\u001b[0m\u001b[0m\n\u001b[1;32m----> 2\u001b[1;33m \u001b[0mdata\u001b[0m\u001b[1;33m.\u001b[0m\u001b[0mremove_columns\u001b[0m\u001b[1;33m(\u001b[0m\u001b[1;33m[\u001b[0m\u001b[1;34m'GEOIP_COUNTRY'\u001b[0m\u001b[1;33m]\u001b[0m\u001b[1;33m)\u001b[0m\u001b[1;33m;\u001b[0m\u001b[1;33m\u001b[0m\u001b[0m\n\u001b[0m",
      "\u001b[1;32mC:\\Users\\Tim\\AppData\\Local\\Dato\\Dato Launcher\\lib\\site-packages\\graphlab\\data_structures\\sframe.pyc\u001b[0m in \u001b[0;36mremove_columns\u001b[1;34m(self, column_names)\u001b[0m\n\u001b[0;32m   3876\u001b[0m         \u001b[1;32mfor\u001b[0m \u001b[0mname\u001b[0m \u001b[1;32min\u001b[0m \u001b[0mcolumn_names\u001b[0m\u001b[1;33m:\u001b[0m\u001b[1;33m\u001b[0m\u001b[0m\n\u001b[0;32m   3877\u001b[0m             \u001b[1;32mif\u001b[0m \u001b[0mname\u001b[0m \u001b[1;32mnot\u001b[0m \u001b[1;32min\u001b[0m \u001b[0mexisting_columns\u001b[0m\u001b[1;33m:\u001b[0m\u001b[1;33m\u001b[0m\u001b[0m\n\u001b[1;32m-> 3878\u001b[1;33m                 \u001b[1;32mraise\u001b[0m \u001b[0mKeyError\u001b[0m\u001b[1;33m(\u001b[0m\u001b[1;34m'Cannot find column %s'\u001b[0m \u001b[1;33m%\u001b[0m \u001b[0mname\u001b[0m\u001b[1;33m)\u001b[0m\u001b[1;33m\u001b[0m\u001b[0m\n\u001b[0m\u001b[0;32m   3879\u001b[0m \u001b[1;33m\u001b[0m\u001b[0m\n\u001b[0;32m   3880\u001b[0m         \u001b[1;31m# Delete it going backwards so we don't invalidate indices\u001b[0m\u001b[1;33m\u001b[0m\u001b[1;33m\u001b[0m\u001b[0m\n",
      "\u001b[1;31mKeyError\u001b[0m: 'Cannot find column GEOIP_COUNTRY'"
     ]
    }
   ],
   "source": [
    "data.remove_columns(['GEOIP_LNG','GEOIP_LAT']);\n",
    "data.remove_columns(['GEOIP_COUNTRY']);"
   ]
  },
  {
   "cell_type": "markdown",
   "metadata": {},
   "source": [
    " **CONCLUSIONS**\n",
    "\n",
    "GEOIP_DATA just barely results in a reduction of RMSE -> not needed"
   ]
  },
  {
   "cell_type": "markdown",
   "metadata": {},
   "source": [
    " "
   ]
  },
  {
   "cell_type": "code",
   "execution_count": 38,
   "metadata": {
    "collapsed": true
   },
   "outputs": [],
   "source": [
    "data['ERRORSJSON'] = data['ERRORSJSON'].apply(lambda x: x.replace('\"',''))"
   ]
  },
  {
   "cell_type": "markdown",
   "metadata": {},
   "source": [
    "crate new feature by extracting sizes of images from FILESJSON"
   ]
  },
  {
   "cell_type": "code",
   "execution_count": 39,
   "metadata": {
    "collapsed": false
   },
   "outputs": [],
   "source": [
    "def extractImageSize(sIn):\n",
    "    sIn = sIn.replace('[','')\n",
    "    sIn = sIn.replace('}','')\n",
    "    sIn = sIn.replace(']','')\n",
    "    sIn = sIn.replace('{\"type\":\"image\",\"size\":','')\n",
    "    numberList = [int(s) for s in sIn.split(',') if s.isdigit()]\n",
    "    if len(numberList) == 0:\n",
    "        numberList = 0\n",
    "    return np.sum(numberList)\n",
    "\n",
    "data['FILESJSON_SIZE'] = data['FILESJSON'].apply(extractImageSize)"
   ]
  },
  {
   "cell_type": "markdown",
   "metadata": {},
   "source": [
    "remove outliers from FILESJSON_SIZE"
   ]
  },
  {
   "cell_type": "code",
   "execution_count": 42,
   "metadata": {
    "collapsed": false
   },
   "outputs": [],
   "source": [
    "#tmp = data[data['FILESJSON_SIZE']>np.percentile(data['FILESJSON_SIZE'],99)]\n",
    "#print(np.percentile(data['FILESJSON_SIZE'],99))\n",
    "#print(tmp.num_rows())\n",
    "data = data[data['FILESJSON_SIZE']<np.percentile(data['FILESJSON_SIZE'],99)]"
   ]
  },
  {
   "cell_type": "markdown",
   "metadata": {},
   "source": [
    "The new feature is not very helpful"
   ]
  },
  {
   "cell_type": "code",
   "execution_count": 43,
   "metadata": {
    "collapsed": true
   },
   "outputs": [],
   "source": [
    "data.remove_column('FILESJSON_SIZE');"
   ]
  },
  {
   "cell_type": "markdown",
   "metadata": {},
   "source": [
    "**CONCLUSIONS**\n",
    "\n",
    "FILESJSON_SIZE is useful to remove some outliers but not as a features -> remove after removal of outliers"
   ]
  },
  {
   "cell_type": "markdown",
   "metadata": {},
   "source": [
    "#####Create new fetures by combining IDS"
   ]
  },
  {
   "cell_type": "code",
   "execution_count": 44,
   "metadata": {
    "collapsed": false
   },
   "outputs": [],
   "source": [
    "data['COMBINEDID'] = data['SDK']+'_'+data['ACCOUNTID']+'_'+data['CAMPAIGNID']+'_'+data['CREATIVEID']+'_'+data['EXTERNALADSERVER']\n",
    "data['COMBINEDIDWITHPLACEMENTID'] = data['SDK']+'_'+data['ACCOUNTID']+'_'+data['CAMPAIGNID']+'_'+data['CREATIVEID']+'_'+data['EXTERNALADSERVER']+'_'+data['PLACEMENTID']\n",
    "data['COMBINEDEXTERNALID'] = data['EXTERNALPLACEMENTID']+'_'+data['EXTERNALSITEID']+'_'+data['EXTERNALSUPPLIERID']\n",
    "data['COMBINEDEXTERNALID'] = data['COMBINEDEXTERNALID'].apply(lambda x : 'null' if x == 'null_null' or x== 'null_null_null' else x)"
   ]
  },
  {
   "cell_type": "markdown",
   "metadata": {},
   "source": [
    "test with simple linear regression"
   ]
  },
  {
   "cell_type": "code",
   "execution_count": 50,
   "metadata": {
    "collapsed": false,
    "scrolled": false
   },
   "outputs": [
    {
     "name": "stdout",
     "output_type": "stream",
     "text": [
      "COMBINEDID: 3.4685\n",
      "COMBINEDID and PLACEMENTID: 3.4629\n",
      "COMBINEDIDWITHPLACEMENTID: 3.4630\n",
      "CREATIVEID: 3.4818\n",
      "CREATIVEID and PLACEMENTID: 3.4705\n",
      "PLACEMENTID: 3.4748\n"
     ]
    }
   ],
   "source": [
    "train_data,test_data = data.random_split(.5,seed=1)\n",
    "\n",
    "LR_model = graphlab.linear_regression.create(train_data, target='ADLOADINGTIME',features=['COMBINEDID'],validation_set=test_data, max_iterations=100,verbose=False)\n",
    "model = LR_model\n",
    "rms = graphlab.evaluation.rmse(test_data['ADLOADINGTIME'],model.predict(test_data))\n",
    "print(\"{}: {:.4f}\".format('COMBINEDID',rms))\n",
    "LR_model = graphlab.linear_regression.create(train_data, target='ADLOADINGTIME',features=['COMBINEDID', 'PLACEMENTID'],validation_set=test_data, max_iterations=100,verbose=False)\n",
    "model = LR_model\n",
    "rms = graphlab.evaluation.rmse(test_data['ADLOADINGTIME'],model.predict(test_data))\n",
    "print(\"{}: {:.4f}\".format('COMBINEDID and PLACEMENTID',rms))\n",
    "LR_model = graphlab.linear_regression.create(train_data, target='ADLOADINGTIME',features=['COMBINEDIDWITHPLACEMENTID'],validation_set=test_data, max_iterations=100,verbose=False)\n",
    "model = LR_model\n",
    "rms = graphlab.evaluation.rmse(test_data['ADLOADINGTIME'],model.predict(test_data))\n",
    "print(\"{}: {:.4f}\".format('COMBINEDIDWITHPLACEMENTID',rms))\n",
    "LR_model = graphlab.linear_regression.create(train_data, target='ADLOADINGTIME',features=['CREATIVEID'],validation_set=test_data, max_iterations=100,verbose=False)\n",
    "model = LR_model\n",
    "rms = graphlab.evaluation.rmse(test_data['ADLOADINGTIME'],model.predict(test_data))\n",
    "print(\"{}: {:.4f}\".format('CREATIVEID',rms))\n",
    "LR_model = graphlab.linear_regression.create(train_data, target='ADLOADINGTIME',features=['CREATIVEID', 'PLACEMENTID'],validation_set=test_data, max_iterations=100,verbose=False)\n",
    "model = LR_model\n",
    "rms = graphlab.evaluation.rmse(test_data['ADLOADINGTIME'],model.predict(test_data))\n",
    "print(\"{}: {:.4f}\".format('CREATIVEID and PLACEMENTID',rms))\n",
    "LR_model = graphlab.linear_regression.create(train_data, target='ADLOADINGTIME',features=['PLACEMENTID'],validation_set=test_data, max_iterations=100,verbose=False)\n",
    "model = LR_model\n",
    "rms = graphlab.evaluation.rmse(test_data['ADLOADINGTIME'],model.predict(test_data))\n",
    "print(\"{}: {:.4f}\".format('PLACEMENTID',rms))"
   ]
  },
  {
   "cell_type": "markdown",
   "metadata": {},
   "source": [
    "**CONCLUSIONS**\n",
    "\n",
    "use COMBINEDID and PLACEMENTID as separate features"
   ]
  },
  {
   "cell_type": "code",
   "execution_count": 237,
   "metadata": {
    "collapsed": false,
    "scrolled": false
   },
   "outputs": [
    {
     "name": "stdout",
     "output_type": "stream",
     "text": [
      "COMBINEDID: 3.4685\n",
      "EXTERNALPLACEMENTID and EXTERNALSITEID and EXTERNALSUPPLIERID: 3.5237\n",
      "COMBINEDIDWITHPLACEMENTID: 3.4630\n",
      "COMBINEDEXTERNALID: 3.5291\n",
      "COMBINEDIDWITHPLACEMENTID and COMBINEDEXTERNALID2: 3.4659\n",
      "COMBINEDEXTERNALID2: 3.5291\n"
     ]
    }
   ],
   "source": [
    "train_data,test_data = data.random_split(.5,seed=1)\n",
    "\n",
    "LR_model = graphlab.linear_regression.create(train_data, target='ADLOADINGTIME',features=['COMBINEDID'],validation_set=test_data, max_iterations=100,verbose=False)\n",
    "model = LR_model\n",
    "rms = graphlab.evaluation.rmse(test_data['ADLOADINGTIME'],model.predict(test_data))\n",
    "print(\"{}: {:.4f}\".format('COMBINEDID',rms))\n",
    "LR_model = graphlab.linear_regression.create(train_data, target='ADLOADINGTIME',features=['EXTERNALPLACEMENTID', 'EXTERNALSITEID', 'EXTERNALSUPPLIERID'],validation_set=test_data, max_iterations=100,verbose=False)\n",
    "model = LR_model\n",
    "rms = graphlab.evaluation.rmse(test_data['ADLOADINGTIME'],model.predict(test_data))\n",
    "print(\"{}: {:.4f}\".format('EXTERNALPLACEMENTID and EXTERNALSITEID and EXTERNALSUPPLIERID',rms))\n",
    "LR_model = graphlab.linear_regression.create(train_data, target='ADLOADINGTIME',features=['COMBINEDIDWITHPLACEMENTID'],validation_set=test_data, max_iterations=100,verbose=False)\n",
    "model = LR_model\n",
    "rms = graphlab.evaluation.rmse(test_data['ADLOADINGTIME'],model.predict(test_data))\n",
    "print(\"{}: {:.4f}\".format('COMBINEDIDWITHPLACEMENTID',rms))\n",
    "LR_model = graphlab.linear_regression.create(train_data, target='ADLOADINGTIME',features=['COMBINEDEXTERNALID'],validation_set=test_data, max_iterations=100,verbose=False)\n",
    "model = LR_model\n",
    "rms = graphlab.evaluation.rmse(test_data['ADLOADINGTIME'],model.predict(test_data))\n",
    "print(\"{}: {:.4f}\".format('COMBINEDEXTERNALID',rms))\n",
    "LR_model = graphlab.linear_regression.create(train_data, target='ADLOADINGTIME',features=['COMBINEDIDWITHPLACEMENTID', 'COMBINEDEXTERNALID'],validation_set=test_data, max_iterations=100,verbose=False)\n",
    "model = LR_model\n",
    "rms = graphlab.evaluation.rmse(test_data['ADLOADINGTIME'],model.predict(test_data))\n",
    "print(\"{}: {:.4f}\".format('COMBINEDIDWITHPLACEMENTID and COMBINEDEXTERNALID',rms))"
   ]
  },
  {
   "cell_type": "markdown",
   "metadata": {},
   "source": [
    "**CONCLUSIONS**\n",
    "\n",
    "do not use any of the following external features: EXTERNALPLACEMENTID, EXTERNALSITEID, EXTERNALSUPPLIERID"
   ]
  },
  {
   "cell_type": "markdown",
   "metadata": {},
   "source": [
    "######Remove features based on above two conlclusions"
   ]
  },
  {
   "cell_type": "code",
   "execution_count": 63,
   "metadata": {
    "collapsed": false
   },
   "outputs": [],
   "source": [
    "data.remove_column('SDK');\n",
    "data.remove_column('ACCOUNTID');\n",
    "data.remove_column('CAMPAIGNID');\n",
    "data.remove_column('CREATIVEID');\n",
    "data.remove_column('EXTERNALADSERVER');\n",
    "data.remove_column('COMBINEDIDWITHPLACEMENTID');"
   ]
  },
  {
   "cell_type": "code",
   "execution_count": 61,
   "metadata": {
    "collapsed": true
   },
   "outputs": [],
   "source": [
    "data['COMBINEDID'] = data['SDK']+'_'+data['ACCOUNTID']+'_'+data['CAMPAIGNID']+'_'+data['CREATIVEID']+'_'+data['EXTERNALADSERVER']"
   ]
  },
  {
   "cell_type": "code",
   "execution_count": 55,
   "metadata": {
    "collapsed": true
   },
   "outputs": [],
   "source": [
    "data.remove_column('EXTERNALPLACEMENTID');\n",
    "data.remove_column('EXTERNALSITEID');\n",
    "data.remove_column('EXTERNALSUPPLIERID');"
   ]
  },
  {
   "cell_type": "markdown",
   "metadata": {},
   "source": [
    "######Test the need for COMBINEDEXTERNALID"
   ]
  },
  {
   "cell_type": "code",
   "execution_count": 85,
   "metadata": {
    "collapsed": false
   },
   "outputs": [
    {
     "name": "stdout",
     "output_type": "stream",
     "text": [
      "COMBINEDID: 3.4685\n",
      "COMBINEDEXTERNALID: 3.5291\n",
      "COMBINEDID and COMBINEDEXTERNALID: 3.4701\n"
     ]
    }
   ],
   "source": [
    "train_data,test_data = data.random_split(.5,seed=1)\n",
    "\n",
    "LR_model = graphlab.linear_regression.create(train_data, target='ADLOADINGTIME',features=['COMBINEDID'],validation_set=test_data, max_iterations=100,verbose=False)\n",
    "model = LR_model\n",
    "rms = graphlab.evaluation.rmse(test_data['ADLOADINGTIME'],model.predict(test_data))\n",
    "print(\"{}: {:.4f}\".format('COMBINEDID',rms))\n",
    "LR_model = graphlab.linear_regression.create(train_data, target='ADLOADINGTIME',features=['COMBINEDEXTERNALID'],validation_set=test_data, max_iterations=100,verbose=False)\n",
    "model = LR_model\n",
    "rms = graphlab.evaluation.rmse(test_data['ADLOADINGTIME'],model.predict(test_data))\n",
    "print(\"{}: {:.4f}\".format('COMBINEDEXTERNALID',rms))\n",
    "LR_model = graphlab.linear_regression.create(train_data, target='ADLOADINGTIME',features=['COMBINEDID', 'COMBINEDEXTERNALID'],validation_set=test_data, max_iterations=100,verbose=False)\n",
    "model = LR_model\n",
    "rms = graphlab.evaluation.rmse(test_data['ADLOADINGTIME'],model.predict(test_data))\n",
    "print(\"{}: {:.4f}\".format('COMBINEDID and COMBINEDEXTERNALID',rms))"
   ]
  },
  {
   "cell_type": "markdown",
   "metadata": {},
   "source": [
    "**CONCLUSIONS**\n",
    "\n",
    "COMBINEDEXTERNALID doesn't help with the linear regression, however, it is essential for random forest -> do not remove it!"
   ]
  },
  {
   "cell_type": "code",
   "execution_count": 57,
   "metadata": {
    "collapsed": false
   },
   "outputs": [],
   "source": [
    "#data.remove_column('COMBINEDEXTERNALID');"
   ]
  },
  {
   "cell_type": "markdown",
   "metadata": {},
   "source": [
    "######Test the need for TOPMOSTREACHABLEWINDOWAREA"
   ]
  },
  {
   "cell_type": "code",
   "execution_count": 86,
   "metadata": {
    "collapsed": false
   },
   "outputs": [
    {
     "name": "stdout",
     "output_type": "stream",
     "text": [
      "COMBINEDID: 3.4685\n",
      "TOPMOSTREACHABLEWINDOWAREA: 3.6797\n",
      "COMBINEDID and TOPMOSTREACHABLEWINDOWAREA: 3.4645\n"
     ]
    }
   ],
   "source": [
    "train_data,test_data = data.random_split(.5,seed=1)\n",
    "\n",
    "LR_model = graphlab.linear_regression.create(train_data, target='ADLOADINGTIME',features=['COMBINEDID'],validation_set=test_data, max_iterations=100,verbose=False)\n",
    "model = LR_model\n",
    "rms = graphlab.evaluation.rmse(test_data['ADLOADINGTIME'],model.predict(test_data))\n",
    "print(\"{}: {:.4f}\".format('COMBINEDID',rms))\n",
    "LR_model = graphlab.linear_regression.create(train_data, target='ADLOADINGTIME',features=['TOPMOSTREACHABLEWINDOWAREA'],validation_set=test_data, max_iterations=100,verbose=False)\n",
    "model = LR_model\n",
    "rms = graphlab.evaluation.rmse(test_data['ADLOADINGTIME'],model.predict(test_data))\n",
    "print(\"{}: {:.4f}\".format('TOPMOSTREACHABLEWINDOWAREA',rms))\n",
    "LR_model = graphlab.linear_regression.create(train_data, target='ADLOADINGTIME',features=['COMBINEDID', 'TOPMOSTREACHABLEWINDOWAREA'],validation_set=test_data, max_iterations=100,verbose=False)\n",
    "model = LR_model\n",
    "rms = graphlab.evaluation.rmse(test_data['ADLOADINGTIME'],model.predict(test_data))\n",
    "print(\"{}: {:.4f}\".format('COMBINEDID and TOPMOSTREACHABLEWINDOWAREA',rms))"
   ]
  },
  {
   "cell_type": "markdown",
   "metadata": {},
   "source": [
    "**CONCLUSIONS**\n",
    "\n",
    "TOPMOSTREACHABLEWINDOWAREA can help sometimes, especially for RF"
   ]
  },
  {
   "cell_type": "code",
   "execution_count": 52,
   "metadata": {
    "collapsed": true
   },
   "outputs": [],
   "source": [
    "#data.remove_column('TOPMOSTREACHABLEWINDOWAREA');"
   ]
  },
  {
   "cell_type": "markdown",
   "metadata": {},
   "source": [
    "######Combine PLATFORM and PLATFORMVERSION"
   ]
  },
  {
   "cell_type": "code",
   "execution_count": 111,
   "metadata": {
    "collapsed": false
   },
   "outputs": [],
   "source": [
    "data['PLATFORMCOMBINED'] = data['PLATFORM']+'_'+data['PLATFORMVERSION']"
   ]
  },
  {
   "cell_type": "code",
   "execution_count": 112,
   "metadata": {
    "collapsed": false
   },
   "outputs": [
    {
     "name": "stdout",
     "output_type": "stream",
     "text": [
      "PLATFORM: 3.6262\n",
      "PLATFORMVERSION: 3.5990\n",
      "PLATFORMCOMBINED: 3.5979\n",
      "PLATFORM and PLATFORMVERSION: 3.5982\n",
      "COMBINEDID and PLATFORM: 3.3705\n",
      "COMBINEDID and PLATFORMVERSION: 3.3455\n",
      "COMBINEDID and PLATFORMCOMBINED: 3.3448\n",
      "COMBINEDID and PLATFORM and PLATFORMVERSION: 3.3451\n"
     ]
    }
   ],
   "source": [
    "train_data,test_data = data.random_split(.5,seed=1)\n",
    "\n",
    "LR_model = graphlab.linear_regression.create(train_data, target='ADLOADINGTIME',features=['PLATFORM'],validation_set=test_data, max_iterations=100,verbose=False)\n",
    "model = LR_model\n",
    "rms = graphlab.evaluation.rmse(test_data['ADLOADINGTIME'],model.predict(test_data))\n",
    "print(\"{}: {:.4f}\".format('PLATFORM',rms))\n",
    "LR_model = graphlab.linear_regression.create(train_data, target='ADLOADINGTIME',features=['PLATFORMVERSION'],validation_set=test_data, max_iterations=100,verbose=False)\n",
    "model = LR_model\n",
    "rms = graphlab.evaluation.rmse(test_data['ADLOADINGTIME'],model.predict(test_data))\n",
    "print(\"{}: {:.4f}\".format('PLATFORMVERSION',rms))\n",
    "LR_model = graphlab.linear_regression.create(train_data, target='ADLOADINGTIME',features=['PLATFORMCOMBINED'],validation_set=test_data, max_iterations=100,verbose=False)\n",
    "model = LR_model\n",
    "rms = graphlab.evaluation.rmse(test_data['ADLOADINGTIME'],model.predict(test_data))\n",
    "print(\"{}: {:.4f}\".format('PLATFORMCOMBINED',rms))\n",
    "LR_model = graphlab.linear_regression.create(train_data, target='ADLOADINGTIME',features=['PLATFORM', 'PLATFORMVERSION'],validation_set=test_data, max_iterations=100,verbose=False)\n",
    "model = LR_model\n",
    "rms = graphlab.evaluation.rmse(test_data['ADLOADINGTIME'],model.predict(test_data))\n",
    "print(\"{}: {:.4f}\".format('PLATFORM and PLATFORMVERSION',rms))\n",
    "\n",
    "LR_model = graphlab.linear_regression.create(train_data, target='ADLOADINGTIME',features=['COMBINEDID', 'PLATFORM'],validation_set=test_data, max_iterations=100,verbose=False)\n",
    "model = LR_model\n",
    "rms = graphlab.evaluation.rmse(test_data['ADLOADINGTIME'],model.predict(test_data))\n",
    "print(\"{}: {:.4f}\".format('COMBINEDID and PLATFORM',rms))\n",
    "LR_model = graphlab.linear_regression.create(train_data, target='ADLOADINGTIME',features=['COMBINEDID','PLATFORMVERSION'],validation_set=test_data, max_iterations=100,verbose=False)\n",
    "model = LR_model\n",
    "rms = graphlab.evaluation.rmse(test_data['ADLOADINGTIME'],model.predict(test_data))\n",
    "print(\"{}: {:.4f}\".format('COMBINEDID and PLATFORMVERSION',rms))\n",
    "LR_model = graphlab.linear_regression.create(train_data, target='ADLOADINGTIME',features=['COMBINEDID','PLATFORMCOMBINED'],validation_set=test_data, max_iterations=100,verbose=False)\n",
    "model = LR_model\n",
    "rms = graphlab.evaluation.rmse(test_data['ADLOADINGTIME'],model.predict(test_data))\n",
    "print(\"{}: {:.4f}\".format('COMBINEDID and PLATFORMCOMBINED',rms))\n",
    "LR_model = graphlab.linear_regression.create(train_data, target='ADLOADINGTIME',features=['COMBINEDID', 'PLATFORM', 'PLATFORMVERSION'],validation_set=test_data, max_iterations=100,verbose=False)\n",
    "model = LR_model\n",
    "rms = graphlab.evaluation.rmse(test_data['ADLOADINGTIME'],model.predict(test_data))\n",
    "print(\"{}: {:.4f}\".format('COMBINEDID and PLATFORM and PLATFORMVERSION',rms))"
   ]
  },
  {
   "cell_type": "markdown",
   "metadata": {},
   "source": [
    "**CONCLUSIONS**\n",
    "\n",
    "PLATFORMCOMBINED is better than separately use PLATFORM and PLATFORMVERSION"
   ]
  },
  {
   "cell_type": "code",
   "execution_count": 134,
   "metadata": {
    "collapsed": true
   },
   "outputs": [
    {
     "ename": "KeyError",
     "evalue": "'Cannot find column PLATFORM'",
     "output_type": "error",
     "traceback": [
      "\u001b[1;31m---------------------------------------------------------------------------\u001b[0m",
      "\u001b[1;31mKeyError\u001b[0m                                  Traceback (most recent call last)",
      "\u001b[1;32m<ipython-input-134-b3744e8ee33a>\u001b[0m in \u001b[0;36m<module>\u001b[1;34m()\u001b[0m\n\u001b[1;32m----> 1\u001b[1;33m \u001b[0mdata\u001b[0m\u001b[1;33m.\u001b[0m\u001b[0mremove_columns\u001b[0m\u001b[1;33m(\u001b[0m\u001b[1;33m[\u001b[0m\u001b[1;34m'PLATFORM'\u001b[0m\u001b[1;33m,\u001b[0m\u001b[1;34m'PLATFORMVERSION'\u001b[0m\u001b[1;33m]\u001b[0m\u001b[1;33m)\u001b[0m\u001b[1;33m;\u001b[0m\u001b[1;33m\u001b[0m\u001b[0m\n\u001b[0m",
      "\u001b[1;32mC:\\Users\\Tim\\AppData\\Local\\Dato\\Dato Launcher\\lib\\site-packages\\graphlab\\data_structures\\sframe.pyc\u001b[0m in \u001b[0;36mremove_columns\u001b[1;34m(self, column_names)\u001b[0m\n\u001b[0;32m   3876\u001b[0m         \u001b[1;32mfor\u001b[0m \u001b[0mname\u001b[0m \u001b[1;32min\u001b[0m \u001b[0mcolumn_names\u001b[0m\u001b[1;33m:\u001b[0m\u001b[1;33m\u001b[0m\u001b[0m\n\u001b[0;32m   3877\u001b[0m             \u001b[1;32mif\u001b[0m \u001b[0mname\u001b[0m \u001b[1;32mnot\u001b[0m \u001b[1;32min\u001b[0m \u001b[0mexisting_columns\u001b[0m\u001b[1;33m:\u001b[0m\u001b[1;33m\u001b[0m\u001b[0m\n\u001b[1;32m-> 3878\u001b[1;33m                 \u001b[1;32mraise\u001b[0m \u001b[0mKeyError\u001b[0m\u001b[1;33m(\u001b[0m\u001b[1;34m'Cannot find column %s'\u001b[0m \u001b[1;33m%\u001b[0m \u001b[0mname\u001b[0m\u001b[1;33m)\u001b[0m\u001b[1;33m\u001b[0m\u001b[0m\n\u001b[0m\u001b[0;32m   3879\u001b[0m \u001b[1;33m\u001b[0m\u001b[0m\n\u001b[0;32m   3880\u001b[0m         \u001b[1;31m# Delete it going backwards so we don't invalidate indices\u001b[0m\u001b[1;33m\u001b[0m\u001b[1;33m\u001b[0m\u001b[0m\n",
      "\u001b[1;31mKeyError\u001b[0m: 'Cannot find column PLATFORM'"
     ]
    }
   ],
   "source": [
    "data.remove_columns(['PLATFORM','PLATFORMVERSION']);"
   ]
  },
  {
   "cell_type": "markdown",
   "metadata": {},
   "source": [
    "UA_PLATFORM and PLATFORM, and UA_PLATFORMVERSION and PLATFORMVERSION are practically the same"
   ]
  },
  {
   "cell_type": "code",
   "execution_count": 135,
   "metadata": {
    "collapsed": true
   },
   "outputs": [],
   "source": [
    "data.remove_columns(['UA_PLATFORM','UA_PLATFORMVERSION']);"
   ]
  },
  {
   "cell_type": "markdown",
   "metadata": {},
   "source": [
    " "
   ]
  },
  {
   "cell_type": "code",
   "execution_count": 120,
   "metadata": {
    "collapsed": false
   },
   "outputs": [
    {
     "name": "stdout",
     "output_type": "stream",
     "text": [
      "COMBINEDID: 3.4685\n",
      "COMBINEDID and PLATFORMCOMBINED: 3.3448\n",
      "COMBINEDID: 3.4685\n",
      "COMBINEDID and PLATFORMCOMBINED: 3.3449\n"
     ]
    }
   ],
   "source": [
    "train_data,test_data = data.random_split(.5,seed=1)\n",
    "\n",
    "LR_model = graphlab.linear_regression.create(train_data, target='ADLOADINGTIME',features=['COMBINEDID'],validation_set=test_data, max_iterations=100,verbose=False)\n",
    "model = LR_model\n",
    "rms = graphlab.evaluation.rmse(test_data['ADLOADINGTIME'],model.predict(test_data))\n",
    "print(\"{}: {:.4f}\".format('COMBINEDID',rms))\n",
    "LR_model = graphlab.linear_regression.create(train_data, target='ADLOADINGTIME',features=['COMBINEDID','PLATFORMCOMBINED'],validation_set=test_data, max_iterations=100,verbose=False)\n",
    "model = LR_model\n",
    "rms = graphlab.evaluation.rmse(test_data['ADLOADINGTIME'],model.predict(test_data))\n",
    "print(\"{}: {:.4f}\".format('COMBINEDID and PLATFORMCOMBINED',rms))\n",
    "\n",
    "train_data = train_data[train_data['PLATFORMCOMBINED'] != 'null_null']\n",
    "#test_data = test_data[test_data['PLATFORMCOMBINED'] != 'null_null']\n",
    "\n",
    "LR_model = graphlab.linear_regression.create(train_data, target='ADLOADINGTIME',features=['COMBINEDID'],validation_set=test_data, max_iterations=100,verbose=False)\n",
    "model = LR_model\n",
    "rms = graphlab.evaluation.rmse(test_data['ADLOADINGTIME'],model.predict(test_data))\n",
    "print(\"{}: {:.4f}\".format('COMBINEDID',rms))\n",
    "LR_model = graphlab.linear_regression.create(train_data, target='ADLOADINGTIME',features=['COMBINEDID','PLATFORMCOMBINED'],validation_set=test_data, max_iterations=100,verbose=False)\n",
    "model = LR_model\n",
    "rms = graphlab.evaluation.rmse(test_data['ADLOADINGTIME'],model.predict(test_data))\n",
    "print(\"{}: {:.4f}\".format('COMBINEDID and PLATFORMCOMBINED',rms))"
   ]
  },
  {
   "cell_type": "markdown",
   "metadata": {},
   "source": [
    "**CONCLUSIONS**\n",
    "\n",
    "No need to remove 'null_null' from PLATFORMCOMBINED"
   ]
  },
  {
   "cell_type": "markdown",
   "metadata": {},
   "source": [
    "#####Device type from UA"
   ]
  },
  {
   "cell_type": "raw",
   "metadata": {},
   "source": [
    "COMBINEDID: 3.4685\n",
    "COMBINEDID and UA_VENDOR: 3.3694\n",
    "COMBINEDID and UA_MODEL: 3.3565\n",
    "COMBINEDID and UA_OS: 3.3693\n",
    "COMBINEDID and UA_OSVERSION: 3.3419\n",
    "COMBINEDID and UA_BROWSER: 3.3737\n",
    "COMBINEDID and UA_BROWSERVERSION: 3.3385"
   ]
  },
  {
   "cell_type": "markdown",
   "metadata": {},
   "source": [
    "Try combining this features"
   ]
  },
  {
   "cell_type": "code",
   "execution_count": 126,
   "metadata": {
    "collapsed": true
   },
   "outputs": [],
   "source": [
    "data['UA_VENDORMODEL'] = data['UA_VENDOR']+'_'+data['UA_MODEL']\n",
    "data['UA_OSCOMB'] = data['UA_OS']+'_'+data['UA_OSVERSION']\n",
    "data['UA_BROWSERCOMB'] = data['UA_BROWSER']+'_'+data['UA_BROWSERVERSION']"
   ]
  },
  {
   "cell_type": "code",
   "execution_count": 124,
   "metadata": {
    "collapsed": false
   },
   "outputs": [
    {
     "name": "stdout",
     "output_type": "stream",
     "text": [
      "COMBINEDID and UA_VENDOR: 3.3694\n",
      "COMBINEDID and UA_MODEL: 3.3565\n",
      "COMBINEDID and UA_OS: 3.3693\n",
      "COMBINEDID and UA_OSVERSION: 3.3419\n",
      "COMBINEDID and UA_BROWSER: 3.3737\n",
      "COMBINEDID and UA_BROWSERVERSION: 3.3385\n"
     ]
    }
   ],
   "source": [
    "train_data,test_data = data.random_split(.5,seed=1)\n",
    "\n",
    "def eval_LR_features(feat, name):\n",
    "    LR_model = graphlab.linear_regression.create(train_data, target='ADLOADINGTIME',features=feat,validation_set=test_data, max_iterations=100,verbose=False)\n",
    "    model = LR_model\n",
    "    rms = graphlab.evaluation.rmse(test_data['ADLOADINGTIME'],model.predict(test_data))\n",
    "    print(\"{}: {:.4f}\".format(name,rms))\n",
    "\n",
    "eval_LR_features(['COMBINEDID', 'UA_VENDOR'], 'COMBINEDID and UA_VENDOR')\n",
    "eval_LR_features(['COMBINEDID', 'UA_MODEL'], 'COMBINEDID and UA_MODEL')\n",
    "eval_LR_features(['COMBINEDID', 'UA_OS'], 'COMBINEDID and UA_OS')\n",
    "eval_LR_features(['COMBINEDID', 'UA_OSVERSION'], 'COMBINEDID and UA_OSVERSION')\n",
    "eval_LR_features(['COMBINEDID', 'UA_BROWSER'], 'COMBINEDID and UA_BROWSER')\n",
    "eval_LR_features(['COMBINEDID', 'UA_BROWSERVERSION'], 'COMBINEDID and UA_BROWSERVERSION')"
   ]
  },
  {
   "cell_type": "code",
   "execution_count": 125,
   "metadata": {
    "collapsed": false
   },
   "outputs": [
    {
     "name": "stdout",
     "output_type": "stream",
     "text": [
      "COMBINEDID and UA_VENDOR and UA_MODEL: 3.3554\n",
      "COMBINEDID and UA_OS and UA_OSVERSION: 3.3415\n",
      "COMBINEDID and UA_BROWSERVERSION and UA_BROWSER: 3.3359\n"
     ]
    }
   ],
   "source": [
    "eval_LR_features(['COMBINEDID', 'UA_VENDOR', 'UA_MODEL'], 'COMBINEDID and UA_VENDOR and UA_MODEL')\n",
    "eval_LR_features(['COMBINEDID', 'UA_OS', 'UA_OSVERSION'], 'COMBINEDID and UA_OS and UA_OSVERSION')\n",
    "eval_LR_features(['COMBINEDID', 'UA_BROWSERVERSION', 'UA_BROWSER'], 'COMBINEDID and UA_BROWSERVERSION and UA_BROWSER')"
   ]
  },
  {
   "cell_type": "code",
   "execution_count": 128,
   "metadata": {
    "collapsed": false,
    "scrolled": true
   },
   "outputs": [
    {
     "name": "stdout",
     "output_type": "stream",
     "text": [
      "COMBINEDID and UA_VENDORMODEL: 3.3567\n",
      "COMBINEDID and UA_OSCOMB: 3.3412\n",
      "COMBINEDID and UA_BROWSERCOMB: 3.3361\n"
     ]
    }
   ],
   "source": [
    "train_data,test_data = data.random_split(.5,seed=1)\n",
    "\n",
    "eval_LR_features(['COMBINEDID', 'UA_VENDORMODEL'], 'COMBINEDID and UA_VENDORMODEL')\n",
    "eval_LR_features(['COMBINEDID', 'UA_OSCOMB'], 'COMBINEDID and UA_OSCOMB')\n",
    "eval_LR_features(['COMBINEDID', 'UA_BROWSERCOMB'], 'COMBINEDID and UA_BROWSERCOMB')"
   ]
  },
  {
   "cell_type": "markdown",
   "metadata": {},
   "source": [
    "**CONCLUSIONS**\n",
    "\n",
    "Do not combine UA_BROWSERVERSION and UA_BROWSER\n",
    "\n",
    "Do not combine UA_VENDOR and UA_MODEL\n",
    "\n",
    "Combine UA_OS and UA_OSVERSION"
   ]
  },
  {
   "cell_type": "code",
   "execution_count": 131,
   "metadata": {
    "collapsed": true
   },
   "outputs": [
    {
     "data": {
      "text/html": [
       "<div style=\"max-height:1000px;max-width:1500px;overflow:auto;\"><table frame=\"box\" rules=\"cols\">\n",
       "    <tr>\n",
       "        <th style=\"padding-left: 1em; padding-right: 1em; text-align: center\">ADLOADINGTIME</th>\n",
       "        <th style=\"padding-left: 1em; padding-right: 1em; text-align: center\">PLACEMENTID</th>\n",
       "        <th style=\"padding-left: 1em; padding-right: 1em; text-align: center\">TIMESTAMP</th>\n",
       "        <th style=\"padding-left: 1em; padding-right: 1em; text-align: center\">INTENDEDDEVICETYPE</th>\n",
       "        <th style=\"padding-left: 1em; padding-right: 1em; text-align: center\">ACTUALDEVICETYPE</th>\n",
       "        <th style=\"padding-left: 1em; padding-right: 1em; text-align: center\">CDNNAME</th>\n",
       "    </tr>\n",
       "    <tr>\n",
       "        <td style=\"padding-left: 1em; padding-right: 1em; text-align: center; vertical-align: top\">7.121</td>\n",
       "        <td style=\"padding-left: 1em; padding-right: 1em; text-align: center; vertical-align: top\">f6297752e6cd8cd455c55d95c<br>085035d ...</td>\n",
       "        <td style=\"padding-left: 1em; padding-right: 1em; text-align: center; vertical-align: top\">1459512400</td>\n",
       "        <td style=\"padding-left: 1em; padding-right: 1em; text-align: center; vertical-align: top\">Phone</td>\n",
       "        <td style=\"padding-left: 1em; padding-right: 1em; text-align: center; vertical-align: top\">Phone</td>\n",
       "        <td style=\"padding-left: 1em; padding-right: 1em; text-align: center; vertical-align: top\">c</td>\n",
       "    </tr>\n",
       "    <tr>\n",
       "        <td style=\"padding-left: 1em; padding-right: 1em; text-align: center; vertical-align: top\">1.616</td>\n",
       "        <td style=\"padding-left: 1em; padding-right: 1em; text-align: center; vertical-align: top\">7b76845786cdb6773e1d0024e<br>9213391 ...</td>\n",
       "        <td style=\"padding-left: 1em; padding-right: 1em; text-align: center; vertical-align: top\">1459513778</td>\n",
       "        <td style=\"padding-left: 1em; padding-right: 1em; text-align: center; vertical-align: top\">Phone</td>\n",
       "        <td style=\"padding-left: 1em; padding-right: 1em; text-align: center; vertical-align: top\">Phone</td>\n",
       "        <td style=\"padding-left: 1em; padding-right: 1em; text-align: center; vertical-align: top\">a</td>\n",
       "    </tr>\n",
       "    <tr>\n",
       "        <td style=\"padding-left: 1em; padding-right: 1em; text-align: center; vertical-align: top\">0.947</td>\n",
       "        <td style=\"padding-left: 1em; padding-right: 1em; text-align: center; vertical-align: top\">36793d8fe98b79d0e6bd1ecee<br>0865e4a ...</td>\n",
       "        <td style=\"padding-left: 1em; padding-right: 1em; text-align: center; vertical-align: top\">1459513057</td>\n",
       "        <td style=\"padding-left: 1em; padding-right: 1em; text-align: center; vertical-align: top\">Phone</td>\n",
       "        <td style=\"padding-left: 1em; padding-right: 1em; text-align: center; vertical-align: top\">Phone</td>\n",
       "        <td style=\"padding-left: 1em; padding-right: 1em; text-align: center; vertical-align: top\">a</td>\n",
       "    </tr>\n",
       "    <tr>\n",
       "        <td style=\"padding-left: 1em; padding-right: 1em; text-align: center; vertical-align: top\">6.978</td>\n",
       "        <td style=\"padding-left: 1em; padding-right: 1em; text-align: center; vertical-align: top\">04a34aa00b34c0a400427aad3<br>bdaa38a ...</td>\n",
       "        <td style=\"padding-left: 1em; padding-right: 1em; text-align: center; vertical-align: top\">1459513155</td>\n",
       "        <td style=\"padding-left: 1em; padding-right: 1em; text-align: center; vertical-align: top\">Phone</td>\n",
       "        <td style=\"padding-left: 1em; padding-right: 1em; text-align: center; vertical-align: top\">Phone</td>\n",
       "        <td style=\"padding-left: 1em; padding-right: 1em; text-align: center; vertical-align: top\">c</td>\n",
       "    </tr>\n",
       "    <tr>\n",
       "        <td style=\"padding-left: 1em; padding-right: 1em; text-align: center; vertical-align: top\">2.713</td>\n",
       "        <td style=\"padding-left: 1em; padding-right: 1em; text-align: center; vertical-align: top\">7e44ca19e19fd7995312204a8<br>985ec45 ...</td>\n",
       "        <td style=\"padding-left: 1em; padding-right: 1em; text-align: center; vertical-align: top\">1459514610</td>\n",
       "        <td style=\"padding-left: 1em; padding-right: 1em; text-align: center; vertical-align: top\">Phone</td>\n",
       "        <td style=\"padding-left: 1em; padding-right: 1em; text-align: center; vertical-align: top\">Phone</td>\n",
       "        <td style=\"padding-left: 1em; padding-right: 1em; text-align: center; vertical-align: top\">c</td>\n",
       "    </tr>\n",
       "    <tr>\n",
       "        <td style=\"padding-left: 1em; padding-right: 1em; text-align: center; vertical-align: top\">1.695</td>\n",
       "        <td style=\"padding-left: 1em; padding-right: 1em; text-align: center; vertical-align: top\">a6d6d6221d8bdf06d22d0a897<br>0ac1f41 ...</td>\n",
       "        <td style=\"padding-left: 1em; padding-right: 1em; text-align: center; vertical-align: top\">1459516741</td>\n",
       "        <td style=\"padding-left: 1em; padding-right: 1em; text-align: center; vertical-align: top\">Phone</td>\n",
       "        <td style=\"padding-left: 1em; padding-right: 1em; text-align: center; vertical-align: top\">Phone</td>\n",
       "        <td style=\"padding-left: 1em; padding-right: 1em; text-align: center; vertical-align: top\">a</td>\n",
       "    </tr>\n",
       "    <tr>\n",
       "        <td style=\"padding-left: 1em; padding-right: 1em; text-align: center; vertical-align: top\">4.639</td>\n",
       "        <td style=\"padding-left: 1em; padding-right: 1em; text-align: center; vertical-align: top\">a6d6d6221d8bdf06d22d0a897<br>0ac1f41 ...</td>\n",
       "        <td style=\"padding-left: 1em; padding-right: 1em; text-align: center; vertical-align: top\">1459516915</td>\n",
       "        <td style=\"padding-left: 1em; padding-right: 1em; text-align: center; vertical-align: top\">Phone</td>\n",
       "        <td style=\"padding-left: 1em; padding-right: 1em; text-align: center; vertical-align: top\">Phone</td>\n",
       "        <td style=\"padding-left: 1em; padding-right: 1em; text-align: center; vertical-align: top\">c</td>\n",
       "    </tr>\n",
       "    <tr>\n",
       "        <td style=\"padding-left: 1em; padding-right: 1em; text-align: center; vertical-align: top\">2.059</td>\n",
       "        <td style=\"padding-left: 1em; padding-right: 1em; text-align: center; vertical-align: top\">a6d6d6221d8bdf06d22d0a897<br>0ac1f41 ...</td>\n",
       "        <td style=\"padding-left: 1em; padding-right: 1em; text-align: center; vertical-align: top\">1459516785</td>\n",
       "        <td style=\"padding-left: 1em; padding-right: 1em; text-align: center; vertical-align: top\">Phone</td>\n",
       "        <td style=\"padding-left: 1em; padding-right: 1em; text-align: center; vertical-align: top\">Phone</td>\n",
       "        <td style=\"padding-left: 1em; padding-right: 1em; text-align: center; vertical-align: top\">b</td>\n",
       "    </tr>\n",
       "    <tr>\n",
       "        <td style=\"padding-left: 1em; padding-right: 1em; text-align: center; vertical-align: top\">0.796</td>\n",
       "        <td style=\"padding-left: 1em; padding-right: 1em; text-align: center; vertical-align: top\">a6d6d6221d8bdf06d22d0a897<br>0ac1f41 ...</td>\n",
       "        <td style=\"padding-left: 1em; padding-right: 1em; text-align: center; vertical-align: top\">1459517035</td>\n",
       "        <td style=\"padding-left: 1em; padding-right: 1em; text-align: center; vertical-align: top\">Phone</td>\n",
       "        <td style=\"padding-left: 1em; padding-right: 1em; text-align: center; vertical-align: top\">Phone</td>\n",
       "        <td style=\"padding-left: 1em; padding-right: 1em; text-align: center; vertical-align: top\">a</td>\n",
       "    </tr>\n",
       "    <tr>\n",
       "        <td style=\"padding-left: 1em; padding-right: 1em; text-align: center; vertical-align: top\">2.244</td>\n",
       "        <td style=\"padding-left: 1em; padding-right: 1em; text-align: center; vertical-align: top\">a6d6d6221d8bdf06d22d0a897<br>0ac1f41 ...</td>\n",
       "        <td style=\"padding-left: 1em; padding-right: 1em; text-align: center; vertical-align: top\">1459517065</td>\n",
       "        <td style=\"padding-left: 1em; padding-right: 1em; text-align: center; vertical-align: top\">Phone</td>\n",
       "        <td style=\"padding-left: 1em; padding-right: 1em; text-align: center; vertical-align: top\">Phone</td>\n",
       "        <td style=\"padding-left: 1em; padding-right: 1em; text-align: center; vertical-align: top\">a</td>\n",
       "    </tr>\n",
       "</table>\n",
       "<table frame=\"box\" rules=\"cols\">\n",
       "    <tr>\n",
       "        <th style=\"padding-left: 1em; padding-right: 1em; text-align: center\">CREATIVETYPE</th>\n",
       "        <th style=\"padding-left: 1em; padding-right: 1em; text-align: center\">UA_HARDWARETYPE</th>\n",
       "        <th style=\"padding-left: 1em; padding-right: 1em; text-align: center\">UA_DEVICETYPE</th>\n",
       "        <th style=\"padding-left: 1em; padding-right: 1em; text-align: center\">UA_PLATFORM</th>\n",
       "        <th style=\"padding-left: 1em; padding-right: 1em; text-align: center\">UA_PLATFORMVERSION</th>\n",
       "        <th style=\"padding-left: 1em; padding-right: 1em; text-align: center\">UA_VENDOR</th>\n",
       "        <th style=\"padding-left: 1em; padding-right: 1em; text-align: center\">UA_MODEL</th>\n",
       "        <th style=\"padding-left: 1em; padding-right: 1em; text-align: center\">UA_OS</th>\n",
       "    </tr>\n",
       "    <tr>\n",
       "        <td style=\"padding-left: 1em; padding-right: 1em; text-align: center; vertical-align: top\">Interstitial</td>\n",
       "        <td style=\"padding-left: 1em; padding-right: 1em; text-align: center; vertical-align: top\">Mobile Phone</td>\n",
       "        <td style=\"padding-left: 1em; padding-right: 1em; text-align: center; vertical-align: top\">Phone</td>\n",
       "        <td style=\"padding-left: 1em; padding-right: 1em; text-align: center; vertical-align: top\">Android</td>\n",
       "        <td style=\"padding-left: 1em; padding-right: 1em; text-align: center; vertical-align: top\">4.3</td>\n",
       "        <td style=\"padding-left: 1em; padding-right: 1em; text-align: center; vertical-align: top\">Samsung</td>\n",
       "        <td style=\"padding-left: 1em; padding-right: 1em; text-align: center; vertical-align: top\">SM-G7102</td>\n",
       "        <td style=\"padding-left: 1em; padding-right: 1em; text-align: center; vertical-align: top\">Android</td>\n",
       "    </tr>\n",
       "    <tr>\n",
       "        <td style=\"padding-left: 1em; padding-right: 1em; text-align: center; vertical-align: top\">Interstitial</td>\n",
       "        <td style=\"padding-left: 1em; padding-right: 1em; text-align: center; vertical-align: top\">Mobile Phone</td>\n",
       "        <td style=\"padding-left: 1em; padding-right: 1em; text-align: center; vertical-align: top\">Phone</td>\n",
       "        <td style=\"padding-left: 1em; padding-right: 1em; text-align: center; vertical-align: top\">IOS</td>\n",
       "        <td style=\"padding-left: 1em; padding-right: 1em; text-align: center; vertical-align: top\">9.3</td>\n",
       "        <td style=\"padding-left: 1em; padding-right: 1em; text-align: center; vertical-align: top\">Apple</td>\n",
       "        <td style=\"padding-left: 1em; padding-right: 1em; text-align: center; vertical-align: top\">iPhone</td>\n",
       "        <td style=\"padding-left: 1em; padding-right: 1em; text-align: center; vertical-align: top\">IOS</td>\n",
       "    </tr>\n",
       "    <tr>\n",
       "        <td style=\"padding-left: 1em; padding-right: 1em; text-align: center; vertical-align: top\">Interstitial</td>\n",
       "        <td style=\"padding-left: 1em; padding-right: 1em; text-align: center; vertical-align: top\">Mobile Phone</td>\n",
       "        <td style=\"padding-left: 1em; padding-right: 1em; text-align: center; vertical-align: top\">Phone</td>\n",
       "        <td style=\"padding-left: 1em; padding-right: 1em; text-align: center; vertical-align: top\">IOS</td>\n",
       "        <td style=\"padding-left: 1em; padding-right: 1em; text-align: center; vertical-align: top\">9.2.1</td>\n",
       "        <td style=\"padding-left: 1em; padding-right: 1em; text-align: center; vertical-align: top\">Apple</td>\n",
       "        <td style=\"padding-left: 1em; padding-right: 1em; text-align: center; vertical-align: top\">iPhone</td>\n",
       "        <td style=\"padding-left: 1em; padding-right: 1em; text-align: center; vertical-align: top\">IOS</td>\n",
       "    </tr>\n",
       "    <tr>\n",
       "        <td style=\"padding-left: 1em; padding-right: 1em; text-align: center; vertical-align: top\">Interstitial</td>\n",
       "        <td style=\"padding-left: 1em; padding-right: 1em; text-align: center; vertical-align: top\">Mobile Phone</td>\n",
       "        <td style=\"padding-left: 1em; padding-right: 1em; text-align: center; vertical-align: top\">Phone</td>\n",
       "        <td style=\"padding-left: 1em; padding-right: 1em; text-align: center; vertical-align: top\">IOS</td>\n",
       "        <td style=\"padding-left: 1em; padding-right: 1em; text-align: center; vertical-align: top\">9.2.1</td>\n",
       "        <td style=\"padding-left: 1em; padding-right: 1em; text-align: center; vertical-align: top\">Apple</td>\n",
       "        <td style=\"padding-left: 1em; padding-right: 1em; text-align: center; vertical-align: top\">iPhone</td>\n",
       "        <td style=\"padding-left: 1em; padding-right: 1em; text-align: center; vertical-align: top\">IOS</td>\n",
       "    </tr>\n",
       "    <tr>\n",
       "        <td style=\"padding-left: 1em; padding-right: 1em; text-align: center; vertical-align: top\">Interstitial</td>\n",
       "        <td style=\"padding-left: 1em; padding-right: 1em; text-align: center; vertical-align: top\">Mobile Phone</td>\n",
       "        <td style=\"padding-left: 1em; padding-right: 1em; text-align: center; vertical-align: top\">Phone</td>\n",
       "        <td style=\"padding-left: 1em; padding-right: 1em; text-align: center; vertical-align: top\">IOS</td>\n",
       "        <td style=\"padding-left: 1em; padding-right: 1em; text-align: center; vertical-align: top\">9.2.1</td>\n",
       "        <td style=\"padding-left: 1em; padding-right: 1em; text-align: center; vertical-align: top\">Apple</td>\n",
       "        <td style=\"padding-left: 1em; padding-right: 1em; text-align: center; vertical-align: top\">iPhone</td>\n",
       "        <td style=\"padding-left: 1em; padding-right: 1em; text-align: center; vertical-align: top\">IOS</td>\n",
       "    </tr>\n",
       "    <tr>\n",
       "        <td style=\"padding-left: 1em; padding-right: 1em; text-align: center; vertical-align: top\">ExpandableBanner</td>\n",
       "        <td style=\"padding-left: 1em; padding-right: 1em; text-align: center; vertical-align: top\">Mobile Phone</td>\n",
       "        <td style=\"padding-left: 1em; padding-right: 1em; text-align: center; vertical-align: top\">Phone</td>\n",
       "        <td style=\"padding-left: 1em; padding-right: 1em; text-align: center; vertical-align: top\">Android</td>\n",
       "        <td style=\"padding-left: 1em; padding-right: 1em; text-align: center; vertical-align: top\">6.0.1</td>\n",
       "        <td style=\"padding-left: 1em; padding-right: 1em; text-align: center; vertical-align: top\">Samsung</td>\n",
       "        <td style=\"padding-left: 1em; padding-right: 1em; text-align: center; vertical-align: top\">SM-G930P</td>\n",
       "        <td style=\"padding-left: 1em; padding-right: 1em; text-align: center; vertical-align: top\">Android</td>\n",
       "    </tr>\n",
       "    <tr>\n",
       "        <td style=\"padding-left: 1em; padding-right: 1em; text-align: center; vertical-align: top\">ExpandableBanner</td>\n",
       "        <td style=\"padding-left: 1em; padding-right: 1em; text-align: center; vertical-align: top\">Mobile Phone</td>\n",
       "        <td style=\"padding-left: 1em; padding-right: 1em; text-align: center; vertical-align: top\">Phone</td>\n",
       "        <td style=\"padding-left: 1em; padding-right: 1em; text-align: center; vertical-align: top\">Android</td>\n",
       "        <td style=\"padding-left: 1em; padding-right: 1em; text-align: center; vertical-align: top\">4.4.4</td>\n",
       "        <td style=\"padding-left: 1em; padding-right: 1em; text-align: center; vertical-align: top\">AT&amp;T</td>\n",
       "        <td style=\"padding-left: 1em; padding-right: 1em; text-align: center; vertical-align: top\">SM-G900A</td>\n",
       "        <td style=\"padding-left: 1em; padding-right: 1em; text-align: center; vertical-align: top\">Android</td>\n",
       "    </tr>\n",
       "    <tr>\n",
       "        <td style=\"padding-left: 1em; padding-right: 1em; text-align: center; vertical-align: top\">ExpandableBanner</td>\n",
       "        <td style=\"padding-left: 1em; padding-right: 1em; text-align: center; vertical-align: top\">Mobile Phone</td>\n",
       "        <td style=\"padding-left: 1em; padding-right: 1em; text-align: center; vertical-align: top\">Phone</td>\n",
       "        <td style=\"padding-left: 1em; padding-right: 1em; text-align: center; vertical-align: top\">Android</td>\n",
       "        <td style=\"padding-left: 1em; padding-right: 1em; text-align: center; vertical-align: top\">5.0.2</td>\n",
       "        <td style=\"padding-left: 1em; padding-right: 1em; text-align: center; vertical-align: top\">HTC</td>\n",
       "        <td style=\"padding-left: 1em; padding-right: 1em; text-align: center; vertical-align: top\">One M8</td>\n",
       "        <td style=\"padding-left: 1em; padding-right: 1em; text-align: center; vertical-align: top\">Android</td>\n",
       "    </tr>\n",
       "    <tr>\n",
       "        <td style=\"padding-left: 1em; padding-right: 1em; text-align: center; vertical-align: top\">ExpandableBanner</td>\n",
       "        <td style=\"padding-left: 1em; padding-right: 1em; text-align: center; vertical-align: top\">Mobile Phone</td>\n",
       "        <td style=\"padding-left: 1em; padding-right: 1em; text-align: center; vertical-align: top\">Phone</td>\n",
       "        <td style=\"padding-left: 1em; padding-right: 1em; text-align: center; vertical-align: top\">IOS</td>\n",
       "        <td style=\"padding-left: 1em; padding-right: 1em; text-align: center; vertical-align: top\">9.2.1</td>\n",
       "        <td style=\"padding-left: 1em; padding-right: 1em; text-align: center; vertical-align: top\">Apple</td>\n",
       "        <td style=\"padding-left: 1em; padding-right: 1em; text-align: center; vertical-align: top\">iPhone</td>\n",
       "        <td style=\"padding-left: 1em; padding-right: 1em; text-align: center; vertical-align: top\">IOS</td>\n",
       "    </tr>\n",
       "    <tr>\n",
       "        <td style=\"padding-left: 1em; padding-right: 1em; text-align: center; vertical-align: top\">ExpandableBanner</td>\n",
       "        <td style=\"padding-left: 1em; padding-right: 1em; text-align: center; vertical-align: top\">Mobile Phone</td>\n",
       "        <td style=\"padding-left: 1em; padding-right: 1em; text-align: center; vertical-align: top\">Phone</td>\n",
       "        <td style=\"padding-left: 1em; padding-right: 1em; text-align: center; vertical-align: top\">Android</td>\n",
       "        <td style=\"padding-left: 1em; padding-right: 1em; text-align: center; vertical-align: top\">5.1.1</td>\n",
       "        <td style=\"padding-left: 1em; padding-right: 1em; text-align: center; vertical-align: top\">Samsung</td>\n",
       "        <td style=\"padding-left: 1em; padding-right: 1em; text-align: center; vertical-align: top\">SM-N920V</td>\n",
       "        <td style=\"padding-left: 1em; padding-right: 1em; text-align: center; vertical-align: top\">Android</td>\n",
       "    </tr>\n",
       "</table>\n",
       "<table frame=\"box\" rules=\"cols\">\n",
       "    <tr>\n",
       "        <th style=\"padding-left: 1em; padding-right: 1em; text-align: center\">UA_OSVERSION</th>\n",
       "        <th style=\"padding-left: 1em; padding-right: 1em; text-align: center\">UA_BROWSER</th>\n",
       "        <th style=\"padding-left: 1em; padding-right: 1em; text-align: center\">UA_BROWSERVERSION</th>\n",
       "        <th style=\"padding-left: 1em; padding-right: 1em; text-align: center\">UA_BROWSERRENDERINGENGINE</th>\n",
       "        <th style=\"padding-left: 1em; padding-right: 1em; text-align: center\">FILESJSON</th>\n",
       "    </tr>\n",
       "    <tr>\n",
       "        <td style=\"padding-left: 1em; padding-right: 1em; text-align: center; vertical-align: top\">4.3</td>\n",
       "        <td style=\"padding-left: 1em; padding-right: 1em; text-align: center; vertical-align: top\">Android Browser</td>\n",
       "        <td style=\"padding-left: 1em; padding-right: 1em; text-align: center; vertical-align: top\">4.0</td>\n",
       "        <td style=\"padding-left: 1em; padding-right: 1em; text-align: center; vertical-align: top\">WebKit</td>\n",
       "        <td style=\"padding-left: 1em; padding-right: 1em; text-align: center; vertical-align: top\">[]</td>\n",
       "    </tr>\n",
       "    <tr>\n",
       "        <td style=\"padding-left: 1em; padding-right: 1em; text-align: center; vertical-align: top\">9.3</td>\n",
       "        <td style=\"padding-left: 1em; padding-right: 1em; text-align: center; vertical-align: top\">Safari</td>\n",
       "        <td style=\"padding-left: 1em; padding-right: 1em; text-align: center; vertical-align: top\">null</td>\n",
       "        <td style=\"padding-left: 1em; padding-right: 1em; text-align: center; vertical-align: top\">WebKit</td>\n",
       "        <td style=\"padding-left: 1em; padding-right: 1em; text-align: center; vertical-align: top\">[{\"type\":\"image\",\"size\":3<br>7726},{\"type\":\"image\" ...</td>\n",
       "    </tr>\n",
       "    <tr>\n",
       "        <td style=\"padding-left: 1em; padding-right: 1em; text-align: center; vertical-align: top\">9.2.1</td>\n",
       "        <td style=\"padding-left: 1em; padding-right: 1em; text-align: center; vertical-align: top\">Safari</td>\n",
       "        <td style=\"padding-left: 1em; padding-right: 1em; text-align: center; vertical-align: top\">null</td>\n",
       "        <td style=\"padding-left: 1em; padding-right: 1em; text-align: center; vertical-align: top\">WebKit</td>\n",
       "        <td style=\"padding-left: 1em; padding-right: 1em; text-align: center; vertical-align: top\">[{\"type\":\"image\",\"size\":3<br>7726},{\"type\":\"image\" ...</td>\n",
       "    </tr>\n",
       "    <tr>\n",
       "        <td style=\"padding-left: 1em; padding-right: 1em; text-align: center; vertical-align: top\">9.2.1</td>\n",
       "        <td style=\"padding-left: 1em; padding-right: 1em; text-align: center; vertical-align: top\">Safari</td>\n",
       "        <td style=\"padding-left: 1em; padding-right: 1em; text-align: center; vertical-align: top\">null</td>\n",
       "        <td style=\"padding-left: 1em; padding-right: 1em; text-align: center; vertical-align: top\">WebKit</td>\n",
       "        <td style=\"padding-left: 1em; padding-right: 1em; text-align: center; vertical-align: top\">[{\"type\":\"image\",\"size\":3<br>7726},{\"type\":\"image\" ...</td>\n",
       "    </tr>\n",
       "    <tr>\n",
       "        <td style=\"padding-left: 1em; padding-right: 1em; text-align: center; vertical-align: top\">9.2.1</td>\n",
       "        <td style=\"padding-left: 1em; padding-right: 1em; text-align: center; vertical-align: top\">Safari</td>\n",
       "        <td style=\"padding-left: 1em; padding-right: 1em; text-align: center; vertical-align: top\">null</td>\n",
       "        <td style=\"padding-left: 1em; padding-right: 1em; text-align: center; vertical-align: top\">WebKit</td>\n",
       "        <td style=\"padding-left: 1em; padding-right: 1em; text-align: center; vertical-align: top\">[{\"type\":\"image\",\"size\":3<br>7726},{\"type\":\"image\" ...</td>\n",
       "    </tr>\n",
       "    <tr>\n",
       "        <td style=\"padding-left: 1em; padding-right: 1em; text-align: center; vertical-align: top\">6.0.1</td>\n",
       "        <td style=\"padding-left: 1em; padding-right: 1em; text-align: center; vertical-align: top\">Chrome Mobile</td>\n",
       "        <td style=\"padding-left: 1em; padding-right: 1em; text-align: center; vertical-align: top\">48.0.2564.106</td>\n",
       "        <td style=\"padding-left: 1em; padding-right: 1em; text-align: center; vertical-align: top\">WebKit</td>\n",
       "        <td style=\"padding-left: 1em; padding-right: 1em; text-align: center; vertical-align: top\">[{\"type\":\"image\",\"size\":1<br>9438},{\"type\":\"image\" ...</td>\n",
       "    </tr>\n",
       "    <tr>\n",
       "        <td style=\"padding-left: 1em; padding-right: 1em; text-align: center; vertical-align: top\">4.4.4</td>\n",
       "        <td style=\"padding-left: 1em; padding-right: 1em; text-align: center; vertical-align: top\">Chrome Mobile</td>\n",
       "        <td style=\"padding-left: 1em; padding-right: 1em; text-align: center; vertical-align: top\">28.0.1500.94</td>\n",
       "        <td style=\"padding-left: 1em; padding-right: 1em; text-align: center; vertical-align: top\">WebKit</td>\n",
       "        <td style=\"padding-left: 1em; padding-right: 1em; text-align: center; vertical-align: top\">[{\"type\":\"image\",\"size\":1<br>9438},{\"type\":\"image\" ...</td>\n",
       "    </tr>\n",
       "    <tr>\n",
       "        <td style=\"padding-left: 1em; padding-right: 1em; text-align: center; vertical-align: top\">5.0.2</td>\n",
       "        <td style=\"padding-left: 1em; padding-right: 1em; text-align: center; vertical-align: top\">Chrome Mobile</td>\n",
       "        <td style=\"padding-left: 1em; padding-right: 1em; text-align: center; vertical-align: top\">47.0.2526.83</td>\n",
       "        <td style=\"padding-left: 1em; padding-right: 1em; text-align: center; vertical-align: top\">WebKit</td>\n",
       "        <td style=\"padding-left: 1em; padding-right: 1em; text-align: center; vertical-align: top\">[{\"type\":\"image\",\"size\":1<br>9438},{\"type\":\"image\" ...</td>\n",
       "    </tr>\n",
       "    <tr>\n",
       "        <td style=\"padding-left: 1em; padding-right: 1em; text-align: center; vertical-align: top\">9.2.1</td>\n",
       "        <td style=\"padding-left: 1em; padding-right: 1em; text-align: center; vertical-align: top\">Safari</td>\n",
       "        <td style=\"padding-left: 1em; padding-right: 1em; text-align: center; vertical-align: top\">null</td>\n",
       "        <td style=\"padding-left: 1em; padding-right: 1em; text-align: center; vertical-align: top\">WebKit</td>\n",
       "        <td style=\"padding-left: 1em; padding-right: 1em; text-align: center; vertical-align: top\">[{\"type\":\"image\",\"size\":1<br>9438},{\"type\":\"image\" ...</td>\n",
       "    </tr>\n",
       "    <tr>\n",
       "        <td style=\"padding-left: 1em; padding-right: 1em; text-align: center; vertical-align: top\">5.1.1</td>\n",
       "        <td style=\"padding-left: 1em; padding-right: 1em; text-align: center; vertical-align: top\">Samsung Browser</td>\n",
       "        <td style=\"padding-left: 1em; padding-right: 1em; text-align: center; vertical-align: top\">4.0</td>\n",
       "        <td style=\"padding-left: 1em; padding-right: 1em; text-align: center; vertical-align: top\">WebKit</td>\n",
       "        <td style=\"padding-left: 1em; padding-right: 1em; text-align: center; vertical-align: top\">[{\"type\":\"image\",\"size\":1<br>9438},{\"type\":\"image\" ...</td>\n",
       "    </tr>\n",
       "</table>\n",
       "<table frame=\"box\" rules=\"cols\">\n",
       "    <tr>\n",
       "        <th style=\"padding-left: 1em; padding-right: 1em; text-align: center\">ERRORSJSON</th>\n",
       "        <th style=\"padding-left: 1em; padding-right: 1em; text-align: center\">COMBINEDID</th>\n",
       "        <th style=\"padding-left: 1em; padding-right: 1em; text-align: center\">COMBINEDEXTERNALID</th>\n",
       "        <th style=\"padding-left: 1em; padding-right: 1em; text-align: center\">TOPMOSTREACHABLEWINDOWARE<br>A ...</th>\n",
       "    </tr>\n",
       "    <tr>\n",
       "        <td style=\"padding-left: 1em; padding-right: 1em; text-align: center; vertical-align: top\">[]</td>\n",
       "        <td style=\"padding-left: 1em; padding-right: 1em; text-align: center; vertical-align: top\">6650fadcc0264109f8bd97655<br>8377652_a0776e9e61f79 ...</td>\n",
       "        <td style=\"padding-left: 1em; padding-right: 1em; text-align: center; vertical-align: top\">null</td>\n",
       "        <td style=\"padding-left: 1em; padding-right: 1em; text-align: center; vertical-align: top\">221400</td>\n",
       "    </tr>\n",
       "    <tr>\n",
       "        <td style=\"padding-left: 1em; padding-right: 1em; text-align: center; vertical-align: top\">[]</td>\n",
       "        <td style=\"padding-left: 1em; padding-right: 1em; text-align: center; vertical-align: top\">6650fadcc0264109f8bd97655<br>8377652_707cd8f4c8871 ...</td>\n",
       "        <td style=\"padding-left: 1em; padding-right: 1em; text-align: center; vertical-align: top\">null_375bc670eef7620bda2f<br>75a9086b1561_null ...</td>\n",
       "        <td style=\"padding-left: 1em; padding-right: 1em; text-align: center; vertical-align: top\">304704</td>\n",
       "    </tr>\n",
       "    <tr>\n",
       "        <td style=\"padding-left: 1em; padding-right: 1em; text-align: center; vertical-align: top\">[]</td>\n",
       "        <td style=\"padding-left: 1em; padding-right: 1em; text-align: center; vertical-align: top\">6650fadcc0264109f8bd97655<br>8377652_707cd8f4c8871 ...</td>\n",
       "        <td style=\"padding-left: 1em; padding-right: 1em; text-align: center; vertical-align: top\">null_375bc670eef7620bda2f<br>75a9086b1561_null ...</td>\n",
       "        <td style=\"padding-left: 1em; padding-right: 1em; text-align: center; vertical-align: top\">181760</td>\n",
       "    </tr>\n",
       "    <tr>\n",
       "        <td style=\"padding-left: 1em; padding-right: 1em; text-align: center; vertical-align: top\">[0eb9621cf2b9bb13d433e6cc<br>68747889] ...</td>\n",
       "        <td style=\"padding-left: 1em; padding-right: 1em; text-align: center; vertical-align: top\">6650fadcc0264109f8bd97655<br>8377652_707cd8f4c8871 ...</td>\n",
       "        <td style=\"padding-left: 1em; padding-right: 1em; text-align: center; vertical-align: top\">null_375bc670eef7620bda2f<br>75a9086b1561_null ...</td>\n",
       "        <td style=\"padding-left: 1em; padding-right: 1em; text-align: center; vertical-align: top\">250125</td>\n",
       "    </tr>\n",
       "    <tr>\n",
       "        <td style=\"padding-left: 1em; padding-right: 1em; text-align: center; vertical-align: top\">[]</td>\n",
       "        <td style=\"padding-left: 1em; padding-right: 1em; text-align: center; vertical-align: top\">6650fadcc0264109f8bd97655<br>8377652_707cd8f4c8871 ...</td>\n",
       "        <td style=\"padding-left: 1em; padding-right: 1em; text-align: center; vertical-align: top\">null_375bc670eef7620bda2f<br>75a9086b1561_null ...</td>\n",
       "        <td style=\"padding-left: 1em; padding-right: 1em; text-align: center; vertical-align: top\">250125</td>\n",
       "    </tr>\n",
       "    <tr>\n",
       "        <td style=\"padding-left: 1em; padding-right: 1em; text-align: center; vertical-align: top\">[218bf447841fa2da25dde740<br>8e518979] ...</td>\n",
       "        <td style=\"padding-left: 1em; padding-right: 1em; text-align: center; vertical-align: top\">MobileWeb_75552b6682f3899<br>4379b44da9e6667ce_4e1 ...</td>\n",
       "        <td style=\"padding-left: 1em; padding-right: 1em; text-align: center; vertical-align: top\">81d39ebc45daa4220b1d5cfa8<br>1ce376c_e8dfd4d5a2d3f ...</td>\n",
       "        <td style=\"padding-left: 1em; padding-right: 1em; text-align: center; vertical-align: top\">204480</td>\n",
       "    </tr>\n",
       "    <tr>\n",
       "        <td style=\"padding-left: 1em; padding-right: 1em; text-align: center; vertical-align: top\">[218bf447841fa2da25dde740<br>8e518979] ...</td>\n",
       "        <td style=\"padding-left: 1em; padding-right: 1em; text-align: center; vertical-align: top\">MobileWeb_75552b6682f3899<br>4379b44da9e6667ce_4e1 ...</td>\n",
       "        <td style=\"padding-left: 1em; padding-right: 1em; text-align: center; vertical-align: top\">81d39ebc45daa4220b1d5cfa8<br>1ce376c_e8dfd4d5a2d3f ...</td>\n",
       "        <td style=\"padding-left: 1em; padding-right: 1em; text-align: center; vertical-align: top\">230400</td>\n",
       "    </tr>\n",
       "    <tr>\n",
       "        <td style=\"padding-left: 1em; padding-right: 1em; text-align: center; vertical-align: top\">[218bf447841fa2da25dde740<br>8e518979] ...</td>\n",
       "        <td style=\"padding-left: 1em; padding-right: 1em; text-align: center; vertical-align: top\">MobileWeb_75552b6682f3899<br>4379b44da9e6667ce_4e1 ...</td>\n",
       "        <td style=\"padding-left: 1em; padding-right: 1em; text-align: center; vertical-align: top\">81d39ebc45daa4220b1d5cfa8<br>1ce376c_e8dfd4d5a2d3f ...</td>\n",
       "        <td style=\"padding-left: 1em; padding-right: 1em; text-align: center; vertical-align: top\">204120</td>\n",
       "    </tr>\n",
       "    <tr>\n",
       "        <td style=\"padding-left: 1em; padding-right: 1em; text-align: center; vertical-align: top\">[218bf447841fa2da25dde740<br>8e518979] ...</td>\n",
       "        <td style=\"padding-left: 1em; padding-right: 1em; text-align: center; vertical-align: top\">MobileWeb_75552b6682f3899<br>4379b44da9e6667ce_4e1 ...</td>\n",
       "        <td style=\"padding-left: 1em; padding-right: 1em; text-align: center; vertical-align: top\">81d39ebc45daa4220b1d5cfa8<br>1ce376c_e8dfd4d5a2d3f ...</td>\n",
       "        <td style=\"padding-left: 1em; padding-right: 1em; text-align: center; vertical-align: top\">205125</td>\n",
       "    </tr>\n",
       "    <tr>\n",
       "        <td style=\"padding-left: 1em; padding-right: 1em; text-align: center; vertical-align: top\">[218bf447841fa2da25dde740<br>8e518979] ...</td>\n",
       "        <td style=\"padding-left: 1em; padding-right: 1em; text-align: center; vertical-align: top\">MobileWeb_75552b6682f3899<br>4379b44da9e6667ce_4e1 ...</td>\n",
       "        <td style=\"padding-left: 1em; padding-right: 1em; text-align: center; vertical-align: top\">81d39ebc45daa4220b1d5cfa8<br>1ce376c_e8dfd4d5a2d3f ...</td>\n",
       "        <td style=\"padding-left: 1em; padding-right: 1em; text-align: center; vertical-align: top\">291284</td>\n",
       "    </tr>\n",
       "</table>\n",
       "<table frame=\"box\" rules=\"cols\">\n",
       "    <tr>\n",
       "        <th style=\"padding-left: 1em; padding-right: 1em; text-align: center\">PLATFORMCOMBINED</th>\n",
       "        <th style=\"padding-left: 1em; padding-right: 1em; text-align: center\">UA_OSCOMB</th>\n",
       "    </tr>\n",
       "    <tr>\n",
       "        <td style=\"padding-left: 1em; padding-right: 1em; text-align: center; vertical-align: top\">Android_4.3</td>\n",
       "        <td style=\"padding-left: 1em; padding-right: 1em; text-align: center; vertical-align: top\">Android_4.3</td>\n",
       "    </tr>\n",
       "    <tr>\n",
       "        <td style=\"padding-left: 1em; padding-right: 1em; text-align: center; vertical-align: top\">IOS_9.3</td>\n",
       "        <td style=\"padding-left: 1em; padding-right: 1em; text-align: center; vertical-align: top\">IOS_9.3</td>\n",
       "    </tr>\n",
       "    <tr>\n",
       "        <td style=\"padding-left: 1em; padding-right: 1em; text-align: center; vertical-align: top\">IOS_9.2.1</td>\n",
       "        <td style=\"padding-left: 1em; padding-right: 1em; text-align: center; vertical-align: top\">IOS_9.2.1</td>\n",
       "    </tr>\n",
       "    <tr>\n",
       "        <td style=\"padding-left: 1em; padding-right: 1em; text-align: center; vertical-align: top\">IOS_9.2.1</td>\n",
       "        <td style=\"padding-left: 1em; padding-right: 1em; text-align: center; vertical-align: top\">IOS_9.2.1</td>\n",
       "    </tr>\n",
       "    <tr>\n",
       "        <td style=\"padding-left: 1em; padding-right: 1em; text-align: center; vertical-align: top\">IOS_9.2.1</td>\n",
       "        <td style=\"padding-left: 1em; padding-right: 1em; text-align: center; vertical-align: top\">IOS_9.2.1</td>\n",
       "    </tr>\n",
       "    <tr>\n",
       "        <td style=\"padding-left: 1em; padding-right: 1em; text-align: center; vertical-align: top\">Android_6.0.1</td>\n",
       "        <td style=\"padding-left: 1em; padding-right: 1em; text-align: center; vertical-align: top\">Android_6.0.1</td>\n",
       "    </tr>\n",
       "    <tr>\n",
       "        <td style=\"padding-left: 1em; padding-right: 1em; text-align: center; vertical-align: top\">Android_4.4.4</td>\n",
       "        <td style=\"padding-left: 1em; padding-right: 1em; text-align: center; vertical-align: top\">Android_4.4.4</td>\n",
       "    </tr>\n",
       "    <tr>\n",
       "        <td style=\"padding-left: 1em; padding-right: 1em; text-align: center; vertical-align: top\">Android_5.0.2</td>\n",
       "        <td style=\"padding-left: 1em; padding-right: 1em; text-align: center; vertical-align: top\">Android_5.0.2</td>\n",
       "    </tr>\n",
       "    <tr>\n",
       "        <td style=\"padding-left: 1em; padding-right: 1em; text-align: center; vertical-align: top\">IOS_9.2.1</td>\n",
       "        <td style=\"padding-left: 1em; padding-right: 1em; text-align: center; vertical-align: top\">IOS_9.2.1</td>\n",
       "    </tr>\n",
       "    <tr>\n",
       "        <td style=\"padding-left: 1em; padding-right: 1em; text-align: center; vertical-align: top\">Android_5.1.1</td>\n",
       "        <td style=\"padding-left: 1em; padding-right: 1em; text-align: center; vertical-align: top\">Android_5.1.1</td>\n",
       "    </tr>\n",
       "</table>\n",
       "[230608 rows x 25 columns]<br/>Note: Only the head of the SFrame is printed.<br/>You can use print_rows(num_rows=m, num_columns=n) to print more rows and columns.\n",
       "</div>"
      ],
      "text/plain": [
       "Columns:\n",
       "\tADLOADINGTIME\tfloat\n",
       "\tPLACEMENTID\tstr\n",
       "\tTIMESTAMP\tint\n",
       "\tINTENDEDDEVICETYPE\tstr\n",
       "\tACTUALDEVICETYPE\tstr\n",
       "\tCDNNAME\tstr\n",
       "\tCREATIVETYPE\tstr\n",
       "\tUA_HARDWARETYPE\tstr\n",
       "\tUA_DEVICETYPE\tstr\n",
       "\tUA_PLATFORM\tstr\n",
       "\tUA_PLATFORMVERSION\tstr\n",
       "\tUA_VENDOR\tstr\n",
       "\tUA_MODEL\tstr\n",
       "\tUA_OS\tstr\n",
       "\tUA_OSVERSION\tstr\n",
       "\tUA_BROWSER\tstr\n",
       "\tUA_BROWSERVERSION\tstr\n",
       "\tUA_BROWSERRENDERINGENGINE\tstr\n",
       "\tFILESJSON\tstr\n",
       "\tERRORSJSON\tstr\n",
       "\tCOMBINEDID\tstr\n",
       "\tCOMBINEDEXTERNALID\tstr\n",
       "\tTOPMOSTREACHABLEWINDOWAREA\tint\n",
       "\tPLATFORMCOMBINED\tstr\n",
       "\tUA_OSCOMB\tstr\n",
       "\n",
       "Rows: 230608\n",
       "\n",
       "Data:\n",
       "+---------------+-------------------------------+------------+--------------------+\n",
       "| ADLOADINGTIME |          PLACEMENTID          | TIMESTAMP  | INTENDEDDEVICETYPE |\n",
       "+---------------+-------------------------------+------------+--------------------+\n",
       "|     7.121     | f6297752e6cd8cd455c55d95c0... | 1459512400 |       Phone        |\n",
       "|     1.616     | 7b76845786cdb6773e1d0024e9... | 1459513778 |       Phone        |\n",
       "|     0.947     | 36793d8fe98b79d0e6bd1ecee0... | 1459513057 |       Phone        |\n",
       "|     6.978     | 04a34aa00b34c0a400427aad3b... | 1459513155 |       Phone        |\n",
       "|     2.713     | 7e44ca19e19fd7995312204a89... | 1459514610 |       Phone        |\n",
       "|     1.695     | a6d6d6221d8bdf06d22d0a8970... | 1459516741 |       Phone        |\n",
       "|     4.639     | a6d6d6221d8bdf06d22d0a8970... | 1459516915 |       Phone        |\n",
       "|     2.059     | a6d6d6221d8bdf06d22d0a8970... | 1459516785 |       Phone        |\n",
       "|     0.796     | a6d6d6221d8bdf06d22d0a8970... | 1459517035 |       Phone        |\n",
       "|     2.244     | a6d6d6221d8bdf06d22d0a8970... | 1459517065 |       Phone        |\n",
       "+---------------+-------------------------------+------------+--------------------+\n",
       "+------------------+---------+------------------+-----------------+---------------+\n",
       "| ACTUALDEVICETYPE | CDNNAME |   CREATIVETYPE   | UA_HARDWARETYPE | UA_DEVICETYPE |\n",
       "+------------------+---------+------------------+-----------------+---------------+\n",
       "|      Phone       |    c    |   Interstitial   |   Mobile Phone  |     Phone     |\n",
       "|      Phone       |    a    |   Interstitial   |   Mobile Phone  |     Phone     |\n",
       "|      Phone       |    a    |   Interstitial   |   Mobile Phone  |     Phone     |\n",
       "|      Phone       |    c    |   Interstitial   |   Mobile Phone  |     Phone     |\n",
       "|      Phone       |    c    |   Interstitial   |   Mobile Phone  |     Phone     |\n",
       "|      Phone       |    a    | ExpandableBanner |   Mobile Phone  |     Phone     |\n",
       "|      Phone       |    c    | ExpandableBanner |   Mobile Phone  |     Phone     |\n",
       "|      Phone       |    b    | ExpandableBanner |   Mobile Phone  |     Phone     |\n",
       "|      Phone       |    a    | ExpandableBanner |   Mobile Phone  |     Phone     |\n",
       "|      Phone       |    a    | ExpandableBanner |   Mobile Phone  |     Phone     |\n",
       "+------------------+---------+------------------+-----------------+---------------+\n",
       "+-------------+--------------------+-----------+----------+---------+--------------+\n",
       "| UA_PLATFORM | UA_PLATFORMVERSION | UA_VENDOR | UA_MODEL |  UA_OS  | UA_OSVERSION |\n",
       "+-------------+--------------------+-----------+----------+---------+--------------+\n",
       "|   Android   |        4.3         |  Samsung  | SM-G7102 | Android |     4.3      |\n",
       "|     IOS     |        9.3         |   Apple   |  iPhone  |   IOS   |     9.3      |\n",
       "|     IOS     |       9.2.1        |   Apple   |  iPhone  |   IOS   |    9.2.1     |\n",
       "|     IOS     |       9.2.1        |   Apple   |  iPhone  |   IOS   |    9.2.1     |\n",
       "|     IOS     |       9.2.1        |   Apple   |  iPhone  |   IOS   |    9.2.1     |\n",
       "|   Android   |       6.0.1        |  Samsung  | SM-G930P | Android |    6.0.1     |\n",
       "|   Android   |       4.4.4        |    AT&T   | SM-G900A | Android |    4.4.4     |\n",
       "|   Android   |       5.0.2        |    HTC    |  One M8  | Android |    5.0.2     |\n",
       "|     IOS     |       9.2.1        |   Apple   |  iPhone  |   IOS   |    9.2.1     |\n",
       "|   Android   |       5.1.1        |  Samsung  | SM-N920V | Android |    5.1.1     |\n",
       "+-------------+--------------------+-----------+----------+---------+--------------+\n",
       "+-----------------+-------------------+---------------------------+\n",
       "|    UA_BROWSER   | UA_BROWSERVERSION | UA_BROWSERRENDERINGENGINE |\n",
       "+-----------------+-------------------+---------------------------+\n",
       "| Android Browser |        4.0        |           WebKit          |\n",
       "|      Safari     |        null       |           WebKit          |\n",
       "|      Safari     |        null       |           WebKit          |\n",
       "|      Safari     |        null       |           WebKit          |\n",
       "|      Safari     |        null       |           WebKit          |\n",
       "|  Chrome Mobile  |   48.0.2564.106   |           WebKit          |\n",
       "|  Chrome Mobile  |    28.0.1500.94   |           WebKit          |\n",
       "|  Chrome Mobile  |    47.0.2526.83   |           WebKit          |\n",
       "|      Safari     |        null       |           WebKit          |\n",
       "| Samsung Browser |        4.0        |           WebKit          |\n",
       "+-----------------+-------------------+---------------------------+\n",
       "+-------------------------------+-------------------------------+-----+\n",
       "|           FILESJSON           |           ERRORSJSON          | ... |\n",
       "+-------------------------------+-------------------------------+-----+\n",
       "|               []              |               []              | ... |\n",
       "| [{\"type\":\"image\",\"size\":37... |               []              | ... |\n",
       "| [{\"type\":\"image\",\"size\":37... |               []              | ... |\n",
       "| [{\"type\":\"image\",\"size\":37... | [0eb9621cf2b9bb13d433e6cc6... | ... |\n",
       "| [{\"type\":\"image\",\"size\":37... |               []              | ... |\n",
       "| [{\"type\":\"image\",\"size\":19... | [218bf447841fa2da25dde7408... | ... |\n",
       "| [{\"type\":\"image\",\"size\":19... | [218bf447841fa2da25dde7408... | ... |\n",
       "| [{\"type\":\"image\",\"size\":19... | [218bf447841fa2da25dde7408... | ... |\n",
       "| [{\"type\":\"image\",\"size\":19... | [218bf447841fa2da25dde7408... | ... |\n",
       "| [{\"type\":\"image\",\"size\":19... | [218bf447841fa2da25dde7408... | ... |\n",
       "+-------------------------------+-------------------------------+-----+\n",
       "[230608 rows x 25 columns]\n",
       "Note: Only the head of the SFrame is printed.\n",
       "You can use print_rows(num_rows=m, num_columns=n) to print more rows and columns."
      ]
     },
     "execution_count": 131,
     "metadata": {},
     "output_type": "execute_result"
    }
   ],
   "source": [
    "data.remove_columns(['UA_BROWSERCOMB', 'UA_VENDORMODEL']);"
   ]
  },
  {
   "cell_type": "code",
   "execution_count": 132,
   "metadata": {
    "collapsed": true
   },
   "outputs": [],
   "source": [
    "data.remove_columns(['UA_OS', 'UA_OSVERSION']);"
   ]
  },
  {
   "cell_type": "markdown",
   "metadata": {},
   "source": [
    "###### New feature: waht if INTENDEDDEVICETYPE and ACTUALDEVICETYPE differs"
   ]
  },
  {
   "cell_type": "code",
   "execution_count": 99,
   "metadata": {
    "collapsed": true
   },
   "outputs": [],
   "source": [
    "data['INTENDENTISACTUALDEVICETYPE'] = data['INTENDEDDEVICETYPE']==data['ACTUALDEVICETYPE']"
   ]
  },
  {
   "cell_type": "code",
   "execution_count": 101,
   "metadata": {
    "collapsed": false
   },
   "outputs": [
    {
     "name": "stdout",
     "output_type": "stream",
     "text": [
      "COMBINEDID: 3.4749\n",
      "COMBINEDID and INTENDEDDEVICETYPE: 3.4749\n",
      "COMBINEDID and ACTUALDEVICETYPE: 3.4720\n",
      "COMBINEDID and INTENDEDDEVICETYPE and ACTUALDEVICETYPE: 3.4720\n",
      "COMBINEDID and INTENDENTISACTUALDEVICETYPE: 3.4733\n",
      "COMBINEDID and INTENDENTISACTUALDEVICETYPE and ACTUALDEVICETYPE: 3.4718\n"
     ]
    }
   ],
   "source": [
    "train_data,test_data = data.random_split(.5,seed=1)\n",
    "\n",
    "def eval_LR_features(feat, name):\n",
    "    LR_model = graphlab.linear_regression.create(train_data, target='ADLOADINGTIME',features=feat,validation_set=test_data, max_iterations=100,verbose=False)\n",
    "    model = LR_model\n",
    "    rms = graphlab.evaluation.rmse(test_data['ADLOADINGTIME'],model.predict(test_data))\n",
    "    print(\"{}: {:.4f}\".format(name,rms))\n",
    "\n",
    "eval_LR_features(['COMBINEDID'], 'COMBINEDID')\n",
    "eval_LR_features(['COMBINEDID', 'INTENDEDDEVICETYPE'], 'COMBINEDID and INTENDEDDEVICETYPE')\n",
    "eval_LR_features(['COMBINEDID', 'ACTUALDEVICETYPE'], 'COMBINEDID and ACTUALDEVICETYPE')\n",
    "eval_LR_features(['COMBINEDID', 'INTENDEDDEVICETYPE', 'ACTUALDEVICETYPE'], 'COMBINEDID and INTENDEDDEVICETYPE and ACTUALDEVICETYPE')\n",
    "eval_LR_features(['COMBINEDID', 'INTENDENTISACTUALDEVICETYPE'], 'COMBINEDID and INTENDENTISACTUALDEVICETYPE')\n",
    "eval_LR_features(['COMBINEDID', 'INTENDENTISACTUALDEVICETYPE', 'ACTUALDEVICETYPE'], 'COMBINEDID and INTENDENTISACTUALDEVICETYPE and ACTUALDEVICETYPE')"
   ]
  },
  {
   "cell_type": "markdown",
   "metadata": {},
   "source": [
    "**CONCLUSIONS**\n",
    "\n",
    "INTENDEDDEVICETYPE not really needed, retain only ACTUALDEVICETYPE\n",
    "\n",
    "INTENDENTISACTUALDEVICETYPE can help just a little bit with RF however not with LR -> retain it, why not"
   ]
  },
  {
   "cell_type": "markdown",
   "metadata": {},
   "source": [
    "Remaining features:"
   ]
  },
  {
   "cell_type": "code",
   "execution_count": 100,
   "metadata": {
    "collapsed": false
   },
   "outputs": [
    {
     "data": {
      "text/plain": [
       "{'ACTUALDEVICETYPE': 'Phone',\n",
       " 'ADLOADINGTIME': 7.121,\n",
       " 'COMBINEDEXTERNALID': 'null',\n",
       " 'COMBINEDID': '6650fadcc0264109f8bd976558377652_a0776e9e61f79615d93907ec5710c9fa_ab0a0251add6aba71e800537c6a729c8_83361d7aa1757e5f8e9ed97b71a8c49b_b46e86833f3f102dfeca4b7a13d6db21',\n",
       " 'CREATIVETYPE': 'Interstitial',\n",
       " 'ERRORSJSON': '[]',\n",
       " 'FILESJSON': '[]',\n",
       " 'FILESJSON_SIZE': 0L,\n",
       " 'INTENDEDDEVICETYPE': 'Phone',\n",
       " 'INTENDENTISACTUALDEVICETYPE': 1L,\n",
       " 'PLACEMENTID': 'f6297752e6cd8cd455c55d95c085035d',\n",
       " 'PLATFORMCOMBINED': 'Android_4.3',\n",
       " 'TIMESTAMP': 1459512400L,\n",
       " 'TOPMOSTREACHABLEWINDOWAREA': 221400L,\n",
       " 'UA_BROWSER': 'Android Browser',\n",
       " 'UA_BROWSERRENDERINGENGINE': 'WebKit',\n",
       " 'UA_BROWSERVERSION': '4.0',\n",
       " 'UA_DEVICETYPE': 'Phone',\n",
       " 'UA_HARDWARETYPE': 'Mobile Phone',\n",
       " 'UA_MODEL': 'SM-G7102',\n",
       " 'UA_OSCOMB': 'Android_4.3',\n",
       " 'UA_VENDOR': 'Samsung'}"
      ]
     },
     "execution_count": 100,
     "metadata": {},
     "output_type": "execute_result"
    }
   ],
   "source": [
    "data[0]"
   ]
  },
  {
   "cell_type": "markdown",
   "metadata": {},
   "source": [
    "###Effect of progressively adding more features"
   ]
  },
  {
   "cell_type": "code",
   "execution_count": 121,
   "metadata": {
    "collapsed": false,
    "scrolled": true
   },
   "outputs": [
    {
     "name": "stdout",
     "output_type": "stream",
     "text": [
      "PLACEMENTID: 3.4629\n",
      "TIMESTAMP: 3.4684\n",
      "INTENDEDDEVICETYPE: 3.4685\n",
      "ACTUALDEVICETYPE: 3.4655\n",
      "CDNNAME: 3.4687\n",
      "CREATIVETYPE: 3.4685\n",
      "UA_HARDWARETYPE: 3.4648\n",
      "UA_DEVICETYPE: 3.4655\n",
      "UA_PLATFORM: 3.3706\n",
      "UA_PLATFORMVERSION: 3.3457\n",
      "UA_VENDOR: 3.3694\n",
      "UA_MODEL: 3.3565\n",
      "UA_OS: 3.3693\n",
      "UA_OSVERSION: 3.3419\n",
      "UA_BROWSER: 3.3737\n",
      "UA_BROWSERVERSION: 3.3385\n",
      "UA_BROWSERRENDERINGENGINE: 3.4672\n",
      "FILESJSON: 3.4686\n",
      "ERRORSJSON: 3.4676\n",
      "COMBINEDEXTERNALID: 3.4701\n",
      "TOPMOSTREACHABLEWINDOWAREA: 3.4645\n",
      "PLATFORMCOMBINED: 3.3448\n"
     ]
    }
   ],
   "source": [
    "train_data,test_data = data.random_split(.5,seed=1)\n",
    "\n",
    "for col in data.column_names():\n",
    "    if col != 'ADLOADINGTIME' and  col != 'COMBINEDID':# and col != 'UA_BROWSERVERSION':\n",
    "        #sqft_model = graphlab.linear_regression.create(train_data, target='ADLOADINGTIME',features=[col,'CREATIVEID','UA_BROWSERVERSION'],validation_set=test_data, max_iterations=100,verbose=False)\n",
    "        LR_model = graphlab.linear_regression.create(train_data, target='ADLOADINGTIME',features=[col,'COMBINEDID'],validation_set=test_data, max_iterations=100,verbose=False)\n",
    "        model = LR_model\n",
    "        rms = graphlab.evaluation.rmse(test_data['ADLOADINGTIME'],model.predict(test_data))\n",
    "        print(\"{}: {:.4f}\".format(col,rms))"
   ]
  },
  {
   "cell_type": "code",
   "execution_count": 19,
   "metadata": {
    "collapsed": false
   },
   "outputs": [
    {
     "name": "stdout",
     "output_type": "stream",
     "text": [
      ": 3.2613\n",
      "PLACEMENTID: 3.2630\n",
      "INTENDEDDEVICETYPE: 3.2616\n",
      "CDNNAME: 3.2618\n",
      "UA_HARDWARETYPE: 3.2618\n",
      "UA_DEVICETYPE: 3.2616\n",
      "UA_MODEL: 3.2732\n",
      "UA_BROWSERRENDERINGENGINE: 3.2615\n",
      "TOPMOSTREACHABLEWINDOWAREA: 3.2675\n"
     ]
    }
   ],
   "source": [
    "train_data,test_data = data.random_split(.5,seed=1)\n",
    "\n",
    "LR_model = graphlab.linear_regression.create(train_data, target='ADLOADINGTIME',features=['COMBINEDID', 'UA_BROWSERVERSION', 'UA_OSCOMB', 'UA_VENDOR', 'PLATFORMCOMBINED', 'COMBINEDEXTERNALID', 'FILESJSON','ACTUALDEVICETYPE','ERRORSJSON','UA_BROWSER','TIMESTAMP','CREATIVETYPE'],validation_set=test_data, max_iterations=50,verbose=False)\n",
    "model = LR_model\n",
    "rms = graphlab.evaluation.rmse(test_data['ADLOADINGTIME'],model.predict(test_data))\n",
    "print(\"{}: {:.4f}\".format('',rms))\n",
    "\n",
    "for col in data.column_names():\n",
    "    #if col != 'ADLOADINGTIME' and  col != 'COMBINEDID' and col != 'UA_BROWSERVERSION' and col != 'UA_PLATFORMCOMBINED':\n",
    "    if col != 'ADLOADINGTIME' and  col != 'COMBINEDID' and col != 'UA_BROWSERVERSION' and col != 'UA_OSCOMB'and col != 'UA_VENDOR' and col != 'PLATFORMCOMBINED' and col != 'COMBINEDEXTERNALID' and col != 'FILESJSON' and col!='ACTUALDEVICETYPE' and col!= 'ERRORSJSON' and col != 'UA_BROWSER' and col != 'TIMESTAMP' and col != 'CREATIVETYPE':\n",
    "        #sqft_model = graphlab.linear_regression.create(train_data, target='ADLOADINGTIME',features=[col,'CREATIVEID','UA_BROWSERVERSION'],validation_set=test_data, max_iterations=100,verbose=False)\n",
    "        #LR_model = graphlab.linear_regression.create(train_data, target='ADLOADINGTIME',features=[col,'COMBINEDID', 'UA_BROWSERVERSION', 'UA_PLATFORMCOMBINED'],validation_set=test_data, max_iterations=100,verbose=False)\n",
    "        LR_model = graphlab.linear_regression.create(train_data, target='ADLOADINGTIME',features=[col,'COMBINEDID', 'UA_BROWSERVERSION', 'UA_OSCOMB', 'UA_VENDOR', 'PLATFORMCOMBINED', 'COMBINEDEXTERNALID', 'FILESJSON','ACTUALDEVICETYPE','ERRORSJSON','UA_BROWSER','TIMESTAMP','CREATIVETYPE'],validation_set=test_data, max_iterations=50,verbose=False)\n",
    "        model = LR_model\n",
    "        rms = graphlab.evaluation.rmse(test_data['ADLOADINGTIME'],model.predict(test_data))\n",
    "        print(\"{}: {:.4f}\".format(col,rms))"
   ]
  },
  {
   "cell_type": "code",
   "execution_count": 53,
   "metadata": {
    "collapsed": false,
    "scrolled": true
   },
   "outputs": [
    {
     "name": "stdout",
     "output_type": "stream",
     "text": [
      ": 3.2615\n",
      "PLACEMENTID: 3.2630\n",
      "PLATFORM: 3.2613\n",
      "PLATFORMVERSION: 3.2616\n",
      "INTENDEDDEVICETYPE: 3.2612\n",
      "ACTUALDEVICETYPE: 3.2615\n",
      "UA_DEVICETYPE: 3.2617\n",
      "UA_PLATFORM: 3.2619\n",
      "FILESJSON: 3.2613\n",
      "FILESJSON_SIZE: 3.2618\n",
      "PLATFORMCOMBINED: 3.2614\n"
     ]
    }
   ],
   "source": [
    "#train_data,test_data = data.random_split(.5,seed=1)\n",
    "\n",
    "LR_model = graphlab.linear_regression.create(train_data, target='ADLOADINGTIME',features=['COMBINEDID','UA_BROWSERVERSION','UA_OSCOMB','COMBINEDEXTERNALID','TIMESTAMP','ERRORSJSON','UA_BROWSER','UA_HARDWARETYPE','UA_VENDOR','UA_BROWSERRENDERINGENGINE','CREATIVETYPE','UA_PLATFORMVERSION'],validation_set=test_data, max_iterations=50,verbose=False)\n",
    "model = LR_model\n",
    "rms = graphlab.evaluation.rmse(test_data['ADLOADINGTIME'],model.predict(test_data))\n",
    "print(\"{}: {:.4f}\".format('',rms))\n",
    "\n",
    "for col in data.column_names():\n",
    "    #if col != 'ADLOADINGTIME' and  col != 'COMBINEDID' and col != 'UA_BROWSERVERSION' and col != 'UA_PLATFORMCOMBINED':\n",
    "    if col != 'ADLOADINGTIME' and col!='COMBINEDID' and col!='UA_BROWSERVERSION' and col!='UA_OSCOMB' and col!='COMBINEDEXTERNALID' and col != 'TIMESTAMP' and col!='ERRORSJSON' and col != 'UA_BROWSER' and col != 'UA_HARDWARETYPE' and col != 'UA_VENDOR' and col != 'UA_BROWSERRENDERINGENGINE' and col != 'CREATIVETYPE' and col != 'UA_PLATFORMVERSION':\n",
    "        #sqft_model = graphlab.linear_regression.create(train_data, target='ADLOADINGTIME',features=[col,'CREATIVEID','UA_BROWSERVERSION'],validation_set=test_data, max_iterations=100,verbose=False)\n",
    "        #LR_model = graphlab.linear_regression.create(train_data, target='ADLOADINGTIME',features=[col,'COMBINEDID', 'UA_BROWSERVERSION', 'UA_PLATFORMCOMBINED'],validation_set=test_data, max_iterations=100,verbose=False)\n",
    "        LR_model = graphlab.linear_regression.create(train_data, target='ADLOADINGTIME',features=[col,'COMBINEDID','UA_BROWSERVERSION','UA_OSCOMB','COMBINEDEXTERNALID','TIMESTAMP','ERRORSJSON','UA_BROWSER','UA_HARDWARETYPE','UA_VENDOR','UA_BROWSERRENDERINGENGINE','CREATIVETYPE','UA_PLATFORMVERSION'],validation_set=test_data, max_iterations=50,verbose=False)\n",
    "        model = LR_model\n",
    "        rms = graphlab.evaluation.rmse(test_data['ADLOADINGTIME'],model.predict(test_data))\n",
    "        print(\"{}: {:.4f}\".format(col,rms))"
   ]
  },
  {
   "cell_type": "markdown",
   "metadata": {},
   "source": [
    "**CONCLUSIONS**\n",
    "\n",
    "Minimum set of features for linear regression:\n",
    "\n",
    "'ADLOADINGTIME','COMBINEDID', 'UA_BROWSERVERSION', 'UA_OSCOMB', 'UA_VENDOR', 'PLATFORMCOMBINED', 'COMBINEDEXTERNALID', 'FILESJSON','ACTUALDEVICETYPE','ERRORSJSON','UA_BROWSER','TIMESTAMP','CREATIVETYPE'"
   ]
  },
  {
   "cell_type": "markdown",
   "metadata": {},
   "source": [
    "##Evaluation using linear regression"
   ]
  },
  {
   "cell_type": "code",
   "execution_count": 103,
   "metadata": {
    "collapsed": true
   },
   "outputs": [],
   "source": [
    "tmp = data['ADLOADINGTIME','COMBINEDID', 'UA_BROWSERVERSION', 'UA_OSCOMB', 'UA_VENDOR', 'PLATFORMCOMBINED', 'COMBINEDEXTERNALID', 'FILESJSON','ACTUALDEVICETYPE','ERRORSJSON','UA_BROWSER','TIMESTAMP','CREATIVETYPE']"
   ]
  },
  {
   "cell_type": "code",
   "execution_count": 104,
   "metadata": {
    "collapsed": false,
    "scrolled": false
   },
   "outputs": [
    {
     "data": {
      "text/html": [
       "<pre>Linear regression:</pre>"
      ],
      "text/plain": [
       "Linear regression:"
      ]
     },
     "metadata": {},
     "output_type": "display_data"
    },
    {
     "data": {
      "text/html": [
       "<pre>--------------------------------------------------------</pre>"
      ],
      "text/plain": [
       "--------------------------------------------------------"
      ]
     },
     "metadata": {},
     "output_type": "display_data"
    },
    {
     "data": {
      "text/html": [
       "<pre>Number of examples          : 116524</pre>"
      ],
      "text/plain": [
       "Number of examples          : 116524"
      ]
     },
     "metadata": {},
     "output_type": "display_data"
    },
    {
     "data": {
      "text/html": [
       "<pre>Number of features          : 13</pre>"
      ],
      "text/plain": [
       "Number of features          : 13"
      ]
     },
     "metadata": {},
     "output_type": "display_data"
    },
    {
     "data": {
      "text/html": [
       "<pre>Number of unpacked features : 13</pre>"
      ],
      "text/plain": [
       "Number of unpacked features : 13"
      ]
     },
     "metadata": {},
     "output_type": "display_data"
    },
    {
     "data": {
      "text/html": [
       "<pre>Number of coefficients    : 9501</pre>"
      ],
      "text/plain": [
       "Number of coefficients    : 9501"
      ]
     },
     "metadata": {},
     "output_type": "display_data"
    },
    {
     "data": {
      "text/html": [
       "<pre>Starting L-BFGS</pre>"
      ],
      "text/plain": [
       "Starting L-BFGS"
      ]
     },
     "metadata": {},
     "output_type": "display_data"
    },
    {
     "data": {
      "text/html": [
       "<pre>--------------------------------------------------------</pre>"
      ],
      "text/plain": [
       "--------------------------------------------------------"
      ]
     },
     "metadata": {},
     "output_type": "display_data"
    },
    {
     "data": {
      "text/html": [
       "<pre>+-----------+----------+-----------+--------------+--------------------+----------------------+---------------+-----------------+</pre>"
      ],
      "text/plain": [
       "+-----------+----------+-----------+--------------+--------------------+----------------------+---------------+-----------------+"
      ]
     },
     "metadata": {},
     "output_type": "display_data"
    },
    {
     "data": {
      "text/html": [
       "<pre>| Iteration | Passes   | Step size | Elapsed Time | Training-max_error | Validation-max_error | Training-rmse | Validation-rmse |</pre>"
      ],
      "text/plain": [
       "| Iteration | Passes   | Step size | Elapsed Time | Training-max_error | Validation-max_error | Training-rmse | Validation-rmse |"
      ]
     },
     "metadata": {},
     "output_type": "display_data"
    },
    {
     "data": {
      "text/html": [
       "<pre>+-----------+----------+-----------+--------------+--------------------+----------------------+---------------+-----------------+</pre>"
      ],
      "text/plain": [
       "+-----------+----------+-----------+--------------+--------------------+----------------------+---------------+-----------------+"
      ]
     },
     "metadata": {},
     "output_type": "display_data"
    },
    {
     "data": {
      "text/html": [
       "<pre>| 1         | 6        | 0.000000  | 0.265015     | 16.378900          | 16.494300            | 3.497875      | 3.519177        |</pre>"
      ],
      "text/plain": [
       "| 1         | 6        | 0.000000  | 0.265015     | 16.378900          | 16.494300            | 3.497875      | 3.519177        |"
      ]
     },
     "metadata": {},
     "output_type": "display_data"
    },
    {
     "data": {
      "text/html": [
       "<pre>| 2         | 9        | 5.000000  | 0.469027     | 17.085073          | 17.133558            | 3.153341      | 3.300617        |</pre>"
      ],
      "text/plain": [
       "| 2         | 9        | 5.000000  | 0.469027     | 17.085073          | 17.133558            | 3.153341      | 3.300617        |"
      ]
     },
     "metadata": {},
     "output_type": "display_data"
    },
    {
     "data": {
      "text/html": [
       "<pre>| 3         | 10       | 5.000000  | 0.584034     | 24.620016          | 39.000159            | 4.844549      | 5.067211        |</pre>"
      ],
      "text/plain": [
       "| 3         | 10       | 5.000000  | 0.584034     | 24.620016          | 39.000159            | 4.844549      | 5.067211        |"
      ]
     },
     "metadata": {},
     "output_type": "display_data"
    },
    {
     "data": {
      "text/html": [
       "<pre>| 4         | 12       | 1.000000  | 0.758044     | 17.614629          | 17.478601            | 3.044576      | 3.263763        |</pre>"
      ],
      "text/plain": [
       "| 4         | 12       | 1.000000  | 0.758044     | 17.614629          | 17.478601            | 3.044576      | 3.263763        |"
      ]
     },
     "metadata": {},
     "output_type": "display_data"
    },
    {
     "data": {
      "text/html": [
       "<pre>| 5         | 13       | 1.000000  | 0.880051     | 17.626021          | 17.391837            | 3.032534      | 3.260502        |</pre>"
      ],
      "text/plain": [
       "| 5         | 13       | 1.000000  | 0.880051     | 17.626021          | 17.391837            | 3.032534      | 3.260502        |"
      ]
     },
     "metadata": {},
     "output_type": "display_data"
    },
    {
     "data": {
      "text/html": [
       "<pre>| 6         | 14       | 1.000000  | 0.997057     | 17.842394          | 18.264920            | 3.018821      | 3.275606        |</pre>"
      ],
      "text/plain": [
       "| 6         | 14       | 1.000000  | 0.997057     | 17.842394          | 18.264920            | 3.018821      | 3.275606        |"
      ]
     },
     "metadata": {},
     "output_type": "display_data"
    },
    {
     "data": {
      "text/html": [
       "<pre>| 10        | 18       | 1.000000  | 1.437083     | 17.392661          | 17.953992            | 3.003519      | 3.261255        |</pre>"
      ],
      "text/plain": [
       "| 10        | 18       | 1.000000  | 1.437083     | 17.392661          | 17.953992            | 3.003519      | 3.261255        |"
      ]
     },
     "metadata": {},
     "output_type": "display_data"
    },
    {
     "data": {
      "text/html": [
       "<pre>| 11        | 19       | 1.000000  | 1.541088     | 17.356951          | 17.512168            | 3.002222      | 3.255243        |</pre>"
      ],
      "text/plain": [
       "| 11        | 19       | 1.000000  | 1.541088     | 17.356951          | 17.512168            | 3.002222      | 3.255243        |"
      ]
     },
     "metadata": {},
     "output_type": "display_data"
    },
    {
     "data": {
      "text/html": [
       "<pre>| 20        | 28       | 1.000000  | 2.442140     | 17.247095          | 17.838724            | 2.995633      | 3.255223        |</pre>"
      ],
      "text/plain": [
       "| 20        | 28       | 1.000000  | 2.442140     | 17.247095          | 17.838724            | 2.995633      | 3.255223        |"
      ]
     },
     "metadata": {},
     "output_type": "display_data"
    },
    {
     "data": {
      "text/html": [
       "<pre>| 30        | 38       | 1.000000  | 3.590206     | 17.301070          | 18.720726            | 2.994953      | 3.257004        |</pre>"
      ],
      "text/plain": [
       "| 30        | 38       | 1.000000  | 3.590206     | 17.301070          | 18.720726            | 2.994953      | 3.257004        |"
      ]
     },
     "metadata": {},
     "output_type": "display_data"
    },
    {
     "data": {
      "text/html": [
       "<pre>| 40        | 48       | 1.000000  | 4.678268     | 17.278442          | 21.720858            | 2.994678      | 3.260014        |</pre>"
      ],
      "text/plain": [
       "| 40        | 48       | 1.000000  | 4.678268     | 17.278442          | 21.720858            | 2.994678      | 3.260014        |"
      ]
     },
     "metadata": {},
     "output_type": "display_data"
    },
    {
     "data": {
      "text/html": [
       "<pre>| 50        | 58       | 1.000000  | 5.837334     | 17.288097          | 22.289371            | 2.994503      | 3.261961        |</pre>"
      ],
      "text/plain": [
       "| 50        | 58       | 1.000000  | 5.837334     | 17.288097          | 22.289371            | 2.994503      | 3.261961        |"
      ]
     },
     "metadata": {},
     "output_type": "display_data"
    },
    {
     "data": {
      "text/html": [
       "<pre>| 51        | 59       | 1.000000  | 5.949341     | 17.285156          | 22.158846            | 2.994492      | 3.262187        |</pre>"
      ],
      "text/plain": [
       "| 51        | 59       | 1.000000  | 5.949341     | 17.285156          | 22.158846            | 2.994492      | 3.262187        |"
      ]
     },
     "metadata": {},
     "output_type": "display_data"
    },
    {
     "data": {
      "text/html": [
       "<pre>| 60        | 68       | 1.000000  | 6.902395     | 17.284969          | 19.991480            | 2.994375      | 3.264163        |</pre>"
      ],
      "text/plain": [
       "| 60        | 68       | 1.000000  | 6.902395     | 17.284969          | 19.991480            | 2.994375      | 3.264163        |"
      ]
     },
     "metadata": {},
     "output_type": "display_data"
    },
    {
     "data": {
      "text/html": [
       "<pre>| 70        | 78       | 1.000000  | 8.026459     | 17.285815          | 20.017761            | 2.994334      | 3.264978        |</pre>"
      ],
      "text/plain": [
       "| 70        | 78       | 1.000000  | 8.026459     | 17.285815          | 20.017761            | 2.994334      | 3.264978        |"
      ]
     },
     "metadata": {},
     "output_type": "display_data"
    },
    {
     "data": {
      "text/html": [
       "<pre>| 80        | 90       | 1.000000  | 9.243529     | 17.284683          | 19.968059            | 2.994315      | 3.265240        |</pre>"
      ],
      "text/plain": [
       "| 80        | 90       | 1.000000  | 9.243529     | 17.284683          | 19.968059            | 2.994315      | 3.265240        |"
      ]
     },
     "metadata": {},
     "output_type": "display_data"
    },
    {
     "data": {
      "text/html": [
       "<pre>| 90        | 100      | 1.000000  | 10.388594    | 17.281619          | 20.559533            | 2.994297      | 3.264813        |</pre>"
      ],
      "text/plain": [
       "| 90        | 100      | 1.000000  | 10.388594    | 17.281619          | 20.559533            | 2.994297      | 3.264813        |"
      ]
     },
     "metadata": {},
     "output_type": "display_data"
    },
    {
     "data": {
      "text/html": [
       "<pre>| 100       | 110      | 1.000000  | 11.578663    | 17.288191          | 20.002165            | 2.994273      | 3.264513        |</pre>"
      ],
      "text/plain": [
       "| 100       | 110      | 1.000000  | 11.578663    | 17.288191          | 20.002165            | 2.994273      | 3.264513        |"
      ]
     },
     "metadata": {},
     "output_type": "display_data"
    },
    {
     "data": {
      "text/html": [
       "<pre>+-----------+----------+-----------+--------------+--------------------+----------------------+---------------+-----------------+</pre>"
      ],
      "text/plain": [
       "+-----------+----------+-----------+--------------+--------------------+----------------------+---------------+-----------------+"
      ]
     },
     "metadata": {},
     "output_type": "display_data"
    },
    {
     "data": {
      "text/html": [
       "<pre>TERMINATED: Iteration limit reached.</pre>"
      ],
      "text/plain": [
       "TERMINATED: Iteration limit reached."
      ]
     },
     "metadata": {},
     "output_type": "display_data"
    },
    {
     "data": {
      "text/html": [
       "<pre>This model may not be optimal. To improve it, consider increasing `max_iterations`.</pre>"
      ],
      "text/plain": [
       "This model may not be optimal. To improve it, consider increasing `max_iterations`."
      ]
     },
     "metadata": {},
     "output_type": "display_data"
    },
    {
     "name": "stdout",
     "output_type": "stream",
     "text": [
      "ALL FEATURES: 3.2645\n"
     ]
    }
   ],
   "source": [
    "train_data,test_data = tmp.random_split(.5,seed=1)\n",
    "\n",
    "LR_model = graphlab.linear_regression.create(train_data, target='ADLOADINGTIME',validation_set=test_data, max_iterations=100,verbose=True)\n",
    "model = LR_model\n",
    "rms = graphlab.evaluation.rmse(test_data['ADLOADINGTIME'],model.predict(test_data))\n",
    "print(\"{}: {:.4f}\".format('ALL FEATURES',rms))"
   ]
  },
  {
   "cell_type": "code",
   "execution_count": 92,
   "metadata": {
    "collapsed": false,
    "scrolled": false
   },
   "outputs": [
    {
     "data": {
      "text/plain": [
       "(array([  9.77000000e+02,   2.62900000e+03,   7.00500000e+03,\n",
       "          1.14380000e+04,   1.39900000e+04,   1.34610000e+04,\n",
       "          1.40080000e+04,   1.18870000e+04,   8.53000000e+03,\n",
       "          6.89400000e+03,   5.32700000e+03,   4.26600000e+03,\n",
       "          3.76400000e+03,   3.18200000e+03,   2.18200000e+03,\n",
       "          1.51100000e+03,   1.09700000e+03,   8.95000000e+02,\n",
       "          4.89000000e+02,   4.44000000e+02,   2.84000000e+02,\n",
       "          3.69000000e+02,   3.24000000e+02,   4.49000000e+02,\n",
       "          2.21000000e+02,   1.17000000e+02,   4.50000000e+01,\n",
       "          5.40000000e+01,   2.40000000e+01,   2.60000000e+01,\n",
       "          1.40000000e+01,   1.20000000e+01,   1.20000000e+01,\n",
       "          5.00000000e+00,   1.00000000e+01]),\n",
       " array([  0. ,   0.5,   1. ,   1.5,   2. ,   2.5,   3. ,   3.5,   4. ,\n",
       "          4.5,   5. ,   5.5,   6. ,   6.5,   7. ,   7.5,   8. ,   8.5,\n",
       "          9. ,   9.5,  10. ,  10.5,  11. ,  11.5,  12. ,  12.5,  13. ,\n",
       "         13.5,  14. ,  14.5,  15. ,  15.5,  16. ,  16.5,  17. ,  17.5]),\n",
       " <a list of 35 Patch objects>)"
      ]
     },
     "execution_count": 92,
     "metadata": {},
     "output_type": "execute_result"
    },
    {
     "data": {
      "image/png": "[encoded data removed]",
      "text/plain": [
       "<matplotlib.figure.Figure at 0x825915f8>"
      ]
     },
     "metadata": {},
     "output_type": "display_data"
    }
   ],
   "source": [
    "plt.hist(test_data['ADLOADINGTIME'],  bins=np.arange(0, int(max(test_data['ADLOADINGTIME'])),0.5),alpha=0.5)\n",
    "test_data_predict = LR_model.predict(test_data)\n",
    "plt.hist(test_data_predict,  bins=np.arange(0, int(max(test_data['ADLOADINGTIME'])),0.5), alpha=0.5)"
   ]
  },
  {
   "cell_type": "code",
   "execution_count": 97,
   "metadata": {
    "collapsed": false
   },
   "outputs": [
    {
     "data": {
      "text/plain": [
       "3.264962651196299"
      ]
     },
     "execution_count": 97,
     "metadata": {},
     "output_type": "execute_result"
    }
   ],
   "source": [
    "graphlab.evaluation.rmse(test_data['ADLOADINGTIME'],LR_model.predict(test_data))"
   ]
  },
  {
   "cell_type": "markdown",
   "metadata": {},
   "source": [
    "##Evaluation using Random Forests"
   ]
  },
  {
   "cell_type": "code",
   "execution_count": 106,
   "metadata": {
    "collapsed": false
   },
   "outputs": [
    {
     "data": {
      "text/html": [
       "<pre>Random forest regression:</pre>"
      ],
      "text/plain": [
       "Random forest regression:"
      ]
     },
     "metadata": {},
     "output_type": "display_data"
    },
    {
     "data": {
      "text/html": [
       "<pre>--------------------------------------------------------</pre>"
      ],
      "text/plain": [
       "--------------------------------------------------------"
      ]
     },
     "metadata": {},
     "output_type": "display_data"
    },
    {
     "data": {
      "text/html": [
       "<pre>Number of examples          : 116524</pre>"
      ],
      "text/plain": [
       "Number of examples          : 116524"
      ]
     },
     "metadata": {},
     "output_type": "display_data"
    },
    {
     "data": {
      "text/html": [
       "<pre>Number of features          : 21</pre>"
      ],
      "text/plain": [
       "Number of features          : 21"
      ]
     },
     "metadata": {},
     "output_type": "display_data"
    },
    {
     "data": {
      "text/html": [
       "<pre>Number of unpacked features : 21</pre>"
      ],
      "text/plain": [
       "Number of unpacked features : 21"
      ]
     },
     "metadata": {},
     "output_type": "display_data"
    },
    {
     "data": {
      "text/html": [
       "<pre>+-----------+--------------+--------------------+---------------+----------------------+-----------------+</pre>"
      ],
      "text/plain": [
       "+-----------+--------------+--------------------+---------------+----------------------+-----------------+"
      ]
     },
     "metadata": {},
     "output_type": "display_data"
    },
    {
     "data": {
      "text/html": [
       "<pre>| Iteration | Elapsed Time | Training-max_error | Training-rmse | Validation-max_error | Validation-rmse |</pre>"
      ],
      "text/plain": [
       "| Iteration | Elapsed Time | Training-max_error | Training-rmse | Validation-max_error | Validation-rmse |"
      ]
     },
     "metadata": {},
     "output_type": "display_data"
    },
    {
     "data": {
      "text/html": [
       "<pre>+-----------+--------------+--------------------+---------------+----------------------+-----------------+</pre>"
      ],
      "text/plain": [
       "+-----------+--------------+--------------------+---------------+----------------------+-----------------+"
      ]
     },
     "metadata": {},
     "output_type": "display_data"
    },
    {
     "data": {
      "text/html": [
       "<pre>| 1         | 1.137065     | 17.495001          | 3.017276      | 17.744112            | 3.476626        |</pre>"
      ],
      "text/plain": [
       "| 1         | 1.137065     | 17.495001          | 3.017276      | 17.744112            | 3.476626        |"
      ]
     },
     "metadata": {},
     "output_type": "display_data"
    },
    {
     "data": {
      "text/html": [
       "<pre>| 2         | 2.500143     | 17.424749          | 2.736819      | 17.529587            | 3.329124        |</pre>"
      ],
      "text/plain": [
       "| 2         | 2.500143     | 17.424749          | 2.736819      | 17.529587            | 3.329124        |"
      ]
     },
     "metadata": {},
     "output_type": "display_data"
    },
    {
     "data": {
      "text/html": [
       "<pre>| 3         | 3.730213     | 17.329910          | 2.631235      | 17.315733            | 3.245511        |</pre>"
      ],
      "text/plain": [
       "| 3         | 3.730213     | 17.329910          | 2.631235      | 17.315733            | 3.245511        |"
      ]
     },
     "metadata": {},
     "output_type": "display_data"
    },
    {
     "data": {
      "text/html": [
       "<pre>| 4         | 5.090291     | 16.568478          | 2.575988      | 17.351999            | 3.206445        |</pre>"
      ],
      "text/plain": [
       "| 4         | 5.090291     | 16.568478          | 2.575988      | 17.351999            | 3.206445        |"
      ]
     },
     "metadata": {},
     "output_type": "display_data"
    },
    {
     "data": {
      "text/html": [
       "<pre>| 5         | 6.404366     | 16.471136          | 2.546591      | 17.433599            | 3.175804        |</pre>"
      ],
      "text/plain": [
       "| 5         | 6.404366     | 16.471136          | 2.546591      | 17.433599            | 3.175804        |"
      ]
     },
     "metadata": {},
     "output_type": "display_data"
    },
    {
     "data": {
      "text/html": [
       "<pre>| 6         | 7.654438     | 16.454090          | 2.529065      | 17.234138            | 3.158899        |</pre>"
      ],
      "text/plain": [
       "| 6         | 7.654438     | 16.454090          | 2.529065      | 17.234138            | 3.158899        |"
      ]
     },
     "metadata": {},
     "output_type": "display_data"
    },
    {
     "data": {
      "text/html": [
       "<pre>| 7         | 9.452541     | 16.433825          | 2.502666      | 17.251299            | 3.147660        |</pre>"
      ],
      "text/plain": [
       "| 7         | 9.452541     | 16.433825          | 2.502666      | 17.251299            | 3.147660        |"
      ]
     },
     "metadata": {},
     "output_type": "display_data"
    },
    {
     "data": {
      "text/html": [
       "<pre>| 8         | 10.641609    | 16.325287          | 2.502380      | 17.130354            | 3.135950        |</pre>"
      ],
      "text/plain": [
       "| 8         | 10.641609    | 16.325287          | 2.502380      | 17.130354            | 3.135950        |"
      ]
     },
     "metadata": {},
     "output_type": "display_data"
    },
    {
     "data": {
      "text/html": [
       "<pre>| 9         | 12.115693    | 16.359262          | 2.487109      | 17.110180            | 3.129471        |</pre>"
      ],
      "text/plain": [
       "| 9         | 12.115693    | 16.359262          | 2.487109      | 17.110180            | 3.129471        |"
      ]
     },
     "metadata": {},
     "output_type": "display_data"
    },
    {
     "data": {
      "text/html": [
       "<pre>| 10        | 13.652781    | 16.395569          | 2.479016      | 17.211262            | 3.125398        |</pre>"
      ],
      "text/plain": [
       "| 10        | 13.652781    | 16.395569          | 2.479016      | 17.211262            | 3.125398        |"
      ]
     },
     "metadata": {},
     "output_type": "display_data"
    },
    {
     "data": {
      "text/html": [
       "<pre>| 11        | 14.925854    | 16.481407          | 2.478107      | 17.243229            | 3.117141        |</pre>"
      ],
      "text/plain": [
       "| 11        | 14.925854    | 16.481407          | 2.478107      | 17.243229            | 3.117141        |"
      ]
     },
     "metadata": {},
     "output_type": "display_data"
    },
    {
     "data": {
      "text/html": [
       "<pre>| 12        | 16.411939    | 16.407007          | 2.468203      | 17.238194            | 3.115128        |</pre>"
      ],
      "text/plain": [
       "| 12        | 16.411939    | 16.407007          | 2.468203      | 17.238194            | 3.115128        |"
      ]
     },
     "metadata": {},
     "output_type": "display_data"
    },
    {
     "data": {
      "text/html": [
       "<pre>| 13        | 17.538003    | 16.378483          | 2.474912      | 17.208626            | 3.111606        |</pre>"
      ],
      "text/plain": [
       "| 13        | 17.538003    | 16.378483          | 2.474912      | 17.208626            | 3.111606        |"
      ]
     },
     "metadata": {},
     "output_type": "display_data"
    },
    {
     "data": {
      "text/html": [
       "<pre>| 14        | 19.002087    | 16.459484          | 2.469121      | 17.225897            | 3.108282        |</pre>"
      ],
      "text/plain": [
       "| 14        | 19.002087    | 16.459484          | 2.469121      | 17.225897            | 3.108282        |"
      ]
     },
     "metadata": {},
     "output_type": "display_data"
    },
    {
     "data": {
      "text/html": [
       "<pre>| 15        | 20.397167    | 16.465862          | 2.473358      | 17.207520            | 3.104314        |</pre>"
      ],
      "text/plain": [
       "| 15        | 20.397167    | 16.465862          | 2.473358      | 17.207520            | 3.104314        |"
      ]
     },
     "metadata": {},
     "output_type": "display_data"
    },
    {
     "data": {
      "text/html": [
       "<pre>| 16        | 22.060262    | 16.498882          | 2.465403      | 17.179266            | 3.103317        |</pre>"
      ],
      "text/plain": [
       "| 16        | 22.060262    | 16.498882          | 2.465403      | 17.179266            | 3.103317        |"
      ]
     },
     "metadata": {},
     "output_type": "display_data"
    },
    {
     "data": {
      "text/html": [
       "<pre>| 17        | 23.819363    | 16.206955          | 2.459731      | 17.167931            | 3.103388        |</pre>"
      ],
      "text/plain": [
       "| 17        | 23.819363    | 16.206955          | 2.459731      | 17.167931            | 3.103388        |"
      ]
     },
     "metadata": {},
     "output_type": "display_data"
    },
    {
     "data": {
      "text/html": [
       "<pre>| 18        | 25.265445    | 16.221437          | 2.464212      | 17.166351            | 3.101351        |</pre>"
      ],
      "text/plain": [
       "| 18        | 25.265445    | 16.221437          | 2.464212      | 17.166351            | 3.101351        |"
      ]
     },
     "metadata": {},
     "output_type": "display_data"
    },
    {
     "data": {
      "text/html": [
       "<pre>| 19        | 26.900539    | 15.870167          | 2.459285      | 17.207727            | 3.100544        |</pre>"
      ],
      "text/plain": [
       "| 19        | 26.900539    | 15.870167          | 2.459285      | 17.207727            | 3.100544        |"
      ]
     },
     "metadata": {},
     "output_type": "display_data"
    },
    {
     "data": {
      "text/html": [
       "<pre>| 20        | 28.338621    | 15.855033          | 2.463845      | 17.211941            | 3.099526        |</pre>"
      ],
      "text/plain": [
       "| 20        | 28.338621    | 15.855033          | 2.463845      | 17.211941            | 3.099526        |"
      ]
     },
     "metadata": {},
     "output_type": "display_data"
    },
    {
     "data": {
      "text/html": [
       "<pre>+-----------+--------------+--------------------+---------------+----------------------+-----------------+</pre>"
      ],
      "text/plain": [
       "+-----------+--------------+--------------------+---------------+----------------------+-----------------+"
      ]
     },
     "metadata": {},
     "output_type": "display_data"
    }
   ],
   "source": [
    "train_data,test_data = data.random_split(.5,seed=1)\n",
    "RF_model = graphlab.random_forest_regression.create(train_data, target='ADLOADINGTIME',validation_set=test_data,\n",
    "                                           max_iterations=20,\n",
    "                                           max_depth =  50, row_subsample=0.5, random_seed=1)"
   ]
  },
  {
   "cell_type": "code",
   "execution_count": 107,
   "metadata": {
    "collapsed": false,
    "scrolled": false
   },
   "outputs": [
    {
     "data": {
      "text/plain": [
       "(array([  3.00000000e+00,   1.67100000e+03,   6.30500000e+03,\n",
       "          1.80970000e+04,   2.16120000e+04,   1.58800000e+04,\n",
       "          1.09420000e+04,   7.85600000e+03,   6.02900000e+03,\n",
       "          5.16000000e+03,   4.23800000e+03,   3.70400000e+03,\n",
       "          3.12700000e+03,   2.64500000e+03,   2.19400000e+03,\n",
       "          1.72500000e+03,   1.24100000e+03,   8.67000000e+02,\n",
       "          6.80000000e+02,   6.13000000e+02,   5.78000000e+02,\n",
       "          5.80000000e+02,   4.15000000e+02,   3.77000000e+02,\n",
       "          4.50000000e+01,   0.00000000e+00,   0.00000000e+00,\n",
       "          0.00000000e+00,   0.00000000e+00,   0.00000000e+00,\n",
       "          0.00000000e+00,   0.00000000e+00,   0.00000000e+00,\n",
       "          0.00000000e+00,   0.00000000e+00]),\n",
       " array([  0. ,   0.5,   1. ,   1.5,   2. ,   2.5,   3. ,   3.5,   4. ,\n",
       "          4.5,   5. ,   5.5,   6. ,   6.5,   7. ,   7.5,   8. ,   8.5,\n",
       "          9. ,   9.5,  10. ,  10.5,  11. ,  11.5,  12. ,  12.5,  13. ,\n",
       "         13.5,  14. ,  14.5,  15. ,  15.5,  16. ,  16.5,  17. ,  17.5]),\n",
       " <a list of 35 Patch objects>)"
      ]
     },
     "execution_count": 107,
     "metadata": {},
     "output_type": "execute_result"
    },
    {
     "data": {
      "image/png": "[encoded data removed]",
      "text/plain": [
       "<matplotlib.figure.Figure at 0x77fbbb00>"
      ]
     },
     "metadata": {},
     "output_type": "display_data"
    }
   ],
   "source": [
    "plt.hist(test_data['ADLOADINGTIME'],  bins=np.arange(0, int(max(test_data['ADLOADINGTIME'])),0.5),alpha=0.5)\n",
    "test_data_predict = RF_model.predict(test_data)\n",
    "plt.hist(test_data_predict,  bins=np.arange(0, int(max(test_data['ADLOADINGTIME'])),0.5), alpha=0.5)"
   ]
  },
  {
   "cell_type": "markdown",
   "metadata": {},
   "source": [
    "####Error distribution"
   ]
  },
  {
   "cell_type": "code",
   "execution_count": 114,
   "metadata": {
    "collapsed": false,
    "scrolled": false
   },
   "outputs": [
    {
     "data": {
      "text/plain": [
       "(array([ 25274.,  24746.,  18692.,  11771.,   7688.,   5436.,   4232.,\n",
       "          3292.,   2349.,   1816.,   1552.]),\n",
       " array([ 0. ,  0.5,  1. ,  1.5,  2. ,  2.5,  3. ,  3.5,  4. ,  4.5,  5. ,\n",
       "         5.5]),\n",
       " <a list of 11 Patch objects>)"
      ]
     },
     "execution_count": 114,
     "metadata": {},
     "output_type": "execute_result"
    },
    {
     "data": {
      "image/png": "[encoded data removed]",
      "text/plain": [
       "<matplotlib.figure.Figure at 0x78027be0>"
      ]
     },
     "metadata": {},
     "output_type": "display_data"
    }
   ],
   "source": [
    "test_data_predict = RF_model.predict(test_data)\n",
    "\n",
    "#test_data['ADLOADINGTIME']\n",
    "\n",
    "pred_error = np.abs(test_data['ADLOADINGTIME']-test_data_predict)\n",
    "plt.hist(pred_error,  bins=np.arange(0, 6,0.5), alpha=0.5)"
   ]
  },
  {
   "cell_type": "code",
   "execution_count": null,
   "metadata": {
    "collapsed": true
   },
   "outputs": [],
   "source": [
    "[histvals, histbins] = np.histogram([1, 2, 1], bins=np.arange(0, np.ceil(max(test_data['ADLOADINGTIME'])),0.5))\n",
    "minToBin = histbins-np.tile(np.array(test_data['ADLOADINGTIME']),(len(histbins),1)).transpose()\n",
    "minToBinIdx = np.argmin(np.abs(minToBin),axis=1)\n",
    "\n",
    "pred_error_loc = np.zeros_like(histbins)\n",
    "pred_error_loc_n = np.zeros_like(histbins)\n",
    "for i in range(len(minToBinIdx)):\n",
    "    pred_error_loc[minToBinIdx[i]] += pred_error[i]\n",
    "    pred_error_loc_n[minToBinIdx[i]] += 1"
   ]
  },
  {
   "cell_type": "code",
   "execution_count": 154,
   "metadata": {
    "collapsed": false,
    "scrolled": true
   },
   "outputs": [
    {
     "data": {
      "text/plain": [
       "array([  1.80727235,   1.3656214 ,   1.31241438,   1.22604653,\n",
       "         1.16086831,   1.18021638,   1.24068854,   1.38792183,\n",
       "         1.48763828,   1.62319369,   1.72230676,   1.89625418,\n",
       "         2.09762499,   2.33268414,   2.5250171 ,   2.84204889,\n",
       "         3.13240864,   3.4395743 ,   3.80150081,   4.25481851,\n",
       "         4.33970616,   4.81648892,   5.21751055,   5.50947954,\n",
       "         5.95859795,   6.21604543,   6.84784047,   7.39212076,\n",
       "         8.03045983,   8.57986475,   8.93725218,   9.43006671,\n",
       "         9.83246991,  10.54978905,  10.8886015 ,  11.39100219,\n",
       "        11.68420187,  12.2618772 ])"
      ]
     },
     "execution_count": 154,
     "metadata": {},
     "output_type": "execute_result"
    }
   ],
   "source": [
    "pred_error_loc/pred_error_loc_n"
   ]
  },
  {
   "cell_type": "code",
   "execution_count": 155,
   "metadata": {
    "collapsed": false
   },
   "outputs": [
    {
     "data": {
      "text/plain": [
       "[<matplotlib.lines.Line2D at 0x9957e828>]"
      ]
     },
     "execution_count": 155,
     "metadata": {},
     "output_type": "execute_result"
    },
    {
     "data": {
      "image/png": "[encoded data removed]",
      "text/plain": [
       "<matplotlib.figure.Figure at 0x9aa78630>"
      ]
     },
     "metadata": {},
     "output_type": "display_data"
    }
   ],
   "source": [
    "plt.plot(histbins, pred_error_loc/pred_error_loc_n)"
   ]
  },
  {
   "cell_type": "markdown",
   "metadata": {},
   "source": [
    "**Results** Larger times are badly detected!"
   ]
  },
  {
   "cell_type": "markdown",
   "metadata": {},
   "source": [
    "##Predicting and saving"
   ]
  },
  {
   "cell_type": "code",
   "execution_count": 86,
   "metadata": {
    "collapsed": true
   },
   "outputs": [
    {
     "data": {
      "text/plain": [
       "(array([  0.00000000e+00,   4.06000000e+02,   3.56300000e+03,\n",
       "          1.53920000e+04,   2.01900000e+04,   1.80360000e+04,\n",
       "          1.26090000e+04,   8.98800000e+03,   6.67200000e+03,\n",
       "          5.46400000e+03,   4.54000000e+03,   3.95500000e+03,\n",
       "          3.23800000e+03,   2.89000000e+03,   2.59000000e+03,\n",
       "          2.14200000e+03,   1.42100000e+03,   1.01800000e+03,\n",
       "          6.89000000e+02,   5.88000000e+02,   6.07000000e+02,\n",
       "          5.46000000e+02,   5.48000000e+02,   4.14000000e+02,\n",
       "          7.30000000e+01,   5.00000000e+00,   0.00000000e+00,\n",
       "          0.00000000e+00,   0.00000000e+00,   0.00000000e+00,\n",
       "          0.00000000e+00,   0.00000000e+00,   0.00000000e+00,\n",
       "          0.00000000e+00,   0.00000000e+00]),\n",
       " array([  0. ,   0.5,   1. ,   1.5,   2. ,   2.5,   3. ,   3.5,   4. ,\n",
       "          4.5,   5. ,   5.5,   6. ,   6.5,   7. ,   7.5,   8. ,   8.5,\n",
       "          9. ,   9.5,  10. ,  10.5,  11. ,  11.5,  12. ,  12.5,  13. ,\n",
       "         13.5,  14. ,  14.5,  15. ,  15.5,  16. ,  16.5,  17. ,  17.5]),\n",
       " <a list of 35 Patch objects>)"
      ]
     },
     "execution_count": 86,
     "metadata": {},
     "output_type": "execute_result"
    },
    {
     "data": {
      "image/png": "[encoded data removed]",
      "text/plain": [
       "<matplotlib.figure.Figure at 0x825b7a90>"
      ]
     },
     "metadata": {},
     "output_type": "display_data"
    }
   ],
   "source": [
    "plt.hist(test_data['ADLOADINGTIME'],  bins=np.arange(0, int(max(test_data['ADLOADINGTIME'])),0.5),alpha=0.5)\n",
    "test_data_predict = RF_model.predict(test_data)\n",
    "plt.hist(test_data_predict,  bins=np.arange(0, int(max(test_data['ADLOADINGTIME'])),0.5), alpha=0.5)"
   ]
  },
  {
   "cell_type": "code",
   "execution_count": 19,
   "metadata": {
    "collapsed": true
   },
   "outputs": [],
   "source": [
    "sqft_model.save('E:\\celtraMiningFrik\\lin_reg_creativeid_perct_97')"
   ]
  },
  {
   "cell_type": "code",
   "execution_count": null,
   "metadata": {
    "collapsed": false
   },
   "outputs": [],
   "source": [
    "sqft_model = graphlab.load_model('E:\\celtraMiningFrik\\lin_reg_creativeid_perct_96')"
   ]
  },
  {
   "cell_type": "code",
   "execution_count": 105,
   "metadata": {
    "collapsed": false
   },
   "outputs": [
    {
     "name": "stdout",
     "output_type": "stream",
     "text": [
      "3.72755946569\n"
     ]
    }
   ],
   "source": [
    "print(graphlab.evaluation.rmse(test_data['ADLOADINGTIME'], graphlab.SArray.from_const(3.90365759806,len(test_data['ADLOADINGTIME']))))"
   ]
  },
  {
   "cell_type": "code",
   "execution_count": 102,
   "metadata": {
    "collapsed": false
   },
   "outputs": [
    {
     "name": "stdout",
     "output_type": "stream",
     "text": [
      "Canvas is accessible via web browser at the URL: http://localhost:59632/index.html\n",
      "Opening Canvas in default web browser.\n"
     ]
    }
   ],
   "source": [
    "train_data.show()"
   ]
  },
  {
   "cell_type": "code",
   "execution_count": null,
   "metadata": {
    "collapsed": true
   },
   "outputs": [],
   "source": [
    "predTimes = sqft_model.predict(sales)"
   ]
  },
  {
   "cell_type": "code",
   "execution_count": null,
   "metadata": {
    "collapsed": false
   },
   "outputs": [],
   "source": [
    "predTimes.save('E:\\celtraMiningFrik\\solution4.tsv', format='csv')"
   ]
  }
 ],
 "metadata": {
  "kernelspec": {
   "display_name": "Python 2",
   "language": "python",
   "name": "python2"
  },
  "language_info": {
   "codemirror_mode": {
    "name": "ipython",
    "version": 2
   },
   "file_extension": ".py",
   "mimetype": "text/x-python",
   "name": "python",
   "nbconvert_exporter": "python",
   "pygments_lexer": "ipython2",
   "version": "2.7.10"
  }
 },
 "nbformat": 4,
 "nbformat_minor": 0
}
