{
 "cells": [
  {
   "cell_type": "markdown",
   "metadata": {
    "collapsed": true
   },
   "source": [
    "#Feature Engineering"
   ]
  },
  {
   "cell_type": "code",
   "execution_count": 1,
   "metadata": {
    "collapsed": true
   },
   "outputs": [],
   "source": [
    "import graphlab\n",
    "import numpy as np\n",
    "import matplotlib.pyplot as plt\n",
    "%matplotlib inline"
   ]
  },
  {
   "cell_type": "markdown",
   "metadata": {},
   "source": [
    "##Load celtra data (10% random subsample of the large data)"
   ]
  },
  {
   "cell_type": "code",
   "execution_count": 29,
   "metadata": {
    "collapsed": false
   },
   "outputs": [
    {
     "data": {
      "text/html": [
       "<pre>Read 69661 lines. Lines per second: 53173.3</pre>"
      ],
      "text/plain": [
       "Read 69661 lines. Lines per second: 53173.3"
      ]
     },
     "metadata": {},
     "output_type": "display_data"
    },
    {
     "data": {
      "text/html": [
       "<pre>Finished parsing file E:\\celtraMiningFrik\\ccdm_mine.csv</pre>"
      ],
      "text/plain": [
       "Finished parsing file E:\\celtraMiningFrik\\ccdm_mine.csv"
      ]
     },
     "metadata": {},
     "output_type": "display_data"
    }
   ],
   "source": [
    "data = graphlab.SFrame.read_csv('E:\\celtraMiningFrik\\ccdm_mine.csv',column_type_hints=str);"
   ]
  },
  {
   "cell_type": "markdown",
   "metadata": {},
   "source": [
    "##### Convert numeric types from string to int/float"
   ]
  },
  {
   "cell_type": "code",
   "execution_count": 30,
   "metadata": {
    "collapsed": false
   },
   "outputs": [],
   "source": [
    "data['ADLOADINGTIME']=data['ADLOADINGTIME'].astype(float)\n",
    "data['GEOIP_LAT'] = data['GEOIP_LAT'].apply(lambda x: 0 if x=='null' else x)\n",
    "data['GEOIP_LAT']=data['GEOIP_LAT'].astype(float)\n",
    "data['GEOIP_LNG'] = data['GEOIP_LNG'].apply(lambda x: 0 if x=='null' else x)\n",
    "data['GEOIP_LNG']=data['GEOIP_LNG'].astype(float)\n",
    "data['TIMESTAMP']=data['TIMESTAMP'].astype(int)\n",
    "data['HOSTWINDOWHEIGHT'] = data['HOSTWINDOWHEIGHT'].apply(lambda x: 0 if x=='null' else x)\n",
    "data['HOSTWINDOWHEIGHT']=data['HOSTWINDOWHEIGHT'].astype(int)\n",
    "data['HOSTWINDOWWIDTH'] = data['HOSTWINDOWWIDTH'].apply(lambda x: 0 if x=='null' else x)\n",
    "data['HOSTWINDOWWIDTH']=data['HOSTWINDOWWIDTH'].astype(int)\n",
    "data['TOPMOSTREACHABLEWINDOWHEIGHT'] = data['TOPMOSTREACHABLEWINDOWHEIGHT'].apply(lambda x: 0 if x=='null' else x)\n",
    "data['TOPMOSTREACHABLEWINDOWHEIGHT']=data['TOPMOSTREACHABLEWINDOWHEIGHT'].astype(int)\n",
    "data['TOPMOSTREACHABLEWINDOWWIDTH'] = data['TOPMOSTREACHABLEWINDOWWIDTH'].apply(lambda x: 0 if x=='null' else x)\n",
    "data['TOPMOSTREACHABLEWINDOWWIDTH']=data['TOPMOSTREACHABLEWINDOWWIDTH'].astype(int)"
   ]
  },
  {
   "cell_type": "markdown",
   "metadata": {},
   "source": [
    "#####remove EXTERNALCREATIVEID as it is always null"
   ]
  },
  {
   "cell_type": "code",
   "execution_count": 31,
   "metadata": {
    "collapsed": false
   },
   "outputs": [],
   "source": [
    "data.remove_column('EXTERNALCREATIVEID');"
   ]
  },
  {
   "cell_type": "markdown",
   "metadata": {},
   "source": [
    "#####remove NETWORKTYPE as it is mainly null"
   ]
  },
  {
   "cell_type": "code",
   "execution_count": 32,
   "metadata": {
    "collapsed": false
   },
   "outputs": [],
   "source": [
    "data.remove_column('NETWORKTYPE');"
   ]
  },
  {
   "cell_type": "markdown",
   "metadata": {},
   "source": [
    "remove top 5% of ADLOADINGTIME outliers"
   ]
  },
  {
   "cell_type": "code",
   "execution_count": 33,
   "metadata": {
    "collapsed": false
   },
   "outputs": [
    {
     "name": "stdout",
     "output_type": "stream",
     "text": [
      "18.7192\n",
      "3.69722294021\n"
     ]
    }
   ],
   "source": [
    "# 3.7835\n",
    "perct = 95\n",
    "print(np.percentile(data['ADLOADINGTIME'],perct))\n",
    "data = data[data['ADLOADINGTIME']<np.percentile(data['ADLOADINGTIME'],perct)]\n",
    "print(graphlab.evaluation.rmse(data['ADLOADINGTIME'], graphlab.SArray.from_const(data['ADLOADINGTIME'].mean(),len(data['ADLOADINGTIME']))))"
   ]
  },
  {
   "cell_type": "markdown",
   "metadata": {
    "collapsed": false
   },
   "source": [
    "#####show data"
   ]
  },
  {
   "cell_type": "code",
   "execution_count": 117,
   "metadata": {
    "collapsed": false
   },
   "outputs": [
    {
     "name": "stdout",
     "output_type": "stream",
     "text": [
      "Canvas is accessible via web browser at the URL: http://localhost:43390/index.html\n",
      "Opening Canvas in default web browser.\n"
     ]
    }
   ],
   "source": [
    "data.show()"
   ]
  },
  {
   "cell_type": "markdown",
   "metadata": {
    "collapsed": false,
    "scrolled": true
   },
   "source": [
    "##Feature engineering"
   ]
  },
  {
   "cell_type": "markdown",
   "metadata": {},
   "source": [
    "combine TOPMOSTREACHABLEWINDOWHEIGHT and TOPMOSTREACHABLEWINDOWWIDTH by multiplication and computation of the ratio\n",
    "\n",
    "remove data with very large or negative data"
   ]
  },
  {
   "cell_type": "code",
   "execution_count": 48,
   "metadata": {
    "collapsed": false
   },
   "outputs": [],
   "source": [
    "data['TOPMOSTREACHABLEWINDOWAREA'] = data['TOPMOSTREACHABLEWINDOWWIDTH']*data['TOPMOSTREACHABLEWINDOWHEIGHT'];\n",
    "data = data[data['TOPMOSTREACHABLEWINDOWAREA']>=0]\n",
    "data = data[data['TOPMOSTREACHABLEWINDOWAREA']<1e7]"
   ]
  },
  {
   "cell_type": "code",
   "execution_count": 8,
   "metadata": {
    "collapsed": false
   },
   "outputs": [
    {
     "name": "stdout",
     "output_type": "stream",
     "text": [
      "0\n"
     ]
    }
   ],
   "source": [
    "tmp = data[data['TOPMOSTREACHABLEWINDOWAREA']>1e7]\n",
    "print(tmp.num_rows())"
   ]
  },
  {
   "cell_type": "markdown",
   "metadata": {},
   "source": [
    "remove all other scree size data except the area"
   ]
  },
  {
   "cell_type": "code",
   "execution_count": 49,
   "metadata": {
    "collapsed": true
   },
   "outputs": [],
   "source": [
    "data.remove_column('TOPMOSTREACHABLEWINDOWWIDTH');\n",
    "data.remove_column('TOPMOSTREACHABLEWINDOWHEIGHT');\n",
    "data.remove_column('HOSTWINDOWWIDTH');\n",
    "data.remove_column('HOSTWINDOWHEIGHT');"
   ]
  },
  {
   "cell_type": "markdown",
   "metadata": {},
   "source": [
    "remove device orientation as it should not affect loading time"
   ]
  },
  {
   "cell_type": "code",
   "execution_count": 34,
   "metadata": {
    "collapsed": true
   },
   "outputs": [],
   "source": [
    "data.remove_column('DEVICEORIENTATION');"
   ]
  },
  {
   "cell_type": "markdown",
   "metadata": {},
   "source": [
    "UA_MOBILEDEVICE can be assesed from PLATFORM -> remove"
   ]
  },
  {
   "cell_type": "code",
   "execution_count": 35,
   "metadata": {
    "collapsed": true
   },
   "outputs": [],
   "source": [
    "data.remove_column('UA_MOBILEDEVICE');"
   ]
  },
  {
   "cell_type": "markdown",
   "metadata": {},
   "source": [
    " "
   ]
  },
  {
   "cell_type": "code",
   "execution_count": 46,
   "metadata": {
    "collapsed": true
   },
   "outputs": [],
   "source": [
    "data = data[data['TIMESTAMP']>1458500000]\n",
    "data = data[data['TIMESTAMP']<1461000000]"
   ]
  },
  {
   "cell_type": "code",
   "execution_count": 13,
   "metadata": {
    "collapsed": false
   },
   "outputs": [
    {
     "name": "stdout",
     "output_type": "stream",
     "text": [
      "0\n"
     ]
    }
   ],
   "source": [
    "tmp = data[data['TIMESTAMP']<=1458500000]\n",
    "print(tmp.num_rows())"
   ]
  },
  {
   "cell_type": "markdown",
   "metadata": {},
   "source": [
    "GEOIP: to start combine COUNTRY with REGION for USA\n",
    "In my expectation the data is to scarce to have enough entries for exact geolocation and time assignment\n",
    "-> remove DMACODE, METROCODE, TIMEZONE, CITY, AREACODE"
   ]
  },
  {
   "cell_type": "code",
   "execution_count": 36,
   "metadata": {
    "collapsed": false
   },
   "outputs": [],
   "source": [
    "data.remove_column('GEOIP_TIMEZONE');\n",
    "data.remove_column('GEOIP_METROCODE');\n",
    "data.remove_column('GEOIP_AREACODE');\n",
    "data.remove_column('GEOIP_CITY');\n",
    "data.remove_column('GEOIP_DMACODE');"
   ]
  },
  {
   "cell_type": "code",
   "execution_count": 37,
   "metadata": {
    "collapsed": true
   },
   "outputs": [],
   "source": [
    "data['GEOIP_COUNTRY'] = data['GEOIP_COUNTRY'] + '_' + data['GEOIP_REGION'] \n",
    "data['GEOIP_COUNTRY'] = data['GEOIP_COUNTRY'].apply(lambda x: x if 'United States' in x.split('_')[0] else x.split('_')[0])\n",
    "data.remove_column('GEOIP_REGION');"
   ]
  },
  {
   "cell_type": "code",
   "execution_count": 101,
   "metadata": {
    "collapsed": false,
    "scrolled": false
   },
   "outputs": [
    {
     "name": "stdout",
     "output_type": "stream",
     "text": [
      "COMBINEDID: 3.4685\n",
      "COMBINEDID and GEOIP_LAT: 3.4681\n",
      "COMBINEDID and GEOIP_LNG: 3.4684\n",
      "COMBINEDID and GEOIP_LNG and GEOIP_LAT: 3.4680\n"
     ]
    }
   ],
   "source": [
    "train_data,test_data = data.random_split(.5,seed=1)\n",
    "\n",
    "LR_model = graphlab.linear_regression.create(train_data, target='ADLOADINGTIME',features=['COMBINEDID'],validation_set=test_data, max_iterations=100,verbose=False)\n",
    "model = LR_model\n",
    "rms = graphlab.evaluation.rmse(test_data['ADLOADINGTIME'],model.predict(test_data))\n",
    "print(\"{}: {:.4f}\".format('COMBINEDID',rms))\n",
    "#LR_model = graphlab.linear_regression.create(train_data, target='ADLOADINGTIME',features=['COMBINEDID', 'GEOIP_COUNTRY'],validation_set=test_data, max_iterations=100,verbose=False)\n",
    "#model = LR_model\n",
    "#rms = graphlab.evaluation.rmse(test_data['ADLOADINGTIME'],model.predict(test_data))\n",
    "#print(\"{}: {:.4f}\".format('COMBINEDID and GEOIP_COUNTRY',rms))\n",
    "LR_model = graphlab.linear_regression.create(train_data, target='ADLOADINGTIME',features=['COMBINEDID', 'GEOIP_LAT'],validation_set=test_data, max_iterations=100,verbose=False)\n",
    "model = LR_model\n",
    "rms = graphlab.evaluation.rmse(test_data['ADLOADINGTIME'],model.predict(test_data))\n",
    "print(\"{}: {:.4f}\".format('COMBINEDID and GEOIP_LAT',rms))\n",
    "LR_model = graphlab.linear_regression.create(train_data, target='ADLOADINGTIME',features=['COMBINEDID', 'GEOIP_LNG'],validation_set=test_data, max_iterations=100,verbose=False)\n",
    "model = LR_model\n",
    "rms = graphlab.evaluation.rmse(test_data['ADLOADINGTIME'],model.predict(test_data))\n",
    "print(\"{}: {:.4f}\".format('COMBINEDID and GEOIP_LNG',rms))\n",
    "LR_model = graphlab.linear_regression.create(train_data, target='ADLOADINGTIME',features=['COMBINEDID', 'GEOIP_LNG', 'GEOIP_LAT'],validation_set=test_data, max_iterations=100,verbose=False)\n",
    "model = LR_model\n",
    "rms = graphlab.evaluation.rmse(test_data['ADLOADINGTIME'],model.predict(test_data))\n",
    "print(\"{}: {:.4f}\".format('COMBINEDID and GEOIP_LNG and GEOIP_LAT',rms))\n",
    "#LR_model = graphlab.linear_regression.create(train_data, target='ADLOADINGTIME',features=['COMBINEDID', 'GEOIP_LNG', 'GEOIP_LAT','GEOIP_COUNTRY'],validation_set=test_data, max_iterations=100,verbose=False)\n",
    "#model = LR_model\n",
    "#rms = graphlab.evaluation.rmse(test_data['ADLOADINGTIME'],model.predict(test_data))\n",
    "#print(\"{}: {:.4f}\".format('COMBINEDID and GEOIP_LNG and GEOIP_LAT and GEOIP_COUNTRY',rms))"
   ]
  },
  {
   "cell_type": "code",
   "execution_count": 102,
   "metadata": {
    "collapsed": true
   },
   "outputs": [
    {
     "ename": "KeyError",
     "evalue": "'Cannot find column GEOIP_COUNTRY'",
     "output_type": "error",
     "traceback": [
      "\u001b[1;31m---------------------------------------------------------------------------\u001b[0m",
      "\u001b[1;31mKeyError\u001b[0m                                  Traceback (most recent call last)",
      "\u001b[1;32m<ipython-input-102-5b43cae7a4a2>\u001b[0m in \u001b[0;36m<module>\u001b[1;34m()\u001b[0m\n\u001b[0;32m      1\u001b[0m \u001b[0mdata\u001b[0m\u001b[1;33m.\u001b[0m\u001b[0mremove_columns\u001b[0m\u001b[1;33m(\u001b[0m\u001b[1;33m[\u001b[0m\u001b[1;34m'GEOIP_LNG'\u001b[0m\u001b[1;33m,\u001b[0m\u001b[1;34m'GEOIP_LAT'\u001b[0m\u001b[1;33m]\u001b[0m\u001b[1;33m)\u001b[0m\u001b[1;33m;\u001b[0m\u001b[1;33m\u001b[0m\u001b[0m\n\u001b[1;32m----> 2\u001b[1;33m \u001b[0mdata\u001b[0m\u001b[1;33m.\u001b[0m\u001b[0mremove_columns\u001b[0m\u001b[1;33m(\u001b[0m\u001b[1;33m[\u001b[0m\u001b[1;34m'GEOIP_COUNTRY'\u001b[0m\u001b[1;33m]\u001b[0m\u001b[1;33m)\u001b[0m\u001b[1;33m;\u001b[0m\u001b[1;33m\u001b[0m\u001b[0m\n\u001b[0m",
      "\u001b[1;32mC:\\Users\\Tim\\AppData\\Local\\Dato\\Dato Launcher\\lib\\site-packages\\graphlab\\data_structures\\sframe.pyc\u001b[0m in \u001b[0;36mremove_columns\u001b[1;34m(self, column_names)\u001b[0m\n\u001b[0;32m   3876\u001b[0m         \u001b[1;32mfor\u001b[0m \u001b[0mname\u001b[0m \u001b[1;32min\u001b[0m \u001b[0mcolumn_names\u001b[0m\u001b[1;33m:\u001b[0m\u001b[1;33m\u001b[0m\u001b[0m\n\u001b[0;32m   3877\u001b[0m             \u001b[1;32mif\u001b[0m \u001b[0mname\u001b[0m \u001b[1;32mnot\u001b[0m \u001b[1;32min\u001b[0m \u001b[0mexisting_columns\u001b[0m\u001b[1;33m:\u001b[0m\u001b[1;33m\u001b[0m\u001b[0m\n\u001b[1;32m-> 3878\u001b[1;33m                 \u001b[1;32mraise\u001b[0m \u001b[0mKeyError\u001b[0m\u001b[1;33m(\u001b[0m\u001b[1;34m'Cannot find column %s'\u001b[0m \u001b[1;33m%\u001b[0m \u001b[0mname\u001b[0m\u001b[1;33m)\u001b[0m\u001b[1;33m\u001b[0m\u001b[0m\n\u001b[0m\u001b[0;32m   3879\u001b[0m \u001b[1;33m\u001b[0m\u001b[0m\n\u001b[0;32m   3880\u001b[0m         \u001b[1;31m# Delete it going backwards so we don't invalidate indices\u001b[0m\u001b[1;33m\u001b[0m\u001b[1;33m\u001b[0m\u001b[0m\n",
      "\u001b[1;31mKeyError\u001b[0m: 'Cannot find column GEOIP_COUNTRY'"
     ]
    }
   ],
   "source": [
    "data.remove_columns(['GEOIP_LNG','GEOIP_LAT']);\n",
    "data.remove_columns(['GEOIP_COUNTRY']);"
   ]
  },
  {
   "cell_type": "markdown",
   "metadata": {},
   "source": [
    " **CONCLUSIONS**\n",
    "\n",
    "GEOIP_DATA just barely results in a reduction of RMSE -> not needed"
   ]
  },
  {
   "cell_type": "markdown",
   "metadata": {},
   "source": [
    " "
   ]
  },
  {
   "cell_type": "code",
   "execution_count": 38,
   "metadata": {
    "collapsed": true
   },
   "outputs": [],
   "source": [
    "data['ERRORSJSON'] = data['ERRORSJSON'].apply(lambda x: x.replace('\"',''))"
   ]
  },
  {
   "cell_type": "markdown",
   "metadata": {},
   "source": [
    "crate new feature by extracting sizes of images from FILESJSON"
   ]
  },
  {
   "cell_type": "code",
   "execution_count": 39,
   "metadata": {
    "collapsed": false
   },
   "outputs": [],
   "source": [
    "def extractImageSize(sIn):\n",
    "    sIn = sIn.replace('[','')\n",
    "    sIn = sIn.replace('}','')\n",
    "    sIn = sIn.replace(']','')\n",
    "    sIn = sIn.replace('{\"type\":\"image\",\"size\":','')\n",
    "    numberList = [int(s) for s in sIn.split(',') if s.isdigit()]\n",
    "    if len(numberList) == 0:\n",
    "        numberList = 0\n",
    "    return np.sum(numberList)\n",
    "\n",
    "data['FILESJSON_SIZE'] = data['FILESJSON'].apply(extractImageSize)"
   ]
  },
  {
   "cell_type": "markdown",
   "metadata": {},
   "source": [
    "remove outliers from FILESJSON_SIZE"
   ]
  },
  {
   "cell_type": "code",
   "execution_count": 42,
   "metadata": {
    "collapsed": false
   },
   "outputs": [],
   "source": [
    "#tmp = data[data['FILESJSON_SIZE']>np.percentile(data['FILESJSON_SIZE'],99)]\n",
    "#print(np.percentile(data['FILESJSON_SIZE'],99))\n",
    "#print(tmp.num_rows())\n",
    "data = data[data['FILESJSON_SIZE']<np.percentile(data['FILESJSON_SIZE'],99)]"
   ]
  },
  {
   "cell_type": "markdown",
   "metadata": {},
   "source": [
    "The new feature is not very helpful"
   ]
  },
  {
   "cell_type": "code",
   "execution_count": 43,
   "metadata": {
    "collapsed": true
   },
   "outputs": [],
   "source": [
    "data.remove_column('FILESJSON_SIZE');"
   ]
  },
  {
   "cell_type": "markdown",
   "metadata": {},
   "source": [
    "**CONCLUSIONS**\n",
    "\n",
    "FILESJSON_SIZE is useful to remove some outliers but not as a features -> remove after removal of outliers"
   ]
  },
  {
   "cell_type": "markdown",
   "metadata": {},
   "source": [
    "#####Create new fetures by combining IDS"
   ]
  },
  {
   "cell_type": "code",
   "execution_count": 44,
   "metadata": {
    "collapsed": false
   },
   "outputs": [],
   "source": [
    "data['COMBINEDID'] = data['SDK']+'_'+data['ACCOUNTID']+'_'+data['CAMPAIGNID']+'_'+data['CREATIVEID']+'_'+data['EXTERNALADSERVER']\n",
    "data['COMBINEDIDWITHPLACEMENTID'] = data['SDK']+'_'+data['ACCOUNTID']+'_'+data['CAMPAIGNID']+'_'+data['CREATIVEID']+'_'+data['EXTERNALADSERVER']+'_'+data['PLACEMENTID']\n",
    "data['COMBINEDEXTERNALID'] = data['EXTERNALPLACEMENTID']+'_'+data['EXTERNALSITEID']+'_'+data['EXTERNALSUPPLIERID']\n",
    "data['COMBINEDEXTERNALID'] = data['COMBINEDEXTERNALID'].apply(lambda x : 'null' if x == 'null_null' or x== 'null_null_null' else x)"
   ]
  },
  {
   "cell_type": "markdown",
   "metadata": {},
   "source": [
    "test with simple linear regression"
   ]
  },
  {
   "cell_type": "code",
   "execution_count": 50,
   "metadata": {
    "collapsed": false,
    "scrolled": false
   },
   "outputs": [
    {
     "name": "stdout",
     "output_type": "stream",
     "text": [
      "COMBINEDID: 3.4685\n",
      "COMBINEDID and PLACEMENTID: 3.4629\n",
      "COMBINEDIDWITHPLACEMENTID: 3.4630\n",
      "CREATIVEID: 3.4818\n",
      "CREATIVEID and PLACEMENTID: 3.4705\n",
      "PLACEMENTID: 3.4748\n"
     ]
    }
   ],
   "source": [
    "train_data,test_data = data.random_split(.5,seed=1)\n",
    "\n",
    "LR_model = graphlab.linear_regression.create(train_data, target='ADLOADINGTIME',features=['COMBINEDID'],validation_set=test_data, max_iterations=100,verbose=False)\n",
    "model = LR_model\n",
    "rms = graphlab.evaluation.rmse(test_data['ADLOADINGTIME'],model.predict(test_data))\n",
    "print(\"{}: {:.4f}\".format('COMBINEDID',rms))\n",
    "LR_model = graphlab.linear_regression.create(train_data, target='ADLOADINGTIME',features=['COMBINEDID', 'PLACEMENTID'],validation_set=test_data, max_iterations=100,verbose=False)\n",
    "model = LR_model\n",
    "rms = graphlab.evaluation.rmse(test_data['ADLOADINGTIME'],model.predict(test_data))\n",
    "print(\"{}: {:.4f}\".format('COMBINEDID and PLACEMENTID',rms))\n",
    "LR_model = graphlab.linear_regression.create(train_data, target='ADLOADINGTIME',features=['COMBINEDIDWITHPLACEMENTID'],validation_set=test_data, max_iterations=100,verbose=False)\n",
    "model = LR_model\n",
    "rms = graphlab.evaluation.rmse(test_data['ADLOADINGTIME'],model.predict(test_data))\n",
    "print(\"{}: {:.4f}\".format('COMBINEDIDWITHPLACEMENTID',rms))\n",
    "LR_model = graphlab.linear_regression.create(train_data, target='ADLOADINGTIME',features=['CREATIVEID'],validation_set=test_data, max_iterations=100,verbose=False)\n",
    "model = LR_model\n",
    "rms = graphlab.evaluation.rmse(test_data['ADLOADINGTIME'],model.predict(test_data))\n",
    "print(\"{}: {:.4f}\".format('CREATIVEID',rms))\n",
    "LR_model = graphlab.linear_regression.create(train_data, target='ADLOADINGTIME',features=['CREATIVEID', 'PLACEMENTID'],validation_set=test_data, max_iterations=100,verbose=False)\n",
    "model = LR_model\n",
    "rms = graphlab.evaluation.rmse(test_data['ADLOADINGTIME'],model.predict(test_data))\n",
    "print(\"{}: {:.4f}\".format('CREATIVEID and PLACEMENTID',rms))\n",
    "LR_model = graphlab.linear_regression.create(train_data, target='ADLOADINGTIME',features=['PLACEMENTID'],validation_set=test_data, max_iterations=100,verbose=False)\n",
    "model = LR_model\n",
    "rms = graphlab.evaluation.rmse(test_data['ADLOADINGTIME'],model.predict(test_data))\n",
    "print(\"{}: {:.4f}\".format('PLACEMENTID',rms))"
   ]
  },
  {
   "cell_type": "markdown",
   "metadata": {},
   "source": [
    "**CONCLUSIONS**\n",
    "\n",
    "use COMBINEDID and PLACEMENTID as separate features"
   ]
  },
  {
   "cell_type": "code",
   "execution_count": 237,
   "metadata": {
    "collapsed": false,
    "scrolled": false
   },
   "outputs": [
    {
     "name": "stdout",
     "output_type": "stream",
     "text": [
      "COMBINEDID: 3.4685\n",
      "EXTERNALPLACEMENTID and EXTERNALSITEID and EXTERNALSUPPLIERID: 3.5237\n",
      "COMBINEDIDWITHPLACEMENTID: 3.4630\n",
      "COMBINEDEXTERNALID: 3.5291\n",
      "COMBINEDIDWITHPLACEMENTID and COMBINEDEXTERNALID2: 3.4659\n",
      "COMBINEDEXTERNALID2: 3.5291\n"
     ]
    }
   ],
   "source": [
    "train_data,test_data = data.random_split(.5,seed=1)\n",
    "\n",
    "LR_model = graphlab.linear_regression.create(train_data, target='ADLOADINGTIME',features=['COMBINEDID'],validation_set=test_data, max_iterations=100,verbose=False)\n",
    "model = LR_model\n",
    "rms = graphlab.evaluation.rmse(test_data['ADLOADINGTIME'],model.predict(test_data))\n",
    "print(\"{}: {:.4f}\".format('COMBINEDID',rms))\n",
    "LR_model = graphlab.linear_regression.create(train_data, target='ADLOADINGTIME',features=['EXTERNALPLACEMENTID', 'EXTERNALSITEID', 'EXTERNALSUPPLIERID'],validation_set=test_data, max_iterations=100,verbose=False)\n",
    "model = LR_model\n",
    "rms = graphlab.evaluation.rmse(test_data['ADLOADINGTIME'],model.predict(test_data))\n",
    "print(\"{}: {:.4f}\".format('EXTERNALPLACEMENTID and EXTERNALSITEID and EXTERNALSUPPLIERID',rms))\n",
    "LR_model = graphlab.linear_regression.create(train_data, target='ADLOADINGTIME',features=['COMBINEDIDWITHPLACEMENTID'],validation_set=test_data, max_iterations=100,verbose=False)\n",
    "model = LR_model\n",
    "rms = graphlab.evaluation.rmse(test_data['ADLOADINGTIME'],model.predict(test_data))\n",
    "print(\"{}: {:.4f}\".format('COMBINEDIDWITHPLACEMENTID',rms))\n",
    "LR_model = graphlab.linear_regression.create(train_data, target='ADLOADINGTIME',features=['COMBINEDEXTERNALID'],validation_set=test_data, max_iterations=100,verbose=False)\n",
    "model = LR_model\n",
    "rms = graphlab.evaluation.rmse(test_data['ADLOADINGTIME'],model.predict(test_data))\n",
    "print(\"{}: {:.4f}\".format('COMBINEDEXTERNALID',rms))\n",
    "LR_model = graphlab.linear_regression.create(train_data, target='ADLOADINGTIME',features=['COMBINEDIDWITHPLACEMENTID', 'COMBINEDEXTERNALID'],validation_set=test_data, max_iterations=100,verbose=False)\n",
    "model = LR_model\n",
    "rms = graphlab.evaluation.rmse(test_data['ADLOADINGTIME'],model.predict(test_data))\n",
    "print(\"{}: {:.4f}\".format('COMBINEDIDWITHPLACEMENTID and COMBINEDEXTERNALID',rms))"
   ]
  },
  {
   "cell_type": "markdown",
   "metadata": {},
   "source": [
    "**CONCLUSIONS**\n",
    "\n",
    "do not use any of the following external features: EXTERNALPLACEMENTID, EXTERNALSITEID, EXTERNALSUPPLIERID"
   ]
  },
  {
   "cell_type": "markdown",
   "metadata": {},
   "source": [
    "######Remove features based on above two conlclusions"
   ]
  },
  {
   "cell_type": "code",
   "execution_count": 63,
   "metadata": {
    "collapsed": false
   },
   "outputs": [],
   "source": [
    "data.remove_column('SDK');\n",
    "data.remove_column('ACCOUNTID');\n",
    "data.remove_column('CAMPAIGNID');\n",
    "data.remove_column('CREATIVEID');\n",
    "data.remove_column('EXTERNALADSERVER');\n",
    "data.remove_column('COMBINEDIDWITHPLACEMENTID');"
   ]
  },
  {
   "cell_type": "code",
   "execution_count": 61,
   "metadata": {
    "collapsed": true
   },
   "outputs": [],
   "source": [
    "data['COMBINEDID'] = data['SDK']+'_'+data['ACCOUNTID']+'_'+data['CAMPAIGNID']+'_'+data['CREATIVEID']+'_'+data['EXTERNALADSERVER']"
   ]
  },
  {
   "cell_type": "code",
   "execution_count": 55,
   "metadata": {
    "collapsed": true
   },
   "outputs": [],
   "source": [
    "data.remove_column('EXTERNALPLACEMENTID');\n",
    "data.remove_column('EXTERNALSITEID');\n",
    "data.remove_column('EXTERNALSUPPLIERID');"
   ]
  },
  {
   "cell_type": "markdown",
   "metadata": {},
   "source": [
    "######Test the need for COMBINEDEXTERNALID"
   ]
  },
  {
   "cell_type": "code",
   "execution_count": 85,
   "metadata": {
    "collapsed": false
   },
   "outputs": [
    {
     "name": "stdout",
     "output_type": "stream",
     "text": [
      "COMBINEDID: 3.4685\n",
      "COMBINEDEXTERNALID: 3.5291\n",
      "COMBINEDID and COMBINEDEXTERNALID: 3.4701\n"
     ]
    }
   ],
   "source": [
    "train_data,test_data = data.random_split(.5,seed=1)\n",
    "\n",
    "LR_model = graphlab.linear_regression.create(train_data, target='ADLOADINGTIME',features=['COMBINEDID'],validation_set=test_data, max_iterations=100,verbose=False)\n",
    "model = LR_model\n",
    "rms = graphlab.evaluation.rmse(test_data['ADLOADINGTIME'],model.predict(test_data))\n",
    "print(\"{}: {:.4f}\".format('COMBINEDID',rms))\n",
    "LR_model = graphlab.linear_regression.create(train_data, target='ADLOADINGTIME',features=['COMBINEDEXTERNALID'],validation_set=test_data, max_iterations=100,verbose=False)\n",
    "model = LR_model\n",
    "rms = graphlab.evaluation.rmse(test_data['ADLOADINGTIME'],model.predict(test_data))\n",
    "print(\"{}: {:.4f}\".format('COMBINEDEXTERNALID',rms))\n",
    "LR_model = graphlab.linear_regression.create(train_data, target='ADLOADINGTIME',features=['COMBINEDID', 'COMBINEDEXTERNALID'],validation_set=test_data, max_iterations=100,verbose=False)\n",
    "model = LR_model\n",
    "rms = graphlab.evaluation.rmse(test_data['ADLOADINGTIME'],model.predict(test_data))\n",
    "print(\"{}: {:.4f}\".format('COMBINEDID and COMBINEDEXTERNALID',rms))"
   ]
  },
  {
   "cell_type": "markdown",
   "metadata": {},
   "source": [
    "**CONCLUSIONS**\n",
    "\n",
    "COMBINEDEXTERNALID doesn't help with the linear regression, however, it is essential for random forest -> do not remove it!"
   ]
  },
  {
   "cell_type": "code",
   "execution_count": 57,
   "metadata": {
    "collapsed": false
   },
   "outputs": [],
   "source": [
    "#data.remove_column('COMBINEDEXTERNALID');"
   ]
  },
  {
   "cell_type": "markdown",
   "metadata": {},
   "source": [
    "######Test the need for TOPMOSTREACHABLEWINDOWAREA"
   ]
  },
  {
   "cell_type": "code",
   "execution_count": 86,
   "metadata": {
    "collapsed": false
   },
   "outputs": [
    {
     "name": "stdout",
     "output_type": "stream",
     "text": [
      "COMBINEDID: 3.4685\n",
      "TOPMOSTREACHABLEWINDOWAREA: 3.6797\n",
      "COMBINEDID and TOPMOSTREACHABLEWINDOWAREA: 3.4645\n"
     ]
    }
   ],
   "source": [
    "train_data,test_data = data.random_split(.5,seed=1)\n",
    "\n",
    "LR_model = graphlab.linear_regression.create(train_data, target='ADLOADINGTIME',features=['COMBINEDID'],validation_set=test_data, max_iterations=100,verbose=False)\n",
    "model = LR_model\n",
    "rms = graphlab.evaluation.rmse(test_data['ADLOADINGTIME'],model.predict(test_data))\n",
    "print(\"{}: {:.4f}\".format('COMBINEDID',rms))\n",
    "LR_model = graphlab.linear_regression.create(train_data, target='ADLOADINGTIME',features=['TOPMOSTREACHABLEWINDOWAREA'],validation_set=test_data, max_iterations=100,verbose=False)\n",
    "model = LR_model\n",
    "rms = graphlab.evaluation.rmse(test_data['ADLOADINGTIME'],model.predict(test_data))\n",
    "print(\"{}: {:.4f}\".format('TOPMOSTREACHABLEWINDOWAREA',rms))\n",
    "LR_model = graphlab.linear_regression.create(train_data, target='ADLOADINGTIME',features=['COMBINEDID', 'TOPMOSTREACHABLEWINDOWAREA'],validation_set=test_data, max_iterations=100,verbose=False)\n",
    "model = LR_model\n",
    "rms = graphlab.evaluation.rmse(test_data['ADLOADINGTIME'],model.predict(test_data))\n",
    "print(\"{}: {:.4f}\".format('COMBINEDID and TOPMOSTREACHABLEWINDOWAREA',rms))"
   ]
  },
  {
   "cell_type": "markdown",
   "metadata": {},
   "source": [
    "**CONCLUSIONS**\n",
    "\n",
    "TOPMOSTREACHABLEWINDOWAREA is needed!"
   ]
  },
  {
   "cell_type": "code",
   "execution_count": 52,
   "metadata": {
    "collapsed": true
   },
   "outputs": [],
   "source": [
    "#data.remove_column('TOPMOSTREACHABLEWINDOWAREA');"
   ]
  },
  {
   "cell_type": "markdown",
   "metadata": {},
   "source": [
    "######Combine PLATFORM and PLATFORMVERSION"
   ]
  },
  {
   "cell_type": "code",
   "execution_count": 111,
   "metadata": {
    "collapsed": false
   },
   "outputs": [],
   "source": [
    "data['PLATFORMCOMBINED'] = data['PLATFORM']+'_'+data['PLATFORMVERSION']"
   ]
  },
  {
   "cell_type": "code",
   "execution_count": 112,
   "metadata": {
    "collapsed": false
   },
   "outputs": [
    {
     "name": "stdout",
     "output_type": "stream",
     "text": [
      "PLATFORM: 3.6262\n",
      "PLATFORMVERSION: 3.5990\n",
      "PLATFORMCOMBINED: 3.5979\n",
      "PLATFORM and PLATFORMVERSION: 3.5982\n",
      "COMBINEDID and PLATFORM: 3.3705\n",
      "COMBINEDID and PLATFORMVERSION: 3.3455\n",
      "COMBINEDID and PLATFORMCOMBINED: 3.3448\n",
      "COMBINEDID and PLATFORM and PLATFORMVERSION: 3.3451\n"
     ]
    }
   ],
   "source": [
    "train_data,test_data = data.random_split(.5,seed=1)\n",
    "\n",
    "LR_model = graphlab.linear_regression.create(train_data, target='ADLOADINGTIME',features=['PLATFORM'],validation_set=test_data, max_iterations=100,verbose=False)\n",
    "model = LR_model\n",
    "rms = graphlab.evaluation.rmse(test_data['ADLOADINGTIME'],model.predict(test_data))\n",
    "print(\"{}: {:.4f}\".format('PLATFORM',rms))\n",
    "LR_model = graphlab.linear_regression.create(train_data, target='ADLOADINGTIME',features=['PLATFORMVERSION'],validation_set=test_data, max_iterations=100,verbose=False)\n",
    "model = LR_model\n",
    "rms = graphlab.evaluation.rmse(test_data['ADLOADINGTIME'],model.predict(test_data))\n",
    "print(\"{}: {:.4f}\".format('PLATFORMVERSION',rms))\n",
    "LR_model = graphlab.linear_regression.create(train_data, target='ADLOADINGTIME',features=['PLATFORMCOMBINED'],validation_set=test_data, max_iterations=100,verbose=False)\n",
    "model = LR_model\n",
    "rms = graphlab.evaluation.rmse(test_data['ADLOADINGTIME'],model.predict(test_data))\n",
    "print(\"{}: {:.4f}\".format('PLATFORMCOMBINED',rms))\n",
    "LR_model = graphlab.linear_regression.create(train_data, target='ADLOADINGTIME',features=['PLATFORM', 'PLATFORMVERSION'],validation_set=test_data, max_iterations=100,verbose=False)\n",
    "model = LR_model\n",
    "rms = graphlab.evaluation.rmse(test_data['ADLOADINGTIME'],model.predict(test_data))\n",
    "print(\"{}: {:.4f}\".format('PLATFORM and PLATFORMVERSION',rms))\n",
    "\n",
    "LR_model = graphlab.linear_regression.create(train_data, target='ADLOADINGTIME',features=['COMBINEDID', 'PLATFORM'],validation_set=test_data, max_iterations=100,verbose=False)\n",
    "model = LR_model\n",
    "rms = graphlab.evaluation.rmse(test_data['ADLOADINGTIME'],model.predict(test_data))\n",
    "print(\"{}: {:.4f}\".format('COMBINEDID and PLATFORM',rms))\n",
    "LR_model = graphlab.linear_regression.create(train_data, target='ADLOADINGTIME',features=['COMBINEDID','PLATFORMVERSION'],validation_set=test_data, max_iterations=100,verbose=False)\n",
    "model = LR_model\n",
    "rms = graphlab.evaluation.rmse(test_data['ADLOADINGTIME'],model.predict(test_data))\n",
    "print(\"{}: {:.4f}\".format('COMBINEDID and PLATFORMVERSION',rms))\n",
    "LR_model = graphlab.linear_regression.create(train_data, target='ADLOADINGTIME',features=['COMBINEDID','PLATFORMCOMBINED'],validation_set=test_data, max_iterations=100,verbose=False)\n",
    "model = LR_model\n",
    "rms = graphlab.evaluation.rmse(test_data['ADLOADINGTIME'],model.predict(test_data))\n",
    "print(\"{}: {:.4f}\".format('COMBINEDID and PLATFORMCOMBINED',rms))\n",
    "LR_model = graphlab.linear_regression.create(train_data, target='ADLOADINGTIME',features=['COMBINEDID', 'PLATFORM', 'PLATFORMVERSION'],validation_set=test_data, max_iterations=100,verbose=False)\n",
    "model = LR_model\n",
    "rms = graphlab.evaluation.rmse(test_data['ADLOADINGTIME'],model.predict(test_data))\n",
    "print(\"{}: {:.4f}\".format('COMBINEDID and PLATFORM and PLATFORMVERSION',rms))"
   ]
  },
  {
   "cell_type": "markdown",
   "metadata": {},
   "source": [
    "**CONCLUSIONS**\n",
    "\n",
    "PLATFORMCOMBINED is better than separately use PLATFORM and PLATFORMVERSION"
   ]
  },
  {
   "cell_type": "code",
   "execution_count": 113,
   "metadata": {
    "collapsed": true
   },
   "outputs": [],
   "source": [
    "data.remove_columns(['PLATFORM','PLATFORMVERSION']);"
   ]
  },
  {
   "cell_type": "markdown",
   "metadata": {},
   "source": [
    " "
   ]
  },
  {
   "cell_type": "code",
   "execution_count": 120,
   "metadata": {
    "collapsed": false
   },
   "outputs": [
    {
     "name": "stdout",
     "output_type": "stream",
     "text": [
      "COMBINEDID: 3.4685\n",
      "COMBINEDID and PLATFORMCOMBINED: 3.3448\n",
      "COMBINEDID: 3.4685\n",
      "COMBINEDID and PLATFORMCOMBINED: 3.3449\n"
     ]
    }
   ],
   "source": [
    "train_data,test_data = data.random_split(.5,seed=1)\n",
    "\n",
    "LR_model = graphlab.linear_regression.create(train_data, target='ADLOADINGTIME',features=['COMBINEDID'],validation_set=test_data, max_iterations=100,verbose=False)\n",
    "model = LR_model\n",
    "rms = graphlab.evaluation.rmse(test_data['ADLOADINGTIME'],model.predict(test_data))\n",
    "print(\"{}: {:.4f}\".format('COMBINEDID',rms))\n",
    "LR_model = graphlab.linear_regression.create(train_data, target='ADLOADINGTIME',features=['COMBINEDID','PLATFORMCOMBINED'],validation_set=test_data, max_iterations=100,verbose=False)\n",
    "model = LR_model\n",
    "rms = graphlab.evaluation.rmse(test_data['ADLOADINGTIME'],model.predict(test_data))\n",
    "print(\"{}: {:.4f}\".format('COMBINEDID and PLATFORMCOMBINED',rms))\n",
    "\n",
    "train_data = train_data[train_data['PLATFORMCOMBINED'] != 'null_null']\n",
    "#test_data = test_data[test_data['PLATFORMCOMBINED'] != 'null_null']\n",
    "\n",
    "LR_model = graphlab.linear_regression.create(train_data, target='ADLOADINGTIME',features=['COMBINEDID'],validation_set=test_data, max_iterations=100,verbose=False)\n",
    "model = LR_model\n",
    "rms = graphlab.evaluation.rmse(test_data['ADLOADINGTIME'],model.predict(test_data))\n",
    "print(\"{}: {:.4f}\".format('COMBINEDID',rms))\n",
    "LR_model = graphlab.linear_regression.create(train_data, target='ADLOADINGTIME',features=['COMBINEDID','PLATFORMCOMBINED'],validation_set=test_data, max_iterations=100,verbose=False)\n",
    "model = LR_model\n",
    "rms = graphlab.evaluation.rmse(test_data['ADLOADINGTIME'],model.predict(test_data))\n",
    "print(\"{}: {:.4f}\".format('COMBINEDID and PLATFORMCOMBINED',rms))"
   ]
  },
  {
   "cell_type": "code",
   "execution_count": null,
   "metadata": {
    "collapsed": true
   },
   "outputs": [],
   "source": []
  },
  {
   "cell_type": "code",
   "execution_count": null,
   "metadata": {
    "collapsed": true
   },
   "outputs": [],
   "source": []
  },
  {
   "cell_type": "code",
   "execution_count": null,
   "metadata": {
    "collapsed": true
   },
   "outputs": [],
   "source": []
  },
  {
   "cell_type": "code",
   "execution_count": null,
   "metadata": {
    "collapsed": true
   },
   "outputs": [],
   "source": []
  },
  {
   "cell_type": "markdown",
   "metadata": {},
   "source": [
    "**TODO**\n",
    "what if INTENDEDDEVICETYPE and ACTUALDEVICETYPE differs"
   ]
  },
  {
   "cell_type": "code",
   "execution_count": 116,
   "metadata": {
    "collapsed": false
   },
   "outputs": [
    {
     "data": {
      "text/plain": [
       "{'ACTUALDEVICETYPE': 'Phone',\n",
       " 'ADLOADINGTIME': 1.225,\n",
       " 'CDNNAME': 'c',\n",
       " 'COMBINEDEXTERNALID': '01755c4de2edfb068e8031dd2b00ab80_e8dfd4d5a2d3f6641f6d61eac1c321cf_null',\n",
       " 'COMBINEDID': 'MobileWeb_75552b6682f38994379b44da9e6667ce_dea9d78103c4fa952e155ea36b2b735e_0a261f67aebcaca3549fbd8aca2d0756_149d62d213b2dfec327ac2dc3391d0d5',\n",
       " 'CREATIVETYPE': 'ExpandableBanner',\n",
       " 'ERRORSJSON': '[218bf447841fa2da25dde7408e518979]',\n",
       " 'FILESJSON': '[{\"type\":\"image\",\"size\":18170},{\"type\":\"image\",\"size\":1148},{\"type\":\"image\",\"size\":1304},{\"type\":\"image\",\"size\":8281},{\"type\":\"image\",\"size\":1747},{\"type\":\"image\",\"size\":1927},{\"type\":\"image\",\"size\":4576},{\"type\":\"image\",\"size\":6574},{\"type\":\"image\",\"size\":21639},{\"type\":\"image\",\"size\":1045},{\"type\":\"image\",\"size\":601},{\"type\":\"image\",\"size\":29093},{\"type\":\"image\",\"size\":26481}]',\n",
       " 'INTENDEDDEVICETYPE': 'Phone',\n",
       " 'PLACEMENTID': '4e58228d1427e7480fbb15d98e6efe62',\n",
       " 'PLATFORMCOMBINED': 'IOS_9.3.1',\n",
       " 'TIMESTAMP': 1459526101L,\n",
       " 'TOPMOSTREACHABLEWINDOWAREA': 152640L,\n",
       " 'UA_BROWSER': 'Safari',\n",
       " 'UA_BROWSERRENDERINGENGINE': 'WebKit',\n",
       " 'UA_BROWSERVERSION': 'null',\n",
       " 'UA_DEVICETYPE': 'Phone',\n",
       " 'UA_HARDWARETYPE': 'Mobile Phone',\n",
       " 'UA_MODEL': 'iPhone',\n",
       " 'UA_OS': 'IOS',\n",
       " 'UA_OSVERSION': '9.3.1',\n",
       " 'UA_PLATFORM': 'IOS',\n",
       " 'UA_PLATFORMVERSION': '9.3.1',\n",
       " 'UA_VENDOR': 'Apple'}"
      ]
     },
     "execution_count": 116,
     "metadata": {},
     "output_type": "execute_result"
    }
   ],
   "source": [
    "data[100]"
   ]
  },
  {
   "cell_type": "code",
   "execution_count": 87,
   "metadata": {
    "collapsed": false,
    "scrolled": false
   },
   "outputs": [
    {
     "name": "stdout",
     "output_type": "stream",
     "text": [
      "PLACEMENTID: 3.4748\n",
      "TIMESTAMP: 3.6950\n",
      "PLATFORM: 3.6262\n",
      "PLATFORMVERSION: 3.5990\n",
      "INTENDEDDEVICETYPE: 3.6602\n",
      "ACTUALDEVICETYPE: 3.6692\n",
      "CDNNAME: 3.6952\n",
      "CREATIVETYPE: 3.6740\n",
      "GEOIP_LNG: 3.6881\n",
      "GEOIP_LAT: 3.6921\n",
      "GEOIP_COUNTRY: 3.6689\n",
      "UA_HARDWARETYPE: 3.6686\n",
      "UA_DEVICETYPE: 3.6692\n",
      "UA_PLATFORM: 3.6264\n",
      "UA_PLATFORMVERSION: 3.5990\n",
      "UA_VENDOR: 3.6246\n",
      "UA_MODEL: 3.5961\n",
      "UA_OS: 3.6253\n",
      "UA_OSVERSION: 3.5962\n",
      "UA_BROWSER: 3.6204\n",
      "UA_BROWSERVERSION: 3.5821\n",
      "UA_BROWSERRENDERINGENGINE: 3.6905\n",
      "FILESJSON: 3.5169\n",
      "ERRORSJSON: 3.6843\n",
      "COMBINEDID: 3.4685\n",
      "COMBINEDEXTERNALID: 3.5291\n",
      "TOPMOSTREACHABLEWINDOWAREA: 3.6797\n"
     ]
    }
   ],
   "source": [
    "train_data,test_data = data.random_split(.5,seed=1)\n",
    "\n",
    "for col in data.column_names():\n",
    "    if col != 'ADLOADINGTIME':# and  col != 'CREATIVEID' and col != 'UA_BROWSERVERSION':\n",
    "        #sqft_model = graphlab.linear_regression.create(train_data, target='ADLOADINGTIME',features=[col,'CREATIVEID','UA_BROWSERVERSION'],validation_set=test_data, max_iterations=100,verbose=False)\n",
    "        LR_model = graphlab.linear_regression.create(train_data, target='ADLOADINGTIME',features=[col],validation_set=test_data, max_iterations=100,verbose=False)\n",
    "        model = LR_model\n",
    "        rms = graphlab.evaluation.rmse(test_data['ADLOADINGTIME'],model.predict(test_data))\n",
    "        print(\"{}: {:.4f}\".format(col,rms))"
   ]
  },
  {
   "cell_type": "code",
   "execution_count": 105,
   "metadata": {
    "collapsed": false,
    "scrolled": true
   },
   "outputs": [
    {
     "name": "stdout",
     "output_type": "stream",
     "text": [
      "PLACEMENTID: 3.4629\n",
      "TIMESTAMP: 3.4684\n",
      "PLATFORM: 3.3705\n",
      "PLATFORMVERSION: 3.3455\n",
      "INTENDEDDEVICETYPE: 3.4685\n",
      "ACTUALDEVICETYPE: 3.4655\n",
      "CDNNAME: 3.4687\n",
      "CREATIVETYPE: 3.4685\n",
      "UA_HARDWARETYPE: 3.4648\n",
      "UA_DEVICETYPE: 3.4655\n",
      "UA_PLATFORM: 3.3706\n",
      "UA_PLATFORMVERSION: 3.3457\n",
      "UA_VENDOR: 3.3694\n",
      "UA_MODEL: 3.3565\n",
      "UA_OS: 3.3693\n",
      "UA_OSVERSION: 3.3419\n",
      "UA_BROWSER: 3.3737\n",
      "UA_BROWSERVERSION: 3.3385\n",
      "UA_BROWSERRENDERINGENGINE: 3.4672\n",
      "FILESJSON: 3.4686\n",
      "ERRORSJSON: 3.4676\n",
      "COMBINEDEXTERNALID: 3.4701\n",
      "TOPMOSTREACHABLEWINDOWAREA: 3.4645\n"
     ]
    }
   ],
   "source": [
    "train_data,test_data = data.random_split(.5,seed=1)\n",
    "\n",
    "for col in data.column_names():\n",
    "    if col != 'ADLOADINGTIME' and  col != 'COMBINEDID':# and col != 'UA_BROWSERVERSION':\n",
    "        #sqft_model = graphlab.linear_regression.create(train_data, target='ADLOADINGTIME',features=[col,'CREATIVEID','UA_BROWSERVERSION'],validation_set=test_data, max_iterations=100,verbose=False)\n",
    "        LR_model = graphlab.linear_regression.create(train_data, target='ADLOADINGTIME',features=[col,'COMBINEDID'],validation_set=test_data, max_iterations=100,verbose=False)\n",
    "        model = LR_model\n",
    "        rms = graphlab.evaluation.rmse(test_data['ADLOADINGTIME'],model.predict(test_data))\n",
    "        print(\"{}: {:.4f}\".format(col,rms))"
   ]
  },
  {
   "cell_type": "code",
   "execution_count": null,
   "metadata": {
    "collapsed": true
   },
   "outputs": [],
   "source": []
  },
  {
   "cell_type": "code",
   "execution_count": null,
   "metadata": {
    "collapsed": true
   },
   "outputs": [],
   "source": []
  },
  {
   "cell_type": "code",
   "execution_count": 115,
   "metadata": {
    "collapsed": false,
    "scrolled": false
   },
   "outputs": [
    {
     "data": {
      "text/html": [
       "<pre>Linear regression:</pre>"
      ],
      "text/plain": [
       "Linear regression:"
      ]
     },
     "metadata": {},
     "output_type": "display_data"
    },
    {
     "data": {
      "text/html": [
       "<pre>--------------------------------------------------------</pre>"
      ],
      "text/plain": [
       "--------------------------------------------------------"
      ]
     },
     "metadata": {},
     "output_type": "display_data"
    },
    {
     "data": {
      "text/html": [
       "<pre>Number of examples          : 115285</pre>"
      ],
      "text/plain": [
       "Number of examples          : 115285"
      ]
     },
     "metadata": {},
     "output_type": "display_data"
    },
    {
     "data": {
      "text/html": [
       "<pre>Number of features          : 23</pre>"
      ],
      "text/plain": [
       "Number of features          : 23"
      ]
     },
     "metadata": {},
     "output_type": "display_data"
    },
    {
     "data": {
      "text/html": [
       "<pre>Number of unpacked features : 23</pre>"
      ],
      "text/plain": [
       "Number of unpacked features : 23"
      ]
     },
     "metadata": {},
     "output_type": "display_data"
    },
    {
     "data": {
      "text/html": [
       "<pre>Number of coefficients    : 12536</pre>"
      ],
      "text/plain": [
       "Number of coefficients    : 12536"
      ]
     },
     "metadata": {},
     "output_type": "display_data"
    },
    {
     "data": {
      "text/html": [
       "<pre>Starting L-BFGS</pre>"
      ],
      "text/plain": [
       "Starting L-BFGS"
      ]
     },
     "metadata": {},
     "output_type": "display_data"
    },
    {
     "data": {
      "text/html": [
       "<pre>--------------------------------------------------------</pre>"
      ],
      "text/plain": [
       "--------------------------------------------------------"
      ]
     },
     "metadata": {},
     "output_type": "display_data"
    },
    {
     "data": {
      "text/html": [
       "<pre>+-----------+----------+-----------+--------------+--------------------+----------------------+---------------+-----------------+</pre>"
      ],
      "text/plain": [
       "+-----------+----------+-----------+--------------+--------------------+----------------------+---------------+-----------------+"
      ]
     },
     "metadata": {},
     "output_type": "display_data"
    },
    {
     "data": {
      "text/html": [
       "<pre>| Iteration | Passes   | Step size | Elapsed Time | Training-max_error | Validation-max_error | Training-rmse | Validation-rmse |</pre>"
      ],
      "text/plain": [
       "| Iteration | Passes   | Step size | Elapsed Time | Training-max_error | Validation-max_error | Training-rmse | Validation-rmse |"
      ]
     },
     "metadata": {},
     "output_type": "display_data"
    },
    {
     "data": {
      "text/html": [
       "<pre>+-----------+----------+-----------+--------------+--------------------+----------------------+---------------+-----------------+</pre>"
      ],
      "text/plain": [
       "+-----------+----------+-----------+--------------+--------------------+----------------------+---------------+-----------------+"
      ]
     },
     "metadata": {},
     "output_type": "display_data"
    },
    {
     "data": {
      "text/html": [
       "<pre>| 1         | 6        | 0.000000  | 0.473027     | 16.871382          | 16.958005            | 3.528712      | 3.555405        |</pre>"
      ],
      "text/plain": [
       "| 1         | 6        | 0.000000  | 0.473027     | 16.871382          | 16.958005            | 3.528712      | 3.555405        |"
      ]
     },
     "metadata": {},
     "output_type": "display_data"
    },
    {
     "data": {
      "text/html": [
       "<pre>| 2         | 8        | 1.000000  | 0.721041     | 16.861835          | 16.896907            | 3.385925      | 3.431803        |</pre>"
      ],
      "text/plain": [
       "| 2         | 8        | 1.000000  | 0.721041     | 16.861835          | 16.896907            | 3.385925      | 3.431803        |"
      ]
     },
     "metadata": {},
     "output_type": "display_data"
    },
    {
     "data": {
      "text/html": [
       "<pre>| 3         | 9        | 1.000000  | 0.912052     | 17.302560          | 16.975167            | 3.176442      | 3.290461        |</pre>"
      ],
      "text/plain": [
       "| 3         | 9        | 1.000000  | 0.912052     | 17.302560          | 16.975167            | 3.176442      | 3.290461        |"
      ]
     },
     "metadata": {},
     "output_type": "display_data"
    },
    {
     "data": {
      "text/html": [
       "<pre>| 4         | 10       | 1.000000  | 1.101063     | 18.099621          | 17.356755            | 3.108262      | 3.315879        |</pre>"
      ],
      "text/plain": [
       "| 4         | 10       | 1.000000  | 1.101063     | 18.099621          | 17.356755            | 3.108262      | 3.315879        |"
      ]
     },
     "metadata": {},
     "output_type": "display_data"
    },
    {
     "data": {
      "text/html": [
       "<pre>| 5         | 11       | 1.000000  | 1.288073     | 18.133535          | 17.326836            | 3.038493      | 3.261038        |</pre>"
      ],
      "text/plain": [
       "| 5         | 11       | 1.000000  | 1.288073     | 18.133535          | 17.326836            | 3.038493      | 3.261038        |"
      ]
     },
     "metadata": {},
     "output_type": "display_data"
    },
    {
     "data": {
      "text/html": [
       "<pre>| 6         | 12       | 1.000000  | 1.473084     | 18.019488          | 17.428633            | 3.017180      | 3.250346        |</pre>"
      ],
      "text/plain": [
       "| 6         | 12       | 1.000000  | 1.473084     | 18.019488          | 17.428633            | 3.017180      | 3.250346        |"
      ]
     },
     "metadata": {},
     "output_type": "display_data"
    },
    {
     "data": {
      "text/html": [
       "<pre>| 10        | 16       | 1.000000  | 2.281130     | 17.621699          | 18.682872            | 2.966463      | 3.274518        |</pre>"
      ],
      "text/plain": [
       "| 10        | 16       | 1.000000  | 2.281130     | 17.621699          | 18.682872            | 2.966463      | 3.274518        |"
      ]
     },
     "metadata": {},
     "output_type": "display_data"
    },
    {
     "data": {
      "text/html": [
       "<pre>| 11        | 17       | 1.000000  | 2.467141     | 17.454759          | 18.754935            | 2.962801      | 3.274627        |</pre>"
      ],
      "text/plain": [
       "| 11        | 17       | 1.000000  | 2.467141     | 17.454759          | 18.754935            | 2.962801      | 3.274627        |"
      ]
     },
     "metadata": {},
     "output_type": "display_data"
    },
    {
     "data": {
      "text/html": [
       "<pre>| 15        | 21       | 1.000000  | 3.183182     | 17.379703          | 18.706335            | 2.949711      | 3.265064        |</pre>"
      ],
      "text/plain": [
       "| 15        | 21       | 1.000000  | 3.183182     | 17.379703          | 18.706335            | 2.949711      | 3.265064        |"
      ]
     },
     "metadata": {},
     "output_type": "display_data"
    },
    {
     "data": {
      "text/html": [
       "<pre>| 20        | 26       | 1.000000  | 4.271244     | 17.131781          | 19.887626            | 2.945674      | 3.263030        |</pre>"
      ],
      "text/plain": [
       "| 20        | 26       | 1.000000  | 4.271244     | 17.131781          | 19.887626            | 2.945674      | 3.263030        |"
      ]
     },
     "metadata": {},
     "output_type": "display_data"
    },
    {
     "data": {
      "text/html": [
       "<pre>| 25        | 31       | 1.000000  | 5.283302     | 17.157930          | 22.077255            | 2.944512      | 3.262070        |</pre>"
      ],
      "text/plain": [
       "| 25        | 31       | 1.000000  | 5.283302     | 17.157930          | 22.077255            | 2.944512      | 3.262070        |"
      ]
     },
     "metadata": {},
     "output_type": "display_data"
    },
    {
     "data": {
      "text/html": [
       "<pre>| 30        | 36       | 1.000000  | 6.331362     | 17.203229          | 23.505404            | 2.944198      | 3.263149        |</pre>"
      ],
      "text/plain": [
       "| 30        | 36       | 1.000000  | 6.331362     | 17.203229          | 23.505404            | 2.944198      | 3.263149        |"
      ]
     },
     "metadata": {},
     "output_type": "display_data"
    },
    {
     "data": {
      "text/html": [
       "<pre>| 35        | 41       | 1.000000  | 7.313418     | 17.216752          | 23.227123            | 2.943914      | 3.264810        |</pre>"
      ],
      "text/plain": [
       "| 35        | 41       | 1.000000  | 7.313418     | 17.216752          | 23.227123            | 2.943914      | 3.264810        |"
      ]
     },
     "metadata": {},
     "output_type": "display_data"
    },
    {
     "data": {
      "text/html": [
       "<pre>| 40        | 47       | 1.000000  | 8.340477     | 17.223328          | 23.136683            | 2.943813      | 3.265550        |</pre>"
      ],
      "text/plain": [
       "| 40        | 47       | 1.000000  | 8.340477     | 17.223328          | 23.136683            | 2.943813      | 3.265550        |"
      ]
     },
     "metadata": {},
     "output_type": "display_data"
    },
    {
     "data": {
      "text/html": [
       "<pre>| 45        | 53       | 1.000000  | 9.314532     | 17.197098          | 22.851442            | 2.943709      | 3.265862        |</pre>"
      ],
      "text/plain": [
       "| 45        | 53       | 1.000000  | 9.314532     | 17.197098          | 22.851442            | 2.943709      | 3.265862        |"
      ]
     },
     "metadata": {},
     "output_type": "display_data"
    },
    {
     "data": {
      "text/html": [
       "<pre>| 50        | 58       | 1.000000  | 10.314590    | 17.200288          | 22.673547            | 2.943628      | 3.266762        |</pre>"
      ],
      "text/plain": [
       "| 50        | 58       | 1.000000  | 10.314590    | 17.200288          | 22.673547            | 2.943628      | 3.266762        |"
      ]
     },
     "metadata": {},
     "output_type": "display_data"
    },
    {
     "data": {
      "text/html": [
       "<pre>| 51        | 59       | 1.000000  | 10.526602    | 17.198901          | 22.694734            | 2.943616      | 3.266805        |</pre>"
      ],
      "text/plain": [
       "| 51        | 59       | 1.000000  | 10.526602    | 17.198901          | 22.694734            | 2.943616      | 3.266805        |"
      ]
     },
     "metadata": {},
     "output_type": "display_data"
    },
    {
     "data": {
      "text/html": [
       "<pre>| 55        | 63       | 1.000000  | 11.345649    | 17.193054          | 22.425386            | 2.943591      | 3.267901        |</pre>"
      ],
      "text/plain": [
       "| 55        | 63       | 1.000000  | 11.345649    | 17.193054          | 22.425386            | 2.943591      | 3.267901        |"
      ]
     },
     "metadata": {},
     "output_type": "display_data"
    },
    {
     "data": {
      "text/html": [
       "<pre>| 60        | 69       | 1.000000  | 12.423710    | 17.198626          | 22.431923            | 2.943543      | 3.267900        |</pre>"
      ],
      "text/plain": [
       "| 60        | 69       | 1.000000  | 12.423710    | 17.198626          | 22.431923            | 2.943543      | 3.267900        |"
      ]
     },
     "metadata": {},
     "output_type": "display_data"
    },
    {
     "data": {
      "text/html": [
       "<pre>| 65        | 74       | 1.000000  | 13.471770    | 17.199531          | 22.553109            | 2.943506      | 3.268620        |</pre>"
      ],
      "text/plain": [
       "| 65        | 74       | 1.000000  | 13.471770    | 17.199531          | 22.553109            | 2.943506      | 3.268620        |"
      ]
     },
     "metadata": {},
     "output_type": "display_data"
    },
    {
     "data": {
      "text/html": [
       "<pre>| 70        | 79       | 1.000000  | 14.539831    | 17.200134          | 22.697877            | 2.943469      | 3.269222        |</pre>"
      ],
      "text/plain": [
       "| 70        | 79       | 1.000000  | 14.539831    | 17.200134          | 22.697877            | 2.943469      | 3.269222        |"
      ]
     },
     "metadata": {},
     "output_type": "display_data"
    },
    {
     "data": {
      "text/html": [
       "<pre>| 75        | 84       | 1.000000  | 15.562890    | 17.200387          | 22.732490            | 2.943439      | 3.269505        |</pre>"
      ],
      "text/plain": [
       "| 75        | 84       | 1.000000  | 15.562890    | 17.200387          | 22.732490            | 2.943439      | 3.269505        |"
      ]
     },
     "metadata": {},
     "output_type": "display_data"
    },
    {
     "data": {
      "text/html": [
       "<pre>| 80        | 89       | 1.000000  | 16.532945    | 17.196561          | 22.826343            | 2.943411      | 3.270592        |</pre>"
      ],
      "text/plain": [
       "| 80        | 89       | 1.000000  | 16.532945    | 17.196561          | 22.826343            | 2.943411      | 3.270592        |"
      ]
     },
     "metadata": {},
     "output_type": "display_data"
    },
    {
     "data": {
      "text/html": [
       "<pre>| 85        | 94       | 1.000000  | 17.496000    | 17.206417          | 22.767158            | 2.943368      | 3.271545        |</pre>"
      ],
      "text/plain": [
       "| 85        | 94       | 1.000000  | 17.496000    | 17.206417          | 22.767158            | 2.943368      | 3.271545        |"
      ]
     },
     "metadata": {},
     "output_type": "display_data"
    },
    {
     "data": {
      "text/html": [
       "<pre>| 90        | 99       | 1.000000  | 18.520059    | 17.210587          | 22.663267            | 2.943340      | 3.272008        |</pre>"
      ],
      "text/plain": [
       "| 90        | 99       | 1.000000  | 18.520059    | 17.210587          | 22.663267            | 2.943340      | 3.272008        |"
      ]
     },
     "metadata": {},
     "output_type": "display_data"
    },
    {
     "data": {
      "text/html": [
       "<pre>| 95        | 104      | 1.000000  | 19.650124    | 17.198467          | 22.645202            | 2.943312      | 3.272420        |</pre>"
      ],
      "text/plain": [
       "| 95        | 104      | 1.000000  | 19.650124    | 17.198467          | 22.645202            | 2.943312      | 3.272420        |"
      ]
     },
     "metadata": {},
     "output_type": "display_data"
    },
    {
     "data": {
      "text/html": [
       "<pre>| 100       | 109      | 1.000000  | 20.698183    | 17.197753          | 22.602666            | 2.943299      | 3.273182        |</pre>"
      ],
      "text/plain": [
       "| 100       | 109      | 1.000000  | 20.698183    | 17.197753          | 22.602666            | 2.943299      | 3.273182        |"
      ]
     },
     "metadata": {},
     "output_type": "display_data"
    },
    {
     "data": {
      "text/html": [
       "<pre>| 101       | 110      | 1.000000  | 20.888194    | 17.196846          | 22.606605            | 2.943297      | 3.273344        |</pre>"
      ],
      "text/plain": [
       "| 101       | 110      | 1.000000  | 20.888194    | 17.196846          | 22.606605            | 2.943297      | 3.273344        |"
      ]
     },
     "metadata": {},
     "output_type": "display_data"
    },
    {
     "data": {
      "text/html": [
       "<pre>| 105       | 114      | 1.000000  | 21.735243    | 17.200159          | 22.690010            | 2.943287      | 3.273362        |</pre>"
      ],
      "text/plain": [
       "| 105       | 114      | 1.000000  | 21.735243    | 17.200159          | 22.690010            | 2.943287      | 3.273362        |"
      ]
     },
     "metadata": {},
     "output_type": "display_data"
    },
    {
     "data": {
      "text/html": [
       "<pre>| 110       | 119      | 1.000000  | 22.786303    | 17.204049          | 22.771997            | 2.943274      | 3.273422        |</pre>"
      ],
      "text/plain": [
       "| 110       | 119      | 1.000000  | 22.786303    | 17.204049          | 22.771997            | 2.943274      | 3.273422        |"
      ]
     },
     "metadata": {},
     "output_type": "display_data"
    },
    {
     "data": {
      "text/html": [
       "<pre>| 115       | 124      | 1.000000  | 23.767359    | 17.203815          | 22.766432            | 2.943264      | 3.273345        |</pre>"
      ],
      "text/plain": [
       "| 115       | 124      | 1.000000  | 23.767359    | 17.203815          | 22.766432            | 2.943264      | 3.273345        |"
      ]
     },
     "metadata": {},
     "output_type": "display_data"
    },
    {
     "data": {
      "text/html": [
       "<pre>| 120       | 129      | 1.000000  | 24.890423    | 17.198222          | 22.750225            | 2.943248      | 3.273092        |</pre>"
      ],
      "text/plain": [
       "| 120       | 129      | 1.000000  | 24.890423    | 17.198222          | 22.750225            | 2.943248      | 3.273092        |"
      ]
     },
     "metadata": {},
     "output_type": "display_data"
    },
    {
     "data": {
      "text/html": [
       "<pre>| 125       | 134      | 1.000000  | 25.880480    | 17.197867          | 22.728987            | 2.943236      | 3.273162        |</pre>"
      ],
      "text/plain": [
       "| 125       | 134      | 1.000000  | 25.880480    | 17.197867          | 22.728987            | 2.943236      | 3.273162        |"
      ]
     },
     "metadata": {},
     "output_type": "display_data"
    },
    {
     "data": {
      "text/html": [
       "<pre>| 130       | 139      | 1.000000  | 26.870536    | 17.204301          | 22.579574            | 2.943227      | 3.272967        |</pre>"
      ],
      "text/plain": [
       "| 130       | 139      | 1.000000  | 26.870536    | 17.204301          | 22.579574            | 2.943227      | 3.272967        |"
      ]
     },
     "metadata": {},
     "output_type": "display_data"
    },
    {
     "data": {
      "text/html": [
       "<pre>| 135       | 145      | 1.000000  | 28.084606    | 17.203578          | 22.632091            | 2.943212      | 3.273398        |</pre>"
      ],
      "text/plain": [
       "| 135       | 145      | 1.000000  | 28.084606    | 17.203578          | 22.632091            | 2.943212      | 3.273398        |"
      ]
     },
     "metadata": {},
     "output_type": "display_data"
    },
    {
     "data": {
      "text/html": [
       "<pre>| 140       | 150      | 1.000000  | 29.170668    | 17.203495          | 22.678493            | 2.943199      | 3.273736        |</pre>"
      ],
      "text/plain": [
       "| 140       | 150      | 1.000000  | 29.170668    | 17.203495          | 22.678493            | 2.943199      | 3.273736        |"
      ]
     },
     "metadata": {},
     "output_type": "display_data"
    },
    {
     "data": {
      "text/html": [
       "<pre>| 145       | 155      | 1.000000  | 30.284732    | 17.201129          | 22.632947            | 2.943189      | 3.273780        |</pre>"
      ],
      "text/plain": [
       "| 145       | 155      | 1.000000  | 30.284732    | 17.201129          | 22.632947            | 2.943189      | 3.273780        |"
      ]
     },
     "metadata": {},
     "output_type": "display_data"
    },
    {
     "data": {
      "text/html": [
       "<pre>| 150       | 160      | 1.000000  | 31.467799    | 17.196634          | 22.735987            | 2.943177      | 3.274347        |</pre>"
      ],
      "text/plain": [
       "| 150       | 160      | 1.000000  | 31.467799    | 17.196634          | 22.735987            | 2.943177      | 3.274347        |"
      ]
     },
     "metadata": {},
     "output_type": "display_data"
    },
    {
     "data": {
      "text/html": [
       "<pre>+-----------+----------+-----------+--------------+--------------------+----------------------+---------------+-----------------+</pre>"
      ],
      "text/plain": [
       "+-----------+----------+-----------+--------------+--------------------+----------------------+---------------+-----------------+"
      ]
     },
     "metadata": {},
     "output_type": "display_data"
    },
    {
     "data": {
      "text/html": [
       "<pre>TERMINATED: Iteration limit reached.</pre>"
      ],
      "text/plain": [
       "TERMINATED: Iteration limit reached."
      ]
     },
     "metadata": {},
     "output_type": "display_data"
    },
    {
     "data": {
      "text/html": [
       "<pre>This model may not be optimal. To improve it, consider increasing `max_iterations`.</pre>"
      ],
      "text/plain": [
       "This model may not be optimal. To improve it, consider increasing `max_iterations`."
      ]
     },
     "metadata": {},
     "output_type": "display_data"
    },
    {
     "name": "stdout",
     "output_type": "stream",
     "text": [
      "ALL FEATURES: 3.2743\n"
     ]
    }
   ],
   "source": [
    "train_data,test_data = data.random_split(.5,seed=1)\n",
    "\n",
    "LR_model = graphlab.linear_regression.create(train_data, target='ADLOADINGTIME',validation_set=test_data, max_iterations=150,verbose=True)\n",
    "model = LR_model\n",
    "rms = graphlab.evaluation.rmse(test_data['ADLOADINGTIME'],model.predict(test_data))\n",
    "print(\"{}: {:.4f}\".format('ALL FEATURES',rms))"
   ]
  },
  {
   "cell_type": "code",
   "execution_count": 96,
   "metadata": {
    "collapsed": false
   },
   "outputs": [],
   "source": [
    "tmp1 = data['GEOIP_LNG']\n",
    "tmp2 = data['GEOIP_LAT']\n",
    "data.remove_columns(['GEOIP_LNG','GEOIP_LAT']);"
   ]
  },
  {
   "cell_type": "code",
   "execution_count": 100,
   "metadata": {
    "collapsed": true
   },
   "outputs": [],
   "source": [
    "data['GEOIP_LNG'] = tmp1\n",
    "data['GEOIP_LAT'] = tmp2\n",
    "data['GEOIP_COUNTRY'] = tmp3"
   ]
  },
  {
   "cell_type": "code",
   "execution_count": 94,
   "metadata": {
    "collapsed": true
   },
   "outputs": [],
   "source": [
    "tmp3 = data['GEOIP_COUNTRY']\n",
    "data.remove_columns(['GEOIP_COUNTRY']);"
   ]
  },
  {
   "cell_type": "code",
   "execution_count": 114,
   "metadata": {
    "collapsed": false,
    "scrolled": true
   },
   "outputs": [
    {
     "data": {
      "text/html": [
       "<pre>Random forest regression:</pre>"
      ],
      "text/plain": [
       "Random forest regression:"
      ]
     },
     "metadata": {},
     "output_type": "display_data"
    },
    {
     "data": {
      "text/html": [
       "<pre>--------------------------------------------------------</pre>"
      ],
      "text/plain": [
       "--------------------------------------------------------"
      ]
     },
     "metadata": {},
     "output_type": "display_data"
    },
    {
     "data": {
      "text/html": [
       "<pre>Number of examples          : 115285</pre>"
      ],
      "text/plain": [
       "Number of examples          : 115285"
      ]
     },
     "metadata": {},
     "output_type": "display_data"
    },
    {
     "data": {
      "text/html": [
       "<pre>Number of features          : 23</pre>"
      ],
      "text/plain": [
       "Number of features          : 23"
      ]
     },
     "metadata": {},
     "output_type": "display_data"
    },
    {
     "data": {
      "text/html": [
       "<pre>Number of unpacked features : 23</pre>"
      ],
      "text/plain": [
       "Number of unpacked features : 23"
      ]
     },
     "metadata": {},
     "output_type": "display_data"
    },
    {
     "data": {
      "text/html": [
       "<pre>+-----------+--------------+--------------------+---------------+----------------------+-----------------+</pre>"
      ],
      "text/plain": [
       "+-----------+--------------+--------------------+---------------+----------------------+-----------------+"
      ]
     },
     "metadata": {},
     "output_type": "display_data"
    },
    {
     "data": {
      "text/html": [
       "<pre>| Iteration | Elapsed Time | Training-max_error | Training-rmse | Validation-max_error | Validation-rmse |</pre>"
      ],
      "text/plain": [
       "| Iteration | Elapsed Time | Training-max_error | Training-rmse | Validation-max_error | Validation-rmse |"
      ]
     },
     "metadata": {},
     "output_type": "display_data"
    },
    {
     "data": {
      "text/html": [
       "<pre>+-----------+--------------+--------------------+---------------+----------------------+-----------------+</pre>"
      ],
      "text/plain": [
       "+-----------+--------------+--------------------+---------------+----------------------+-----------------+"
      ]
     },
     "metadata": {},
     "output_type": "display_data"
    },
    {
     "data": {
      "text/html": [
       "<pre>| 1         | 1.545088     | 17.969334          | 2.992437      | 18.094500            | 3.587401        |</pre>"
      ],
      "text/plain": [
       "| 1         | 1.545088     | 17.969334          | 2.992437      | 18.094500            | 3.587401        |"
      ]
     },
     "metadata": {},
     "output_type": "display_data"
    },
    {
     "data": {
      "text/html": [
       "<pre>| 2         | 3.138179     | 17.596489          | 2.718301      | 17.631248            | 3.361163        |</pre>"
      ],
      "text/plain": [
       "| 2         | 3.138179     | 17.596489          | 2.718301      | 17.631248            | 3.361163        |"
      ]
     },
     "metadata": {},
     "output_type": "display_data"
    },
    {
     "data": {
      "text/html": [
       "<pre>| 3         | 4.394251     | 17.753159          | 2.662552      | 17.342890            | 3.248876        |</pre>"
      ],
      "text/plain": [
       "| 3         | 4.394251     | 17.753159          | 2.662552      | 17.342890            | 3.248876        |"
      ]
     },
     "metadata": {},
     "output_type": "display_data"
    },
    {
     "data": {
      "text/html": [
       "<pre>| 4         | 6.174353     | 17.648159          | 2.602598      | 17.483793            | 3.210884        |</pre>"
      ],
      "text/plain": [
       "| 4         | 6.174353     | 17.648159          | 2.602598      | 17.483793            | 3.210884        |"
      ]
     },
     "metadata": {},
     "output_type": "display_data"
    },
    {
     "data": {
      "text/html": [
       "<pre>| 5         | 7.957455     | 17.497890          | 2.554648      | 17.381239            | 3.187361        |</pre>"
      ],
      "text/plain": [
       "| 5         | 7.957455     | 17.497890          | 2.554648      | 17.381239            | 3.187361        |"
      ]
     },
     "metadata": {},
     "output_type": "display_data"
    },
    {
     "data": {
      "text/html": [
       "<pre>| 6         | 9.782559     | 17.396162          | 2.525998      | 17.484615            | 3.171239        |</pre>"
      ],
      "text/plain": [
       "| 6         | 9.782559     | 17.396162          | 2.525998      | 17.484615            | 3.171239        |"
      ]
     },
     "metadata": {},
     "output_type": "display_data"
    },
    {
     "data": {
      "text/html": [
       "<pre>| 7         | 11.445654    | 16.719591          | 2.506596      | 17.380173            | 3.156995        |</pre>"
      ],
      "text/plain": [
       "| 7         | 11.445654    | 16.719591          | 2.506596      | 17.380173            | 3.156995        |"
      ]
     },
     "metadata": {},
     "output_type": "display_data"
    },
    {
     "data": {
      "text/html": [
       "<pre>| 8         | 12.918739    | 16.779499          | 2.501024      | 17.300846            | 3.140712        |</pre>"
      ],
      "text/plain": [
       "| 8         | 12.918739    | 16.779499          | 2.501024      | 17.300846            | 3.140712        |"
      ]
     },
     "metadata": {},
     "output_type": "display_data"
    },
    {
     "data": {
      "text/html": [
       "<pre>| 9         | 14.714841    | 16.038851          | 2.485387      | 17.263737            | 3.133950        |</pre>"
      ],
      "text/plain": [
       "| 9         | 14.714841    | 16.038851          | 2.485387      | 17.263737            | 3.133950        |"
      ]
     },
     "metadata": {},
     "output_type": "display_data"
    },
    {
     "data": {
      "text/html": [
       "<pre>| 10        | 15.991914    | 16.109306          | 2.497819      | 17.244011            | 3.121625        |</pre>"
      ],
      "text/plain": [
       "| 10        | 15.991914    | 16.109306          | 2.497819      | 17.244011            | 3.121625        |"
      ]
     },
     "metadata": {},
     "output_type": "display_data"
    },
    {
     "data": {
      "text/html": [
       "<pre>| 11        | 17.860021    | 16.211977          | 2.483900      | 17.300465            | 3.118593        |</pre>"
      ],
      "text/plain": [
       "| 11        | 17.860021    | 16.211977          | 2.483900      | 17.300465            | 3.118593        |"
      ]
     },
     "metadata": {},
     "output_type": "display_data"
    },
    {
     "data": {
      "text/html": [
       "<pre>| 12        | 18.988086    | 16.271601          | 2.500360      | 17.302937            | 3.110147        |</pre>"
      ],
      "text/plain": [
       "| 12        | 18.988086    | 16.271601          | 2.500360      | 17.302937            | 3.110147        |"
      ]
     },
     "metadata": {},
     "output_type": "display_data"
    },
    {
     "data": {
      "text/html": [
       "<pre>| 13        | 20.716185    | 16.302143          | 2.491105      | 17.312855            | 3.106617        |</pre>"
      ],
      "text/plain": [
       "| 13        | 20.716185    | 16.302143          | 2.491105      | 17.312855            | 3.106617        |"
      ]
     },
     "metadata": {},
     "output_type": "display_data"
    },
    {
     "data": {
      "text/html": [
       "<pre>| 14        | 22.551290    | 15.907624          | 2.481795      | 17.148857            | 3.105808        |</pre>"
      ],
      "text/plain": [
       "| 14        | 22.551290    | 15.907624          | 2.481795      | 17.148857            | 3.105808        |"
      ]
     },
     "metadata": {},
     "output_type": "display_data"
    },
    {
     "data": {
      "text/html": [
       "<pre>| 15        | 24.359393    | 15.716998          | 2.474091      | 17.149290            | 3.103743        |</pre>"
      ],
      "text/plain": [
       "| 15        | 24.359393    | 15.716998          | 2.474091      | 17.149290            | 3.103743        |"
      ]
     },
     "metadata": {},
     "output_type": "display_data"
    },
    {
     "data": {
      "text/html": [
       "<pre>| 16        | 26.143495    | 15.766899          | 2.468367      | 17.161640            | 3.103176        |</pre>"
      ],
      "text/plain": [
       "| 16        | 26.143495    | 15.766899          | 2.468367      | 17.161640            | 3.103176        |"
      ]
     },
     "metadata": {},
     "output_type": "display_data"
    },
    {
     "data": {
      "text/html": [
       "<pre>| 17        | 27.829592    | 15.371846          | 2.467699      | 17.136660            | 3.100357        |</pre>"
      ],
      "text/plain": [
       "| 17        | 27.829592    | 15.371846          | 2.467699      | 17.136660            | 3.100357        |"
      ]
     },
     "metadata": {},
     "output_type": "display_data"
    },
    {
     "data": {
      "text/html": [
       "<pre>| 18        | 29.878709    | 15.399211          | 2.464201      | 17.149424            | 3.100363        |</pre>"
      ],
      "text/plain": [
       "| 18        | 29.878709    | 15.399211          | 2.464201      | 17.149424            | 3.100363        |"
      ]
     },
     "metadata": {},
     "output_type": "display_data"
    },
    {
     "data": {
      "text/html": [
       "<pre>| 19        | 31.520803    | 15.270118          | 2.465241      | 17.132324            | 3.098237        |</pre>"
      ],
      "text/plain": [
       "| 19        | 31.520803    | 15.270118          | 2.465241      | 17.132324            | 3.098237        |"
      ]
     },
     "metadata": {},
     "output_type": "display_data"
    },
    {
     "data": {
      "text/html": [
       "<pre>| 20        | 33.291904    | 15.116882          | 2.463178      | 17.138098            | 3.097400        |</pre>"
      ],
      "text/plain": [
       "| 20        | 33.291904    | 15.116882          | 2.463178      | 17.138098            | 3.097400        |"
      ]
     },
     "metadata": {},
     "output_type": "display_data"
    },
    {
     "data": {
      "text/html": [
       "<pre>+-----------+--------------+--------------------+---------------+----------------------+-----------------+</pre>"
      ],
      "text/plain": [
       "+-----------+--------------+--------------------+---------------+----------------------+-----------------+"
      ]
     },
     "metadata": {},
     "output_type": "display_data"
    }
   ],
   "source": [
    "train_data,test_data = data.random_split(.5,seed=1)\n",
    "RF_model = graphlab.random_forest_regression.create(train_data, target='ADLOADINGTIME',validation_set=test_data,\n",
    "                                           max_iterations=20,\n",
    "                                           max_depth =  50, row_subsample=0.5, random_seed=1)"
   ]
  },
  {
   "cell_type": "code",
   "execution_count": 11,
   "metadata": {
    "collapsed": false
   },
   "outputs": [
    {
     "data": {
      "text/plain": [
       "(array([  1.60000000e+01,   2.18900000e+03,   1.08660000e+04,\n",
       "          2.03540000e+04,   1.75480000e+04,   1.34590000e+04,\n",
       "          1.00170000e+04,   7.91900000e+03,   6.27400000e+03,\n",
       "          5.01700000e+03,   3.98400000e+03,   3.41500000e+03,\n",
       "          2.77100000e+03,   2.47600000e+03,   1.96200000e+03,\n",
       "          1.69100000e+03,   1.36700000e+03,   1.09300000e+03,\n",
       "          8.23000000e+02,   6.46000000e+02,   5.99000000e+02,\n",
       "          5.79000000e+02,   7.79000000e+02,   5.50000000e+02,\n",
       "          1.37000000e+02,   5.30000000e+01,   0.00000000e+00,\n",
       "          0.00000000e+00,   0.00000000e+00,   0.00000000e+00,\n",
       "          0.00000000e+00,   0.00000000e+00,   0.00000000e+00,\n",
       "          0.00000000e+00,   0.00000000e+00]),\n",
       " array([  0. ,   0.5,   1. ,   1.5,   2. ,   2.5,   3. ,   3.5,   4. ,\n",
       "          4.5,   5. ,   5.5,   6. ,   6.5,   7. ,   7.5,   8. ,   8.5,\n",
       "          9. ,   9.5,  10. ,  10.5,  11. ,  11.5,  12. ,  12.5,  13. ,\n",
       "         13.5,  14. ,  14.5,  15. ,  15.5,  16. ,  16.5,  17. ,  17.5]),\n",
       " <a list of 35 Patch objects>)"
      ]
     },
     "execution_count": 11,
     "metadata": {},
     "output_type": "execute_result"
    },
    {
     "data": {
      "image/png": "[encoded data removed]",
      "text/plain": [
       "<matplotlib.figure.Figure at 0x1cc6cda0>"
      ]
     },
     "metadata": {},
     "output_type": "display_data"
    }
   ],
   "source": [
    "plt.hist(test_data['ADLOADINGTIME'],  bins=np.arange(0, int(max(test_data['ADLOADINGTIME'])),0.5))\n",
    "test_data_predict = RF_model.predict(test_data)\n",
    "plt.hist(test_data_predict,  bins=np.arange(0, int(max(test_data['ADLOADINGTIME'])),0.5))"
   ]
  },
  {
   "cell_type": "code",
   "execution_count": 33,
   "metadata": {
    "collapsed": false
   },
   "outputs": [
    {
     "data": {
      "text/plain": [
       "(array([  2.30000000e+01,   2.08900000e+03,   1.05770000e+04,\n",
       "          1.96690000e+04,   1.79310000e+04,   1.42010000e+04,\n",
       "          1.08200000e+04,   8.29600000e+03,   6.12700000e+03,\n",
       "          4.90000000e+03,   4.02800000e+03,   3.42000000e+03,\n",
       "          2.84000000e+03,   2.30500000e+03,   1.82400000e+03,\n",
       "          1.52000000e+03,   1.12500000e+03,   8.07000000e+02,\n",
       "          6.61000000e+02,   5.84000000e+02,   5.52000000e+02,\n",
       "          4.79000000e+02,   2.29000000e+02,   2.76000000e+02,\n",
       "          3.20000000e+01,   8.00000000e+00,   0.00000000e+00,\n",
       "          0.00000000e+00,   0.00000000e+00,   0.00000000e+00,\n",
       "          0.00000000e+00,   0.00000000e+00,   0.00000000e+00,\n",
       "          0.00000000e+00,   0.00000000e+00]),\n",
       " array([  0. ,   0.5,   1. ,   1.5,   2. ,   2.5,   3. ,   3.5,   4. ,\n",
       "          4.5,   5. ,   5.5,   6. ,   6.5,   7. ,   7.5,   8. ,   8.5,\n",
       "          9. ,   9.5,  10. ,  10.5,  11. ,  11.5,  12. ,  12.5,  13. ,\n",
       "         13.5,  14. ,  14.5,  15. ,  15.5,  16. ,  16.5,  17. ,  17.5]),\n",
       " <a list of 35 Patch objects>)"
      ]
     },
     "execution_count": 33,
     "metadata": {},
     "output_type": "execute_result"
    },
    {
     "data": {
      "image/png": "[encoded data removed]",
      "text/plain": [
       "<matplotlib.figure.Figure at 0x82629ef0>"
      ]
     },
     "metadata": {},
     "output_type": "display_data"
    }
   ],
   "source": [
    "plt.hist(test_data['ADLOADINGTIME'],  bins=np.arange(0, int(max(test_data['ADLOADINGTIME'])),0.5))\n",
    "test_data_predict = RF_model.predict(test_data)\n",
    "plt.hist(test_data_predict,  bins=np.arange(0, int(max(test_data['ADLOADINGTIME'])),0.5))"
   ]
  },
  {
   "cell_type": "code",
   "execution_count": 251,
   "metadata": {
    "collapsed": false,
    "scrolled": true
   },
   "outputs": [
    {
     "data": {
      "text/plain": [
       "233108"
      ]
     },
     "execution_count": 251,
     "metadata": {},
     "output_type": "execute_result"
    }
   ],
   "source": [
    "data.num_rows()"
   ]
  },
  {
   "cell_type": "code",
   "execution_count": 47,
   "metadata": {
    "collapsed": false,
    "scrolled": true
   },
   "outputs": [
    {
     "name": "stdout",
     "output_type": "stream",
     "text": [
      "+---------------+-------------------------------+------------+----------+-----------------+\n",
      "| ADLOADINGTIME |          PLACEMENTID          | TIMESTAMP  | PLATFORM | PLATFORMVERSION |\n",
      "+---------------+-------------------------------+------------+----------+-----------------+\n",
      "|     7.121     | f6297752e6cd8cd455c55d95c0... | 1459512400 | Android  |       4.3       |\n",
      "|     1.616     | 7b76845786cdb6773e1d0024e9... | 1459513778 |   IOS    |       9.3       |\n",
      "|     0.947     | 36793d8fe98b79d0e6bd1ecee0... | 1459513057 |   IOS    |      9.2.1      |\n",
      "|     6.978     | 04a34aa00b34c0a400427aad3b... | 1459513155 |   IOS    |      9.2.1      |\n",
      "|     2.713     | 7e44ca19e19fd7995312204a89... | 1459514610 |   IOS    |      9.2.1      |\n",
      "+---------------+-------------------------------+------------+----------+-----------------+\n",
      "+--------------------+------------------+---------+--------------+-----------+\n",
      "| INTENDEDDEVICETYPE | ACTUALDEVICETYPE | CDNNAME | CREATIVETYPE | GEOIP_LNG |\n",
      "+--------------------+------------------+---------+--------------+-----------+\n",
      "|       Phone        |      Phone       |    c    | Interstitial |    -5.0   |\n",
      "|       Phone        |      Phone       |    a    | Interstitial |  10.1987  |\n",
      "|       Phone        |      Phone       |    a    | Interstitial |  17.9667  |\n",
      "|       Phone        |      Phone       |    c    | Interstitial |    4.85   |\n",
      "|       Phone        |      Phone       |    c    | Interstitial |  -3.68331 |\n",
      "+--------------------+------------------+---------+--------------+-----------+\n",
      "+-----------+---------------+-----------------+---------------+-------------+\n",
      "| GEOIP_LAT | GEOIP_COUNTRY | UA_HARDWARETYPE | UA_DEVICETYPE | UA_PLATFORM |\n",
      "+-----------+---------------+-----------------+---------------+-------------+\n",
      "|    8.0    | Cote D'Ivoire |   Mobile Phone  |     Phone     |   Android   |\n",
      "|  56.1663  |    Denmark    |   Mobile Phone  |     Phone     |     IOS     |\n",
      "|    59.3   |     Sweden    |   Mobile Phone  |     Phone     |     IOS     |\n",
      "|  51.14999 |    Belgium    |   Mobile Phone  |     Phone     |     IOS     |\n",
      "|  40.39999 |     Spain     |   Mobile Phone  |     Phone     |     IOS     |\n",
      "+-----------+---------------+-----------------+---------------+-------------+\n",
      "+--------------------+-----------+----------+---------+--------------+\n",
      "| UA_PLATFORMVERSION | UA_VENDOR | UA_MODEL |  UA_OS  | UA_OSVERSION |\n",
      "+--------------------+-----------+----------+---------+--------------+\n",
      "|        4.3         |  Samsung  | SM-G7102 | Android |     4.3      |\n",
      "|        9.3         |   Apple   |  iPhone  |   IOS   |     9.3      |\n",
      "|       9.2.1        |   Apple   |  iPhone  |   IOS   |    9.2.1     |\n",
      "|       9.2.1        |   Apple   |  iPhone  |   IOS   |    9.2.1     |\n",
      "|       9.2.1        |   Apple   |  iPhone  |   IOS   |    9.2.1     |\n",
      "+--------------------+-----------+----------+---------+--------------+\n",
      "+-----------------+-------------------+---------------------------+\n",
      "|    UA_BROWSER   | UA_BROWSERVERSION | UA_BROWSERRENDERINGENGINE |\n",
      "+-----------------+-------------------+---------------------------+\n",
      "| Android Browser |        4.0        |           WebKit          |\n",
      "|      Safari     |        null       |           WebKit          |\n",
      "|      Safari     |        null       |           WebKit          |\n",
      "|      Safari     |        null       |           WebKit          |\n",
      "|      Safari     |        null       |           WebKit          |\n",
      "+-----------------+-------------------+---------------------------+\n",
      "+-------------------------------+-------------------------------+----------------------------+\n",
      "|           FILESJSON           |           ERRORSJSON          | TOPMOSTREACHABLEWINDOWAREA |\n",
      "+-------------------------------+-------------------------------+----------------------------+\n",
      "|               []              |               []              |           221400           |\n",
      "| [{\"type\":\"image\",\"size\":37... |               []              |           304704           |\n",
      "| [{\"type\":\"image\",\"size\":37... |               []              |           181760           |\n",
      "| [{\"type\":\"image\",\"size\":37... | [0eb9621cf2b9bb13d433e6cc6... |           250125           |\n",
      "| [{\"type\":\"image\",\"size\":37... |               []              |           250125           |\n",
      "+-------------------------------+-------------------------------+----------------------------+\n",
      "+----------------+-------------------------------+\n",
      "| FILESJSON_SIZE |           COMBINEDID          |\n",
      "+----------------+-------------------------------+\n",
      "|       0        | 6650fadcc0264109f8bd976558... |\n",
      "|     56926      | 6650fadcc0264109f8bd976558... |\n",
      "|     56926      | 6650fadcc0264109f8bd976558... |\n",
      "|     56926      | 6650fadcc0264109f8bd976558... |\n",
      "|     56926      | 6650fadcc0264109f8bd976558... |\n",
      "+----------------+-------------------------------+\n",
      "[232995 rows x 28 columns]\n",
      "\n"
     ]
    }
   ],
   "source": [
    "data.print_rows(5,\n",
    "               50)"
   ]
  },
  {
   "cell_type": "code",
   "execution_count": 54,
   "metadata": {
    "collapsed": false
   },
   "outputs": [],
   "source": [
    "sales['ADLOADINGTIME'] = sales['ADLOADINGTIME'].apply(lambda x: 100.0 if x>=100 else x)"
   ]
  },
  {
   "cell_type": "code",
   "execution_count": 4,
   "metadata": {
    "collapsed": true
   },
   "outputs": [
    {
     "data": {
      "text/html": [
       "<pre>Less than 8 successfully started. Using only 7 workers.</pre>"
      ],
      "text/plain": [
       "Less than 8 successfully started. Using only 7 workers."
      ]
     },
     "metadata": {},
     "output_type": "display_data"
    },
    {
     "data": {
      "text/html": [
       "<pre>All operations will proceed as normal, but lambda operations will not be able to use all available cores.</pre>"
      ],
      "text/plain": [
       "All operations will proceed as normal, but lambda operations will not be able to use all available cores."
      ]
     },
     "metadata": {},
     "output_type": "display_data"
    },
    {
     "data": {
      "text/html": [
       "<pre>To help us diagnose this issue, please send the log file to product-feedback@dato.com.</pre>"
      ],
      "text/plain": [
       "To help us diagnose this issue, please send the log file to product-feedback@dato.com."
      ]
     },
     "metadata": {},
     "output_type": "display_data"
    },
    {
     "data": {
      "text/html": [
       "<pre>(The location of the log file is printed at the start of the GraphLab server).</pre>"
      ],
      "text/plain": [
       "(The location of the log file is printed at the start of the GraphLab server)."
      ]
     },
     "metadata": {},
     "output_type": "display_data"
    }
   ],
   "source": []
  },
  {
   "cell_type": "code",
   "execution_count": 152,
   "metadata": {
    "collapsed": false
   },
   "outputs": [],
   "source": [
    "sales = sales[sales['ADLOADINGTIME']<10]"
   ]
  },
  {
   "cell_type": "code",
   "execution_count": 13,
   "metadata": {
    "collapsed": false
   },
   "outputs": [
    {
     "data": {
      "text/plain": [
       "11.10010042857145"
      ]
     },
     "execution_count": 13,
     "metadata": {},
     "output_type": "execute_result"
    }
   ],
   "source": [
    "sales['ADLOADINGTIME'].mean()"
   ]
  },
  {
   "cell_type": "code",
   "execution_count": 42,
   "metadata": {
    "collapsed": false
   },
   "outputs": [
    {
     "name": "stdout",
     "output_type": "stream",
     "text": [
      "Canvas is accessible via web browser at the URL: http://localhost:16269/index.html\n",
      "Opening Canvas in default web browser.\n"
     ]
    }
   ],
   "source": [
    "sales['ADLOADINGTIME'].show()"
   ]
  },
  {
   "cell_type": "code",
   "execution_count": 71,
   "metadata": {
    "collapsed": true
   },
   "outputs": [],
   "source": [
    "sales['TMP'] = sales['PLATFORM'] + sales['ACTUALDEVICETYPE'] + sales['UA_HARDWARETYPE']"
   ]
  },
  {
   "cell_type": "code",
   "execution_count": null,
   "metadata": {
    "collapsed": true
   },
   "outputs": [],
   "source": []
  },
  {
   "cell_type": "code",
   "execution_count": 3,
   "metadata": {
    "collapsed": false
   },
   "outputs": [
    {
     "name": "stderr",
     "output_type": "stream",
     "text": [
      "2016-05-11 16:12:42,658 [INFO] graphlab.cython.cy_server, 176: GraphLab Create v1.9 started. Logging: C:\\Users\\Tim\\AppData\\Local\\Temp\\graphlab_server_1462975956.log.0\n"
     ]
    },
    {
     "data": {
      "text/html": [
       "<pre>Finished parsing file E:\\celtraMiningFrik\\ccdm_medium.tsv</pre>"
      ],
      "text/plain": [
       "Finished parsing file E:\\celtraMiningFrik\\ccdm_medium.tsv"
      ]
     },
     "metadata": {},
     "output_type": "display_data"
    },
    {
     "data": {
      "text/html": [
       "<pre>Parsing completed. Parsed 49000 lines in 1.46608 secs.</pre>"
      ],
      "text/plain": [
       "Parsing completed. Parsed 49000 lines in 1.46608 secs."
      ]
     },
     "metadata": {},
     "output_type": "display_data"
    },
    {
     "name": "stdout",
     "output_type": "stream",
     "text": [
      "This non-commercial license of GraphLab Create is assigned to tim.jerman@gmail.com and will expire on December 31, 2016. For commercial licensing options, visit https://dato.com/buy/.\n"
     ]
    }
   ],
   "source": [
    "sales = graphlab.SFrame.read_csv('E:\\celtraMiningFrik\\ccdm_medium.tsv','\\t',column_type_hints=str)"
   ]
  },
  {
   "cell_type": "code",
   "execution_count": 153,
   "metadata": {
    "collapsed": true
   },
   "outputs": [],
   "source": [
    "train_data,test_data = sales.random_split(.8,seed=0)"
   ]
  },
  {
   "cell_type": "code",
   "execution_count": 155,
   "metadata": {
    "collapsed": false
   },
   "outputs": [
    {
     "data": {
      "text/html": [
       "<pre>Linear regression:</pre>"
      ],
      "text/plain": [
       "Linear regression:"
      ]
     },
     "metadata": {},
     "output_type": "display_data"
    },
    {
     "data": {
      "text/html": [
       "<pre>--------------------------------------------------------</pre>"
      ],
      "text/plain": [
       "--------------------------------------------------------"
      ]
     },
     "metadata": {},
     "output_type": "display_data"
    },
    {
     "data": {
      "text/html": [
       "<pre>Number of examples          : 32384</pre>"
      ],
      "text/plain": [
       "Number of examples          : 32384"
      ]
     },
     "metadata": {},
     "output_type": "display_data"
    },
    {
     "data": {
      "text/html": [
       "<pre>Number of features          : 1</pre>"
      ],
      "text/plain": [
       "Number of features          : 1"
      ]
     },
     "metadata": {},
     "output_type": "display_data"
    },
    {
     "data": {
      "text/html": [
       "<pre>Number of unpacked features : 1</pre>"
      ],
      "text/plain": [
       "Number of unpacked features : 1"
      ]
     },
     "metadata": {},
     "output_type": "display_data"
    },
    {
     "data": {
      "text/html": [
       "<pre>Number of coefficients    : 12</pre>"
      ],
      "text/plain": [
       "Number of coefficients    : 12"
      ]
     },
     "metadata": {},
     "output_type": "display_data"
    },
    {
     "data": {
      "text/html": [
       "<pre>Starting Newton Method</pre>"
      ],
      "text/plain": [
       "Starting Newton Method"
      ]
     },
     "metadata": {},
     "output_type": "display_data"
    },
    {
     "data": {
      "text/html": [
       "<pre>--------------------------------------------------------</pre>"
      ],
      "text/plain": [
       "--------------------------------------------------------"
      ]
     },
     "metadata": {},
     "output_type": "display_data"
    },
    {
     "data": {
      "text/html": [
       "<pre>+-----------+----------+--------------+--------------------+----------------------+---------------+-----------------+</pre>"
      ],
      "text/plain": [
       "+-----------+----------+--------------+--------------------+----------------------+---------------+-----------------+"
      ]
     },
     "metadata": {},
     "output_type": "display_data"
    },
    {
     "data": {
      "text/html": [
       "<pre>| Iteration | Passes   | Elapsed Time | Training-max_error | Validation-max_error | Training-rmse | Validation-rmse |</pre>"
      ],
      "text/plain": [
       "| Iteration | Passes   | Elapsed Time | Training-max_error | Validation-max_error | Training-rmse | Validation-rmse |"
      ]
     },
     "metadata": {},
     "output_type": "display_data"
    },
    {
     "data": {
      "text/html": [
       "<pre>+-----------+----------+--------------+--------------------+----------------------+---------------+-----------------+</pre>"
      ],
      "text/plain": [
       "+-----------+----------+--------------+--------------------+----------------------+---------------+-----------------+"
      ]
     },
     "metadata": {},
     "output_type": "display_data"
    },
    {
     "data": {
      "text/html": [
       "<pre>| 1         | 2        | 0.076004     | 7.341860           | 7.330860             | 2.118432      | 2.117206        |</pre>"
      ],
      "text/plain": [
       "| 1         | 2        | 0.076004     | 7.341860           | 7.330860             | 2.118432      | 2.117206        |"
      ]
     },
     "metadata": {},
     "output_type": "display_data"
    },
    {
     "data": {
      "text/html": [
       "<pre>+-----------+----------+--------------+--------------------+----------------------+---------------+-----------------+</pre>"
      ],
      "text/plain": [
       "+-----------+----------+--------------+--------------------+----------------------+---------------+-----------------+"
      ]
     },
     "metadata": {},
     "output_type": "display_data"
    },
    {
     "data": {
      "text/html": [
       "<pre>SUCCESS: Optimal solution found.</pre>"
      ],
      "text/plain": [
       "SUCCESS: Optimal solution found."
      ]
     },
     "metadata": {},
     "output_type": "display_data"
    },
    {
     "data": {
      "text/html": [
       "<pre></pre>"
      ],
      "text/plain": []
     },
     "metadata": {},
     "output_type": "display_data"
    }
   ],
   "source": [
    "sqft_model = graphlab.linear_regression.create(train_data, target='ADLOADINGTIME',features=['ERRORSJSON'],validation_set=test_data, max_iterations=20)"
   ]
  },
  {
   "cell_type": "code",
   "execution_count": 93,
   "metadata": {
    "collapsed": false
   },
   "outputs": [
    {
     "data": {
      "text/html": [
       "<pre>Random forest regression:</pre>"
      ],
      "text/plain": [
       "Random forest regression:"
      ]
     },
     "metadata": {},
     "output_type": "display_data"
    },
    {
     "data": {
      "text/html": [
       "<pre>--------------------------------------------------------</pre>"
      ],
      "text/plain": [
       "--------------------------------------------------------"
      ]
     },
     "metadata": {},
     "output_type": "display_data"
    },
    {
     "data": {
      "text/html": [
       "<pre>Number of examples          : 39240</pre>"
      ],
      "text/plain": [
       "Number of examples          : 39240"
      ]
     },
     "metadata": {},
     "output_type": "display_data"
    },
    {
     "data": {
      "text/html": [
       "<pre>Number of features          : 1</pre>"
      ],
      "text/plain": [
       "Number of features          : 1"
      ]
     },
     "metadata": {},
     "output_type": "display_data"
    },
    {
     "data": {
      "text/html": [
       "<pre>Number of unpacked features : 1</pre>"
      ],
      "text/plain": [
       "Number of unpacked features : 1"
      ]
     },
     "metadata": {},
     "output_type": "display_data"
    },
    {
     "data": {
      "text/html": [
       "<pre>+-----------+--------------+--------------------+---------------+----------------------+-----------------+</pre>"
      ],
      "text/plain": [
       "+-----------+--------------+--------------------+---------------+----------------------+-----------------+"
      ]
     },
     "metadata": {},
     "output_type": "display_data"
    },
    {
     "data": {
      "text/html": [
       "<pre>| Iteration | Elapsed Time | Training-max_error | Training-rmse | Validation-max_error | Validation-rmse |</pre>"
      ],
      "text/plain": [
       "| Iteration | Elapsed Time | Training-max_error | Training-rmse | Validation-max_error | Validation-rmse |"
      ]
     },
     "metadata": {},
     "output_type": "display_data"
    },
    {
     "data": {
      "text/html": [
       "<pre>+-----------+--------------+--------------------+---------------+----------------------+-----------------+</pre>"
      ],
      "text/plain": [
       "+-----------+--------------+--------------------+---------------+----------------------+-----------------+"
      ]
     },
     "metadata": {},
     "output_type": "display_data"
    },
    {
     "data": {
      "text/html": [
       "<pre>| 1         | 0.039003     | 1652.351196        | 57.381062     | 1754.352173          | 58.306862       |</pre>"
      ],
      "text/plain": [
       "| 1         | 0.039003     | 1652.351196        | 57.381062     | 1754.352173          | 58.306862       |"
      ]
     },
     "metadata": {},
     "output_type": "display_data"
    },
    {
     "data": {
      "text/html": [
       "<pre>| 2         | 0.074005     | 1654.799072        | 57.293003     | 1754.433594          | 58.260490       |</pre>"
      ],
      "text/plain": [
       "| 2         | 0.074005     | 1654.799072        | 57.293003     | 1754.433594          | 58.260490       |"
      ]
     },
     "metadata": {},
     "output_type": "display_data"
    },
    {
     "data": {
      "text/html": [
       "<pre>| 3         | 0.110007     | 1655.225464        | 57.253265     | 1757.442627          | 58.262161       |</pre>"
      ],
      "text/plain": [
       "| 3         | 0.110007     | 1655.225464        | 57.253265     | 1757.442627          | 58.262161       |"
      ]
     },
     "metadata": {},
     "output_type": "display_data"
    },
    {
     "data": {
      "text/html": [
       "<pre>| 4         | 0.144009     | 1654.682007        | 57.228996     | 1762.991577          | 58.282616       |</pre>"
      ],
      "text/plain": [
       "| 4         | 0.144009     | 1654.682007        | 57.228996     | 1762.991577          | 58.282616       |"
      ]
     },
     "metadata": {},
     "output_type": "display_data"
    },
    {
     "data": {
      "text/html": [
       "<pre>| 5         | 0.178010     | 1653.610352        | 57.225727     | 1761.320923          | 58.265350       |</pre>"
      ],
      "text/plain": [
       "| 5         | 0.178010     | 1653.610352        | 57.225727     | 1761.320923          | 58.265350       |"
      ]
     },
     "metadata": {},
     "output_type": "display_data"
    },
    {
     "data": {
      "text/html": [
       "<pre>| 6         | 0.212012     | 1654.596069        | 57.223824     | 1759.972412          | 58.267365       |</pre>"
      ],
      "text/plain": [
       "| 6         | 0.212012     | 1654.596069        | 57.223824     | 1759.972412          | 58.267365       |"
      ]
     },
     "metadata": {},
     "output_type": "display_data"
    },
    {
     "data": {
      "text/html": [
       "<pre>| 11        | 0.375022     | 1655.760376        | 57.222836     | 1764.235352          | 58.219090       |</pre>"
      ],
      "text/plain": [
       "| 11        | 0.375022     | 1655.760376        | 57.222836     | 1764.235352          | 58.219090       |"
      ]
     },
     "metadata": {},
     "output_type": "display_data"
    },
    {
     "data": {
      "text/html": [
       "<pre>| 50        | 1.670096     | 1670.888184        | 57.286541     | 1761.458862          | 58.056999       |</pre>"
      ],
      "text/plain": [
       "| 50        | 1.670096     | 1670.888184        | 57.286541     | 1761.458862          | 58.056999       |"
      ]
     },
     "metadata": {},
     "output_type": "display_data"
    },
    {
     "data": {
      "text/html": [
       "<pre>+-----------+--------------+--------------------+---------------+----------------------+-----------------+</pre>"
      ],
      "text/plain": [
       "+-----------+--------------+--------------------+---------------+----------------------+-----------------+"
      ]
     },
     "metadata": {},
     "output_type": "display_data"
    }
   ],
   "source": [
    "model = graphlab.random_forest_regression.create(train_data, target='ADLOADINGTIME',features=['FILESJSON'],\n",
    "                                           max_iterations=50,\n",
    "                                           max_depth =  20, validation_set=test_data)"
   ]
  },
  {
   "cell_type": "code",
   "execution_count": 21,
   "metadata": {
    "collapsed": false
   },
   "outputs": [],
   "source": [
    "from graphlab.toolkits.feature_engineering import OneHotEncoder\n",
    "encoder = graphlab.feature_engineering.create(graphlab.SFrame(sales['PLATFORM']), OneHotEncoder())\n",
    "\n",
    "# Transform the data.\n",
    "transformed_sf = encoder.transform(graphlab.SFrame(sales['PLATFORM']))"
   ]
  },
  {
   "cell_type": "code",
   "execution_count": 42,
   "metadata": {
    "collapsed": false
   },
   "outputs": [
    {
     "data": {
      "text/html": [
       "<pre>WARNING: Column 'ADLOADINGTIME' is excluded due to invalid column type (float).</pre>"
      ],
      "text/plain": [
       "WARNING: Column 'ADLOADINGTIME' is excluded due to invalid column type (float)."
      ]
     },
     "metadata": {},
     "output_type": "display_data"
    },
    {
     "name": "stdout",
     "output_type": "stream",
     "text": [
      "{45568L: 1L, 46081L: 1L, 78123L: 1L, 78341L: 1L, 41608L: 1L, 80428L: 1L, 48267L: 1L, 1037L: 1L, 79762L: 1L, 48275L: 1L, 48276L: 1L, 48279L: 1L, 78105L: 1L, 41626L: 1L, 48284L: 1L, 80416L: 1L, 33L: 1L, 78116L: 1L, 78118L: 1L, 79401L: 1L, 44715L: 1L, 43436L: 1L, 44718L: 1L, 80048L: 1L, 79624L: 1L, 44722L: 1L, 41523L: 1L, 44725L: 1L, 71096L: 1L, 17467L: 1L, 80060L: 1L, 70974L: 1L, 78112L: 1L, 78192L: 1L, 453L: 1L, 77895L: 1L, 79735L: 1L, 60883L: 1L, 71256L: 1L, 44634L: 1L, 49895L: 1L, 240L: 1L, 47220L: 1L, 77685L: 1L, 72695L: 1L, 41593L: 1L}\n"
     ]
    }
   ],
   "source": [
    "from graphlab.toolkits.feature_engineering import OneHotEncoder\n",
    "encoder = graphlab.feature_engineering.create(sales, OneHotEncoder())\n",
    "\n",
    "# Transform the data.\n",
    "transformed_sf = encoder.transform(sales)\n",
    "print(transformed_sf['encoded_features'][0])"
   ]
  },
  {
   "cell_type": "code",
   "execution_count": 43,
   "metadata": {
    "collapsed": false
   },
   "outputs": [
    {
     "data": {
      "text/html": [
       "<div style=\"max-height:1000px;max-width:1500px;overflow:auto;\"><table frame=\"box\" rules=\"cols\">\n",
       "    <tr>\n",
       "        <th style=\"padding-left: 1em; padding-right: 1em; text-align: center\">feature</th>\n",
       "        <th style=\"padding-left: 1em; padding-right: 1em; text-align: center\">category</th>\n",
       "        <th style=\"padding-left: 1em; padding-right: 1em; text-align: center\">index</th>\n",
       "    </tr>\n",
       "    <tr>\n",
       "        <td style=\"padding-left: 1em; padding-right: 1em; text-align: center; vertical-align: top\">ACCOUNTID</td>\n",
       "        <td style=\"padding-left: 1em; padding-right: 1em; text-align: center; vertical-align: top\">4af2e544b33d2f2a60219b42b<br>f0be05a ...</td>\n",
       "        <td style=\"padding-left: 1em; padding-right: 1em; text-align: center; vertical-align: top\">0</td>\n",
       "    </tr>\n",
       "    <tr>\n",
       "        <td style=\"padding-left: 1em; padding-right: 1em; text-align: center; vertical-align: top\">ACCOUNTID</td>\n",
       "        <td style=\"padding-left: 1em; padding-right: 1em; text-align: center; vertical-align: top\">550d00d2e3051031abb49918b<br>3bb9769 ...</td>\n",
       "        <td style=\"padding-left: 1em; padding-right: 1em; text-align: center; vertical-align: top\">1</td>\n",
       "    </tr>\n",
       "    <tr>\n",
       "        <td style=\"padding-left: 1em; padding-right: 1em; text-align: center; vertical-align: top\">ACCOUNTID</td>\n",
       "        <td style=\"padding-left: 1em; padding-right: 1em; text-align: center; vertical-align: top\">03b94b2bbe323d35cdc4db255<br>1e4186c ...</td>\n",
       "        <td style=\"padding-left: 1em; padding-right: 1em; text-align: center; vertical-align: top\">2</td>\n",
       "    </tr>\n",
       "    <tr>\n",
       "        <td style=\"padding-left: 1em; padding-right: 1em; text-align: center; vertical-align: top\">ACCOUNTID</td>\n",
       "        <td style=\"padding-left: 1em; padding-right: 1em; text-align: center; vertical-align: top\">cf6396ab0434e6dc22b2622c2<br>ac1c1dd ...</td>\n",
       "        <td style=\"padding-left: 1em; padding-right: 1em; text-align: center; vertical-align: top\">3</td>\n",
       "    </tr>\n",
       "    <tr>\n",
       "        <td style=\"padding-left: 1em; padding-right: 1em; text-align: center; vertical-align: top\">ACCOUNTID</td>\n",
       "        <td style=\"padding-left: 1em; padding-right: 1em; text-align: center; vertical-align: top\">4eed823fccaed126bc0c314cb<br>e4e1278 ...</td>\n",
       "        <td style=\"padding-left: 1em; padding-right: 1em; text-align: center; vertical-align: top\">4</td>\n",
       "    </tr>\n",
       "    <tr>\n",
       "        <td style=\"padding-left: 1em; padding-right: 1em; text-align: center; vertical-align: top\">ACCOUNTID</td>\n",
       "        <td style=\"padding-left: 1em; padding-right: 1em; text-align: center; vertical-align: top\">ada9c7b769af3fe3e7ce3a7bc<br>0a5b32c ...</td>\n",
       "        <td style=\"padding-left: 1em; padding-right: 1em; text-align: center; vertical-align: top\">5</td>\n",
       "    </tr>\n",
       "    <tr>\n",
       "        <td style=\"padding-left: 1em; padding-right: 1em; text-align: center; vertical-align: top\">ACCOUNTID</td>\n",
       "        <td style=\"padding-left: 1em; padding-right: 1em; text-align: center; vertical-align: top\">f70c8546e1b0df1eb32847f42<br>71007d5 ...</td>\n",
       "        <td style=\"padding-left: 1em; padding-right: 1em; text-align: center; vertical-align: top\">6</td>\n",
       "    </tr>\n",
       "    <tr>\n",
       "        <td style=\"padding-left: 1em; padding-right: 1em; text-align: center; vertical-align: top\">ACCOUNTID</td>\n",
       "        <td style=\"padding-left: 1em; padding-right: 1em; text-align: center; vertical-align: top\">b589d9db9c479ad8838666813<br>a5d7fe0 ...</td>\n",
       "        <td style=\"padding-left: 1em; padding-right: 1em; text-align: center; vertical-align: top\">7</td>\n",
       "    </tr>\n",
       "    <tr>\n",
       "        <td style=\"padding-left: 1em; padding-right: 1em; text-align: center; vertical-align: top\">ACCOUNTID</td>\n",
       "        <td style=\"padding-left: 1em; padding-right: 1em; text-align: center; vertical-align: top\">fd3f7585fa0a42203cefbdf5d<br>90fddeb ...</td>\n",
       "        <td style=\"padding-left: 1em; padding-right: 1em; text-align: center; vertical-align: top\">8</td>\n",
       "    </tr>\n",
       "    <tr>\n",
       "        <td style=\"padding-left: 1em; padding-right: 1em; text-align: center; vertical-align: top\">ACCOUNTID</td>\n",
       "        <td style=\"padding-left: 1em; padding-right: 1em; text-align: center; vertical-align: top\">750c1ddb2d92618e03a04eadb<br>eacb42b ...</td>\n",
       "        <td style=\"padding-left: 1em; padding-right: 1em; text-align: center; vertical-align: top\">9</td>\n",
       "    </tr>\n",
       "</table>\n",
       "[80429 rows x 3 columns]<br/>Note: Only the head of the SFrame is printed.<br/>You can use print_rows(num_rows=m, num_columns=n) to print more rows and columns.\n",
       "</div>"
      ],
      "text/plain": [
       "Columns:\n",
       "\tfeature\tstr\n",
       "\tcategory\tstr\n",
       "\tindex\tint\n",
       "\n",
       "Rows: 80429\n",
       "\n",
       "Data:\n",
       "+-----------+-------------------------------+-------+\n",
       "|  feature  |            category           | index |\n",
       "+-----------+-------------------------------+-------+\n",
       "| ACCOUNTID | 4af2e544b33d2f2a60219b42bf... |   0   |\n",
       "| ACCOUNTID | 550d00d2e3051031abb49918b3... |   1   |\n",
       "| ACCOUNTID | 03b94b2bbe323d35cdc4db2551... |   2   |\n",
       "| ACCOUNTID | cf6396ab0434e6dc22b2622c2a... |   3   |\n",
       "| ACCOUNTID | 4eed823fccaed126bc0c314cbe... |   4   |\n",
       "| ACCOUNTID | ada9c7b769af3fe3e7ce3a7bc0... |   5   |\n",
       "| ACCOUNTID | f70c8546e1b0df1eb32847f427... |   6   |\n",
       "| ACCOUNTID | b589d9db9c479ad8838666813a... |   7   |\n",
       "| ACCOUNTID | fd3f7585fa0a42203cefbdf5d9... |   8   |\n",
       "| ACCOUNTID | 750c1ddb2d92618e03a04eadbe... |   9   |\n",
       "+-----------+-------------------------------+-------+\n",
       "[80429 rows x 3 columns]\n",
       "Note: Only the head of the SFrame is printed.\n",
       "You can use print_rows(num_rows=m, num_columns=n) to print more rows and columns."
      ]
     },
     "execution_count": 43,
     "metadata": {},
     "output_type": "execute_result"
    }
   ],
   "source": [
    "encoder['feature_encoding']"
   ]
  },
  {
   "cell_type": "code",
   "execution_count": 107,
   "metadata": {
    "collapsed": false
   },
   "outputs": [
    {
     "name": "stdout",
     "output_type": "stream",
     "text": [
      "{'max_error': 1774.4952348506465, 'rmse': 60.28488671480435}\n"
     ]
    }
   ],
   "source": [
    "print sqft_model.evaluate(test_data)"
   ]
  },
  {
   "cell_type": "code",
   "execution_count": 54,
   "metadata": {
    "collapsed": false
   },
   "outputs": [
    {
     "name": "stdout",
     "output_type": "stream",
     "text": [
      "[109.11121597655671]\n"
     ]
    },
    {
     "data": {
      "text/plain": [
       "{'ACCOUNTID': '707cd8f4c88718677e1b9eeecd01160d',\n",
       " 'ACTUALDEVICETYPE': 'null',\n",
       " 'ADLOADINGTIME': 2.645,\n",
       " 'CAMPAIGNID': 'ef070bfa66a86845986ebbb82770ecb3',\n",
       " 'CDNNAME': 'a',\n",
       " 'CREATIVEID': 'a5756b4875e7c994ec5b2a301c12e766',\n",
       " 'CREATIVETYPE': 'Interstitial',\n",
       " 'DEVICEORIENTATION': '90',\n",
       " 'ERRORSJSON': '[]',\n",
       " 'EXTERNALADSERVER': '598f379729bb422dda38111dcbb00ba5',\n",
       " 'EXTERNALCREATIVEID': 'null',\n",
       " 'EXTERNALPLACEMENTID': 'null',\n",
       " 'EXTERNALSITEID': '375bc670eef7620bda2f75a9086b1561',\n",
       " 'EXTERNALSUPPLIERID': 'null',\n",
       " 'FILESJSON': '[{\"type\":\"image\",\"size\":37726},{\"type\":\"image\",\"size\":9114},{\"type\":\"image\",\"size\":3969},{\"type\":\"image\",\"size\":6117}]',\n",
       " 'GEOIP_AREACODE': 'null',\n",
       " 'GEOIP_CITY': 'Redkino',\n",
       " 'GEOIP_COUNTRY': 'Russian Federation',\n",
       " 'GEOIP_DMACODE': 'null',\n",
       " 'GEOIP_LAT': '56.6333',\n",
       " 'GEOIP_LNG': '36.28329',\n",
       " 'GEOIP_METROCODE': 'null',\n",
       " 'GEOIP_REGION': \"Tver'\",\n",
       " 'GEOIP_TIMEZONE': 'Europe/Moscow',\n",
       " 'HOSTWINDOWHEIGHT': '720',\n",
       " 'HOSTWINDOWWIDTH': '1280',\n",
       " 'INTENDEDDEVICETYPE': 'Phone',\n",
       " 'NETWORKTYPE': 'null',\n",
       " 'PLACEMENTID': 'd6eb615b33b61678fbca4bd3fb9377d1',\n",
       " 'PLATFORM': 'Android',\n",
       " 'PLATFORMVERSION': '4.2.2',\n",
       " 'SDK': '6650fadcc0264109f8bd976558377652',\n",
       " 'TIMESTAMP': '1459515554',\n",
       " 'TOPMOSTREACHABLEWINDOWHEIGHT': '720',\n",
       " 'TOPMOSTREACHABLEWINDOWWIDTH': '1280',\n",
       " 'UA_BROWSER': 'Android Browser',\n",
       " 'UA_BROWSERRENDERINGENGINE': 'WebKit',\n",
       " 'UA_BROWSERVERSION': '4.0',\n",
       " 'UA_DEVICETYPE': 'null',\n",
       " 'UA_HARDWARETYPE': 'null',\n",
       " 'UA_MOBILEDEVICE': '1',\n",
       " 'UA_MODEL': 'null',\n",
       " 'UA_OS': 'Android',\n",
       " 'UA_OSVERSION': '4.2.2',\n",
       " 'UA_PLATFORM': 'Android',\n",
       " 'UA_PLATFORMVERSION': '4.2.2',\n",
       " 'UA_VENDOR': 'CSL'}"
      ]
     },
     "execution_count": 54,
     "metadata": {},
     "output_type": "execute_result"
    }
   ],
   "source": [
    "print sqft_model.predict(test_data[0])\n",
    "test_data[0]"
   ]
  },
  {
   "cell_type": "code",
   "execution_count": 46,
   "metadata": {
    "collapsed": false
   },
   "outputs": [
    {
     "name": "stderr",
     "output_type": "stream",
     "text": [
      "2016-05-06 22:23:02,219 [WARNING] graphlab.toolkits.regression.random_forest_regression, 477: The `num_trees` keyword argument is deprecated. Please use the `max_iterations` argument instead. Any value provided for `num_trees` will be used in place of `max_iterations`.\n"
     ]
    },
    {
     "data": {
      "text/html": [
       "<pre>WARNING: The number of feature dimensions in this problem is very large in comparison with the number of examples. Unless an appropriate regularization value is set, this model may not provide accurate predictions for a validation/test set.</pre>"
      ],
      "text/plain": [
       "WARNING: The number of feature dimensions in this problem is very large in comparison with the number of examples. Unless an appropriate regularization value is set, this model may not provide accurate predictions for a validation/test set."
      ]
     },
     "metadata": {},
     "output_type": "display_data"
    },
    {
     "data": {
      "text/html": [
       "<pre>WARNING: Detected extremely low variance for feature(s) 'EXTERNALCREATIVEID', 'NETWORKTYPE' because all entries are nearly the same.\n",
       "Proceeding with model training using all features. If the model does not provide results of adequate quality, exclude the above mentioned feature(s) from the input dataset.</pre>"
      ],
      "text/plain": [
       "WARNING: Detected extremely low variance for feature(s) 'EXTERNALCREATIVEID', 'NETWORKTYPE' because all entries are nearly the same.\n",
       "Proceeding with model training using all features. If the model does not provide results of adequate quality, exclude the above mentioned feature(s) from the input dataset."
      ]
     },
     "metadata": {},
     "output_type": "display_data"
    },
    {
     "data": {
      "text/html": [
       "<pre>Random forest regression:</pre>"
      ],
      "text/plain": [
       "Random forest regression:"
      ]
     },
     "metadata": {},
     "output_type": "display_data"
    },
    {
     "data": {
      "text/html": [
       "<pre>--------------------------------------------------------</pre>"
      ],
      "text/plain": [
       "--------------------------------------------------------"
      ]
     },
     "metadata": {},
     "output_type": "display_data"
    },
    {
     "data": {
      "text/html": [
       "<pre>Number of examples          : 37143</pre>"
      ],
      "text/plain": [
       "Number of examples          : 37143"
      ]
     },
     "metadata": {},
     "output_type": "display_data"
    },
    {
     "data": {
      "text/html": [
       "<pre>Number of features          : 46</pre>"
      ],
      "text/plain": [
       "Number of features          : 46"
      ]
     },
     "metadata": {},
     "output_type": "display_data"
    },
    {
     "data": {
      "text/html": [
       "<pre>Number of unpacked features : 46</pre>"
      ],
      "text/plain": [
       "Number of unpacked features : 46"
      ]
     },
     "metadata": {},
     "output_type": "display_data"
    },
    {
     "data": {
      "text/html": [
       "<pre>+-----------+--------------+--------------------+---------------+----------------------+-----------------+</pre>"
      ],
      "text/plain": [
       "+-----------+--------------+--------------------+---------------+----------------------+-----------------+"
      ]
     },
     "metadata": {},
     "output_type": "display_data"
    },
    {
     "data": {
      "text/html": [
       "<pre>| Iteration | Elapsed Time | Training-max_error | Training-rmse | Validation-max_error | Validation-rmse |</pre>"
      ],
      "text/plain": [
       "| Iteration | Elapsed Time | Training-max_error | Training-rmse | Validation-max_error | Validation-rmse |"
      ]
     },
     "metadata": {},
     "output_type": "display_data"
    },
    {
     "data": {
      "text/html": [
       "<pre>+-----------+--------------+--------------------+---------------+----------------------+-----------------+</pre>"
      ],
      "text/plain": [
       "+-----------+--------------+--------------------+---------------+----------------------+-----------------+"
      ]
     },
     "metadata": {},
     "output_type": "display_data"
    },
    {
     "data": {
      "text/html": [
       "<pre>| 1         | 0.207012     | 1652.029175        | 46.287724     | 1080.888184          | 45.582462       |</pre>"
      ],
      "text/plain": [
       "| 1         | 0.207012     | 1652.029175        | 46.287724     | 1080.888184          | 45.582462       |"
      ]
     },
     "metadata": {},
     "output_type": "display_data"
    },
    {
     "data": {
      "text/html": [
       "<pre>| 2         | 0.376022     | 1652.320801        | 45.326775     | 1081.179810          | 46.251766       |</pre>"
      ],
      "text/plain": [
       "| 2         | 0.376022     | 1652.320801        | 45.326775     | 1081.179810          | 46.251766       |"
      ]
     },
     "metadata": {},
     "output_type": "display_data"
    },
    {
     "data": {
      "text/html": [
       "<pre>| 3         | 0.530031     | 1652.266968        | 45.331711     | 1081.125977          | 46.411507       |</pre>"
      ],
      "text/plain": [
       "| 3         | 0.530031     | 1652.266968        | 45.331711     | 1081.125977          | 46.411507       |"
      ]
     },
     "metadata": {},
     "output_type": "display_data"
    },
    {
     "data": {
      "text/html": [
       "<pre>| 4         | 0.692040     | 1446.483521        | 44.515816     | 1081.119995          | 46.639938       |</pre>"
      ],
      "text/plain": [
       "| 4         | 0.692040     | 1446.483521        | 44.515816     | 1081.119995          | 46.639938       |"
      ]
     },
     "metadata": {},
     "output_type": "display_data"
    },
    {
     "data": {
      "text/html": [
       "<pre>| 5         | 0.847049     | 1487.674194        | 44.203506     | 1081.155273          | 46.624088       |</pre>"
      ],
      "text/plain": [
       "| 5         | 0.847049     | 1487.674194        | 44.203506     | 1081.155273          | 46.624088       |"
      ]
     },
     "metadata": {},
     "output_type": "display_data"
    },
    {
     "data": {
      "text/html": [
       "<pre>| 6         | 0.995057     | 1377.917358        | 44.010422     | 1081.190308          | 46.412617       |</pre>"
      ],
      "text/plain": [
       "| 6         | 0.995057     | 1377.917358        | 44.010422     | 1081.190308          | 46.412617       |"
      ]
     },
     "metadata": {},
     "output_type": "display_data"
    },
    {
     "data": {
      "text/html": [
       "<pre>| 10        | 1.671096     | 1326.853027        | 43.726196     | 1081.252075          | 46.499245       |</pre>"
      ],
      "text/plain": [
       "| 10        | 1.671096     | 1326.853027        | 43.726196     | 1081.252075          | 46.499245       |"
      ]
     },
     "metadata": {},
     "output_type": "display_data"
    },
    {
     "data": {
      "text/html": [
       "<pre>| 11        | 1.824105     | 1302.039551        | 43.759861     | 1081.262329          | 46.635567       |</pre>"
      ],
      "text/plain": [
       "| 11        | 1.824105     | 1302.039551        | 43.759861     | 1081.262329          | 46.635567       |"
      ]
     },
     "metadata": {},
     "output_type": "display_data"
    },
    {
     "data": {
      "text/html": [
       "<pre>| 20        | 3.251186     | 1281.971191        | 43.692116     | 1081.228760          | 46.197197       |</pre>"
      ],
      "text/plain": [
       "| 20        | 3.251186     | 1281.971191        | 43.692116     | 1081.228760          | 46.197197       |"
      ]
     },
     "metadata": {},
     "output_type": "display_data"
    },
    {
     "data": {
      "text/html": [
       "<pre>+-----------+--------------+--------------------+---------------+----------------------+-----------------+</pre>"
      ],
      "text/plain": [
       "+-----------+--------------+--------------------+---------------+----------------------+-----------------+"
      ]
     },
     "metadata": {},
     "output_type": "display_data"
    },
    {
     "name": "stdout",
     "output_type": "stream",
     "text": [
      "PROGRESS: Creating a validation set from 5 percent of training data. This may take a while.\n",
      "          You can set ``validation_set=None`` to disable validation tracking.\n",
      "\n"
     ]
    }
   ],
   "source": [
    "model = graphlab.random_forest_regression.create(train_data, target='ADLOADINGTIME',\n",
    "                                           num_trees=25,\n",
    "                                           max_depth =  20, row_subsample=0.5)"
   ]
  },
  {
   "cell_type": "code",
   "execution_count": 109,
   "metadata": {
    "collapsed": false
   },
   "outputs": [
    {
     "data": {
      "text/plain": [
       "107.72669630327103"
      ]
     },
     "execution_count": 109,
     "metadata": {},
     "output_type": "execute_result"
    }
   ],
   "source": [
    "graphlab.evaluation.rmse(sales['ADLOADINGTIME'], graphlab.SArray.from_const(100,len(sales['ADLOADINGTIME'])))"
   ]
  },
  {
   "cell_type": "code",
   "execution_count": 121,
   "metadata": {
    "collapsed": false
   },
   "outputs": [
    {
     "data": {
      "text/plain": [
       "dtype: float\n",
       "Rows: 10\n",
       "[21.73, 2.753, 12.962, 7.121, 4.301, 11.175, 9.833, 2.614, 2.61, 58.08]"
      ]
     },
     "execution_count": 121,
     "metadata": {},
     "output_type": "execute_result"
    }
   ],
   "source": [
    "sales['ADLOADINGTIME'][0:10]"
   ]
  },
  {
   "cell_type": "code",
   "execution_count": 139,
   "metadata": {
    "collapsed": false
   },
   "outputs": [
    {
     "data": {
      "text/plain": [
       "16.31536884351684"
      ]
     },
     "execution_count": 139,
     "metadata": {},
     "output_type": "execute_result"
    }
   ],
   "source": [
    "graphlab.evaluation.rmse(sales['ADLOADINGTIME'][0:10], graphlab.SArray.from_const(10,10))"
   ]
  },
  {
   "cell_type": "code",
   "execution_count": 122,
   "metadata": {
    "collapsed": false
   },
   "outputs": [
    {
     "data": {
      "text/plain": [
       "13.317900000000002"
      ]
     },
     "execution_count": 122,
     "metadata": {},
     "output_type": "execute_result"
    }
   ],
   "source": [
    "sales['ADLOADINGTIME'][0:10].mean()"
   ]
  },
  {
   "cell_type": "code",
   "execution_count": 137,
   "metadata": {
    "collapsed": false
   },
   "outputs": [
    {
     "data": {
      "text/plain": [
       "2960.523605"
      ]
     },
     "execution_count": 137,
     "metadata": {},
     "output_type": "execute_result"
    }
   ],
   "source": [
    "((sales['ADLOADINGTIME'][0:10]-10)*(sales['ADLOADINGTIME'][0:10]-1)).sum()"
   ]
  },
  {
   "cell_type": "code",
   "execution_count": 94,
   "metadata": {
    "collapsed": false
   },
   "outputs": [
    {
     "data": {
      "text/plain": [
       "(array([ 313905.,  737799.,  404030.,  212633.,  132650.,   91897.,\n",
       "          68089.,   52749.,   42156.,   38018.,   51504.,   55204.,\n",
       "          35383.,   23996.,   18899.]),\n",
       " array([ 0,  1,  2,  3,  4,  5,  6,  7,  8,  9, 10, 11, 12, 13, 14, 15]),\n",
       " <a list of 15 Patch objects>)"
      ]
     },
     "execution_count": 94,
     "metadata": {},
     "output_type": "execute_result"
    },
    {
     "data": {
      "image/png": "[encoded data removed]",
      "text/plain": [
       "<matplotlib.figure.Figure at 0x51e42eb8>"
      ]
     },
     "metadata": {},
     "output_type": "display_data"
    }
   ],
   "source": [
    "import matplotlib.pyplot as plt\n",
    "%matplotlib inline\n",
    "tmp = sales[sales['ADLOADINGTIME']<np.percentile(sales['ADLOADINGTIME'],94)]\n",
    "plt.hist(tmp['ADLOADINGTIME'],  bins=range(0, int(max(tmp['ADLOADINGTIME']))))"
   ]
  },
  {
   "cell_type": "code",
   "execution_count": 15,
   "metadata": {
    "collapsed": false
   },
   "outputs": [
    {
     "name": "stdout",
     "output_type": "stream",
     "text": [
      "29.229\n",
      "4.6256816292\n",
      "4.62103835673\n",
      "4.6256816292\n",
      "5.03263921495\n",
      "4.98888527226\n",
      "4.68121037545\n"
     ]
    }
   ],
   "source": [
    "# 3.7835\n",
    "perct = 97\n",
    "print(np.percentile(sales['ADLOADINGTIME'],perct))\n",
    "salesCut = sales[sales['ADLOADINGTIME']<np.percentile(sales['ADLOADINGTIME'],perct)]\n",
    "print(graphlab.evaluation.rmse(salesCut['ADLOADINGTIME'], graphlab.SArray.from_const(salesCut['ADLOADINGTIME'].mean()*0.95,len(salesCut['ADLOADINGTIME']))))\n",
    "print(graphlab.evaluation.rmse(salesCut['ADLOADINGTIME'], graphlab.SArray.from_const(salesCut['ADLOADINGTIME'].mean(),len(salesCut['ADLOADINGTIME']))))\n",
    "print(graphlab.evaluation.rmse(salesCut['ADLOADINGTIME'], graphlab.SArray.from_const(salesCut['ADLOADINGTIME'].mean()*1.05,len(salesCut['ADLOADINGTIME']))))\n",
    "print(graphlab.evaluation.rmse(salesCut['ADLOADINGTIME'], graphlab.SArray.from_const(np.median(salesCut['ADLOADINGTIME'])*0.95,len(salesCut['ADLOADINGTIME']))))\n",
    "print(graphlab.evaluation.rmse(salesCut['ADLOADINGTIME'], graphlab.SArray.from_const(np.median(salesCut['ADLOADINGTIME']),len(salesCut['ADLOADINGTIME']))))\n",
    "print(graphlab.evaluation.rmse(salesCut['ADLOADINGTIME'], graphlab.SArray.from_const(np.median(salesCut['ADLOADINGTIME'])*1.5,len(salesCut['ADLOADINGTIME']))))"
   ]
  },
  {
   "cell_type": "code",
   "execution_count": 79,
   "metadata": {
    "collapsed": false
   },
   "outputs": [
    {
     "name": "stdout",
     "output_type": "stream",
     "text": [
      "Canvas is accessible via web browser at the URL: http://localhost:59632/index.html\n",
      "Opening Canvas in default web browser.\n"
     ]
    }
   ],
   "source": [
    "salesCut.show()"
   ]
  },
  {
   "cell_type": "code",
   "execution_count": 99,
   "metadata": {
    "collapsed": false
   },
   "outputs": [
    {
     "data": {
      "text/plain": [
       "3.745005617615481"
      ]
     },
     "execution_count": 99,
     "metadata": {},
     "output_type": "execute_result"
    }
   ],
   "source": [
    "salesCut['ADLOADINGTIME'].mean()"
   ]
  },
  {
   "cell_type": "code",
   "execution_count": 84,
   "metadata": {
    "collapsed": false
   },
   "outputs": [
    {
     "data": {
      "text/plain": [
       "{'ACCOUNTID': 'a0776e9e61f79615d93907ec5710c9fa',\n",
       " 'ACTUALDEVICETYPE': 'Phone',\n",
       " 'ADLOADINGTIME': 2.753,\n",
       " 'CAMPAIGNID': 'ab0a0251add6aba71e800537c6a729c8',\n",
       " 'CDNNAME': 'c',\n",
       " 'CREATIVEID': '83361d7aa1757e5f8e9ed97b71a8c49b',\n",
       " 'CREATIVETYPE': 'Interstitial',\n",
       " 'DEVICEORIENTATION': '0',\n",
       " 'ERRORSJSON': '[]',\n",
       " 'EXTERNALADSERVER': 'b46e86833f3f102dfeca4b7a13d6db21',\n",
       " 'EXTERNALCREATIVEID': 'null',\n",
       " 'EXTERNALPLACEMENTID': 'null',\n",
       " 'EXTERNALSITEID': 'null',\n",
       " 'EXTERNALSUPPLIERID': 'null',\n",
       " 'FILESJSON': '[]',\n",
       " 'GEOIP_AREACODE': 'null',\n",
       " 'GEOIP_CITY': 'null',\n",
       " 'GEOIP_COUNTRY': 'Tunisia',\n",
       " 'GEOIP_DMACODE': 'null',\n",
       " 'GEOIP_LAT': 34.0,\n",
       " 'GEOIP_LNG': 9.0,\n",
       " 'GEOIP_METROCODE': 'null',\n",
       " 'GEOIP_REGION': 'null',\n",
       " 'GEOIP_TIMEZONE': 'Africa/Tunis',\n",
       " 'HOSTWINDOWHEIGHT': 615L,\n",
       " 'HOSTWINDOWWIDTH': 360L,\n",
       " 'INTENDEDDEVICETYPE': 'Phone',\n",
       " 'NETWORKTYPE': 'null',\n",
       " 'PLACEMENTID': 'f6297752e6cd8cd455c55d95c085035d',\n",
       " 'PLATFORM': 'Android',\n",
       " 'PLATFORMVERSION': '4.3',\n",
       " 'SDK': '6650fadcc0264109f8bd976558377652',\n",
       " 'TIMESTAMP': 1459512068L,\n",
       " 'TOPMOSTREACHABLEWINDOWHEIGHT': 615L,\n",
       " 'TOPMOSTREACHABLEWINDOWWIDTH': 360L,\n",
       " 'UA_BROWSER': 'Android Browser',\n",
       " 'UA_BROWSERRENDERINGENGINE': 'WebKit',\n",
       " 'UA_BROWSERVERSION': '4.0',\n",
       " 'UA_DEVICETYPE': 'Phone',\n",
       " 'UA_HARDWARETYPE': 'Mobile Phone',\n",
       " 'UA_MOBILEDEVICE': '1',\n",
       " 'UA_MODEL': 'G630-U10',\n",
       " 'UA_OS': 'Android',\n",
       " 'UA_OSVERSION': '4.3',\n",
       " 'UA_PLATFORM': 'Android',\n",
       " 'UA_PLATFORMVERSION': '4.3',\n",
       " 'UA_VENDOR': 'Huawei'}"
      ]
     },
     "execution_count": 84,
     "metadata": {},
     "output_type": "execute_result"
    }
   ],
   "source": [
    "test_data[0]"
   ]
  },
  {
   "cell_type": "code",
   "execution_count": 16,
   "metadata": {
    "collapsed": true
   },
   "outputs": [],
   "source": [
    "train_data,test_data = salesCut.random_split(.5,seed=1)"
   ]
  },
  {
   "cell_type": "code",
   "execution_count": 17,
   "metadata": {
    "collapsed": false
   },
   "outputs": [
    {
     "data": {
      "text/html": [
       "<pre>Linear regression:</pre>"
      ],
      "text/plain": [
       "Linear regression:"
      ]
     },
     "metadata": {},
     "output_type": "display_data"
    },
    {
     "data": {
      "text/html": [
       "<pre>--------------------------------------------------------</pre>"
      ],
      "text/plain": [
       "--------------------------------------------------------"
      ]
     },
     "metadata": {},
     "output_type": "display_data"
    },
    {
     "data": {
      "text/html": [
       "<pre>Number of examples          : 1187290</pre>"
      ],
      "text/plain": [
       "Number of examples          : 1187290"
      ]
     },
     "metadata": {},
     "output_type": "display_data"
    },
    {
     "data": {
      "text/html": [
       "<pre>Number of features          : 1</pre>"
      ],
      "text/plain": [
       "Number of features          : 1"
      ]
     },
     "metadata": {},
     "output_type": "display_data"
    },
    {
     "data": {
      "text/html": [
       "<pre>Number of unpacked features : 1</pre>"
      ],
      "text/plain": [
       "Number of unpacked features : 1"
      ]
     },
     "metadata": {},
     "output_type": "display_data"
    },
    {
     "data": {
      "text/html": [
       "<pre>Number of coefficients    : 669</pre>"
      ],
      "text/plain": [
       "Number of coefficients    : 669"
      ]
     },
     "metadata": {},
     "output_type": "display_data"
    },
    {
     "data": {
      "text/html": [
       "<pre>Starting L-BFGS</pre>"
      ],
      "text/plain": [
       "Starting L-BFGS"
      ]
     },
     "metadata": {},
     "output_type": "display_data"
    },
    {
     "data": {
      "text/html": [
       "<pre>--------------------------------------------------------</pre>"
      ],
      "text/plain": [
       "--------------------------------------------------------"
      ]
     },
     "metadata": {},
     "output_type": "display_data"
    },
    {
     "data": {
      "text/html": [
       "<pre>+-----------+----------+-----------+--------------+--------------------+----------------------+---------------+-----------------+</pre>"
      ],
      "text/plain": [
       "+-----------+----------+-----------+--------------+--------------------+----------------------+---------------+-----------------+"
      ]
     },
     "metadata": {},
     "output_type": "display_data"
    },
    {
     "data": {
      "text/html": [
       "<pre>| Iteration | Passes   | Step size | Elapsed Time | Training-max_error | Validation-max_error | Training-rmse | Validation-rmse |</pre>"
      ],
      "text/plain": [
       "| Iteration | Passes   | Step size | Elapsed Time | Training-max_error | Validation-max_error | Training-rmse | Validation-rmse |"
      ]
     },
     "metadata": {},
     "output_type": "display_data"
    },
    {
     "data": {
      "text/html": [
       "<pre>+-----------+----------+-----------+--------------+--------------------+----------------------+---------------+-----------------+</pre>"
      ],
      "text/plain": [
       "+-----------+----------+-----------+--------------+--------------------+----------------------+---------------+-----------------+"
      ]
     },
     "metadata": {},
     "output_type": "display_data"
    },
    {
     "data": {
      "text/html": [
       "<pre>| 1         | 5        | 0.000000  | 0.805046     | 26.302009          | 26.178604            | 4.417042      | 4.415949        |</pre>"
      ],
      "text/plain": [
       "| 1         | 5        | 0.000000  | 0.805046     | 26.302009          | 26.178604            | 4.417042      | 4.415949        |"
      ]
     },
     "metadata": {},
     "output_type": "display_data"
    },
    {
     "data": {
      "text/html": [
       "<pre>| 2         | 7        | 1.000000  | 1.478084     | 26.913171          | 26.785784            | 4.362262      | 4.363058        |</pre>"
      ],
      "text/plain": [
       "| 2         | 7        | 1.000000  | 1.478084     | 26.913171          | 26.785784            | 4.362262      | 4.363058        |"
      ]
     },
     "metadata": {},
     "output_type": "display_data"
    },
    {
     "data": {
      "text/html": [
       "<pre>| 3         | 8        | 1.000000  | 1.971112     | 27.672285          | 27.541400            | 4.348217      | 4.350837        |</pre>"
      ],
      "text/plain": [
       "| 3         | 8        | 1.000000  | 1.971112     | 27.672285          | 27.541400            | 4.348217      | 4.350837        |"
      ]
     },
     "metadata": {},
     "output_type": "display_data"
    },
    {
     "data": {
      "text/html": [
       "<pre>| 4         | 9        | 1.000000  | 2.531144     | 27.532657          | 27.401702            | 4.347165      | 4.349867        |</pre>"
      ],
      "text/plain": [
       "| 4         | 9        | 1.000000  | 2.531144     | 27.532657          | 27.401702            | 4.347165      | 4.349867        |"
      ]
     },
     "metadata": {},
     "output_type": "display_data"
    },
    {
     "data": {
      "text/html": [
       "<pre>| 5         | 10       | 1.000000  | 3.068175     | 27.559506          | 27.428660            | 4.346897      | 4.349525        |</pre>"
      ],
      "text/plain": [
       "| 5         | 10       | 1.000000  | 3.068175     | 27.559506          | 27.428660            | 4.346897      | 4.349525        |"
      ]
     },
     "metadata": {},
     "output_type": "display_data"
    },
    {
     "data": {
      "text/html": [
       "<pre>| 6         | 11       | 1.000000  | 3.582205     | 27.551761          | 27.420965            | 4.346889      | 4.349489        |</pre>"
      ],
      "text/plain": [
       "| 6         | 11       | 1.000000  | 3.582205     | 27.551761          | 27.420965            | 4.346889      | 4.349489        |"
      ]
     },
     "metadata": {},
     "output_type": "display_data"
    },
    {
     "data": {
      "text/html": [
       "<pre>| 10        | 15       | 1.000000  | 5.724327     | 27.544505          | 27.413765            | 4.346879      | 4.349446        |</pre>"
      ],
      "text/plain": [
       "| 10        | 15       | 1.000000  | 5.724327     | 27.544505          | 27.413765            | 4.346879      | 4.349446        |"
      ]
     },
     "metadata": {},
     "output_type": "display_data"
    },
    {
     "data": {
      "text/html": [
       "<pre>| 11        | 16       | 1.000000  | 6.226356     | 27.544581          | 27.413821            | 4.346870      | 4.349447        |</pre>"
      ],
      "text/plain": [
       "| 11        | 16       | 1.000000  | 6.226356     | 27.544581          | 27.413821            | 4.346870      | 4.349447        |"
      ]
     },
     "metadata": {},
     "output_type": "display_data"
    },
    {
     "data": {
      "text/html": [
       "<pre>| 15        | 20       | 1.000000  | 8.303475     | 27.544545          | 27.413786            | 4.346870      | 4.349446        |</pre>"
      ],
      "text/plain": [
       "| 15        | 20       | 1.000000  | 8.303475     | 27.544545          | 27.413786            | 4.346870      | 4.349446        |"
      ]
     },
     "metadata": {},
     "output_type": "display_data"
    },
    {
     "data": {
      "text/html": [
       "<pre>+-----------+----------+-----------+--------------+--------------------+----------------------+---------------+-----------------+</pre>"
      ],
      "text/plain": [
       "+-----------+----------+-----------+--------------+--------------------+----------------------+---------------+-----------------+"
      ]
     },
     "metadata": {},
     "output_type": "display_data"
    },
    {
     "data": {
      "text/html": [
       "<pre>SUCCESS: Optimal solution found.</pre>"
      ],
      "text/plain": [
       "SUCCESS: Optimal solution found."
      ]
     },
     "metadata": {},
     "output_type": "display_data"
    },
    {
     "data": {
      "text/html": [
       "<pre></pre>"
      ],
      "text/plain": []
     },
     "metadata": {},
     "output_type": "display_data"
    }
   ],
   "source": [
    "sqft_model = graphlab.linear_regression.create(train_data, target='ADLOADINGTIME',features=['CREATIVEID'],validation_set=test_data, max_iterations=20)"
   ]
  },
  {
   "cell_type": "code",
   "execution_count": 18,
   "metadata": {
    "collapsed": false
   },
   "outputs": [
    {
     "data": {
      "text/html": [
       "<pre>Linear regression:</pre>"
      ],
      "text/plain": [
       "Linear regression:"
      ]
     },
     "metadata": {},
     "output_type": "display_data"
    },
    {
     "data": {
      "text/html": [
       "<pre>--------------------------------------------------------</pre>"
      ],
      "text/plain": [
       "--------------------------------------------------------"
      ]
     },
     "metadata": {},
     "output_type": "display_data"
    },
    {
     "data": {
      "text/html": [
       "<pre>Number of examples          : 2376497</pre>"
      ],
      "text/plain": [
       "Number of examples          : 2376497"
      ]
     },
     "metadata": {},
     "output_type": "display_data"
    },
    {
     "data": {
      "text/html": [
       "<pre>Number of features          : 1</pre>"
      ],
      "text/plain": [
       "Number of features          : 1"
      ]
     },
     "metadata": {},
     "output_type": "display_data"
    },
    {
     "data": {
      "text/html": [
       "<pre>Number of unpacked features : 1</pre>"
      ],
      "text/plain": [
       "Number of unpacked features : 1"
      ]
     },
     "metadata": {},
     "output_type": "display_data"
    },
    {
     "data": {
      "text/html": [
       "<pre>Number of coefficients    : 672</pre>"
      ],
      "text/plain": [
       "Number of coefficients    : 672"
      ]
     },
     "metadata": {},
     "output_type": "display_data"
    },
    {
     "data": {
      "text/html": [
       "<pre>Starting L-BFGS</pre>"
      ],
      "text/plain": [
       "Starting L-BFGS"
      ]
     },
     "metadata": {},
     "output_type": "display_data"
    },
    {
     "data": {
      "text/html": [
       "<pre>--------------------------------------------------------</pre>"
      ],
      "text/plain": [
       "--------------------------------------------------------"
      ]
     },
     "metadata": {},
     "output_type": "display_data"
    },
    {
     "data": {
      "text/html": [
       "<pre>+-----------+----------+-----------+--------------+--------------------+----------------------+---------------+-----------------+</pre>"
      ],
      "text/plain": [
       "+-----------+----------+-----------+--------------+--------------------+----------------------+---------------+-----------------+"
      ]
     },
     "metadata": {},
     "output_type": "display_data"
    },
    {
     "data": {
      "text/html": [
       "<pre>| Iteration | Passes   | Step size | Elapsed Time | Training-max_error | Validation-max_error | Training-rmse | Validation-rmse |</pre>"
      ],
      "text/plain": [
       "| Iteration | Passes   | Step size | Elapsed Time | Training-max_error | Validation-max_error | Training-rmse | Validation-rmse |"
      ]
     },
     "metadata": {},
     "output_type": "display_data"
    },
    {
     "data": {
      "text/html": [
       "<pre>+-----------+----------+-----------+--------------+--------------------+----------------------+---------------+-----------------+</pre>"
      ],
      "text/plain": [
       "+-----------+----------+-----------+--------------+--------------------+----------------------+---------------+-----------------+"
      ]
     },
     "metadata": {},
     "output_type": "display_data"
    },
    {
     "data": {
      "text/html": [
       "<pre>| 1         | 5        | 0.000000  | 1.471084     | 26.286789          | 26.163452            | 4.416559      | 4.415305        |</pre>"
      ],
      "text/plain": [
       "| 1         | 5        | 0.000000  | 1.471084     | 26.286789          | 26.163452            | 4.416559      | 4.415305        |"
      ]
     },
     "metadata": {},
     "output_type": "display_data"
    },
    {
     "data": {
      "text/html": [
       "<pre>| 2         | 7        | 1.000000  | 2.676153     | 26.906066          | 26.778828            | 4.362718      | 4.362012        |</pre>"
      ],
      "text/plain": [
       "| 2         | 7        | 1.000000  | 2.676153     | 26.906066          | 26.778828            | 4.362718      | 4.362012        |"
      ]
     },
     "metadata": {},
     "output_type": "display_data"
    },
    {
     "data": {
      "text/html": [
       "<pre>| 3         | 8        | 1.000000  | 3.540202     | 27.646225          | 27.515573            | 4.348556      | 4.348419        |</pre>"
      ],
      "text/plain": [
       "| 3         | 8        | 1.000000  | 3.540202     | 27.646225          | 27.515573            | 4.348556      | 4.348419        |"
      ]
     },
     "metadata": {},
     "output_type": "display_data"
    },
    {
     "data": {
      "text/html": [
       "<pre>| 4         | 9        | 1.000000  | 4.390251     | 27.522189          | 27.391435            | 4.347731      | 4.347634        |</pre>"
      ],
      "text/plain": [
       "| 4         | 9        | 1.000000  | 4.390251     | 27.522189          | 27.391435            | 4.347731      | 4.347634        |"
      ]
     },
     "metadata": {},
     "output_type": "display_data"
    },
    {
     "data": {
      "text/html": [
       "<pre>| 5         | 10       | 1.000000  | 5.250300     | 27.548523          | 27.417879            | 4.347470      | 4.347346        |</pre>"
      ],
      "text/plain": [
       "| 5         | 10       | 1.000000  | 5.250300     | 27.548523          | 27.417879            | 4.347470      | 4.347346        |"
      ]
     },
     "metadata": {},
     "output_type": "display_data"
    },
    {
     "data": {
      "text/html": [
       "<pre>| 6         | 11       | 1.000000  | 6.050346     | 27.541595          | 27.410993            | 4.347464      | 4.347332        |</pre>"
      ],
      "text/plain": [
       "| 6         | 11       | 1.000000  | 6.050346     | 27.541595          | 27.410993            | 4.347464      | 4.347332        |"
      ]
     },
     "metadata": {},
     "output_type": "display_data"
    },
    {
     "data": {
      "text/html": [
       "<pre>| 10        | 15       | 1.000000  | 9.454540     | 27.531578          | 27.401042            | 4.347452      | 4.347306        |</pre>"
      ],
      "text/plain": [
       "| 10        | 15       | 1.000000  | 9.454540     | 27.531578          | 27.401042            | 4.347452      | 4.347306        |"
      ]
     },
     "metadata": {},
     "output_type": "display_data"
    },
    {
     "data": {
      "text/html": [
       "<pre>| 11        | 16       | 1.000000  | 10.335591    | 27.536123          | 27.405546            | 4.347444      | 4.347304        |</pre>"
      ],
      "text/plain": [
       "| 11        | 16       | 1.000000  | 10.335591    | 27.536123          | 27.405546            | 4.347444      | 4.347304        |"
      ]
     },
     "metadata": {},
     "output_type": "display_data"
    },
    {
     "data": {
      "text/html": [
       "<pre>| 15        | 20       | 1.000000  | 13.927796    | 27.535317          | 27.404747            | 4.347444      | 4.347303        |</pre>"
      ],
      "text/plain": [
       "| 15        | 20       | 1.000000  | 13.927796    | 27.535317          | 27.404747            | 4.347444      | 4.347303        |"
      ]
     },
     "metadata": {},
     "output_type": "display_data"
    },
    {
     "data": {
      "text/html": [
       "<pre>+-----------+----------+-----------+--------------+--------------------+----------------------+---------------+-----------------+</pre>"
      ],
      "text/plain": [
       "+-----------+----------+-----------+--------------+--------------------+----------------------+---------------+-----------------+"
      ]
     },
     "metadata": {},
     "output_type": "display_data"
    },
    {
     "data": {
      "text/html": [
       "<pre>SUCCESS: Optimal solution found.</pre>"
      ],
      "text/plain": [
       "SUCCESS: Optimal solution found."
      ]
     },
     "metadata": {},
     "output_type": "display_data"
    },
    {
     "data": {
      "text/html": [
       "<pre></pre>"
      ],
      "text/plain": []
     },
     "metadata": {},
     "output_type": "display_data"
    }
   ],
   "source": [
    "sqft_model = graphlab.linear_regression.create(salesCut, target='ADLOADINGTIME',features=['CREATIVEID'],validation_set=test_data, max_iterations=20)"
   ]
  },
  {
   "cell_type": "code",
   "execution_count": 19,
   "metadata": {
    "collapsed": true
   },
   "outputs": [],
   "source": [
    "sqft_model.save('E:\\celtraMiningFrik\\lin_reg_creativeid_perct_97')"
   ]
  },
  {
   "cell_type": "code",
   "execution_count": null,
   "metadata": {
    "collapsed": false
   },
   "outputs": [],
   "source": [
    "sqft_model = graphlab.load_model('E:\\celtraMiningFrik\\lin_reg_creativeid_perct_96')"
   ]
  },
  {
   "cell_type": "code",
   "execution_count": 105,
   "metadata": {
    "collapsed": false
   },
   "outputs": [
    {
     "name": "stdout",
     "output_type": "stream",
     "text": [
      "3.72755946569\n"
     ]
    }
   ],
   "source": [
    "print(graphlab.evaluation.rmse(test_data['ADLOADINGTIME'], graphlab.SArray.from_const(3.90365759806,len(test_data['ADLOADINGTIME']))))"
   ]
  },
  {
   "cell_type": "code",
   "execution_count": 102,
   "metadata": {
    "collapsed": false
   },
   "outputs": [
    {
     "name": "stdout",
     "output_type": "stream",
     "text": [
      "Canvas is accessible via web browser at the URL: http://localhost:59632/index.html\n",
      "Opening Canvas in default web browser.\n"
     ]
    }
   ],
   "source": [
    "train_data.show()"
   ]
  },
  {
   "cell_type": "code",
   "execution_count": null,
   "metadata": {
    "collapsed": true
   },
   "outputs": [],
   "source": [
    "predTimes = sqft_model.predict(sales)"
   ]
  },
  {
   "cell_type": "code",
   "execution_count": null,
   "metadata": {
    "collapsed": false
   },
   "outputs": [],
   "source": [
    "predTimes.save('E:\\celtraMiningFrik\\solution4.tsv', format='csv')"
   ]
  }
 ],
 "metadata": {
  "kernelspec": {
   "display_name": "Python 2",
   "language": "python",
   "name": "python2"
  },
  "language_info": {
   "codemirror_mode": {
    "name": "ipython",
    "version": 2
   },
   "file_extension": ".py",
   "mimetype": "text/x-python",
   "name": "python",
   "nbconvert_exporter": "python",
   "pygments_lexer": "ipython2",
   "version": "2.7.10"
  }
 },
 "nbformat": 4,
 "nbformat_minor": 0
}
