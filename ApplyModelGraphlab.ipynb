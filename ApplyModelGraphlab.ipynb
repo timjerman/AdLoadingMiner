{
 "cells": [
  {
   "cell_type": "code",
   "execution_count": 1,
   "metadata": {
    "collapsed": true
   },
   "outputs": [],
   "source": [
    "import graphlab\n",
    "import numpy as np\n",
    "import matplotlib.pyplot as plt\n",
    "%matplotlib inline"
   ]
  },
  {
   "cell_type": "code",
   "execution_count": 2,
   "metadata": {
    "collapsed": true
   },
   "outputs": [],
   "source": [
    "loadPath = 'E:/celtraMiningFrik/'\n",
    "savePath = loadPath"
   ]
  },
  {
   "cell_type": "code",
   "execution_count": 7,
   "metadata": {
    "collapsed": true
   },
   "outputs": [],
   "source": [
    "def prepareData(data, perct, isTestDataset = False):\n",
    "    \n",
    "    if not isTestDataset:   \n",
    "        data['ADLOADINGTIME']=data['ADLOADINGTIME'].astype(float)\n",
    "        print(np.percentile(data['ADLOADINGTIME'],perct))\n",
    "        if perct < 100:\n",
    "            data = data[data['ADLOADINGTIME']<np.percentile(data['ADLOADINGTIME'],perct)] \n",
    "            \n",
    "    #convert to int types\n",
    "    data['GEOIP_LAT'] = data['GEOIP_LAT'].apply(lambda x: '0' if x=='null' else x)\n",
    "    data['GEOIP_LAT']=data['GEOIP_LAT'].astype(float)\n",
    "    data['GEOIP_LNG'] = data['GEOIP_LNG'].apply(lambda x: '0' if x=='null' else x)\n",
    "    data['GEOIP_LNG']=data['GEOIP_LNG'].astype(float)\n",
    "    data['UA_MOBILEDEVICE'] = data['UA_MOBILEDEVICE'].apply(lambda x: '0' if x=='null' else x)\n",
    "    data['UA_MOBILEDEVICE']=data['UA_MOBILEDEVICE'].astype(int)    \n",
    "    data['TIMESTAMP']=data['TIMESTAMP'].astype(int)\n",
    "    data['HOSTWINDOWHEIGHT'] = data['HOSTWINDOWHEIGHT'].apply(lambda x: '0' if x=='null' else x)\n",
    "    data['HOSTWINDOWHEIGHT']=data['HOSTWINDOWHEIGHT'].astype(int)\n",
    "    data['HOSTWINDOWWIDTH'] = data['HOSTWINDOWWIDTH'].apply(lambda x: '0' if x=='null' else x)\n",
    "    data['HOSTWINDOWWIDTH']=data['HOSTWINDOWWIDTH'].astype(int)\n",
    "    data['TOPMOSTREACHABLEWINDOWHEIGHT'] = data['TOPMOSTREACHABLEWINDOWHEIGHT'].apply(lambda x: '0' if x=='null' else x)\n",
    "    data['TOPMOSTREACHABLEWINDOWHEIGHT']=data['TOPMOSTREACHABLEWINDOWHEIGHT'].astype(int)\n",
    "    data['TOPMOSTREACHABLEWINDOWWIDTH'] = data['TOPMOSTREACHABLEWINDOWWIDTH'].apply(lambda x: '0' if x=='null' else x)\n",
    "    data['TOPMOSTREACHABLEWINDOWWIDTH']=data['TOPMOSTREACHABLEWINDOWWIDTH'].astype(int)\n",
    "\n",
    "\n",
    "    data['TOPMOSTREACHABLEWINDOWAREA'] = data['TOPMOSTREACHABLEWINDOWWIDTH']*data['TOPMOSTREACHABLEWINDOWHEIGHT'];\n",
    "    \n",
    "    data['GEOIP_COUNTRY'] = data['GEOIP_COUNTRY'] + '_' + data['GEOIP_REGION'] \n",
    "    data['GEOIP_COUNTRY'] = data['GEOIP_COUNTRY'].apply(lambda x: x if 'United States' in x.split('_')[0] else x.split('_')[0])\n",
    "\n",
    "    data['ERRORSJSON'] = data['ERRORSJSON'].apply(lambda x: x.replace('\"',''))\n",
    "    data['FILESJSON'] = data['FILESJSON'].apply(lambda x: x.replace('\"',''))\n",
    "    \n",
    "    def extractImageSize(sIn):\n",
    "        sIn = sIn.replace('[','')\n",
    "        sIn = sIn.replace('}','')\n",
    "        sIn = sIn.replace(']','')\n",
    "        sIn = sIn.replace('{type:image,size:','')\n",
    "        numberList = [int(s) for s in sIn.split(',') if s.isdigit()]\n",
    "        if len(numberList) == 0:\n",
    "            numberList = 0\n",
    "        return np.sum(numberList)\n",
    "    \n",
    "    def extractVideoSize(sIn):\n",
    "        sIn = sIn.replace('[','')\n",
    "        sIn = sIn.replace('}','')\n",
    "        sIn = sIn.replace(']','')\n",
    "        sIn = sIn.replace('{type:video,size:','')\n",
    "        numberList = [int(s) for s in sIn.split(',') if s.isdigit()]\n",
    "        if len(numberList) == 0:\n",
    "            numberList = 0\n",
    "        return np.sum(numberList)\n",
    "\n",
    "    data['FILESJSON_IMGSIZE'] = data['FILESJSON'].apply(extractImageSize)\n",
    "    data['FILESJSON_VIDSIZE'] = data['FILESJSON'].apply(extractVideoSize)\n",
    "\n",
    "    data['COMBINEDID'] = data['ACCOUNTID']+data['CAMPAIGNID']+data['CREATIVEID']\n",
    "    data['COMBINEDEXTERNALID'] = data['EXTERNALPLACEMENTID']+data['EXTERNALSITEID']+data['EXTERNALSUPPLIERID']    \n",
    "\n",
    "    data['PLATFORMCOMBINED'] = data['PLATFORM']+data['PLATFORMVERSION']\n",
    "    data['PLATFORMCOMBINED'] = data['PLATFORMCOMBINED'].apply(lambda x : x.replace('null', ''))\n",
    "    data['PLATFORMCOMBINED'] = data['PLATFORMCOMBINED'].apply(lambda x : 'NA' if x == '' else x)\n",
    "    \n",
    "    data['UA_OSCOMB'] = data['UA_OS']+data['UA_OSVERSION']\n",
    "    \n",
    "\n",
    "    data['INTENDENTISACTUALDEVICETYPE'] = data['INTENDEDDEVICETYPE']==data['ACTUALDEVICETYPE']\n",
    "    data['PLATFORMCOMBINEDISOSCAOMB'] = data['PLATFORMCOMBINED']==data['UA_OSCOMB']\n",
    "\n",
    "    \n",
    "    # remove unneeded columns\n",
    "    \n",
    "    #data.remove_columns(['UA_OS', 'UA_OSVERSION']);\n",
    "    #data.remove_columns(['PLATFORM','PLATFORMVERSION']);\n",
    "    #data.remove_columns(['UA_PLATFORM','UA_PLATFORMVERSION']);\n",
    "    #data.remove_columns(['CDNNAME','UA_DEVICETYPE','ACTUALDEVICETYPE']);\n",
    "    #data.remove_column('EXTERNALPLACEMENTID');\n",
    "    #data.remove_column('EXTERNALSITEID');\n",
    "    #data.remove_column('EXTERNALSUPPLIERID');\n",
    "    #data.remove_column('ACCOUNTID');\n",
    "    #data.remove_column('CAMPAIGNID');\n",
    "    #data.remove_column('CREATIVEID');\n",
    "    #data.remove_column('TOPMOSTREACHABLEWINDOWWIDTH');\n",
    "    #data.remove_column('TOPMOSTREACHABLEWINDOWHEIGHT');\n",
    "    #data.remove_column('HOSTWINDOWWIDTH');\n",
    "    #data.remove_column('HOSTWINDOWHEIGHT');\n",
    "    #data.remove_column('DEVICEORIENTATION');\n",
    "    #data.remove_column('UA_MOBILEDEVICE');\n",
    "    #data.remove_column('EXTERNALCREATIVEID');\n",
    "    #data.remove_column('NETWORKTYPE');\n",
    "    #data.remove_column('GEOIP_TIMEZONE');\n",
    "    #data.remove_column('GEOIP_METROCODE');\n",
    "    #data.remove_column('GEOIP_AREACODE');\n",
    "    #data.remove_column('GEOIP_CITY');\n",
    "    #data.remove_column('GEOIP_DMACODE');\n",
    "    #data.remove_column('GEOIP_REGION');\n",
    "    \n",
    "    return data"
   ]
  },
  {
   "cell_type": "markdown",
   "metadata": {},
   "source": [
    "#Load test data"
   ]
  },
  {
   "cell_type": "code",
   "execution_count": 4,
   "metadata": {
    "collapsed": false,
    "scrolled": true
   },
   "outputs": [
    {
     "name": "stderr",
     "output_type": "stream",
     "text": [
      "2016-05-31 12:00:14,500 [INFO] graphlab.cython.cy_server, 176: GraphLab Create v1.9 started. Logging: C:\\Users\\TimJ\\AppData\\Local\\Temp\\graphlab_server_1464688813.log.0\n"
     ]
    },
    {
     "data": {
      "text/html": [
       "<pre>Read 76433 lines. Lines per second: 38445</pre>"
      ],
      "text/plain": [
       "Read 76433 lines. Lines per second: 38445"
      ]
     },
     "metadata": {},
     "output_type": "display_data"
    },
    {
     "data": {
      "text/html": [
       "<pre>Read 447567 lines. Lines per second: 59182.9</pre>"
      ],
      "text/plain": [
       "Read 447567 lines. Lines per second: 59182.9"
      ]
     },
     "metadata": {},
     "output_type": "display_data"
    },
    {
     "data": {
      "text/html": [
       "<pre>Read 805993 lines. Lines per second: 59633.5</pre>"
      ],
      "text/plain": [
       "Read 805993 lines. Lines per second: 59633.5"
      ]
     },
     "metadata": {},
     "output_type": "display_data"
    },
    {
     "data": {
      "text/html": [
       "<pre>Read 1099637 lines. Lines per second: 58863.7</pre>"
      ],
      "text/plain": [
       "Read 1099637 lines. Lines per second: 58863.7"
      ]
     },
     "metadata": {},
     "output_type": "display_data"
    },
    {
     "data": {
      "text/html": [
       "<pre>Read 1397037 lines. Lines per second: 57960.2</pre>"
      ],
      "text/plain": [
       "Read 1397037 lines. Lines per second: 57960.2"
      ]
     },
     "metadata": {},
     "output_type": "display_data"
    },
    {
     "data": {
      "text/html": [
       "<pre>Read 1694010 lines. Lines per second: 57804.8</pre>"
      ],
      "text/plain": [
       "Read 1694010 lines. Lines per second: 57804.8"
      ]
     },
     "metadata": {},
     "output_type": "display_data"
    },
    {
     "data": {
      "text/html": [
       "<pre>Read 1982265 lines. Lines per second: 57344</pre>"
      ],
      "text/plain": [
       "Read 1982265 lines. Lines per second: 57344"
      ]
     },
     "metadata": {},
     "output_type": "display_data"
    },
    {
     "data": {
      "text/html": [
       "<pre>Read 2267053 lines. Lines per second: 57075.5</pre>"
      ],
      "text/plain": [
       "Read 2267053 lines. Lines per second: 57075.5"
      ]
     },
     "metadata": {},
     "output_type": "display_data"
    },
    {
     "data": {
      "text/html": [
       "<pre>Finished parsing file E:\\celtraMiningFrik\\ccdm_test.tsv</pre>"
      ],
      "text/plain": [
       "Finished parsing file E:\\celtraMiningFrik\\ccdm_test.tsv"
      ]
     },
     "metadata": {},
     "output_type": "display_data"
    },
    {
     "data": {
      "text/html": [
       "<pre>Parsing completed. Parsed 2341137 lines in 40.3843 secs.</pre>"
      ],
      "text/plain": [
       "Parsing completed. Parsed 2341137 lines in 40.3843 secs."
      ]
     },
     "metadata": {},
     "output_type": "display_data"
    },
    {
     "name": "stdout",
     "output_type": "stream",
     "text": [
      "This non-commercial license of GraphLab Create is assigned to tim.jerman@gmail.com and will expire on December 31, 2016. For commercial licensing options, visit https://dato.com/buy/.\n"
     ]
    }
   ],
   "source": [
    "fileName = loadPath + 'ccdm_test.tsv'\n",
    "sep = '\\t'\n",
    "perct = 100\n",
    "\n",
    "test_data = graphlab.SFrame.read_csv(fileName,sep,column_type_hints=str);\n",
    "test_data = prepareData(test_data, perct, True)"
   ]
  },
  {
   "cell_type": "code",
   "execution_count": 5,
   "metadata": {
    "collapsed": false
   },
   "outputs": [
    {
     "name": "stdout",
     "output_type": "stream",
     "text": [
      "Canvas is accessible via web browser at the URL: http://localhost:55203/index.html\n",
      "Opening Canvas in default web browser.\n"
     ]
    }
   ],
   "source": [
    "test_datadata.show()"
   ]
  },
  {
   "cell_type": "markdown",
   "metadata": {},
   "source": [
    "#Prediction"
   ]
  },
  {
   "cell_type": "code",
   "execution_count": 12,
   "metadata": {
    "collapsed": false
   },
   "outputs": [],
   "source": [
    "modelName = 'RFReg'\n",
    "\n",
    "model = graphlab.load_model(loadPath + modelName)\n",
    "predicted_test_data = model.predict(test_data)"
   ]
  },
  {
   "cell_type": "markdown",
   "metadata": {},
   "source": [
    "#Display results histogram"
   ]
  },
  {
   "cell_type": "code",
   "execution_count": 19,
   "metadata": {
    "collapsed": false
   },
   "outputs": [
    {
     "data": {
      "text/plain": [
       "(array([  2.53000000e+02,   2.14260000e+04,   1.18398000e+05,\n",
       "          3.30679000e+05,   4.28207000e+05,   3.61825000e+05,\n",
       "          2.34066000e+05,   1.51432000e+05,   1.12464000e+05,\n",
       "          9.35630000e+04,   8.47550000e+04,   7.45600000e+04,\n",
       "          5.36520000e+04,   4.53760000e+04,   4.10150000e+04,\n",
       "          3.31970000e+04,   2.74770000e+04,   2.17500000e+04,\n",
       "          2.30540000e+04,   1.85750000e+04,   1.49330000e+04,\n",
       "          1.10280000e+04,   1.64520000e+04,   1.14400000e+04,\n",
       "          5.18200000e+03,   3.52800000e+03,   1.84400000e+03,\n",
       "          6.64000000e+02,   2.74000000e+02,   6.10000000e+01,\n",
       "          7.00000000e+00,   0.00000000e+00,   0.00000000e+00,\n",
       "          0.00000000e+00,   0.00000000e+00,   0.00000000e+00,\n",
       "          0.00000000e+00,   0.00000000e+00,   0.00000000e+00]),\n",
       " array([  0. ,   0.5,   1. ,   1.5,   2. ,   2.5,   3. ,   3.5,   4. ,\n",
       "          4.5,   5. ,   5.5,   6. ,   6.5,   7. ,   7.5,   8. ,   8.5,\n",
       "          9. ,   9.5,  10. ,  10.5,  11. ,  11.5,  12. ,  12.5,  13. ,\n",
       "         13.5,  14. ,  14.5,  15. ,  15.5,  16. ,  16.5,  17. ,  17.5,\n",
       "         18. ,  18.5,  19. ,  19.5]),\n",
       " <a list of 39 Patch objects>)"
      ]
     },
     "execution_count": 19,
     "metadata": {},
     "output_type": "execute_result"
    },
    {
     "data": {
      "image/png": "[encoded data removed]",
      "text/plain": [
       "<matplotlib.figure.Figure at 0x94ffc128>"
      ]
     },
     "metadata": {},
     "output_type": "display_data"
    }
   ],
   "source": [
    "bins = np.arange(0, 20,0.5)\n",
    "\n",
    "plt.hist(predicted_test_data,  bins=bins,alpha=0.5)"
   ]
  },
  {
   "cell_type": "markdown",
   "metadata": {},
   "source": [
    "#Save predicted times"
   ]
  },
  {
   "cell_type": "code",
   "execution_count": 18,
   "metadata": {
    "collapsed": false
   },
   "outputs": [],
   "source": [
    "saveName = 'solution_' + modelName + '.tsv'\n",
    "\n",
    "predicted_test_data.save(savePath + saveName, format='csv')"
   ]
  },
  {
   "cell_type": "markdown",
   "metadata": {},
   "source": [
    "### Addition of a constant"
   ]
  },
  {
   "cell_type": "code",
   "execution_count": 9,
   "metadata": {
    "collapsed": true
   },
   "outputs": [],
   "source": [
    "predicted_test_data = predicted_test_data + 0.3"
   ]
  },
  {
   "cell_type": "code",
   "execution_count": 10,
   "metadata": {
    "collapsed": true
   },
   "outputs": [],
   "source": [
    "saveName = 'solution_' + modelName + '_c.tsv'\n",
    "\n",
    "predicted_test_data.save(savePath + saveName, format='csv')"
   ]
  }
 ],
 "metadata": {
  "kernelspec": {
   "display_name": "Python 2",
   "language": "python",
   "name": "python2"
  },
  "language_info": {
   "codemirror_mode": {
    "name": "ipython",
    "version": 2
   },
   "file_extension": ".py",
   "mimetype": "text/x-python",
   "name": "python",
   "nbconvert_exporter": "python",
   "pygments_lexer": "ipython2",
   "version": "2.7.10"
  }
 },
 "nbformat": 4,
 "nbformat_minor": 0
}
